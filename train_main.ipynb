{
  "cells": [
    {
      "cell_type": "code",
      "execution_count": 4,
      "metadata": {
        "id": "h3A0Q3JRwR9v",
        "colab": {
          "base_uri": "https://localhost:8080/"
        },
        "outputId": "706e7157-9577-4b8b-b98c-7cee45d0bf59"
      },
      "outputs": [
        {
          "output_type": "stream",
          "name": "stdout",
          "text": [
            "Mounted at /content/drive\n"
          ]
        }
      ],
      "source": [
        "from google.colab import drive\n",
        "drive.mount('/content/drive')"
      ]
    },
    {
      "cell_type": "code",
      "execution_count": 5,
      "metadata": {
        "id": "7eg0jysIAsdM"
      },
      "outputs": [],
      "source": [
        "project_path = r\"/content/drive/MyDrive/slca-main-pavan\"\n",
        "#project_path = r\"/content/drive/MyDrive/Colab-Notebooks/slca_project/slca-main-pavan\""
      ]
    },
    {
      "cell_type": "code",
      "execution_count": 6,
      "metadata": {
        "colab": {
          "base_uri": "https://localhost:8080/"
        },
        "id": "l5JunhE3CD8F",
        "outputId": "6dd7745d-82cc-4841-b49c-50bd84c0cf9b"
      },
      "outputs": [
        {
          "output_type": "stream",
          "name": "stdout",
          "text": [
            "/content/drive/MyDrive/slca-main-pavan/src\n"
          ]
        }
      ],
      "source": [
        " %cd \"/content/drive/MyDrive/slca-main-pavan/src\"\n",
        "#%cd \"/content/drive/MyDrive/Colab-Notebooks/slca_project/slca-main-pavan/src\""
      ]
    },
    {
      "cell_type": "code",
      "execution_count": 7,
      "metadata": {
        "id": "dYxxbArextCw",
        "colab": {
          "base_uri": "https://localhost:8080/"
        },
        "outputId": "bb287840-5574-4d85-e04c-80d963cdfcdd"
      },
      "outputs": [
        {
          "output_type": "stream",
          "name": "stdout",
          "text": [
            "[[1.  0.5 0.5 0.5 0.5 0.5 0.5 0.5]\n",
            " [0.5 1.  0.5 0.5 0.5 0.5 0.5 0.5]\n",
            " [0.5 0.5 1.  0.5 0.5 0.5 0.5 0.5]\n",
            " [0.5 0.5 0.5 1.  0.5 0.5 0.5 0.5]\n",
            " [0.5 0.5 0.5 0.5 1.  0.5 0.5 0.5]\n",
            " [0.5 0.5 0.5 0.5 0.5 1.  0.5 0.5]\n",
            " [0.5 0.5 0.5 0.5 0.5 0.5 1.  0.5]\n",
            " [0.5 0.5 0.5 0.5 0.5 0.5 0.5 1. ]]\n"
          ]
        }
      ],
      "source": [
        "run_command = f\"{project_path}/src/slca.py\"\n",
        "%run {run_command}"
      ]
    },
    {
      "cell_type": "code",
      "execution_count": 8,
      "metadata": {
        "id": "DKclypwaxauV",
        "colab": {
          "base_uri": "https://localhost:8080/"
        },
        "outputId": "3ab93f0d-40bb-4a08-d8af-016a498365fd"
      },
      "outputs": [
        {
          "output_type": "stream",
          "name": "stdout",
          "text": [
            "[[1.  0.5 0.5 0.5 0.5 0.5 0.5 0.5]\n",
            " [0.5 1.  0.5 0.5 0.5 0.5 0.5 0.5]\n",
            " [0.5 0.5 1.  0.5 0.5 0.5 0.5 0.5]\n",
            " [0.5 0.5 0.5 1.  0.5 0.5 0.5 0.5]\n",
            " [0.5 0.5 0.5 0.5 1.  0.5 0.5 0.5]\n",
            " [0.5 0.5 0.5 0.5 0.5 1.  0.5 0.5]\n",
            " [0.5 0.5 0.5 0.5 0.5 0.5 1.  0.5]\n",
            " [0.5 0.5 0.5 0.5 0.5 0.5 0.5 1. ]]\n"
          ]
        }
      ],
      "source": [
        "run_command = f\"genetic.py\"\n",
        "# run_command = f\"{project_path}/src/genetic.py\"\n",
        "%run {run_command}"
      ]
    },
    {
      "cell_type": "code",
      "source": [
        "run_command = f\"utils.py\"\n",
        "%run {run_command}"
      ],
      "metadata": {
        "id": "rvBkJhL5o_b4"
      },
      "execution_count": 9,
      "outputs": []
    },
    {
      "cell_type": "code",
      "source": [
        "%ls ../config"
      ],
      "metadata": {
        "colab": {
          "base_uri": "https://localhost:8080/"
        },
        "id": "pltkH6QF0Cbt",
        "outputId": "4d0c9e9e-47a4-449a-e832-ef45ee3ba87c"
      },
      "execution_count": 10,
      "outputs": [
        {
          "output_type": "stream",
          "name": "stdout",
          "text": [
            "ga_parameters.json          slca_parameters_init.json   slca_parameters_sim.json\n",
            "slca_parameters_fixed.json  slca_parameters_range.json\n"
          ]
        }
      ]
    },
    {
      "cell_type": "code",
      "source": [
        "#%ls /content/drive/MyDrive/Colab-Notebooks/slca_project/slca-main-pavan/data/smaps/eml-net1/childroom01_smap.jpg\n",
        "%ls /content/drive/MyDrive/slca-main-pavan/data/smaps/eml-net1/childroom01_smap.png"
      ],
      "metadata": {
        "colab": {
          "base_uri": "https://localhost:8080/"
        },
        "id": "pt9h0xB5AJD8",
        "outputId": "467e0ba9-f0a1-4cd1-f208-229eb4f589e8"
      },
      "execution_count": 11,
      "outputs": [
        {
          "output_type": "stream",
          "name": "stdout",
          "text": [
            "/content/drive/MyDrive/slca-main-pavan/data/smaps/eml-net1/childroom01_smap.png\n"
          ]
        }
      ]
    },
    {
      "cell_type": "code",
      "source": [
        "%rm -rf /content/output/*"
      ],
      "metadata": {
        "id": "QJhJBzHNCFDl"
      },
      "execution_count": 12,
      "outputs": []
    },
    {
      "cell_type": "markdown",
      "source": [
        "# Genetic"
      ],
      "metadata": {
        "id": "2p6ZhkyoM26S"
      }
    },
    {
      "cell_type": "code",
      "source": [
        "from google.colab import output\n",
        "import numpy as np\n",
        "import scipy.stats as stats\n",
        "import scipy.signal as signal\n",
        "from scipy.stats import anderson\n",
        "from scipy.ndimage import gaussian_filter\n",
        "import multiprocessing as mp\n",
        "import json\n",
        "import logging\n",
        "import os\n",
        "from slca import *\n",
        "from utils import *\n",
        "\n",
        "from matplotlib.image import imread\n",
        "import matplotlib.pyplot as plt\n",
        "import seaborn as sns\n",
        "\n",
        "class GA():\n",
        "\n",
        "\n",
        "    def __init__(self, lca_model, n_units, time, params_diap, human_rt_path, human_coords_path, fixed,stim_path,params_range,part,pop_size=1,gen_size=3):\n",
        "        self.params_diap = params_diap\n",
        "        self.time = time\n",
        "        self.n_units = n_units\n",
        "\n",
        "        self.dt_t = 0.1\n",
        "        self.threshold = 5.0\n",
        "\n",
        "        self.n_desc = int(gen_size / 4)\n",
        "\n",
        "        self.human_rt = self.load_human_data(human_rt_path)\n",
        "        self.human_coords = self.get_human_gaze(human_coords_path)\n",
        "        self.stim = self.load_stim(stim_path)\n",
        "        self.fixed = fixed\n",
        "        self.params_range = params_range\n",
        "        self.unfixed_inds = tuple(set(range(len(self.params_range))) - set(fixed.keys()))\n",
        "        self.part = part\n",
        "        self.lca_model = lca_model\n",
        "        self.output = output\n",
        "        self.gen_size = gen_size\n",
        "\n",
        "\n",
        "\n",
        "\n",
        "    def load_human_data(self, data_path):\n",
        "        with open(data_path, 'r') as f:\n",
        "            data = json.load(f)\n",
        "        return data\n",
        "\n",
        "    def get_human_gaze(self, human_coords_path):\n",
        "        human_coords = self.load_human_data(human_coords_path)\n",
        "        data = {}\n",
        "        for stim in human_coords:\n",
        "            data[stim] = {}\n",
        "\n",
        "            for participant in human_coords[stim]:\n",
        "                gazepoints = human_coords[stim][participant]\n",
        "                if len(gazepoints) > 0:\n",
        "                    lens = self.human_rt[stim][participant]\n",
        "                    gaze = np.zeros((68, 120))\n",
        "                    for i in range(len(gazepoints)):\n",
        "                        y, x = gazepoints[i]\n",
        "                        try:\n",
        "                            gaze[int(x / 16)][int(y / 16)] += lens[i]\n",
        "                        except:\n",
        "                            pass\n",
        "                    gaze = (gaze - np.min(gaze)) / (np.max(gaze) - np.min(gaze))\n",
        "                    data[stim][participant] = np.array(gaze, dtype=np.float64)\n",
        "        return data\n",
        "\n",
        "    def load_stim(self, stim_folder):\n",
        "        pics = {}\n",
        "        for pic in self.human_coords:\n",
        "            im_path = f'{stim_folder}/{pic[:-4]}_smap.png'\n",
        "            if os.path.isfile(im_path):\n",
        "                eml_net = imread(im_path)\n",
        "                eml_net = eml_net[::16, ::16]\n",
        "                eml_net = (eml_net - np.min(eml_net)) / (np.max(eml_net) - np.min(eml_net))\n",
        "                pics[pic] = {'flat': eml_net.flatten(), 'map': eml_net, 'salient': len(eml_net[eml_net > 0.6])}\n",
        "        return pics\n",
        "\n",
        "    # def find_pareto_efficient(self, costs):\n",
        "    #     best_inds = np.arange(costs.shape[0])\n",
        "\n",
        "    #     for i, c in enumerate(costs):\n",
        "    #       best_inds[i] = sum([list(p[:,j]).index(i) for j in len(costs[0])], [])\n",
        "\n",
        "    #     return best_inds.argsort()\n",
        "    best_inds=[]\n",
        "    costs=[]\n",
        "    def find_pareto_efficient(self, costs):\n",
        "        p = costs.argsort(0)\n",
        "        best_inds = np.ones(len(p))\n",
        "\n",
        "            # Check if costs array is empty, return an empty array\n",
        "        if len(costs) == 0:\n",
        "          return np.array([])\n",
        "        for i in range(len(p)):\n",
        "            best_inds[i] = sum([list(p[:,j]).index(i) for j in range(len(costs[0]))])\n",
        "        best_inds = best_inds.argsort()\n",
        "\n",
        "        # # fill with other variants if there are <3 optimal\n",
        "        # if len(best_inds) < self.n_desc():\n",
        "        #     fits_sorted = np.array([ind for ind in np.mean(costs, axis=1).argsort() if ind not in best_inds])\n",
        "        #     best_inds = np.r_[best_inds, fits_sorted[:self.n_desc - len(best_inds)]]\n",
        "        return best_inds\n",
        "\n",
        "\n",
        "    def calculate_fitness(self, parameters, stim):\n",
        "        all_coords,ad_stat, all_rt, all_ks, all_aj, all_human_rt = [], [], [], [], [],[]\n",
        "\n",
        "        input_seq = []\n",
        "\n",
        "        for stim_key in list(self.stim.keys()):\n",
        "            salient = self.stim[stim_key]['salient']\n",
        "\n",
        "            T = 20\n",
        "            input_seq = np.tile(self.stim[stim_key]['flat'], (T, 1))\n",
        "\n",
        "            threshold = self.threshold + salient * parameters[7]\n",
        "            print('new thresh ' + str(threshold))\n",
        "\n",
        "            if self.lca_model == 'local':\n",
        "                lca = SLCA_local(n_units=self.n_units, dt_t=self.dt_t, leak=parameters[0], competition=parameters[1],\n",
        "                                self_excit=parameters[2], w_input=parameters[3], w_cross=parameters[4], offset=parameters[5],\n",
        "                                noise_sd=parameters[6].astype(np.float64), threshold=threshold)\n",
        "            elif self.lca_model == 'global':\n",
        "                lca = SLCA_global(n_units=self.n_units, dt_t=self.dt_t, leak=parameters[0], competition=parameters[1],\n",
        "                                  self_excit=parameters[2], w_input=parameters[3], w_cross=parameters[4], offset=parameters[5],\n",
        "                                  noise_sd=parameters[6].astype(np.float64), threshold=threshold)\n",
        "\n",
        "            print(mp.current_process().name + ' LCA started ' + stim_key + ' ' + ', '.join(\n",
        "                [str(p) for p in parameters]) + ' ' + str(threshold))\n",
        "            coords, rt = lca.run_2dim(stimuli=input_seq)\n",
        "            import gc;\n",
        "            gc.collect()\n",
        "            print(mp.current_process().name + ' LCA finished ' + stim_key + ' ' + ', '.join([str(p) for p in rt]))\n",
        "\n",
        "            trial_coord = np.array(coords, dtype=np.float64)\n",
        "            trials_h = list(trial_coord // 120)\n",
        "            trials_w = list(trial_coord % 120)\n",
        "\n",
        "            lca_map = np.zeros(shape=(68, 120), dtype=np.float64)\n",
        "            for i in range(len(rt)):\n",
        "                lca_map[int(trials_h[i]), int(trials_w[i])] = rt[i]\n",
        "            lca_smap = gaussian_filter(lca_map, sigma=1.5)\n",
        "            lca_smap = (lca_smap - np.min(lca_smap)) / (np.max(lca_smap) - np.min(lca_smap))\n",
        "\n",
        "            all_coords.append(coords)\n",
        "            all_rt.extend(rt)\n",
        "\n",
        "            participant = list(self.human_rt[stim_key].keys())[self.part]\n",
        "            # for participant in self.human_rt[stim]:\n",
        "            if 2 > 1:\n",
        "                if len(self.human_rt[stim_key][participant]) == 0:\n",
        "                    print(f'NO STIM {stim_key} for participant {participant}')\n",
        "                else:\n",
        "                    try:\n",
        "                        ks = stats.ks_2samp(self.human_rt[stim_key][participant], rt)\n",
        "                    except Exception as e:\n",
        "                        ks = None\n",
        "                        print(\n",
        "                            f'ks stim {stim_key}, participant {participant}:: {str(e)}. RT {rt}, human RT {self.human_rt[stim_key][participant]}')\n",
        "\n",
        "                    if ks and ks.statistic:\n",
        "                        all_ks.append(ks.statistic)\n",
        "                    else:\n",
        "                        all_ks.append(0.99999)\n",
        "\n",
        "                    all_human_rt.extend(self.human_rt[stim_key][participant])\n",
        "\n",
        "                    if participant in self.human_coords[stim_key]:\n",
        "                        try:\n",
        "                            aj = auc_judd(lca_smap, self.human_coords[stim_key][participant])\n",
        "                            print(\n",
        "                                f'aj GOOD stim {stim_key}, participant {participant}:: SM max {np.max(lca_smap)}, min: {np.min(lca_smap)}, mean {np.mean(lca_smap)}')\n",
        "                        except Exception as e:\n",
        "                            aj = 0.00001\n",
        "                            print(\n",
        "                                f'aj stim {stim_key}, participant {participant}:: {str(e)}. SM max {np.max(lca_smap)}, min {np.min(lca_smap)}, mean {np.mean(lca_smap)}')\n",
        "\n",
        "                    print(\n",
        "                        f'stim {stim_key}, participant {participant}, params {parameters}:: ks {ks}, 1-aj {1 - aj}')\n",
        "                    all_aj.append(1 - aj)\n",
        "\n",
        "                    # Anderson-Darling test\n",
        "\n",
        "                    if participant in self.human_coords[stim_key]:\n",
        "                        try:\n",
        "                            aj = auc_judd(lca_smap, self.human_coords[stim_key][participant])\n",
        "                            print(\n",
        "                                f'aj GOOD stim {stim_key}, participant {participant}:: SM max {np.max(lca_smap)}, min: {np.min(lca_smap)}, mean {np.mean(lca_smap)}')\n",
        "\n",
        "                            # Anderson-Darling test\n",
        "                            ad_stat, ad_critical_values, ad_significance_level = anderson(rt, dist='norm')\n",
        "                            print(\n",
        "                                f'Anderson-Darling stat: {ad_stat}, critical values: {ad_critical_values}, significance level: {ad_significance_level}')\n",
        "\n",
        "                        except Exception as e:\n",
        "                            aj = 0.00001\n",
        "                            print(\n",
        "                                f'aj stim {stim_key}, participant {participant}:: {str(e)}. SM max {np.max(lca_smap)}, min {np.min(lca_smap)}, mean {np.mean(lca_smap)}')\n",
        "\n",
        "                    print(\n",
        "                        f'stim {stim_key}, participant {participant}, params {parameters}:: ks {ks}, 1-aj {1 - aj}, AD stat {ad_stat}')\n",
        "\n",
        "                    all_aj.append(1 - aj)\n",
        "\n",
        "        all_human_rt = np.random.choice([el for el in all_human_rt if 50 <= el <= 750], 50)\n",
        "        if len(all_rt) > 50:\n",
        "            all_rt = np.random.choice(all_rt, 50)\n",
        "\n",
        "        ks_fin = stats.ks_2samp(all_human_rt, all_rt).statistic\n",
        "        res = {'params': parameters, 'fitness': (np.mean(all_ks), np.mean(all_aj))}\n",
        "        return res\n",
        "\n",
        "\n",
        "    def process_fit(self, param_set, output, idx):\n",
        "        print(f'{mp.current_process().name} STARTED params_set {idx}')\n",
        "        res = self.calculate_fitness(param_set,self.stim)\n",
        "        print(f'{mp.current_process().name} FINISHED params_set {idx}')\n",
        "        output.put(res)\n",
        "        return res\n",
        "\n",
        "    def select_best(self, sets):\n",
        "        output = mp.Queue()\n",
        "\n",
        "        processes = []\n",
        "\n",
        "        for i in range(len(sets)):\n",
        "            p = mp.Process(target=self.process_fit, args=(sets[i], output, i))\n",
        "            processes.append(p)\n",
        "            print(f'{p.name} started')\n",
        "            p.start()\n",
        "        for p in processes:\n",
        "            p.join()\n",
        "\n",
        "        results = []\n",
        "        while not output.empty():\n",
        "            o = output.get()\n",
        "            results.append(o)\n",
        "\n",
        "        fits = np.array([el['fitness'] for el in results])\n",
        "        print(f'fits {len(fits)} {fits}')\n",
        "\n",
        "        # find pareto optimal\n",
        "        print('started computing pareto')\n",
        "        best_inds = self.find_pareto_efficient(fits)\n",
        "        print('best_pareto ' + ' '.join([str(i) for i in best_inds]))\n",
        "\n",
        "        # fill with other variants if there are <3 optimal\n",
        "        if len(best_inds) < 3:\n",
        "            fits_sorted = np.array([ind for ind in np.mean(fits, axis=1).argsort() if ind not in best_inds])\n",
        "            best_inds = np.r_[best_inds, fits_sorted[:3]]\n",
        "\n",
        "        results = np.array(results)\n",
        "        print(f'BEST RES: {results[best_inds]}')\n",
        "        return np.array([res['params'] for res in results[best_inds]])\n",
        "\n",
        "        #       # find best descendants\n",
        "        # if self.n_desc == 1:\n",
        "        #     best_inds = fits.argsort()[-self.n_desc:][::-1]\n",
        "        # else:\n",
        "        #     print('started computing pareto')\n",
        "        #     best_inds = self.find_pareto_efficient(fits)[:self.n_desc]\n",
        "\n",
        "\n",
        "    def random_gen(self, sets_num):\n",
        "        gen = np.array([np.random.uniform(low=self.params_range[d][0], high=self.params_range[d][1], size=sets_num) for d in self.params_range]).T\n",
        "        gen[:,list(self.fixed.keys())] = list(self.fixed.values())\n",
        "        return gen\n",
        "    def first_gen(self):\n",
        "        return self.random_gen(self.gen_size)\n",
        "\n",
        "    def mutate(self, set_params):\n",
        "        param_num = np.random.choice(self.unfixed_inds)\n",
        "        new_params = set_params.copy()\n",
        "        import pdb; pdb.set_trace()\n",
        "        new_params[param_num] *= np.random.choice([0.95, 1.05])\n",
        "        if new_params[param_num] < self.params_diap[param_num][0]:\n",
        "            new_params[param_num] = self.params_diap[param_num][0]\n",
        "        elif new_params[param_num] > self.params_diap[param_num][1]:\n",
        "            new_params[param_num] = self.params_diap[param_num][1]\n",
        "        print(\"param_num:\", param_num)\n",
        "        print(\"length of self.params_diap:\", len(self.params_diap))\n",
        "\n",
        "        return new_params\n",
        "\n",
        "\n",
        "    def crossover(self, parent0, parent1):\n",
        "        cross_ind = np.random.choice(self.unfixed_inds)\n",
        "        child = parent0.copy()\n",
        "        child[cross_ind:] = parent1[cross_ind:]\n",
        "        return child\n",
        "\n",
        "    def next_gen(self, g, all_sets):\n",
        "        print(f'GENERATION {g}')\n",
        "        print('REMOVING DUPLICATES')\n",
        "        unq, count = np.unique(all_sets, axis=0, return_counts=True)\n",
        "        repeated_groups = unq[count > 1]\n",
        "        for repeated_group in repeated_groups:\n",
        "            repeated_idx = np.argwhere(np.all(all_sets == repeated_group, axis=1))\n",
        "            repeated_idx = repeated_idx.ravel()[1:]\n",
        "            all_sets[repeated_idx] = np.apply_along_axis(self.mutate, 1, all_sets[repeated_idx])\n",
        "\n",
        "        print('SELECTION')\n",
        "        gens_best = self.select_best(all_sets)\n",
        "        print(f'gens_best shape, {gens_best.shape}')\n",
        "\n",
        "        print('MUTATION')\n",
        "        gens_mutated = np.apply_along_axis(self.mutate, 1, gens_best)\n",
        "        print(f'mutated shape, {gens_mutated.shape}')\n",
        "\n",
        "        print('CROSSOVER')\n",
        "        parents0 = gens_best.copy()\n",
        "        parents1_inds = [np.random.choice(np.delete(np.arange(len(gens_best)), [i]))\n",
        "                         for i in range(len(gens_best))]\n",
        "        parents1 = gens_best[parents1_inds]\n",
        "\n",
        "        gens_crossover = np.array([self.crossover(parents0[i], parents1[i]) for i in range(len(parents0))])\n",
        "        print(f'crossover shape, {gens_crossover.shape}')\n",
        "\n",
        "        print('RANDOM')\n",
        "        gens_random = self.random_gen(self.n_desc)\n",
        "        print(f'random shape, {gens_random.shape}')\n",
        "\n",
        "        gens = np.concatenate([gens_best, gens_mutated, gens_crossover, gens_random])\n",
        "        print(f'all shape, {gens.shape}')\n",
        "        return gens\n",
        "\n",
        "    def initialize_lca_model(self, params, salient):\n",
        "        # Implement your LCA model initialization here based on the given parameters\n",
        "        # Return the initialized LCA model, salient value, and input sequence\n",
        "        threshold = self.threshold + salient * params[7]\n",
        "\n",
        "        if self.lca_model == 'local':\n",
        "            lca = SLCA_local(n_units=self.n_units, dt_t=self.dt_t, leak=params[0], competition=params[1],\n",
        "                             self_excit=params[2], w_input=params[3], w_cross=params[4], offset=params[5],\n",
        "                             noise_sd=params[6].astype(np.float64), threshold=threshold)\n",
        "        elif self.lca_model == 'global':\n",
        "            lca = SLCA_global(n_units=self.n_units, dt_t=self.dt_t, leak=params[0], competition=params[1],\n",
        "                              self_excit=params[2], w_input=params[3], w_cross=params[4], offset=params[5],\n",
        "                              noise_sd=params[6].astype(np.float64), threshold=threshold)\n",
        "\n",
        "        return lca, salient\n",
        "\n",
        "    def compute_saliency_map(self, lca_model, salient,input_seq):\n",
        "        # Implement your saliency map computation using the initialized LCA model\n",
        "        # Return the computed saliency map\n",
        "        coords, rt = lca_model.run_2dim(stimuli=self.input_seq)\n",
        "        import gc\n",
        "        gc.collect()\n",
        "\n",
        "        trial_coord = np.array(coords, dtype=np.float32)\n",
        "        trials_h = list(trial_coord // 120)\n",
        "        trials_w = list(trial_coord % 120)\n",
        "\n",
        "        lca_map = np.zeros(shape=(68, 120), dtype=np.float32)\n",
        "        for i in range(len(rt)):\n",
        "            lca_map[int(trials_h[i]), int(trials_w[i])] = rt[i]\n",
        "        lca_smap = gaussian_filter(lca_map, sigma=1.5)\n",
        "        lca_smap = (lca_smap - np.min(lca_smap)) / (np.max(lca_smap) - np.min(lca_smap))\n",
        "\n",
        "        return lca_smap\n",
        "\n",
        "    # Function to visualize the salience map\n",
        "    def visualize_salience_map(self,saliency_map, output_path='salience_map.png'):\n",
        "        # Visualize and save the salience map\n",
        "        plt.imshow(saliency_map, cmap='viridis')\n",
        "        plt.title('Saliency Map')\n",
        "        plt.savefig(output_path)\n",
        "        plt.show()\n",
        "\n",
        "    # Function to visualize human gaze prediction\n",
        "    def visualize_human_gaze(image_path, saliency_map, human_gaze_coordinates, output_path='human_gaze_prediction.png'):\n",
        "        # Load the image\n",
        "        image = imread(image_path)\n",
        "\n",
        "        # Plot the image\n",
        "        plt.imshow(image)\n",
        "\n",
        "        # Plot the saliency map\n",
        "        plt.imshow(saliency_map, cmap='viridis', alpha=0.5, origin='lower')\n",
        "\n",
        "        # Plot human gaze coordinates\n",
        "        plt.scatter(human_gaze_coordinates[:, 1], human_gaze_coordinates[:, 0], c='red', marker='x')\n",
        "\n",
        "        # Set title and show the plot\n",
        "        plt.title('Human Gaze Prediction')\n",
        "        plt.savefig(output_path)\n",
        "        plt.show()\n"
      ],
      "metadata": {
        "id": "7rEAe2zgMzXj"
      },
      "execution_count": 13,
      "outputs": []
    },
    {
      "cell_type": "markdown",
      "source": [
        "# Train"
      ],
      "metadata": {
        "id": "3Jd7xP3KMz42"
      }
    },
    {
      "cell_type": "code",
      "source": [
        "import argparse\n",
        "import logging\n",
        "import matplotlib.pyplot as plt\n",
        "from genetic import *\n",
        "from slca import *\n",
        "from utils import*\n",
        "\n",
        "data_folder = '/content/drive/MyDrive/slca-main-pavan/data'\n",
        "parameter_folder = '/content/drive/MyDrive/slca-main-pavan/config'\n",
        "#data_folder = '/content/drive/MyDrive/Colab-Notebooks/slca_project/slca-main-pavan/data'\n",
        "#parameter_folder = '/content/drive/MyDrive/Colab-Notebooks/slca_project/slca-main-pavan/config'"
      ],
      "metadata": {
        "id": "pqpFBSXVLTSG"
      },
      "execution_count": 14,
      "outputs": []
    },
    {
      "cell_type": "code",
      "source": [
        "basic_loader = ParamsLoader(parameter_folder)\n",
        "#parse the parameters of the genetic algorithm\n",
        "gens_num, gen_size, model_type, participants, metrics, n_metrics, lca_model = GA_ParamsLoader(parameter_folder).load('ga_parameters')\n",
        "    #parameters of simulation\n",
        "trial_length, n_trials, desired_res = basic_loader.load('slca_parameters_sim').values()\n",
        "data = DataLoader(data_folder, desired_res)\n",
        "#parse the parameters range of the SLCA\n",
        "params_range = SLCA_ParamsRangeLoader(parameter_folder).load('slca_parameters_range')\n",
        "\n",
        "#parse the initial parameters of the SLCA\n",
        "params_init = SLCA_ParamsInitLoader(parameter_folder).load('slca_parameters_init')\n",
        "\n",
        "#parse fixed parameters of the SLCA\n",
        "fixed_parameters = SLCA_ParamsFixedLoader(parameter_folder).load('slca_parameters_fixed')"
      ],
      "metadata": {
        "id": "mv5tpQCCLfAz"
      },
      "execution_count": 15,
      "outputs": []
    },
    {
      "cell_type": "code",
      "source": [
        "\n",
        "def configure_logging():\n",
        "    logging.basicConfig(filename='ga_log.txt', level=logging.INFO)"
      ],
      "metadata": {
        "id": "v5i5goA1ML_m"
      },
      "execution_count": 17,
      "outputs": []
    },
    {
      "cell_type": "code",
      "source": [
        "def visualize_human_gaze(image_path, saliency_map, human_gaze_coordinates, output_path='human_gaze_prediction.png'):\n",
        "    # Load the image\n",
        "    image = imread(image_path)\n",
        "\n",
        "    # Plot the image\n",
        "    plt.imshow(image)\n",
        "\n",
        "    # Plot the saliency map\n",
        "    plt.imshow(saliency_map, cmap='viridis', alpha=0.5, origin='lower')\n",
        "\n",
        "    # Plot human gaze coordinates\n",
        "    plt.scatter(human_gaze_coordinates[:, 1], human_gaze_coordinates[:, 0], c='red', marker='x')\n",
        "\n",
        "    # Set title and show the plot\n",
        "    plt.title('Human Gaze Prediction')\n",
        "    plt.savefig(output_path)\n",
        "    plt.show()"
      ],
      "metadata": {
        "id": "o5YG1oygMICj"
      },
      "execution_count": 18,
      "outputs": []
    },
    {
      "cell_type": "code",
      "source": [
        "configure_logging()\n",
        "\n",
        "# parser = argparse.ArgumentParser()\n",
        "# parser.add_argument('--model', '-m', type=str, default='local', help='local or global model')\n",
        "# parser.add_argument('--participant', '-p', type=int, default=0, help='participant number')\n",
        "# parser.add_argument('--data', '-d', type=str, default='data', help='path to data folder')\n",
        "# args = parser.parse_args()\n",
        "model_type, participant, data_folder = \"local\",0 , \"data\"\n",
        "\n",
        "n_units = 8160\n",
        "time = 700\n",
        "project_path = r\"/content/drive/MyDrive/slca-main-pavan\"\n",
        "#project_path = r\"/content/drive/MyDrive/Colab-Notebooks/slca_project/slca-main-pavan\"\n",
        "data_folder = f'{project_path}/data'\n",
        "stim_path = f'{project_path}/data/smaps/eml-net1'\n",
        "human_rt_path = f'{project_path}/data/all_rts.json'\n",
        "human_coords_path = f'{project_path}/data/all_coords.json'\n",
        "image_folder = f'{project_path}/data/smaps/eml-net1'\n",
        "gens_num = 2\n",
        "params = np.zeros(shape=(gens_num, 12, 8))\n",
        "\n",
        "if model_type == 'local':\n",
        "    params_first = np.array([[0.256, 0.5, 0.37, 0.64, 0.097, 0.31, 1.043, 0.465],\n",
        "                              [0.256, 0.9, 0.25, 0.1, 0.097, 0.31, 3.0, 0.465],\n",
        "                              [0.256, 0.8, 0.25, 0.1, 0.097, 0.31, 4.0, 0.2]])\n",
        "    params_diap = ((0.1, 0.5), (0.0005, 1.0), (0.05, 0.5), (0.1, 0.9), (0.2, 1.0), (0.0, 10.0), (0.2, 5.0), (0.05, 1.5))\n",
        "elif model_type == 'global':\n",
        "    params_first = np.array([[0.4, 0.024, 0.4, 0.1, 1.0, 0.1, 1., 0.178],\n",
        "                              [0.3, 0.003, 0.4, 0.2, 0.8, 0.1, 2., 0.5],\n",
        "                              [0.25, 0.01, 0.4, 0.1, 0.9, 0.2, 3., 0.3]])\n",
        "    params_diap = ((0.1, 0.5), (0.0005, 0.1), (0.05, 0.5), (0.1, 0.9), (0.2, 1.0), (0.0, 10.0), (0.2, 5.0), (0.05, 1.5))\n",
        "\n",
        "ga = GA(lca_model=model_type,gen_size=gen_size, time=time, n_units=n_units,fixed=fixed_parameters,params_range=params_range, stim_path=stim_path, human_rt_path=human_rt_path, human_coords_path=human_coords_path, params_diap=params_diap, part=participant)\n",
        "#initial parameter sets\n",
        "params = np.zeros(shape=(gens_num, gen_size, len(basic_loader.all_params)))\n",
        "#params = np.zeros((gens_num, gen_size, len(params_range)))\n",
        "print('init_params', params.shape)\n",
        "params[0] = ga.first_gen()\n",
        "\n",
        "for i, param_set in enumerate(params_init):\n",
        "    params[0, i, list(param_set.keys())] = list(param_set.values())\n",
        "\n",
        "for g in range(1, gens_num):  # Start from 1 for next_gen\n",
        "        logging.info(f'GENERATION {g}/{gens_num}')\n",
        "\n",
        "        #params[g],gens_best = ga.next_gen(g, params[g-1])\n",
        "        all_gens, gens_best = ga.next_gen(g, params[g - 1])\n",
        "        params[g] = gens_best\n",
        "        print(f'Shape of params[{g}]: {params[g].shape}')\n",
        "        print(f'Shape of next_gen result: {all_gens.shape}')\n",
        "\n",
        "\n",
        "        logging.info(f'GENERATION {g} RES {list(params[g])}')"
      ],
      "metadata": {
        "colab": {
          "base_uri": "https://localhost:8080/"
        },
        "id": "fLRh2fwHMOvt",
        "outputId": "f63bed20-6f0a-4e86-d483-c01556a61c21"
      },
      "execution_count": 19,
      "outputs": [
        {
          "output_type": "stream",
          "name": "stdout",
          "text": [
            "init_params (2, 3, 10)\n",
            "GENERATION 1\n",
            "REMOVING DUPLICATES\n",
            "SELECTION\n",
            "Process-1 started\n",
            "Process-2 started\n",
            "Process-1 STARTED params_set 0Process-3 started\n",
            "\n",
            "Process-2 STARTED params_set 1\n",
            "new thresh 103.0\n",
            "new thresh 56.107\n",
            "Process-3 STARTED params_set 2\n",
            "new thresh 201.0\n",
            "Process-2 LCA started childroom01.jpg 0.01, 0.256, 0.9, 0.25, 0.097, 0.1, 0.31, 2.0, 24.258772873077632, 0.465 103.0\n"
          ]
        },
        {
          "output_type": "stream",
          "name": "stderr",
          "text": [
            "\r  0%|          | 0/20 [00:00<?, ?it/s]"
          ]
        },
        {
          "output_type": "stream",
          "name": "stdout",
          "text": [
            "Process-1 LCA started childroom01.jpg 0.01, 0.256, 0.5, 0.37, 0.097, 0.64, 0.31, 1.043, 17.311783848922545, 0.465 56.107\n"
          ]
        },
        {
          "output_type": "stream",
          "name": "stderr",
          "text": [
            "\r  0%|          | 0/20 [00:00<?, ?it/s]"
          ]
        },
        {
          "output_type": "stream",
          "name": "stdout",
          "text": [
            "Process-3 LCA started childroom01.jpg 0.01, 0.256, 0.8, 0.25, 0.097, 0.1, 0.31, 4.0, 14.045300964154606, 0.2 201.0\n",
            "STARTED trial/Total: 0/20\n"
          ]
        },
        {
          "output_type": "stream",
          "name": "stderr",
          "text": [
            "\r  0%|          | 0/20 [00:00<?, ?it/s]"
          ]
        },
        {
          "output_type": "stream",
          "name": "stdout",
          "text": [
            "STARTED trial/Total: 0/20\n",
            "STARTED trial/Total: 0/20\n"
          ]
        },
        {
          "output_type": "stream",
          "name": "stderr",
          "text": [
            "  5%|▌         | 1/20 [00:05<01:45,  5.54s/it]"
          ]
        },
        {
          "output_type": "stream",
          "name": "stdout",
          "text": [
            "STARTED trial/Total: 1/20\n",
            "STARTED trial/Total: 1/20\n"
          ]
        },
        {
          "output_type": "stream",
          "name": "stderr",
          "text": [
            "\r  5%|▌         | 1/20 [00:07<02:20,  7.40s/it]"
          ]
        },
        {
          "output_type": "stream",
          "name": "stdout",
          "text": [
            "STARTED trial/Total: 1/20\n"
          ]
        },
        {
          "output_type": "stream",
          "name": "stderr",
          "text": [
            " 10%|█         | 2/20 [00:12<01:50,  6.13s/it]"
          ]
        },
        {
          "output_type": "stream",
          "name": "stdout",
          "text": [
            "STARTED trial/Total: 2/20\n",
            "STARTED trial/Total: 2/20\n"
          ]
        },
        {
          "output_type": "stream",
          "name": "stderr",
          "text": [
            "\r 10%|█         | 2/20 [00:13<02:00,  6.70s/it]"
          ]
        },
        {
          "output_type": "stream",
          "name": "stdout",
          "text": [
            "STARTED trial/Total: 2/20\n"
          ]
        },
        {
          "output_type": "stream",
          "name": "stderr",
          "text": [
            " 15%|█▌        | 3/20 [00:15<01:25,  5.02s/it]"
          ]
        },
        {
          "output_type": "stream",
          "name": "stdout",
          "text": [
            "STARTED trial/Total: 3/20\n",
            "STARTED trial/Total: 3/20\n"
          ]
        },
        {
          "output_type": "stream",
          "name": "stderr",
          "text": [
            "\r 15%|█▌        | 3/20 [00:18<01:37,  5.75s/it]"
          ]
        },
        {
          "output_type": "stream",
          "name": "stdout",
          "text": [
            "STARTED trial/Total: 3/20\n"
          ]
        },
        {
          "output_type": "stream",
          "name": "stderr",
          "text": [
            " 20%|██        | 4/20 [00:20<01:15,  4.71s/it]"
          ]
        },
        {
          "output_type": "stream",
          "name": "stdout",
          "text": [
            "STARTED trial/Total: 4/20\n",
            "STARTED trial/Total: 4/20\n"
          ]
        },
        {
          "output_type": "stream",
          "name": "stderr",
          "text": [
            " 25%|██▌       | 5/20 [00:25<01:12,  4.86s/it]"
          ]
        },
        {
          "output_type": "stream",
          "name": "stdout",
          "text": [
            "STARTED trial/Total: 4/20\n",
            "STARTED trial/Total: 5/20\n",
            "STARTED trial/Total: 5/20\n"
          ]
        },
        {
          "output_type": "stream",
          "name": "stderr",
          "text": [
            " 30%|███       | 6/20 [00:29<01:06,  4.76s/it]"
          ]
        },
        {
          "output_type": "stream",
          "name": "stdout",
          "text": [
            "STARTED trial/Total: 6/20\n",
            "STARTED trial/Total: 6/20\n"
          ]
        },
        {
          "output_type": "stream",
          "name": "stderr",
          "text": [
            "\r 25%|██▌       | 5/20 [00:29<01:23,  5.57s/it]"
          ]
        },
        {
          "output_type": "stream",
          "name": "stdout",
          "text": [
            "STARTED trial/Total: 5/20\n"
          ]
        },
        {
          "output_type": "stream",
          "name": "stderr",
          "text": [
            "\r 35%|███▌      | 7/20 [00:32<00:54,  4.18s/it]"
          ]
        },
        {
          "output_type": "stream",
          "name": "stdout",
          "text": [
            "STARTED trial/Total: 7/20\n"
          ]
        },
        {
          "output_type": "stream",
          "name": "stderr",
          "text": [
            "\r 35%|███▌      | 7/20 [00:33<00:57,  4.40s/it]"
          ]
        },
        {
          "output_type": "stream",
          "name": "stdout",
          "text": [
            "STARTED trial/Total: 7/20\n"
          ]
        },
        {
          "output_type": "stream",
          "name": "stderr",
          "text": [
            "\r 30%|███       | 6/20 [00:33<01:12,  5.19s/it]"
          ]
        },
        {
          "output_type": "stream",
          "name": "stdout",
          "text": [
            "STARTED trial/Total: 6/20\n"
          ]
        },
        {
          "output_type": "stream",
          "name": "stderr",
          "text": [
            "\r 40%|████      | 8/20 [00:36<00:48,  4.02s/it]"
          ]
        },
        {
          "output_type": "stream",
          "name": "stdout",
          "text": [
            "STARTED trial/Total: 8/20\n"
          ]
        },
        {
          "output_type": "stream",
          "name": "stderr",
          "text": [
            "\r 40%|████      | 8/20 [00:37<00:51,  4.30s/it]"
          ]
        },
        {
          "output_type": "stream",
          "name": "stdout",
          "text": [
            "STARTED trial/Total: 8/20\n"
          ]
        },
        {
          "output_type": "stream",
          "name": "stderr",
          "text": [
            "\r 35%|███▌      | 7/20 [00:39<01:07,  5.19s/it]"
          ]
        },
        {
          "output_type": "stream",
          "name": "stdout",
          "text": [
            "STARTED trial/Total: 7/20\n"
          ]
        },
        {
          "output_type": "stream",
          "name": "stderr",
          "text": [
            "\r 45%|████▌     | 9/20 [00:41<00:48,  4.40s/it]"
          ]
        },
        {
          "output_type": "stream",
          "name": "stdout",
          "text": [
            "STARTED trial/Total: 9/20\n"
          ]
        },
        {
          "output_type": "stream",
          "name": "stderr",
          "text": [
            "\r 45%|████▌     | 9/20 [00:43<00:52,  4.74s/it]"
          ]
        },
        {
          "output_type": "stream",
          "name": "stdout",
          "text": [
            "STARTED trial/Total: 9/20\n"
          ]
        },
        {
          "output_type": "stream",
          "name": "stderr",
          "text": [
            "\r 40%|████      | 8/20 [00:44<01:04,  5.37s/it]"
          ]
        },
        {
          "output_type": "stream",
          "name": "stdout",
          "text": [
            "STARTED trial/Total: 8/20\n"
          ]
        },
        {
          "output_type": "stream",
          "name": "stderr",
          "text": [
            "\r 50%|█████     | 10/20 [00:45<00:43,  4.37s/it]"
          ]
        },
        {
          "output_type": "stream",
          "name": "stdout",
          "text": [
            "STARTED trial/Total: 10/20\n"
          ]
        },
        {
          "output_type": "stream",
          "name": "stderr",
          "text": [
            "\r 50%|█████     | 10/20 [00:47<00:45,  4.50s/it]"
          ]
        },
        {
          "output_type": "stream",
          "name": "stdout",
          "text": [
            "STARTED trial/Total: 10/20\n"
          ]
        },
        {
          "output_type": "stream",
          "name": "stderr",
          "text": [
            " 45%|████▌     | 9/20 [00:49<00:55,  5.05s/it]"
          ]
        },
        {
          "output_type": "stream",
          "name": "stdout",
          "text": [
            "STARTED trial/Total: 9/20\n",
            "STARTED trial/Total: 11/20\n"
          ]
        },
        {
          "output_type": "stream",
          "name": "stderr",
          "text": [
            "\r 55%|█████▌    | 11/20 [00:51<00:38,  4.28s/it]"
          ]
        },
        {
          "output_type": "stream",
          "name": "stdout",
          "text": [
            "STARTED trial/Total: 11/20\n"
          ]
        },
        {
          "output_type": "stream",
          "name": "stderr",
          "text": [
            "\r 60%|██████    | 12/20 [00:53<00:32,  4.01s/it]"
          ]
        },
        {
          "output_type": "stream",
          "name": "stdout",
          "text": [
            "STARTED trial/Total: 12/20\n"
          ]
        },
        {
          "output_type": "stream",
          "name": "stderr",
          "text": [
            "\r 50%|█████     | 10/20 [00:53<00:48,  4.86s/it]"
          ]
        },
        {
          "output_type": "stream",
          "name": "stdout",
          "text": [
            "STARTED trial/Total: 10/20\n"
          ]
        },
        {
          "output_type": "stream",
          "name": "stderr",
          "text": [
            "\r 60%|██████    | 12/20 [00:54<00:33,  4.16s/it]"
          ]
        },
        {
          "output_type": "stream",
          "name": "stdout",
          "text": [
            "STARTED trial/Total: 12/20\n"
          ]
        },
        {
          "output_type": "stream",
          "name": "stderr",
          "text": [
            "\r 65%|██████▌   | 13/20 [00:57<00:29,  4.20s/it]"
          ]
        },
        {
          "output_type": "stream",
          "name": "stdout",
          "text": [
            "STARTED trial/Total: 13/20\n"
          ]
        },
        {
          "output_type": "stream",
          "name": "stderr",
          "text": [
            " 55%|█████▌    | 11/20 [00:59<00:46,  5.19s/it]"
          ]
        },
        {
          "output_type": "stream",
          "name": "stdout",
          "text": [
            "STARTED trial/Total: 11/20\n",
            "STARTED trial/Total: 13/20\n"
          ]
        },
        {
          "output_type": "stream",
          "name": "stderr",
          "text": [
            "\r 70%|███████   | 14/20 [01:02<00:25,  4.28s/it]"
          ]
        },
        {
          "output_type": "stream",
          "name": "stdout",
          "text": [
            "STARTED trial/Total: 14/20\n"
          ]
        },
        {
          "output_type": "stream",
          "name": "stderr",
          "text": [
            "\r 70%|███████   | 14/20 [01:04<00:26,  4.44s/it]"
          ]
        },
        {
          "output_type": "stream",
          "name": "stdout",
          "text": [
            "STARTED trial/Total: 14/20\n"
          ]
        },
        {
          "output_type": "stream",
          "name": "stderr",
          "text": [
            "\r 60%|██████    | 12/20 [01:04<00:40,  5.09s/it]"
          ]
        },
        {
          "output_type": "stream",
          "name": "stdout",
          "text": [
            "STARTED trial/Total: 12/20\n"
          ]
        },
        {
          "output_type": "stream",
          "name": "stderr",
          "text": [
            "\r 75%|███████▌  | 15/20 [01:05<00:20,  4.03s/it]"
          ]
        },
        {
          "output_type": "stream",
          "name": "stdout",
          "text": [
            "STARTED trial/Total: 15/20\n"
          ]
        },
        {
          "output_type": "stream",
          "name": "stderr",
          "text": [
            "\r 75%|███████▌  | 15/20 [01:08<00:20,  4.16s/it]"
          ]
        },
        {
          "output_type": "stream",
          "name": "stdout",
          "text": [
            "STARTED trial/Total: 15/20\n"
          ]
        },
        {
          "output_type": "stream",
          "name": "stderr",
          "text": [
            " 80%|████████  | 16/20 [01:09<00:15,  3.92s/it]"
          ]
        },
        {
          "output_type": "stream",
          "name": "stdout",
          "text": [
            "STARTED trial/Total: 16/20\n",
            "STARTED trial/Total: 13/20\n"
          ]
        },
        {
          "output_type": "stream",
          "name": "stderr",
          "text": [
            "\r 80%|████████  | 16/20 [01:11<00:16,  4.02s/it]"
          ]
        },
        {
          "output_type": "stream",
          "name": "stdout",
          "text": [
            "STARTED trial/Total: 16/20\n"
          ]
        },
        {
          "output_type": "stream",
          "name": "stderr",
          "text": [
            "\r 85%|████████▌ | 17/20 [01:13<00:11,  3.97s/it]"
          ]
        },
        {
          "output_type": "stream",
          "name": "stdout",
          "text": [
            "STARTED trial/Total: 17/20\n"
          ]
        },
        {
          "output_type": "stream",
          "name": "stderr",
          "text": [
            "\r 70%|███████   | 14/20 [01:14<00:30,  5.03s/it]"
          ]
        },
        {
          "output_type": "stream",
          "name": "stdout",
          "text": [
            "STARTED trial/Total: 14/20\n"
          ]
        },
        {
          "output_type": "stream",
          "name": "stderr",
          "text": [
            "\r 85%|████████▌ | 17/20 [01:16<00:13,  4.34s/it]"
          ]
        },
        {
          "output_type": "stream",
          "name": "stdout",
          "text": [
            "STARTED trial/Total: 17/20\n"
          ]
        },
        {
          "output_type": "stream",
          "name": "stderr",
          "text": [
            "\r 90%|█████████ | 18/20 [01:18<00:08,  4.23s/it]"
          ]
        },
        {
          "output_type": "stream",
          "name": "stdout",
          "text": [
            "STARTED trial/Total: 18/20\n"
          ]
        },
        {
          "output_type": "stream",
          "name": "stderr",
          "text": [
            "\r 75%|███████▌  | 15/20 [01:19<00:25,  5.13s/it]"
          ]
        },
        {
          "output_type": "stream",
          "name": "stdout",
          "text": [
            "STARTED trial/Total: 15/20\n"
          ]
        },
        {
          "output_type": "stream",
          "name": "stderr",
          "text": [
            "\r 90%|█████████ | 18/20 [01:21<00:08,  4.39s/it]"
          ]
        },
        {
          "output_type": "stream",
          "name": "stdout",
          "text": [
            "STARTED trial/Total: 18/20\n"
          ]
        },
        {
          "output_type": "stream",
          "name": "stderr",
          "text": [
            "\r 95%|█████████▌| 19/20 [01:21<00:03,  3.92s/it]"
          ]
        },
        {
          "output_type": "stream",
          "name": "stdout",
          "text": [
            "STARTED trial/Total: 19/20\n"
          ]
        },
        {
          "output_type": "stream",
          "name": "stderr",
          "text": [
            " 95%|█████████▌| 19/20 [01:25<00:04,  4.28s/it]"
          ]
        },
        {
          "output_type": "stream",
          "name": "stdout",
          "text": [
            "STARTED trial/Total: 16/20\n"
          ]
        },
        {
          "output_type": "stream",
          "name": "stderr",
          "text": [
            "100%|██████████| 20/20 [01:25<00:00,  4.26s/it]"
          ]
        },
        {
          "output_type": "stream",
          "name": "stdout",
          "text": [
            "STARTED trial/Total: 19/20\n"
          ]
        },
        {
          "output_type": "stream",
          "name": "stderr",
          "text": [
            "\n"
          ]
        },
        {
          "output_type": "stream",
          "name": "stdout",
          "text": [
            "Process-1 LCA finished childroom01.jpg 19.0, 19.0, 19.0, 19.0, 19.0, 19.0, 19.0, 19.0, 19.0, 19.0, 19.0, 19.0, 19.0, 19.0, 19.0, 19.0, 19.0, 19.0, 19.0, 19.0\n",
            "aj GOOD stim childroom01.jpg, participant LMe_1.asc:: SM max 1.0, min: 0.0, mean 0.034487737437231034\n",
            "stim childroom01.jpg, participant LMe_1.asc, params [1.00000000e-02 2.56000000e-01 5.00000000e-01 3.70000000e-01\n",
            " 9.70000000e-02 6.40000000e-01 3.10000000e-01 1.04300000e+00\n",
            " 1.73117838e+01 4.65000000e-01]:: ks KstestResult(statistic=1.0, pvalue=2.5457808982986266e-15, statistic_location=19.0, statistic_sign=-1), 1-aj 0.5329061849999999\n",
            "aj GOOD stim childroom01.jpg, participant LMe_1.asc:: SM max 1.0, min: 0.0, mean 0.034487737437231034\n"
          ]
        },
        {
          "output_type": "stream",
          "name": "stderr",
          "text": [
            "/usr/local/lib/python3.10/dist-packages/scipy/stats/_morestats.py:2121: RuntimeWarning: invalid value encountered in divide\n",
            "  w = (y - xbar) / s\n"
          ]
        },
        {
          "output_type": "stream",
          "name": "stdout",
          "text": [
            "Anderson-Darling stat: nan, critical values: [0.506 0.577 0.692 0.807 0.96 ], significance level: [15.  10.   5.   2.5  1. ]\n",
            "stim childroom01.jpg, participant LMe_1.asc, params [1.00000000e-02 2.56000000e-01 5.00000000e-01 3.70000000e-01\n",
            " 9.70000000e-02 6.40000000e-01 3.10000000e-01 1.04300000e+00\n",
            " 1.73117838e+01 4.65000000e-01]:: ks KstestResult(statistic=1.0, pvalue=2.5457808982986266e-15, statistic_location=19.0, statistic_sign=-1), 1-aj 0.5329061849999999, AD stat nan\n"
          ]
        },
        {
          "output_type": "stream",
          "name": "stderr",
          "text": [
            "100%|██████████| 20/20 [01:28<00:00,  4.43s/it]\n"
          ]
        },
        {
          "output_type": "stream",
          "name": "stdout",
          "text": [
            "new thresh 42.547999999999995\n",
            "Process-2 LCA finished childroom01.jpg 21.0, 22.0, 21.0, 21.0, 21.0, 21.0, 21.0, 21.0, 21.0, 21.0, 21.0, 21.0, 21.0, 22.0, 21.0, 21.0, 21.0, 21.0, 21.0, 21.0\n",
            "aj GOOD stim childroom01.jpg, participant LMe_1.asc:: SM max 1.0, min: 0.0, mean 0.022022900394103526\n",
            "stim childroom01.jpg, participant LMe_1.asc, params [1.00000000e-02 2.56000000e-01 9.00000000e-01 2.50000000e-01\n",
            " 9.70000000e-02 1.00000000e-01 3.10000000e-01 2.00000000e+00\n",
            " 2.42587729e+01 4.65000000e-01]:: ks KstestResult(statistic=1.0, pvalue=2.5457808982986266e-15, statistic_location=22.0, statistic_sign=-1), 1-aj 0.57700676\n",
            "aj GOOD stim childroom01.jpg, participant LMe_1.asc:: SM max 1.0, min: 0.0, mean 0.022022900394103526\n",
            "Anderson-Darling stat: 6.5020421801135555, critical values: [0.506 0.577 0.692 0.807 0.96 ], significance level: [15.  10.   5.   2.5  1. ]\n",
            "stim childroom01.jpg, participant LMe_1.asc, params [1.00000000e-02 2.56000000e-01 9.00000000e-01 2.50000000e-01\n",
            " 9.70000000e-02 1.00000000e-01 3.10000000e-01 2.00000000e+00\n",
            " 2.42587729e+01 4.65000000e-01]:: ks KstestResult(statistic=1.0, pvalue=2.5457808982986266e-15, statistic_location=22.0, statistic_sign=-1), 1-aj 0.57700676, AD stat 6.5020421801135555\n"
          ]
        },
        {
          "output_type": "stream",
          "name": "stderr",
          "text": [
            "\r 85%|████████▌ | 17/20 [01:28<00:14,  4.79s/it]"
          ]
        },
        {
          "output_type": "stream",
          "name": "stdout",
          "text": [
            "STARTED trial/Total: 17/20\n",
            "new thresh 77.0\n"
          ]
        },
        {
          "output_type": "stream",
          "name": "stderr",
          "text": [
            "\r 90%|█████████ | 18/20 [01:33<00:09,  4.73s/it]"
          ]
        },
        {
          "output_type": "stream",
          "name": "stdout",
          "text": [
            "STARTED trial/Total: 18/20\n",
            "Process-1 LCA started p1010833.jpg 0.01, 0.256, 0.5, 0.37, 0.097, 0.64, 0.31, 1.043, 17.311783848922545, 0.465 42.547999999999995\n"
          ]
        },
        {
          "output_type": "stream",
          "name": "stderr",
          "text": [
            " 95%|█████████▌| 19/20 [01:37<00:04,  4.53s/it]"
          ]
        },
        {
          "output_type": "stream",
          "name": "stdout",
          "text": [
            "STARTED trial/Total: 0/20\n",
            "STARTED trial/Total: 19/20\n",
            "Process-2 LCA started p1010833.jpg 0.01, 0.256, 0.9, 0.25, 0.097, 0.1, 0.31, 2.0, 24.258772873077632, 0.465 77.0\n"
          ]
        },
        {
          "output_type": "stream",
          "name": "stderr",
          "text": [
            "\r  0%|          | 0/20 [00:00<?, ?it/s]"
          ]
        },
        {
          "output_type": "stream",
          "name": "stdout",
          "text": [
            "STARTED trial/Total: 0/20\n"
          ]
        },
        {
          "output_type": "stream",
          "name": "stderr",
          "text": [
            "\r  5%|▌         | 1/20 [00:03<01:05,  3.47s/it]"
          ]
        },
        {
          "output_type": "stream",
          "name": "stdout",
          "text": [
            "STARTED trial/Total: 1/20\n"
          ]
        },
        {
          "output_type": "stream",
          "name": "stderr",
          "text": [
            "100%|██████████| 20/20 [01:41<00:00,  5.08s/it]\n"
          ]
        },
        {
          "output_type": "stream",
          "name": "stdout",
          "text": [
            "Process-3 LCA finished childroom01.jpg 28.0, 28.0, 28.0, 27.0, 27.0, 28.0, 27.0, 28.0, 27.0, 28.0, 28.0, 28.0, 27.0, 28.0, 28.0, 28.0, 28.0, 28.0, 28.0, 28.0\n",
            "aj GOOD stim childroom01.jpg, participant LMe_1.asc:: SM max 1.0, min: 0.0, mean 0.03338614596211214\n",
            "stim childroom01.jpg, participant LMe_1.asc, params [1.0000000e-02 2.5600000e-01 8.0000000e-01 2.5000000e-01 9.7000000e-02\n",
            " 1.0000000e-01 3.1000000e-01 4.0000000e+00 1.4045301e+01 2.0000000e-01]:: ks KstestResult(statistic=1.0, pvalue=2.5457808982986266e-15, statistic_location=28.0, statistic_sign=-1), 1-aj 0.541007995\n",
            "aj GOOD stim childroom01.jpg, participant LMe_1.asc:: SM max 1.0, min: 0.0, mean 0.03338614596211214\n",
            "Anderson-Darling stat: 4.65478422849035, critical values: [0.506 0.577 0.692 0.807 0.96 ], significance level: [15.  10.   5.   2.5  1. ]\n",
            "stim childroom01.jpg, participant LMe_1.asc, params [1.0000000e-02 2.5600000e-01 8.0000000e-01 2.5000000e-01 9.7000000e-02\n",
            " 1.0000000e-01 3.1000000e-01 4.0000000e+00 1.4045301e+01 2.0000000e-01]:: ks KstestResult(statistic=1.0, pvalue=2.5457808982986266e-15, statistic_location=28.0, statistic_sign=-1), 1-aj 0.541007995, AD stat 4.65478422849035\n"
          ]
        },
        {
          "output_type": "stream",
          "name": "stderr",
          "text": [
            "\r  5%|▌         | 1/20 [00:04<01:18,  4.13s/it]"
          ]
        },
        {
          "output_type": "stream",
          "name": "stdout",
          "text": [
            "STARTED trial/Total: 1/20\n"
          ]
        },
        {
          "output_type": "stream",
          "name": "stderr",
          "text": [
            "\r 10%|█         | 2/20 [00:06<01:00,  3.36s/it]"
          ]
        },
        {
          "output_type": "stream",
          "name": "stdout",
          "text": [
            "STARTED trial/Total: 2/20\n",
            "new thresh 149.0\n"
          ]
        },
        {
          "output_type": "stream",
          "name": "stderr",
          "text": [
            "\r 10%|█         | 2/20 [00:07<01:04,  3.60s/it]"
          ]
        },
        {
          "output_type": "stream",
          "name": "stdout",
          "text": [
            "STARTED trial/Total: 2/20\n"
          ]
        },
        {
          "output_type": "stream",
          "name": "stderr",
          "text": [
            "\r 15%|█▌        | 3/20 [00:10<00:57,  3.40s/it]"
          ]
        },
        {
          "output_type": "stream",
          "name": "stdout",
          "text": [
            "STARTED trial/Total: 3/20\n"
          ]
        },
        {
          "output_type": "stream",
          "name": "stderr",
          "text": [
            "\r 15%|█▌        | 3/20 [00:11<01:09,  4.07s/it]"
          ]
        },
        {
          "output_type": "stream",
          "name": "stdout",
          "text": [
            "STARTED trial/Total: 3/20\n",
            "Process-3 LCA started p1010833.jpg 0.01, 0.256, 0.8, 0.25, 0.097, 0.1, 0.31, 4.0, 14.045300964154606, 0.2 149.0\n"
          ]
        },
        {
          "output_type": "stream",
          "name": "stderr",
          "text": [
            "  0%|          | 0/20 [00:00<?, ?it/s]"
          ]
        },
        {
          "output_type": "stream",
          "name": "stdout",
          "text": [
            "STARTED trial/Total: 0/20\n",
            "STARTED trial/Total: 4/20\n"
          ]
        },
        {
          "output_type": "stream",
          "name": "stderr",
          "text": [
            "\r 20%|██        | 4/20 [00:16<01:07,  4.23s/it]"
          ]
        },
        {
          "output_type": "stream",
          "name": "stdout",
          "text": [
            "STARTED trial/Total: 4/20\n"
          ]
        },
        {
          "output_type": "stream",
          "name": "stderr",
          "text": [
            "\r 25%|██▌       | 5/20 [00:18<00:57,  3.86s/it]"
          ]
        },
        {
          "output_type": "stream",
          "name": "stdout",
          "text": [
            "STARTED trial/Total: 5/20\n"
          ]
        },
        {
          "output_type": "stream",
          "name": "stderr",
          "text": [
            "\r  5%|▌         | 1/20 [00:04<01:26,  4.58s/it]"
          ]
        },
        {
          "output_type": "stream",
          "name": "stdout",
          "text": [
            "STARTED trial/Total: 1/20\n"
          ]
        },
        {
          "output_type": "stream",
          "name": "stderr",
          "text": [
            "\r 25%|██▌       | 5/20 [00:20<01:02,  4.15s/it]"
          ]
        },
        {
          "output_type": "stream",
          "name": "stdout",
          "text": [
            "STARTED trial/Total: 5/20\n"
          ]
        },
        {
          "output_type": "stream",
          "name": "stderr",
          "text": [
            "\r 30%|███       | 6/20 [00:22<00:53,  3.79s/it]"
          ]
        },
        {
          "output_type": "stream",
          "name": "stdout",
          "text": [
            "STARTED trial/Total: 6/20\n"
          ]
        },
        {
          "output_type": "stream",
          "name": "stderr",
          "text": [
            "\r 10%|█         | 2/20 [00:08<01:18,  4.34s/it]"
          ]
        },
        {
          "output_type": "stream",
          "name": "stdout",
          "text": [
            "STARTED trial/Total: 2/20\n"
          ]
        },
        {
          "output_type": "stream",
          "name": "stderr",
          "text": [
            " 35%|███▌      | 7/20 [00:25<00:48,  3.75s/it]"
          ]
        },
        {
          "output_type": "stream",
          "name": "stdout",
          "text": [
            "STARTED trial/Total: 6/20\n",
            "STARTED trial/Total: 7/20\n"
          ]
        },
        {
          "output_type": "stream",
          "name": "stderr",
          "text": [
            "\r 15%|█▌        | 3/20 [00:14<01:21,  4.82s/it]"
          ]
        },
        {
          "output_type": "stream",
          "name": "stdout",
          "text": [
            "STARTED trial/Total: 3/20\n"
          ]
        },
        {
          "output_type": "stream",
          "name": "stderr",
          "text": [
            " 35%|███▌      | 7/20 [00:29<00:57,  4.46s/it]"
          ]
        },
        {
          "output_type": "stream",
          "name": "stdout",
          "text": [
            "STARTED trial/Total: 8/20\n",
            "STARTED trial/Total: 7/20\n"
          ]
        },
        {
          "output_type": "stream",
          "name": "stderr",
          "text": [
            " 45%|████▌     | 9/20 [00:35<00:46,  4.20s/it]"
          ]
        },
        {
          "output_type": "stream",
          "name": "stdout",
          "text": [
            "STARTED trial/Total: 4/20\n"
          ]
        },
        {
          "output_type": "stream",
          "name": "stderr",
          "text": [
            "\r 40%|████      | 8/20 [00:34<00:53,  4.50s/it]"
          ]
        },
        {
          "output_type": "stream",
          "name": "stdout",
          "text": [
            "STARTED trial/Total: 9/20\n",
            "STARTED trial/Total: 8/20\n"
          ]
        },
        {
          "output_type": "stream",
          "name": "stderr",
          "text": [
            " 45%|████▌     | 9/20 [00:38<00:47,  4.28s/it]"
          ]
        },
        {
          "output_type": "stream",
          "name": "stdout",
          "text": [
            "STARTED trial/Total: 10/20\n",
            "STARTED trial/Total: 9/20\n"
          ]
        },
        {
          "output_type": "stream",
          "name": "stderr",
          "text": [
            "\r 25%|██▌       | 5/20 [00:24<01:15,  5.05s/it]"
          ]
        },
        {
          "output_type": "stream",
          "name": "stdout",
          "text": [
            "STARTED trial/Total: 5/20\n"
          ]
        },
        {
          "output_type": "stream",
          "name": "stderr",
          "text": [
            "\r 55%|█████▌    | 11/20 [00:42<00:35,  3.89s/it]"
          ]
        },
        {
          "output_type": "stream",
          "name": "stdout",
          "text": [
            "STARTED trial/Total: 11/20\n"
          ]
        },
        {
          "output_type": "stream",
          "name": "stderr",
          "text": [
            "\r 50%|█████     | 10/20 [00:41<00:41,  4.11s/it]"
          ]
        },
        {
          "output_type": "stream",
          "name": "stdout",
          "text": [
            "STARTED trial/Total: 10/20\n"
          ]
        },
        {
          "output_type": "stream",
          "name": "stderr",
          "text": [
            "\r 30%|███       | 6/20 [00:29<01:09,  4.93s/it]"
          ]
        },
        {
          "output_type": "stream",
          "name": "stdout",
          "text": [
            "STARTED trial/Total: 6/20\n"
          ]
        },
        {
          "output_type": "stream",
          "name": "stderr",
          "text": [
            "\r 60%|██████    | 12/20 [00:46<00:32,  4.11s/it]"
          ]
        },
        {
          "output_type": "stream",
          "name": "stdout",
          "text": [
            "STARTED trial/Total: 12/20\n"
          ]
        },
        {
          "output_type": "stream",
          "name": "stderr",
          "text": [
            "\r 55%|█████▌    | 11/20 [00:46<00:39,  4.44s/it]"
          ]
        },
        {
          "output_type": "stream",
          "name": "stdout",
          "text": [
            "STARTED trial/Total: 11/20\n"
          ]
        },
        {
          "output_type": "stream",
          "name": "stderr",
          "text": [
            "\r 35%|███▌      | 7/20 [00:35<01:09,  5.36s/it]"
          ]
        },
        {
          "output_type": "stream",
          "name": "stdout",
          "text": [
            "STARTED trial/Total: 7/20\n"
          ]
        },
        {
          "output_type": "stream",
          "name": "stderr",
          "text": [
            "\r 65%|██████▌   | 13/20 [00:51<00:29,  4.28s/it]"
          ]
        },
        {
          "output_type": "stream",
          "name": "stdout",
          "text": [
            "STARTED trial/Total: 13/20\n"
          ]
        },
        {
          "output_type": "stream",
          "name": "stderr",
          "text": [
            "\r 60%|██████    | 12/20 [00:51<00:35,  4.41s/it]"
          ]
        },
        {
          "output_type": "stream",
          "name": "stdout",
          "text": [
            "STARTED trial/Total: 12/20\n"
          ]
        },
        {
          "output_type": "stream",
          "name": "stderr",
          "text": [
            " 70%|███████   | 14/20 [00:55<00:24,  4.11s/it]"
          ]
        },
        {
          "output_type": "stream",
          "name": "stdout",
          "text": [
            "STARTED trial/Total: 8/20\n",
            "STARTED trial/Total: 14/20\n"
          ]
        },
        {
          "output_type": "stream",
          "name": "stderr",
          "text": [
            "\r 65%|██████▌   | 13/20 [00:54<00:29,  4.16s/it]"
          ]
        },
        {
          "output_type": "stream",
          "name": "stdout",
          "text": [
            "STARTED trial/Total: 13/20\n"
          ]
        },
        {
          "output_type": "stream",
          "name": "stderr",
          "text": [
            "\r 75%|███████▌  | 15/20 [00:58<00:19,  3.94s/it]"
          ]
        },
        {
          "output_type": "stream",
          "name": "stdout",
          "text": [
            "STARTED trial/Total: 15/20\n"
          ]
        },
        {
          "output_type": "stream",
          "name": "stderr",
          "text": [
            " 70%|███████   | 14/20 [00:58<00:24,  4.10s/it]"
          ]
        },
        {
          "output_type": "stream",
          "name": "stdout",
          "text": [
            "STARTED trial/Total: 9/20\n",
            "STARTED trial/Total: 14/20\n"
          ]
        },
        {
          "output_type": "stream",
          "name": "stderr",
          "text": [
            "\r 80%|████████  | 16/20 [01:02<00:15,  3.99s/it]"
          ]
        },
        {
          "output_type": "stream",
          "name": "stdout",
          "text": [
            "STARTED trial/Total: 16/20\n"
          ]
        },
        {
          "output_type": "stream",
          "name": "stderr",
          "text": [
            "\r 75%|███████▌  | 15/20 [01:03<00:21,  4.35s/it]"
          ]
        },
        {
          "output_type": "stream",
          "name": "stdout",
          "text": [
            "STARTED trial/Total: 15/20\n"
          ]
        },
        {
          "output_type": "stream",
          "name": "stderr",
          "text": [
            "\r 50%|█████     | 10/20 [00:51<00:52,  5.30s/it]"
          ]
        },
        {
          "output_type": "stream",
          "name": "stdout",
          "text": [
            "STARTED trial/Total: 10/20\n"
          ]
        },
        {
          "output_type": "stream",
          "name": "stderr",
          "text": [
            "\r 85%|████████▌ | 17/20 [01:07<00:12,  4.22s/it]"
          ]
        },
        {
          "output_type": "stream",
          "name": "stdout",
          "text": [
            "STARTED trial/Total: 17/20\n"
          ]
        },
        {
          "output_type": "stream",
          "name": "stderr",
          "text": [
            "\r 80%|████████  | 16/20 [01:08<00:17,  4.40s/it]"
          ]
        },
        {
          "output_type": "stream",
          "name": "stdout",
          "text": [
            "STARTED trial/Total: 16/20\n"
          ]
        },
        {
          "output_type": "stream",
          "name": "stderr",
          "text": [
            "\r 55%|█████▌    | 11/20 [00:56<00:47,  5.26s/it]"
          ]
        },
        {
          "output_type": "stream",
          "name": "stdout",
          "text": [
            "STARTED trial/Total: 11/20\n"
          ]
        },
        {
          "output_type": "stream",
          "name": "stderr",
          "text": [
            "\r 90%|█████████ | 18/20 [01:11<00:08,  4.10s/it]"
          ]
        },
        {
          "output_type": "stream",
          "name": "stdout",
          "text": [
            "STARTED trial/Total: 18/20\n"
          ]
        },
        {
          "output_type": "stream",
          "name": "stderr",
          "text": [
            "\r 85%|████████▌ | 17/20 [01:11<00:12,  4.12s/it]"
          ]
        },
        {
          "output_type": "stream",
          "name": "stdout",
          "text": [
            "STARTED trial/Total: 17/20\n"
          ]
        },
        {
          "output_type": "stream",
          "name": "stderr",
          "text": [
            "\r 95%|█████████▌| 19/20 [01:15<00:03,  3.98s/it]"
          ]
        },
        {
          "output_type": "stream",
          "name": "stdout",
          "text": [
            "STARTED trial/Total: 19/20"
          ]
        },
        {
          "output_type": "stream",
          "name": "stderr",
          "text": [
            "\r 60%|██████    | 12/20 [01:01<00:40,  5.10s/it]"
          ]
        },
        {
          "output_type": "stream",
          "name": "stdout",
          "text": [
            "\n",
            "STARTED trial/Total: 12/20\n"
          ]
        },
        {
          "output_type": "stream",
          "name": "stderr",
          "text": [
            "\r 90%|█████████ | 18/20 [01:15<00:07,  3.97s/it]"
          ]
        },
        {
          "output_type": "stream",
          "name": "stdout",
          "text": [
            "STARTED trial/Total: 18/20\n"
          ]
        },
        {
          "output_type": "stream",
          "name": "stderr",
          "text": [
            "100%|██████████| 20/20 [01:19<00:00,  3.95s/it]\n"
          ]
        },
        {
          "output_type": "stream",
          "name": "stdout",
          "text": [
            "Process-1 LCA finished p1010833.jpg 19.0, 18.0, 18.0, 19.0, 19.0, 18.0, 18.0, 18.0, 19.0, 18.0, 19.0, 18.0, 19.0, 19.0, 19.0, 19.0, 19.0, 19.0, 19.0, 19.0\n",
            "aj GOOD stim p1010833.jpg, participant LMe_1.asc:: SM max 1.0, min: 0.0, mean 0.02856907089910539\n",
            "stim p1010833.jpg, participant LMe_1.asc, params [1.00000000e-02 2.56000000e-01 5.00000000e-01 3.70000000e-01\n",
            " 9.70000000e-02 6.40000000e-01 3.10000000e-01 1.04300000e+00\n",
            " 1.73117838e+01 4.65000000e-01]:: ks KstestResult(statistic=1.0, pvalue=1.6525244427552486e-15, statistic_location=19.0, statistic_sign=-1), 1-aj 0.57418421\n",
            "aj GOOD stim p1010833.jpg, participant LMe_1.asc:: SM max 1.0, min: 0.0, mean 0.02856907089910539\n",
            "Anderson-Darling stat: 3.869347968152855, critical values: [0.506 0.577 0.692 0.807 0.96 ], significance level: [15.  10.   5.   2.5  1. ]\n",
            "stim p1010833.jpg, participant LMe_1.asc, params [1.00000000e-02 2.56000000e-01 5.00000000e-01 3.70000000e-01\n",
            " 9.70000000e-02 6.40000000e-01 3.10000000e-01 1.04300000e+00\n",
            " 1.73117838e+01 4.65000000e-01]:: ks KstestResult(statistic=1.0, pvalue=1.6525244427552486e-15, statistic_location=19.0, statistic_sign=-1), 1-aj 0.57418421, AD stat 3.869347968152855\n"
          ]
        },
        {
          "output_type": "stream",
          "name": "stderr",
          "text": [
            " 95%|█████████▌| 19/20 [01:20<00:04,  4.28s/it]"
          ]
        },
        {
          "output_type": "stream",
          "name": "stdout",
          "text": [
            "STARTED trial/Total: 13/20\n",
            "STARTED trial/Total: 19/20\n",
            "new thresh 16.473\n"
          ]
        },
        {
          "output_type": "stream",
          "name": "stderr",
          "text": [
            "100%|██████████| 20/20 [01:24<00:00,  4.25s/it]\n",
            " 70%|███████   | 14/20 [01:11<00:30,  5.14s/it]"
          ]
        },
        {
          "output_type": "stream",
          "name": "stdout",
          "text": [
            "STARTED trial/Total: 14/20Process-2 LCA finished p1010833.jpg 21.0, 21.0, 21.0, 22.0, 22.0, 21.0, 21.0, 21.0, 21.0, 21.0, 22.0, 21.0, 21.0, 21.0, 21.0, 21.0, 21.0, 21.0, 22.0, 22.0\n",
            "\n",
            "aj GOOD stim p1010833.jpg, participant LMe_1.asc:: SM max 1.0, min: 0.0, mean 0.031028714673338377\n",
            "stim p1010833.jpg, participant LMe_1.asc, params [1.00000000e-02 2.56000000e-01 9.00000000e-01 2.50000000e-01\n",
            " 9.70000000e-02 1.00000000e-01 3.10000000e-01 2.00000000e+00\n",
            " 2.42587729e+01 4.65000000e-01]:: ks KstestResult(statistic=1.0, pvalue=1.6525244427552486e-15, statistic_location=22.0, statistic_sign=-1), 1-aj 0.481099305\n",
            "aj GOOD stim p1010833.jpg, participant LMe_1.asc:: SM max 1.0, min: 0.0, mean 0.031028714673338377\n",
            "Anderson-Darling stat: 4.65478422849035, critical values: [0.506 0.577 0.692 0.807 0.96 ], significance level: [15.  10.   5.   2.5  1. ]\n",
            "stim p1010833.jpg, participant LMe_1.asc, params [1.00000000e-02 2.56000000e-01 9.00000000e-01 2.50000000e-01\n",
            " 9.70000000e-02 1.00000000e-01 3.10000000e-01 2.00000000e+00\n",
            " 2.42587729e+01 4.65000000e-01]:: ks KstestResult(statistic=1.0, pvalue=1.6525244427552486e-15, statistic_location=22.0, statistic_sign=-1), 1-aj 0.481099305, AD stat 4.65478422849035\n",
            "new thresh 27.0\n",
            "Process-1 LCA started office_kitchen_0003_rgbImage_000008.jpg 0.01, 0.256, 0.5, 0.37, 0.097, 0.64, 0.31, 1.043, 17.311783848922545, 0.465 16.473\n"
          ]
        },
        {
          "output_type": "stream",
          "name": "stderr",
          "text": [
            "  0%|          | 0/20 [00:00<?, ?it/s]"
          ]
        },
        {
          "output_type": "stream",
          "name": "stdout",
          "text": [
            "STARTED trial/Total: 15/20\n",
            "STARTED trial/Total: 0/20\n"
          ]
        },
        {
          "output_type": "stream",
          "name": "stderr",
          "text": [
            "\r  5%|▌         | 1/20 [00:02<00:49,  2.61s/it]"
          ]
        },
        {
          "output_type": "stream",
          "name": "stdout",
          "text": [
            "STARTED trial/Total: 1/20\n"
          ]
        },
        {
          "output_type": "stream",
          "name": "stderr",
          "text": [
            "\r 80%|████████  | 16/20 [01:18<00:17,  4.31s/it]"
          ]
        },
        {
          "output_type": "stream",
          "name": "stdout",
          "text": [
            "STARTED trial/Total: 16/20\n",
            "Process-2 LCA started office_kitchen_0003_rgbImage_000008.jpg 0.01, 0.256, 0.9, 0.25, 0.097, 0.1, 0.31, 2.0, 24.258772873077632, 0.465 27.0\n"
          ]
        },
        {
          "output_type": "stream",
          "name": "stderr",
          "text": [
            "\r  0%|          | 0/20 [00:00<?, ?it/s]"
          ]
        },
        {
          "output_type": "stream",
          "name": "stdout",
          "text": [
            "STARTED trial/Total: 0/20\n"
          ]
        },
        {
          "output_type": "stream",
          "name": "stderr",
          "text": [
            "\r 10%|█         | 2/20 [00:05<00:48,  2.68s/it]"
          ]
        },
        {
          "output_type": "stream",
          "name": "stdout",
          "text": [
            "STARTED trial/Total: 2/20\n"
          ]
        },
        {
          "output_type": "stream",
          "name": "stderr",
          "text": [
            "  5%|▌         | 1/20 [00:04<01:18,  4.11s/it]"
          ]
        },
        {
          "output_type": "stream",
          "name": "stdout",
          "text": [
            "STARTED trial/Total: 17/20\n",
            "STARTED trial/Total: 1/20\n"
          ]
        },
        {
          "output_type": "stream",
          "name": "stderr",
          "text": [
            "\r 15%|█▌        | 3/20 [00:09<00:56,  3.33s/it]"
          ]
        },
        {
          "output_type": "stream",
          "name": "stdout",
          "text": [
            "STARTED trial/Total: 3/20\n"
          ]
        },
        {
          "output_type": "stream",
          "name": "stderr",
          "text": [
            "\r 10%|█         | 2/20 [00:07<01:11,  3.98s/it]"
          ]
        },
        {
          "output_type": "stream",
          "name": "stdout",
          "text": [
            "STARTED trial/Total: 2/20\n"
          ]
        },
        {
          "output_type": "stream",
          "name": "stderr",
          "text": [
            "\r 20%|██        | 4/20 [00:13<00:57,  3.62s/it]"
          ]
        },
        {
          "output_type": "stream",
          "name": "stdout",
          "text": [
            "STARTED trial/Total: 4/20\n"
          ]
        },
        {
          "output_type": "stream",
          "name": "stderr",
          "text": [
            "\r 90%|█████████ | 18/20 [01:28<00:09,  4.78s/it]"
          ]
        },
        {
          "output_type": "stream",
          "name": "stdout",
          "text": [
            "STARTED trial/Total: 18/20\n"
          ]
        },
        {
          "output_type": "stream",
          "name": "stderr",
          "text": [
            "\r 15%|█▌        | 3/20 [00:11<01:01,  3.64s/it]"
          ]
        },
        {
          "output_type": "stream",
          "name": "stdout",
          "text": [
            "STARTED trial/Total: 3/20\n"
          ]
        },
        {
          "output_type": "stream",
          "name": "stderr",
          "text": [
            "\r 25%|██▌       | 5/20 [00:16<00:51,  3.40s/it]"
          ]
        },
        {
          "output_type": "stream",
          "name": "stdout",
          "text": [
            "STARTED trial/Total: 5/20\n"
          ]
        },
        {
          "output_type": "stream",
          "name": "stderr",
          "text": [
            "\r 95%|█████████▌| 19/20 [01:32<00:04,  4.61s/it]"
          ]
        },
        {
          "output_type": "stream",
          "name": "stdout",
          "text": [
            "STARTED trial/Total: 19/20\n"
          ]
        },
        {
          "output_type": "stream",
          "name": "stderr",
          "text": [
            " 30%|███       | 6/20 [00:19<00:45,  3.21s/it]"
          ]
        },
        {
          "output_type": "stream",
          "name": "stdout",
          "text": [
            "STARTED trial/Total: 4/20\n",
            "STARTED trial/Total: 6/20\n"
          ]
        },
        {
          "output_type": "stream",
          "name": "stderr",
          "text": [
            "100%|██████████| 20/20 [01:37<00:00,  4.87s/it]\n",
            " 35%|███▌      | 7/20 [00:22<00:42,  3.27s/it]"
          ]
        },
        {
          "output_type": "stream",
          "name": "stdout",
          "text": [
            "STARTED trial/Total: 5/20\n",
            "Process-3 LCA finished p1010833.jpg 28.0, 27.0, 28.0, 28.0, 29.0, 28.0, 28.0, 28.0, 28.0, 28.0, 29.0, 28.0, 28.0, 28.0, 28.0, 28.0, 28.0, 28.0, 29.0, 29.0\n",
            "aj GOOD stim p1010833.jpg, participant LMe_1.asc:: SM max 1.0, min: 0.0, mean 0.02368452641134885\n",
            "stim p1010833.jpg, participant LMe_1.asc, params [1.0000000e-02 2.5600000e-01 8.0000000e-01 2.5000000e-01 9.7000000e-02\n",
            " 1.0000000e-01 3.1000000e-01 4.0000000e+00 1.4045301e+01 2.0000000e-01]:: ks KstestResult(statistic=1.0, pvalue=1.6525244427552486e-15, statistic_location=29.0, statistic_sign=-1), 1-aj 0.43839032\n",
            "aj GOOD stim p1010833.jpg, participant LMe_1.asc:: SM max 1.0, min: 0.0, mean 0.02368452641134885\n",
            "STARTED trial/Total: 7/20\n",
            "Anderson-Darling stat: 3.69132268399461, critical values: [0.506 0.577 0.692 0.807 0.96 ], significance level: [15.  10.   5.   2.5  1. ]\n",
            "stim p1010833.jpg, participant LMe_1.asc, params [1.0000000e-02 2.5600000e-01 8.0000000e-01 2.5000000e-01 9.7000000e-02\n",
            " 1.0000000e-01 3.1000000e-01 4.0000000e+00 1.4045301e+01 2.0000000e-01]:: ks KstestResult(statistic=1.0, pvalue=1.6525244427552486e-15, statistic_location=29.0, statistic_sign=-1), 1-aj 0.43839032, AD stat 3.69132268399461\n"
          ]
        },
        {
          "output_type": "stream",
          "name": "stderr",
          "text": [
            " 40%|████      | 8/20 [00:26<00:40,  3.37s/it]"
          ]
        },
        {
          "output_type": "stream",
          "name": "stdout",
          "text": [
            "STARTED trial/Total: 6/20\n",
            "STARTED trial/Total: 8/20\n",
            "new thresh 49.0\n"
          ]
        },
        {
          "output_type": "stream",
          "name": "stderr",
          "text": [
            "\r 45%|████▌     | 9/20 [00:29<00:36,  3.34s/it]"
          ]
        },
        {
          "output_type": "stream",
          "name": "stdout",
          "text": [
            "STARTED trial/Total: 9/20\n"
          ]
        },
        {
          "output_type": "stream",
          "name": "stderr",
          "text": [
            "\r 35%|███▌      | 7/20 [00:25<00:48,  3.70s/it]"
          ]
        },
        {
          "output_type": "stream",
          "name": "stdout",
          "text": [
            "STARTED trial/Total: 7/20\n"
          ]
        },
        {
          "output_type": "stream",
          "name": "stderr",
          "text": [
            "\r 50%|█████     | 10/20 [00:32<00:31,  3.14s/it]"
          ]
        },
        {
          "output_type": "stream",
          "name": "stdout",
          "text": [
            "STARTED trial/Total: 10/20\n"
          ]
        },
        {
          "output_type": "stream",
          "name": "stderr",
          "text": [
            "\r 40%|████      | 8/20 [00:28<00:40,  3.37s/it]"
          ]
        },
        {
          "output_type": "stream",
          "name": "stdout",
          "text": [
            "Process-3 LCA started office_kitchen_0003_rgbImage_000008.jpg 0.01, 0.256, 0.8, 0.25, 0.097, 0.1, 0.31, 4.0, 14.045300964154606, 0.2 49.0\n",
            "STARTED trial/Total: 8/20\n"
          ]
        },
        {
          "output_type": "stream",
          "name": "stderr",
          "text": [
            "\r  0%|          | 0/20 [00:00<?, ?it/s]"
          ]
        },
        {
          "output_type": "stream",
          "name": "stdout",
          "text": [
            "STARTED trial/Total: 0/20\n"
          ]
        },
        {
          "output_type": "stream",
          "name": "stderr",
          "text": [
            "\r 55%|█████▌    | 11/20 [00:34<00:26,  2.98s/it]"
          ]
        },
        {
          "output_type": "stream",
          "name": "stdout",
          "text": [
            "STARTED trial/Total: 11/20\n"
          ]
        },
        {
          "output_type": "stream",
          "name": "stderr",
          "text": [
            "\r 45%|████▌     | 9/20 [00:31<00:35,  3.21s/it]"
          ]
        },
        {
          "output_type": "stream",
          "name": "stdout",
          "text": [
            "STARTED trial/Total: 9/20\n"
          ]
        },
        {
          "output_type": "stream",
          "name": "stderr",
          "text": [
            "\r  5%|▌         | 1/20 [00:03<01:04,  3.38s/it]"
          ]
        },
        {
          "output_type": "stream",
          "name": "stdout",
          "text": [
            "STARTED trial/Total: 1/20\n"
          ]
        },
        {
          "output_type": "stream",
          "name": "stderr",
          "text": [
            "\r 60%|██████    | 12/20 [00:37<00:23,  2.90s/it]"
          ]
        },
        {
          "output_type": "stream",
          "name": "stdout",
          "text": [
            "STARTED trial/Total: 12/20\n"
          ]
        },
        {
          "output_type": "stream",
          "name": "stderr",
          "text": [
            "\r 50%|█████     | 10/20 [00:34<00:31,  3.20s/it]"
          ]
        },
        {
          "output_type": "stream",
          "name": "stdout",
          "text": [
            "STARTED trial/Total: 10/20\n"
          ]
        },
        {
          "output_type": "stream",
          "name": "stderr",
          "text": [
            " 65%|██████▌   | 13/20 [00:40<00:20,  2.91s/it]"
          ]
        },
        {
          "output_type": "stream",
          "name": "stdout",
          "text": [
            "STARTED trial/Total: 2/20\n",
            "STARTED trial/Total: 13/20\n"
          ]
        },
        {
          "output_type": "stream",
          "name": "stderr",
          "text": [
            "\r 55%|█████▌    | 11/20 [00:37<00:29,  3.28s/it]"
          ]
        },
        {
          "output_type": "stream",
          "name": "stdout",
          "text": [
            "STARTED trial/Total: 11/20\n"
          ]
        },
        {
          "output_type": "stream",
          "name": "stderr",
          "text": [
            " 15%|█▌        | 3/20 [00:11<01:10,  4.13s/it]"
          ]
        },
        {
          "output_type": "stream",
          "name": "stdout",
          "text": [
            "STARTED trial/Total: 14/20\n",
            "STARTED trial/Total: 3/20\n"
          ]
        },
        {
          "output_type": "stream",
          "name": "stderr",
          "text": [
            "\r 60%|██████    | 12/20 [00:41<00:28,  3.54s/it]"
          ]
        },
        {
          "output_type": "stream",
          "name": "stdout",
          "text": [
            "STARTED trial/Total: 12/20\n"
          ]
        },
        {
          "output_type": "stream",
          "name": "stderr",
          "text": [
            "\r 75%|███████▌  | 15/20 [00:48<00:16,  3.37s/it]"
          ]
        },
        {
          "output_type": "stream",
          "name": "stdout",
          "text": [
            "STARTED trial/Total: 15/20\n"
          ]
        },
        {
          "output_type": "stream",
          "name": "stderr",
          "text": [
            "\r 20%|██        | 4/20 [00:16<01:06,  4.18s/it]"
          ]
        },
        {
          "output_type": "stream",
          "name": "stdout",
          "text": [
            "STARTED trial/Total: 4/20\n"
          ]
        },
        {
          "output_type": "stream",
          "name": "stderr",
          "text": [
            "\r 65%|██████▌   | 13/20 [00:45<00:24,  3.53s/it]"
          ]
        },
        {
          "output_type": "stream",
          "name": "stdout",
          "text": [
            "STARTED trial/Total: 13/20\n"
          ]
        },
        {
          "output_type": "stream",
          "name": "stderr",
          "text": [
            "\r 80%|████████  | 16/20 [00:50<00:12,  3.16s/it]"
          ]
        },
        {
          "output_type": "stream",
          "name": "stdout",
          "text": [
            "STARTED trial/Total: 16/20\n"
          ]
        },
        {
          "output_type": "stream",
          "name": "stderr",
          "text": [
            " 70%|███████   | 14/20 [00:48<00:20,  3.45s/it]"
          ]
        },
        {
          "output_type": "stream",
          "name": "stdout",
          "text": [
            "STARTED trial/Total: 5/20\n",
            "STARTED trial/Total: 14/20\n"
          ]
        },
        {
          "output_type": "stream",
          "name": "stderr",
          "text": [
            "\r 85%|████████▌ | 17/20 [00:53<00:09,  3.10s/it]"
          ]
        },
        {
          "output_type": "stream",
          "name": "stdout",
          "text": [
            "STARTED trial/Total: 17/20\n"
          ]
        },
        {
          "output_type": "stream",
          "name": "stderr",
          "text": [
            " 30%|███       | 6/20 [00:23<00:56,  4.00s/it]"
          ]
        },
        {
          "output_type": "stream",
          "name": "stdout",
          "text": [
            "STARTED trial/Total: 18/20\n",
            "STARTED trial/Total: 15/20\n",
            "STARTED trial/Total: 6/20\n"
          ]
        },
        {
          "output_type": "stream",
          "name": "stderr",
          "text": [
            " 80%|████████  | 16/20 [00:55<00:14,  3.52s/it]"
          ]
        },
        {
          "output_type": "stream",
          "name": "stdout",
          "text": [
            "STARTED trial/Total: 19/20\n",
            "STARTED trial/Total: 16/20\n"
          ]
        },
        {
          "output_type": "stream",
          "name": "stderr",
          "text": [
            "\r 35%|███▌      | 7/20 [00:28<00:53,  4.10s/it]"
          ]
        },
        {
          "output_type": "stream",
          "name": "stdout",
          "text": [
            "STARTED trial/Total: 7/20\n"
          ]
        },
        {
          "output_type": "stream",
          "name": "stderr",
          "text": [
            "100%|██████████| 20/20 [01:03<00:00,  3.19s/it]\n"
          ]
        },
        {
          "output_type": "stream",
          "name": "stdout",
          "text": [
            "Process-1 LCA finished office_kitchen_0003_rgbImage_000008.jpg 14.0, 14.0, 14.0, 14.0, 14.0, 13.0, 14.0, 14.0, 14.0, 13.0, 13.0, 14.0, 14.0, 14.0, 14.0, 14.0, 14.0, 14.0, 14.0, 14.0\n",
            "aj GOOD stim office_kitchen_0003_rgbImage_000008.jpg, participant LMe_1.asc:: SM max 1.0, min: 0.0, mean 0.030981064615897846\n",
            "stim office_kitchen_0003_rgbImage_000008.jpg, participant LMe_1.asc, params [1.00000000e-02 2.56000000e-01 5.00000000e-01 3.70000000e-01\n",
            " 9.70000000e-02 6.40000000e-01 3.10000000e-01 1.04300000e+00\n",
            " 1.73117838e+01 4.65000000e-01]:: ks KstestResult(statistic=1.0, pvalue=2.5794750572466965e-14, statistic_location=14.0, statistic_sign=-1), 1-aj 0.40581722500000006\n"
          ]
        },
        {
          "output_type": "stream",
          "name": "stderr",
          "text": [
            "\r 85%|████████▌ | 17/20 [01:00<00:11,  3.72s/it]"
          ]
        },
        {
          "output_type": "stream",
          "name": "stdout",
          "text": [
            "aj GOOD stim office_kitchen_0003_rgbImage_000008.jpg, participant LMe_1.asc:: SM max 1.0, min: 0.0, mean 0.030981064615897846\n",
            "Anderson-Darling stat: 5.819652919437097, critical values: [0.506 0.577 0.692 0.807 0.96 ], significance level: [15.  10.   5.   2.5  1. ]\n",
            "stim office_kitchen_0003_rgbImage_000008.jpg, participant LMe_1.asc, params [1.00000000e-02 2.56000000e-01 5.00000000e-01 3.70000000e-01\n",
            " 9.70000000e-02 6.40000000e-01 3.10000000e-01 1.04300000e+00\n",
            " 1.73117838e+01 4.65000000e-01]:: ks KstestResult(statistic=1.0, pvalue=2.5794750572466965e-14, statistic_location=14.0, statistic_sign=-1), 1-aj 0.40581722500000006, AD stat 5.819652919437097\n",
            "STARTED trial/Total: 17/20\n"
          ]
        },
        {
          "output_type": "stream",
          "name": "stderr",
          "text": [
            "\r 40%|████      | 8/20 [00:32<00:50,  4.23s/it]"
          ]
        },
        {
          "output_type": "stream",
          "name": "stdout",
          "text": [
            "STARTED trial/Total: 8/20\n"
          ]
        },
        {
          "output_type": "stream",
          "name": "stderr",
          "text": [
            "\r 90%|█████████ | 18/20 [01:02<00:06,  3.36s/it]"
          ]
        },
        {
          "output_type": "stream",
          "name": "stdout",
          "text": [
            "STARTED trial/Total: 18/20\n",
            "new thresh 30.031999999999996\n"
          ]
        },
        {
          "output_type": "stream",
          "name": "stderr",
          "text": [
            "\r 45%|████▌     | 9/20 [00:35<00:42,  3.82s/it]"
          ]
        },
        {
          "output_type": "stream",
          "name": "stdout",
          "text": [
            "STARTED trial/Total: 9/20\n"
          ]
        },
        {
          "output_type": "stream",
          "name": "stderr",
          "text": [
            "\r 95%|█████████▌| 19/20 [01:05<00:03,  3.19s/it]"
          ]
        },
        {
          "output_type": "stream",
          "name": "stdout",
          "text": [
            "STARTED trial/Total: 19/20\n"
          ]
        },
        {
          "output_type": "stream",
          "name": "stderr",
          "text": [
            "\r 50%|█████     | 10/20 [00:38<00:36,  3.64s/it]"
          ]
        },
        {
          "output_type": "stream",
          "name": "stdout",
          "text": [
            "STARTED trial/Total: 10/20\n"
          ]
        },
        {
          "output_type": "stream",
          "name": "stderr",
          "text": [
            "100%|██████████| 20/20 [01:08<00:00,  3.42s/it]\n"
          ]
        },
        {
          "output_type": "stream",
          "name": "stdout",
          "text": [
            "Process-1 LCA started pittsburgh_IMG_4077.jpg 0.01, 0.256, 0.5, 0.37, 0.097, 0.64, 0.31, 1.043, 17.311783848922545, 0.465 30.031999999999996\n"
          ]
        },
        {
          "output_type": "stream",
          "name": "stderr",
          "text": [
            "\r  0%|          | 0/20 [00:00<?, ?it/s]"
          ]
        },
        {
          "output_type": "stream",
          "name": "stdout",
          "text": [
            "Process-2 LCA finished office_kitchen_0003_rgbImage_000008.jpg 16.0, 16.0, 16.0, 16.0, 16.0, 16.0, 16.0, 16.0, 16.0, 16.0, 16.0, 16.0, 16.0, 16.0, 16.0, 16.0, 16.0, 16.0, 16.0, 16.0\n",
            "aj GOOD stim office_kitchen_0003_rgbImage_000008.jpg, participant LMe_1.asc:: SM max 1.0, min: 0.0, mean 0.03424702155328108\n",
            "stim office_kitchen_0003_rgbImage_000008.jpg, participant LMe_1.asc, params [1.00000000e-02 2.56000000e-01 9.00000000e-01 2.50000000e-01\n",
            " 9.70000000e-02 1.00000000e-01 3.10000000e-01 2.00000000e+00\n",
            " 2.42587729e+01 4.65000000e-01]:: ks KstestResult(statistic=1.0, pvalue=2.5794750572466965e-14, statistic_location=16.0, statistic_sign=-1), 1-aj 0.5128698700000001\n",
            "aj GOOD stim office_kitchen_0003_rgbImage_000008.jpg, participant LMe_1.asc:: SM max 1.0, min: 0.0, mean 0.03424702155328108\n"
          ]
        },
        {
          "output_type": "stream",
          "name": "stderr",
          "text": [
            "/usr/local/lib/python3.10/dist-packages/scipy/stats/_morestats.py:2121: RuntimeWarning: invalid value encountered in divide\n",
            "  w = (y - xbar) / s\n"
          ]
        },
        {
          "output_type": "stream",
          "name": "stdout",
          "text": [
            "Anderson-Darling stat: nan, critical values: [0.506 0.577 0.692 0.807 0.96 ], significance level: [15.  10.   5.   2.5  1. ]\n",
            "stim office_kitchen_0003_rgbImage_000008.jpg, participant LMe_1.asc, params [1.00000000e-02 2.56000000e-01 9.00000000e-01 2.50000000e-01\n",
            " 9.70000000e-02 1.00000000e-01 3.10000000e-01 2.00000000e+00\n",
            " 2.42587729e+01 4.65000000e-01]:: ks KstestResult(statistic=1.0, pvalue=2.5794750572466965e-14, statistic_location=16.0, statistic_sign=-1), 1-aj 0.5128698700000001, AD stat nan\n",
            "STARTED trial/Total: 0/20\n"
          ]
        },
        {
          "output_type": "stream",
          "name": "stderr",
          "text": [
            "\r 55%|█████▌    | 11/20 [00:42<00:31,  3.52s/it]"
          ]
        },
        {
          "output_type": "stream",
          "name": "stdout",
          "text": [
            "STARTED trial/Total: 11/20\n"
          ]
        },
        {
          "output_type": "stream",
          "name": "stderr",
          "text": [
            "\r  5%|▌         | 1/20 [00:03<01:04,  3.38s/it]"
          ]
        },
        {
          "output_type": "stream",
          "name": "stdout",
          "text": [
            "STARTED trial/Total: 1/20\n",
            "new thresh 53.0\n"
          ]
        },
        {
          "output_type": "stream",
          "name": "stderr",
          "text": [
            "\r 60%|██████    | 12/20 [00:46<00:29,  3.74s/it]"
          ]
        },
        {
          "output_type": "stream",
          "name": "stdout",
          "text": [
            "STARTED trial/Total: 12/20\n"
          ]
        },
        {
          "output_type": "stream",
          "name": "stderr",
          "text": [
            "\r 10%|█         | 2/20 [00:07<01:06,  3.72s/it]"
          ]
        },
        {
          "output_type": "stream",
          "name": "stdout",
          "text": [
            "STARTED trial/Total: 2/20\n"
          ]
        },
        {
          "output_type": "stream",
          "name": "stderr",
          "text": [
            "\r 65%|██████▌   | 13/20 [00:50<00:27,  3.89s/it]"
          ]
        },
        {
          "output_type": "stream",
          "name": "stdout",
          "text": [
            "STARTED trial/Total: 13/20\n"
          ]
        },
        {
          "output_type": "stream",
          "name": "stderr",
          "text": [
            "\r 15%|█▌        | 3/20 [00:11<01:04,  3.78s/it]"
          ]
        },
        {
          "output_type": "stream",
          "name": "stdout",
          "text": [
            "STARTED trial/Total: 3/20\n",
            "Process-2 LCA started pittsburgh_IMG_4077.jpg 0.01, 0.256, 0.9, 0.25, 0.097, 0.1, 0.31, 2.0, 24.258772873077632, 0.465 53.0\n"
          ]
        },
        {
          "output_type": "stream",
          "name": "stderr",
          "text": [
            "\r  0%|          | 0/20 [00:00<?, ?it/s]"
          ]
        },
        {
          "output_type": "stream",
          "name": "stdout",
          "text": [
            "STARTED trial/Total: 0/20\n"
          ]
        },
        {
          "output_type": "stream",
          "name": "stderr",
          "text": [
            " 20%|██        | 4/20 [00:14<00:57,  3.58s/it]"
          ]
        },
        {
          "output_type": "stream",
          "name": "stdout",
          "text": [
            "STARTED trial/Total: 14/20\n",
            "STARTED trial/Total: 4/20\n"
          ]
        },
        {
          "output_type": "stream",
          "name": "stderr",
          "text": [
            "\r  5%|▌         | 1/20 [00:03<01:08,  3.60s/it]"
          ]
        },
        {
          "output_type": "stream",
          "name": "stdout",
          "text": [
            "STARTED trial/Total: 1/20\n"
          ]
        },
        {
          "output_type": "stream",
          "name": "stderr",
          "text": [
            "\r 25%|██▌       | 5/20 [00:17<00:51,  3.43s/it]"
          ]
        },
        {
          "output_type": "stream",
          "name": "stdout",
          "text": [
            "STARTED trial/Total: 5/20\n"
          ]
        },
        {
          "output_type": "stream",
          "name": "stderr",
          "text": [
            "\r 75%|███████▌  | 15/20 [00:58<00:19,  3.85s/it]"
          ]
        },
        {
          "output_type": "stream",
          "name": "stdout",
          "text": [
            "STARTED trial/Total: 15/20\n"
          ]
        },
        {
          "output_type": "stream",
          "name": "stderr",
          "text": [
            "\r 10%|█         | 2/20 [00:07<01:04,  3.59s/it]"
          ]
        },
        {
          "output_type": "stream",
          "name": "stdout",
          "text": [
            "STARTED trial/Total: 2/20\n"
          ]
        },
        {
          "output_type": "stream",
          "name": "stderr",
          "text": [
            "\r 30%|███       | 6/20 [00:21<00:49,  3.50s/it]"
          ]
        },
        {
          "output_type": "stream",
          "name": "stdout",
          "text": [
            "STARTED trial/Total: 6/20\n"
          ]
        },
        {
          "output_type": "stream",
          "name": "stderr",
          "text": [
            "\r 80%|████████  | 16/20 [01:02<00:15,  3.98s/it]"
          ]
        },
        {
          "output_type": "stream",
          "name": "stdout",
          "text": [
            "STARTED trial/Total: 16/20\n"
          ]
        },
        {
          "output_type": "stream",
          "name": "stderr",
          "text": [
            "\r 15%|█▌        | 3/20 [00:12<01:12,  4.29s/it]"
          ]
        },
        {
          "output_type": "stream",
          "name": "stdout",
          "text": [
            "STARTED trial/Total: 3/20\n"
          ]
        },
        {
          "output_type": "stream",
          "name": "stderr",
          "text": [
            "\r 35%|███▌      | 7/20 [00:25<00:50,  3.88s/it]"
          ]
        },
        {
          "output_type": "stream",
          "name": "stdout",
          "text": [
            "STARTED trial/Total: 7/20\n"
          ]
        },
        {
          "output_type": "stream",
          "name": "stderr",
          "text": [
            "\r 85%|████████▌ | 17/20 [01:07<00:12,  4.24s/it]"
          ]
        },
        {
          "output_type": "stream",
          "name": "stdout",
          "text": [
            "STARTED trial/Total: 17/20\n"
          ]
        },
        {
          "output_type": "stream",
          "name": "stderr",
          "text": [
            "\r 20%|██        | 4/20 [00:16<01:09,  4.37s/it]"
          ]
        },
        {
          "output_type": "stream",
          "name": "stdout",
          "text": [
            "STARTED trial/Total: 4/20\n"
          ]
        },
        {
          "output_type": "stream",
          "name": "stderr",
          "text": [
            "\r 40%|████      | 8/20 [00:29<00:44,  3.73s/it]"
          ]
        },
        {
          "output_type": "stream",
          "name": "stdout",
          "text": [
            "STARTED trial/Total: 8/20\n"
          ]
        },
        {
          "output_type": "stream",
          "name": "stderr",
          "text": [
            "\r 90%|█████████ | 18/20 [01:10<00:07,  3.98s/it]"
          ]
        },
        {
          "output_type": "stream",
          "name": "stdout",
          "text": [
            "STARTED trial/Total: 18/20\n"
          ]
        },
        {
          "output_type": "stream",
          "name": "stderr",
          "text": [
            "\r 25%|██▌       | 5/20 [00:20<01:02,  4.15s/it]"
          ]
        },
        {
          "output_type": "stream",
          "name": "stdout",
          "text": [
            "STARTED trial/Total: 5/20\n"
          ]
        },
        {
          "output_type": "stream",
          "name": "stderr",
          "text": [
            "\r 45%|████▌     | 9/20 [00:32<00:40,  3.69s/it]"
          ]
        },
        {
          "output_type": "stream",
          "name": "stdout",
          "text": [
            "STARTED trial/Total: 9/20\n"
          ]
        },
        {
          "output_type": "stream",
          "name": "stderr",
          "text": [
            "\r 95%|█████████▌| 19/20 [01:14<00:03,  3.82s/it]"
          ]
        },
        {
          "output_type": "stream",
          "name": "stdout",
          "text": [
            "STARTED trial/Total: 19/20\n"
          ]
        },
        {
          "output_type": "stream",
          "name": "stderr",
          "text": [
            " 50%|█████     | 10/20 [00:36<00:35,  3.57s/it]"
          ]
        },
        {
          "output_type": "stream",
          "name": "stdout",
          "text": [
            "STARTED trial/Total: 6/20\n",
            "STARTED trial/Total: 10/20\n"
          ]
        },
        {
          "output_type": "stream",
          "name": "stderr",
          "text": [
            "100%|██████████| 20/20 [01:18<00:00,  3.90s/it]\n"
          ]
        },
        {
          "output_type": "stream",
          "name": "stdout",
          "text": [
            "Process-3 LCA finished office_kitchen_0003_rgbImage_000008.jpg 21.0, 21.0, 21.0, 20.0, 21.0, 21.0, 21.0, 21.0, 21.0, 21.0, 21.0, 21.0, 21.0, 21.0, 21.0, 21.0, 21.0, 21.0, 21.0, 21.0\n",
            "aj GOOD stim office_kitchen_0003_rgbImage_000008.jpg, participant LMe_1.asc:: SM max 1.0, min: 0.0, mean 0.026867499158384465\n",
            "stim office_kitchen_0003_rgbImage_000008.jpg, participant LMe_1.asc, params [1.0000000e-02 2.5600000e-01 8.0000000e-01 2.5000000e-01 9.7000000e-02\n",
            " 1.0000000e-01 3.1000000e-01 4.0000000e+00 1.4045301e+01 2.0000000e-01]:: ks KstestResult(statistic=1.0, pvalue=2.5794750572466965e-14, statistic_location=21.0, statistic_sign=-1), 1-aj 0.517565905\n",
            "aj GOOD stim office_kitchen_0003_rgbImage_000008.jpg, participant LMe_1.asc:: SM max 1.0, min: 0.0, mean 0.026867499158384465\n",
            "Anderson-Darling stat: 7.1761700491314, critical values: [0.506 0.577 0.692 0.807 0.96 ], significance level: [15.  10.   5.   2.5  1. ]\n",
            "stim office_kitchen_0003_rgbImage_000008.jpg, participant LMe_1.asc, params [1.0000000e-02 2.5600000e-01 8.0000000e-01 2.5000000e-01 9.7000000e-02\n",
            " 1.0000000e-01 3.1000000e-01 4.0000000e+00 1.4045301e+01 2.0000000e-01]:: ks KstestResult(statistic=1.0, pvalue=2.5794750572466965e-14, statistic_location=21.0, statistic_sign=-1), 1-aj 0.517565905, AD stat 7.1761700491314\n"
          ]
        },
        {
          "output_type": "stream",
          "name": "stderr",
          "text": [
            " 55%|█████▌    | 11/20 [00:40<00:35,  3.93s/it]"
          ]
        },
        {
          "output_type": "stream",
          "name": "stdout",
          "text": [
            "STARTED trial/Total: 7/20\n",
            "STARTED trial/Total: 11/20\n",
            "new thresh 101.0\n"
          ]
        },
        {
          "output_type": "stream",
          "name": "stderr",
          "text": [
            " 40%|████      | 8/20 [00:33<00:51,  4.26s/it]"
          ]
        },
        {
          "output_type": "stream",
          "name": "stdout",
          "text": [
            "STARTED trial/Total: 12/20\n",
            "STARTED trial/Total: 8/20\n"
          ]
        },
        {
          "output_type": "stream",
          "name": "stderr",
          "text": [
            "\r 65%|██████▌   | 13/20 [00:47<00:25,  3.58s/it]"
          ]
        },
        {
          "output_type": "stream",
          "name": "stdout",
          "text": [
            "STARTED trial/Total: 13/20\n"
          ]
        },
        {
          "output_type": "stream",
          "name": "stderr",
          "text": [
            "\r 45%|████▌     | 9/20 [00:36<00:43,  3.94s/it]"
          ]
        },
        {
          "output_type": "stream",
          "name": "stdout",
          "text": [
            "STARTED trial/Total: 9/20\n",
            "Process-3 LCA started pittsburgh_IMG_4077.jpg 0.01, 0.256, 0.8, 0.25, 0.097, 0.1, 0.31, 4.0, 14.045300964154606, 0.2 101.0\n"
          ]
        },
        {
          "output_type": "stream",
          "name": "stderr",
          "text": [
            "\r  0%|          | 0/20 [00:00<?, ?it/s]"
          ]
        },
        {
          "output_type": "stream",
          "name": "stdout",
          "text": [
            "STARTED trial/Total: 0/20\n"
          ]
        },
        {
          "output_type": "stream",
          "name": "stderr",
          "text": [
            "\r 70%|███████   | 14/20 [00:50<00:20,  3.39s/it]"
          ]
        },
        {
          "output_type": "stream",
          "name": "stdout",
          "text": [
            "STARTED trial/Total: 14/20\n"
          ]
        },
        {
          "output_type": "stream",
          "name": "stderr",
          "text": [
            "\r 50%|█████     | 10/20 [00:39<00:37,  3.73s/it]"
          ]
        },
        {
          "output_type": "stream",
          "name": "stdout",
          "text": [
            "STARTED trial/Total: 10/20\n"
          ]
        },
        {
          "output_type": "stream",
          "name": "stderr",
          "text": [
            "  5%|▌         | 1/20 [00:04<01:30,  4.79s/it]"
          ]
        },
        {
          "output_type": "stream",
          "name": "stdout",
          "text": [
            "STARTED trial/Total: 15/20\n",
            "STARTED trial/Total: 1/20\n"
          ]
        },
        {
          "output_type": "stream",
          "name": "stderr",
          "text": [
            "\r 55%|█████▌    | 11/20 [00:43<00:34,  3.86s/it]"
          ]
        },
        {
          "output_type": "stream",
          "name": "stdout",
          "text": [
            "STARTED trial/Total: 11/20\n"
          ]
        },
        {
          "output_type": "stream",
          "name": "stderr",
          "text": [
            "\r 80%|████████  | 16/20 [00:58<00:15,  3.77s/it]"
          ]
        },
        {
          "output_type": "stream",
          "name": "stdout",
          "text": [
            "STARTED trial/Total: 16/20\n"
          ]
        },
        {
          "output_type": "stream",
          "name": "stderr",
          "text": [
            " 60%|██████    | 12/20 [00:49<00:34,  4.32s/it]"
          ]
        },
        {
          "output_type": "stream",
          "name": "stdout",
          "text": [
            "STARTED trial/Total: 2/20\n",
            "STARTED trial/Total: 12/20\n"
          ]
        },
        {
          "output_type": "stream",
          "name": "stderr",
          "text": [
            "\r 85%|████████▌ | 17/20 [01:02<00:11,  3.71s/it]"
          ]
        },
        {
          "output_type": "stream",
          "name": "stdout",
          "text": [
            "STARTED trial/Total: 17/20\n"
          ]
        },
        {
          "output_type": "stream",
          "name": "stderr",
          "text": [
            " 15%|█▌        | 3/20 [00:15<01:28,  5.19s/it]"
          ]
        },
        {
          "output_type": "stream",
          "name": "stdout",
          "text": [
            "STARTED trial/Total: 13/20\n",
            "STARTED trial/Total: 3/20\n"
          ]
        },
        {
          "output_type": "stream",
          "name": "stderr",
          "text": [
            "\r 90%|█████████ | 18/20 [01:05<00:07,  3.68s/it]"
          ]
        },
        {
          "output_type": "stream",
          "name": "stdout",
          "text": [
            "STARTED trial/Total: 18/20\n"
          ]
        },
        {
          "output_type": "stream",
          "name": "stderr",
          "text": [
            "\r 70%|███████   | 14/20 [00:57<00:24,  4.12s/it]"
          ]
        },
        {
          "output_type": "stream",
          "name": "stdout",
          "text": [
            "STARTED trial/Total: 14/20\n"
          ]
        },
        {
          "output_type": "stream",
          "name": "stderr",
          "text": [
            " 20%|██        | 4/20 [00:20<01:18,  4.90s/it]"
          ]
        },
        {
          "output_type": "stream",
          "name": "stdout",
          "text": [
            "STARTED trial/Total: 19/20\n",
            "STARTED trial/Total: 4/20\n"
          ]
        },
        {
          "output_type": "stream",
          "name": "stderr",
          "text": [
            "100%|██████████| 20/20 [01:13<00:00,  3.68s/it]\n"
          ]
        },
        {
          "output_type": "stream",
          "name": "stdout",
          "text": [
            "STARTED trial/Total: 15/20\n",
            "Process-1 LCA finished pittsburgh_IMG_4077.jpg 18.0, 17.0, 18.0, 18.0, 17.0, 18.0, 18.0, 17.0, 18.0, 18.0, 18.0, 18.0, 17.0, 18.0, 18.0, 17.0, 18.0, 18.0, 18.0, 18.0\n",
            "aj GOOD stim pittsburgh_IMG_4077.jpg, participant LMe_1.asc:: SM max 1.0, min: 0.0, mean 0.03236712484370831\n",
            "stim pittsburgh_IMG_4077.jpg, participant LMe_1.asc, params [1.00000000e-02 2.56000000e-01 5.00000000e-01 3.70000000e-01\n",
            " 9.70000000e-02 6.40000000e-01 3.10000000e-01 1.04300000e+00\n",
            " 1.73117838e+01 4.65000000e-01]:: ks KstestResult(statistic=1.0, pvalue=2.5794750572466965e-14, statistic_location=18.0, statistic_sign=-1), 1-aj 0.5644\n",
            "aj GOOD stim pittsburgh_IMG_4077.jpg, participant LMe_1.asc:: SM max 1.0, min: 0.0, mean 0.03236712484370831\n",
            "Anderson-Darling stat: 4.65478422849035, critical values: [0.506 0.577 0.692 0.807 0.96 ], significance level: [15.  10.   5.   2.5  1. ]\n",
            "stim pittsburgh_IMG_4077.jpg, participant LMe_1.asc, params [1.00000000e-02 2.56000000e-01 5.00000000e-01 3.70000000e-01\n",
            " 9.70000000e-02 6.40000000e-01 3.10000000e-01 1.04300000e+00\n",
            " 1.73117838e+01 4.65000000e-01]:: ks KstestResult(statistic=1.0, pvalue=2.5794750572466965e-14, statistic_location=18.0, statistic_sign=-1), 1-aj 0.5644, AD stat 4.65478422849035\n"
          ]
        },
        {
          "output_type": "stream",
          "name": "stderr",
          "text": [
            "\r 25%|██▌       | 5/20 [00:25<01:15,  5.02s/it]"
          ]
        },
        {
          "output_type": "stream",
          "name": "stdout",
          "text": [
            "STARTED trial/Total: 5/20\n"
          ]
        },
        {
          "output_type": "stream",
          "name": "stderr",
          "text": [
            "\r 80%|████████  | 16/20 [01:05<00:17,  4.26s/it]"
          ]
        },
        {
          "output_type": "stream",
          "name": "stdout",
          "text": [
            "STARTED trial/Total: 16/20\n",
            "new thresh 14.386999999999999\n"
          ]
        },
        {
          "output_type": "stream",
          "name": "stderr",
          "text": [
            "\r 30%|███       | 6/20 [00:30<01:09,  5.00s/it]"
          ]
        },
        {
          "output_type": "stream",
          "name": "stdout",
          "text": [
            "STARTED trial/Total: 6/20\n"
          ]
        },
        {
          "output_type": "stream",
          "name": "stderr",
          "text": [
            "\r 85%|████████▌ | 17/20 [01:09<00:12,  4.03s/it]"
          ]
        },
        {
          "output_type": "stream",
          "name": "stdout",
          "text": [
            "STARTED trial/Total: 17/20\n"
          ]
        },
        {
          "output_type": "stream",
          "name": "stderr",
          "text": [
            "\r 35%|███▌      | 7/20 [00:34<01:01,  4.73s/it]"
          ]
        },
        {
          "output_type": "stream",
          "name": "stdout",
          "text": [
            "STARTED trial/Total: 7/20\n"
          ]
        },
        {
          "output_type": "stream",
          "name": "stderr",
          "text": [
            "\r 90%|█████████ | 18/20 [01:12<00:07,  3.87s/it]"
          ]
        },
        {
          "output_type": "stream",
          "name": "stdout",
          "text": [
            "STARTED trial/Total: 18/20\n",
            "Process-1 LCA started bedroom18.jpg 0.01, 0.256, 0.5, 0.37, 0.097, 0.64, 0.31, 1.043, 17.311783848922545, 0.465 14.386999999999999\n"
          ]
        },
        {
          "output_type": "stream",
          "name": "stderr",
          "text": [
            "\r  0%|          | 0/20 [00:00<?, ?it/s]"
          ]
        },
        {
          "output_type": "stream",
          "name": "stdout",
          "text": [
            "STARTED trial/Total: 0/20\n"
          ]
        },
        {
          "output_type": "stream",
          "name": "stderr",
          "text": [
            "  5%|▌         | 1/20 [00:03<00:58,  3.09s/it]"
          ]
        },
        {
          "output_type": "stream",
          "name": "stdout",
          "text": [
            "STARTED trial/Total: 8/20\n",
            "STARTED trial/Total: 19/20\n",
            "STARTED trial/Total: 1/20\n"
          ]
        },
        {
          "output_type": "stream",
          "name": "stderr",
          "text": [
            "\r 10%|█         | 2/20 [00:06<01:03,  3.53s/it]"
          ]
        },
        {
          "output_type": "stream",
          "name": "stdout",
          "text": [
            "STARTED trial/Total: 2/20\n"
          ]
        },
        {
          "output_type": "stream",
          "name": "stderr",
          "text": [
            "100%|██████████| 20/20 [01:21<00:00,  4.07s/it]\n"
          ]
        },
        {
          "output_type": "stream",
          "name": "stdout",
          "text": [
            "Process-2 LCA finished pittsburgh_IMG_4077.jpg 21.0, 20.0, 21.0, 21.0, 20.0, 21.0, 21.0, 21.0, 21.0, 21.0, 21.0, 21.0, 20.0, 21.0, 21.0, 20.0, 21.0, 21.0, 21.0, 21.0\n",
            "aj GOOD stim pittsburgh_IMG_4077.jpg, participant LMe_1.asc:: SM max 1.0, min: 0.0, mean 0.03251039984301647\n",
            "stim pittsburgh_IMG_4077.jpg, participant LMe_1.asc, params [1.00000000e-02 2.56000000e-01 9.00000000e-01 2.50000000e-01\n",
            " 9.70000000e-02 1.00000000e-01 3.10000000e-01 2.00000000e+00\n",
            " 2.42587729e+01 4.65000000e-01]:: ks KstestResult(statistic=1.0, pvalue=2.5794750572466965e-14, statistic_location=21.0, statistic_sign=-1), 1-aj 0.615968995\n",
            "aj GOOD stim pittsburgh_IMG_4077.jpg, participant LMe_1.asc:: SM max 1.0, min: 0.0, mean 0.03251039984301647\n"
          ]
        },
        {
          "output_type": "stream",
          "name": "stderr",
          "text": [
            "\r 45%|████▌     | 9/20 [00:44<00:53,  4.85s/it]"
          ]
        },
        {
          "output_type": "stream",
          "name": "stdout",
          "text": [
            "Anderson-Darling stat: 5.194065438737795, critical values: [0.506 0.577 0.692 0.807 0.96 ], significance level: [15.  10.   5.   2.5  1. ]\n",
            "stim pittsburgh_IMG_4077.jpg, participant LMe_1.asc, params [1.00000000e-02 2.56000000e-01 9.00000000e-01 2.50000000e-01\n",
            " 9.70000000e-02 1.00000000e-01 3.10000000e-01 2.00000000e+00\n",
            " 2.42587729e+01 4.65000000e-01]:: ks KstestResult(statistic=1.0, pvalue=2.5794750572466965e-14, statistic_location=21.0, statistic_sign=-1), 1-aj 0.615968995, AD stat 5.194065438737795\n",
            "STARTED trial/Total: 9/20\n"
          ]
        },
        {
          "output_type": "stream",
          "name": "stderr",
          "text": [
            "\r 15%|█▌        | 3/20 [00:10<00:59,  3.49s/it]"
          ]
        },
        {
          "output_type": "stream",
          "name": "stdout",
          "text": [
            "STARTED trial/Total: 3/20\n"
          ]
        },
        {
          "output_type": "stream",
          "name": "stderr",
          "text": [
            " 50%|█████     | 10/20 [00:48<00:47,  4.74s/it]"
          ]
        },
        {
          "output_type": "stream",
          "name": "stdout",
          "text": [
            "STARTED trial/Total: 4/20\n",
            "STARTED trial/Total: 10/20\n",
            "new thresh 23.0\n"
          ]
        },
        {
          "output_type": "stream",
          "name": "stderr",
          "text": [
            "\r 25%|██▌       | 5/20 [00:14<00:39,  2.64s/it]"
          ]
        },
        {
          "output_type": "stream",
          "name": "stdout",
          "text": [
            "STARTED trial/Total: 5/20\n"
          ]
        },
        {
          "output_type": "stream",
          "name": "stderr",
          "text": [
            "\r 55%|█████▌    | 11/20 [00:52<00:40,  4.50s/it]"
          ]
        },
        {
          "output_type": "stream",
          "name": "stdout",
          "text": [
            "STARTED trial/Total: 11/20\n"
          ]
        },
        {
          "output_type": "stream",
          "name": "stderr",
          "text": [
            "\r 30%|███       | 6/20 [00:17<00:36,  2.58s/it]"
          ]
        },
        {
          "output_type": "stream",
          "name": "stdout",
          "text": [
            "STARTED trial/Total: 6/20\n",
            "Process-2 LCA started bedroom18.jpg 0.01, 0.256, 0.9, 0.25, 0.097, 0.1, 0.31, 2.0, 24.258772873077632, 0.465 23.0\n"
          ]
        },
        {
          "output_type": "stream",
          "name": "stderr",
          "text": [
            "\r  0%|          | 0/20 [00:00<?, ?it/s]"
          ]
        },
        {
          "output_type": "stream",
          "name": "stdout",
          "text": [
            "STARTED trial/Total: 0/20\n"
          ]
        },
        {
          "output_type": "stream",
          "name": "stderr",
          "text": [
            "\r 35%|███▌      | 7/20 [00:19<00:33,  2.59s/it]"
          ]
        },
        {
          "output_type": "stream",
          "name": "stdout",
          "text": [
            "STARTED trial/Total: 7/20\n"
          ]
        },
        {
          "output_type": "stream",
          "name": "stderr",
          "text": [
            "\r 60%|██████    | 12/20 [00:56<00:33,  4.19s/it]"
          ]
        },
        {
          "output_type": "stream",
          "name": "stdout",
          "text": [
            "STARTED trial/Total: 12/20\n"
          ]
        },
        {
          "output_type": "stream",
          "name": "stderr",
          "text": [
            "\r  5%|▌         | 1/20 [00:02<00:56,  2.97s/it]"
          ]
        },
        {
          "output_type": "stream",
          "name": "stdout",
          "text": [
            "STARTED trial/Total: 1/20\n"
          ]
        },
        {
          "output_type": "stream",
          "name": "stderr",
          "text": [
            "\r 40%|████      | 8/20 [00:22<00:33,  2.75s/it]"
          ]
        },
        {
          "output_type": "stream",
          "name": "stdout",
          "text": [
            "STARTED trial/Total: 8/20\n"
          ]
        },
        {
          "output_type": "stream",
          "name": "stderr",
          "text": [
            " 10%|█         | 2/20 [00:07<01:06,  3.69s/it]"
          ]
        },
        {
          "output_type": "stream",
          "name": "stdout",
          "text": [
            "STARTED trial/Total: 13/20\n"
          ]
        },
        {
          "output_type": "stream",
          "name": "stderr",
          "text": [
            "\r 45%|████▌     | 9/20 [00:26<00:34,  3.10s/it]"
          ]
        },
        {
          "output_type": "stream",
          "name": "stdout",
          "text": [
            "STARTED trial/Total: 2/20\n",
            "STARTED trial/Total: 9/20\n"
          ]
        },
        {
          "output_type": "stream",
          "name": "stderr",
          "text": [
            " 50%|█████     | 10/20 [00:29<00:30,  3.06s/it]"
          ]
        },
        {
          "output_type": "stream",
          "name": "stdout",
          "text": [
            "STARTED trial/Total: 3/20STARTED trial/Total: 10/20\n",
            "\n"
          ]
        },
        {
          "output_type": "stream",
          "name": "stderr",
          "text": [
            "\r 70%|███████   | 14/20 [01:06<00:27,  4.64s/it]"
          ]
        },
        {
          "output_type": "stream",
          "name": "stdout",
          "text": [
            "STARTED trial/Total: 14/20\n"
          ]
        },
        {
          "output_type": "stream",
          "name": "stderr",
          "text": [
            " 20%|██        | 4/20 [00:13<00:51,  3.19s/it]"
          ]
        },
        {
          "output_type": "stream",
          "name": "stdout",
          "text": [
            "STARTED trial/Total: 11/20\n",
            "STARTED trial/Total: 4/20\n"
          ]
        },
        {
          "output_type": "stream",
          "name": "stderr",
          "text": [
            " 75%|███████▌  | 15/20 [01:10<00:22,  4.58s/it]"
          ]
        },
        {
          "output_type": "stream",
          "name": "stdout",
          "text": [
            "STARTED trial/Total: 15/20\n"
          ]
        },
        {
          "output_type": "stream",
          "name": "stderr",
          "text": [
            "\r 25%|██▌       | 5/20 [00:16<00:46,  3.12s/it]"
          ]
        },
        {
          "output_type": "stream",
          "name": "stdout",
          "text": [
            "STARTED trial/Total: 12/20\n",
            "STARTED trial/Total: 5/20\n"
          ]
        },
        {
          "output_type": "stream",
          "name": "stderr",
          "text": [
            "\r 65%|██████▌   | 13/20 [00:37<00:18,  2.71s/it]"
          ]
        },
        {
          "output_type": "stream",
          "name": "stdout",
          "text": [
            "STARTED trial/Total: 13/20\n"
          ]
        },
        {
          "output_type": "stream",
          "name": "stderr",
          "text": [
            "\r 30%|███       | 6/20 [00:19<00:43,  3.13s/it]"
          ]
        },
        {
          "output_type": "stream",
          "name": "stdout",
          "text": [
            "STARTED trial/Total: 6/20\n"
          ]
        },
        {
          "output_type": "stream",
          "name": "stderr",
          "text": [
            "\r 80%|████████  | 16/20 [01:14<00:17,  4.42s/it]"
          ]
        },
        {
          "output_type": "stream",
          "name": "stdout",
          "text": [
            "STARTED trial/Total: 16/20\n"
          ]
        },
        {
          "output_type": "stream",
          "name": "stderr",
          "text": [
            "\r 70%|███████   | 14/20 [00:40<00:17,  2.95s/it]"
          ]
        },
        {
          "output_type": "stream",
          "name": "stdout",
          "text": [
            "STARTED trial/Total: 14/20\n"
          ]
        },
        {
          "output_type": "stream",
          "name": "stderr",
          "text": [
            "\r 35%|███▌      | 7/20 [00:23<00:43,  3.33s/it]"
          ]
        },
        {
          "output_type": "stream",
          "name": "stdout",
          "text": [
            "STARTED trial/Total: 7/20\n"
          ]
        },
        {
          "output_type": "stream",
          "name": "stderr",
          "text": [
            " 85%|████████▌ | 17/20 [01:20<00:14,  4.85s/it]"
          ]
        },
        {
          "output_type": "stream",
          "name": "stdout",
          "text": [
            "STARTED trial/Total: 15/20\n",
            "STARTED trial/Total: 17/20\n"
          ]
        },
        {
          "output_type": "stream",
          "name": "stderr",
          "text": [
            "\r 40%|████      | 8/20 [00:26<00:41,  3.45s/it]"
          ]
        },
        {
          "output_type": "stream",
          "name": "stdout",
          "text": [
            "STARTED trial/Total: 8/20\n"
          ]
        },
        {
          "output_type": "stream",
          "name": "stderr",
          "text": [
            "\r 80%|████████  | 16/20 [00:47<00:12,  3.04s/it]"
          ]
        },
        {
          "output_type": "stream",
          "name": "stdout",
          "text": [
            "STARTED trial/Total: 16/20\n"
          ]
        },
        {
          "output_type": "stream",
          "name": "stderr",
          "text": [
            "\r 45%|████▌     | 9/20 [00:29<00:35,  3.23s/it]"
          ]
        },
        {
          "output_type": "stream",
          "name": "stdout",
          "text": [
            "STARTED trial/Total: 9/20\n"
          ]
        },
        {
          "output_type": "stream",
          "name": "stderr",
          "text": [
            "\r 90%|█████████ | 18/20 [01:25<00:09,  4.69s/it]"
          ]
        },
        {
          "output_type": "stream",
          "name": "stdout",
          "text": [
            "STARTED trial/Total: 18/20\n"
          ]
        },
        {
          "output_type": "stream",
          "name": "stderr",
          "text": [
            "\r 85%|████████▌ | 17/20 [00:49<00:08,  2.93s/it]"
          ]
        },
        {
          "output_type": "stream",
          "name": "stdout",
          "text": [
            "STARTED trial/Total: 17/20\n"
          ]
        },
        {
          "output_type": "stream",
          "name": "stderr",
          "text": [
            "\r 50%|█████     | 10/20 [00:31<00:30,  3.00s/it]"
          ]
        },
        {
          "output_type": "stream",
          "name": "stdout",
          "text": [
            "STARTED trial/Total: 10/20\n"
          ]
        },
        {
          "output_type": "stream",
          "name": "stderr",
          "text": [
            "\r 90%|█████████ | 18/20 [00:52<00:05,  2.92s/it]"
          ]
        },
        {
          "output_type": "stream",
          "name": "stdout",
          "text": [
            "STARTED trial/Total: 18/20\n"
          ]
        },
        {
          "output_type": "stream",
          "name": "stderr",
          "text": [
            "\r 95%|█████████▌| 19/20 [01:29<00:04,  4.61s/it]"
          ]
        },
        {
          "output_type": "stream",
          "name": "stdout",
          "text": [
            "STARTED trial/Total: 19/20\n"
          ]
        },
        {
          "output_type": "stream",
          "name": "stderr",
          "text": [
            "\r 55%|█████▌    | 11/20 [00:35<00:27,  3.00s/it]"
          ]
        },
        {
          "output_type": "stream",
          "name": "stdout",
          "text": [
            "STARTED trial/Total: 11/20\n"
          ]
        },
        {
          "output_type": "stream",
          "name": "stderr",
          "text": [
            "\r 95%|█████████▌| 19/20 [00:55<00:02,  2.88s/it]"
          ]
        },
        {
          "output_type": "stream",
          "name": "stdout",
          "text": [
            "STARTED trial/Total: 19/20\n"
          ]
        },
        {
          "output_type": "stream",
          "name": "stderr",
          "text": [
            "\r 60%|██████    | 12/20 [00:38<00:25,  3.20s/it]"
          ]
        },
        {
          "output_type": "stream",
          "name": "stdout",
          "text": [
            "STARTED trial/Total: 12/20\n"
          ]
        },
        {
          "output_type": "stream",
          "name": "stderr",
          "text": [
            "100%|██████████| 20/20 [01:34<00:00,  4.73s/it]\n"
          ]
        },
        {
          "output_type": "stream",
          "name": "stdout",
          "text": [
            "Process-3 LCA finished pittsburgh_IMG_4077.jpg 28.0, 28.0, 28.0, 29.0, 28.0, 28.0, 28.0, 28.0, 28.0, 28.0, 28.0, 28.0, 28.0, 28.0, 28.0, 27.0, 28.0, 28.0, 28.0, 28.0\n",
            "aj GOOD stim pittsburgh_IMG_4077.jpg, participant LMe_1.asc:: SM max 1.0, min: 0.0, mean 0.02859199951791343\n",
            "stim pittsburgh_IMG_4077.jpg, participant LMe_1.asc, params [1.0000000e-02 2.5600000e-01 8.0000000e-01 2.5000000e-01 9.7000000e-02\n",
            " 1.0000000e-01 3.1000000e-01 4.0000000e+00 1.4045301e+01 2.0000000e-01]:: ks KstestResult(statistic=1.0, pvalue=2.5794750572466965e-14, statistic_location=29.0, statistic_sign=-1), 1-aj 0.609544385\n",
            "aj GOOD stim pittsburgh_IMG_4077.jpg, participant LMe_1.asc:: SM max 1.0, min: 0.0, mean 0.02859199951791343\n",
            "Anderson-Darling stat: 5.6453835870264975, critical values: [0.506 0.577 0.692 0.807 0.96 ], significance level: [15.  10.   5.   2.5  1. ]\n",
            "stim pittsburgh_IMG_4077.jpg, participant LMe_1.asc, params [1.0000000e-02 2.5600000e-01 8.0000000e-01 2.5000000e-01 9.7000000e-02\n",
            " 1.0000000e-01 3.1000000e-01 4.0000000e+00 1.4045301e+01 2.0000000e-01]:: ks KstestResult(statistic=1.0, pvalue=2.5794750572466965e-14, statistic_location=29.0, statistic_sign=-1), 1-aj 0.609544385, AD stat 5.6453835870264975\n"
          ]
        },
        {
          "output_type": "stream",
          "name": "stderr",
          "text": [
            "100%|██████████| 20/20 [00:59<00:00,  2.98s/it]\n"
          ]
        },
        {
          "output_type": "stream",
          "name": "stdout",
          "text": [
            "Process-1 LCA finished bedroom18.jpg 11.0, 12.0, 12.0, 11.0, 12.0, 11.0, 11.0, 11.0, 11.0, 11.0, 11.0, 10.0, 11.0, 12.0, 11.0, 11.0, 12.0, 12.0, 11.0, 11.0\n",
            "aj GOOD stim bedroom18.jpg, participant LMe_1.asc:: SM max 1.0, min: 0.0, mean 0.026432469595431992\n",
            "stim bedroom18.jpg, participant LMe_1.asc, params [1.00000000e-02 2.56000000e-01 5.00000000e-01 3.70000000e-01\n",
            " 9.70000000e-02 6.40000000e-01 3.10000000e-01 1.04300000e+00\n",
            " 1.73117838e+01 4.65000000e-01]:: ks KstestResult(statistic=1.0, pvalue=1.587369265997967e-14, statistic_location=12.0, statistic_sign=-1), 1-aj 0.466908415\n",
            "aj GOOD stim bedroom18.jpg, participant LMe_1.asc:: SM max 1.0, min: 0.0, mean 0.026432469595431992\n",
            "Anderson-Darling stat: 2.9220607634739544, critical values: [0.506 0.577 0.692 0.807 0.96 ], significance level: [15.  10.   5.   2.5  1. ]\n",
            "stim bedroom18.jpg, participant LMe_1.asc, params [1.00000000e-02 2.56000000e-01 5.00000000e-01 3.70000000e-01\n",
            " 9.70000000e-02 6.40000000e-01 3.10000000e-01 1.04300000e+00\n",
            " 1.73117838e+01 4.65000000e-01]:: ks KstestResult(statistic=1.0, pvalue=1.587369265997967e-14, statistic_location=12.0, statistic_sign=-1), 1-aj 0.466908415, AD stat 2.9220607634739544\n"
          ]
        },
        {
          "output_type": "stream",
          "name": "stderr",
          "text": [
            "\r 65%|██████▌   | 13/20 [00:42<00:23,  3.34s/it]"
          ]
        },
        {
          "output_type": "stream",
          "name": "stdout",
          "text": [
            "STARTED trial/Total: 13/20\n"
          ]
        },
        {
          "output_type": "stream",
          "name": "stderr",
          "text": [
            "\r 70%|███████   | 14/20 [00:44<00:18,  3.10s/it]"
          ]
        },
        {
          "output_type": "stream",
          "name": "stdout",
          "text": [
            "new thresh 41.0\n",
            "STARTED trial/Total: 14/20\n",
            "new thresh 24.817\n"
          ]
        },
        {
          "output_type": "stream",
          "name": "stderr",
          "text": [
            "\r 75%|███████▌  | 15/20 [00:47<00:14,  2.82s/it]"
          ]
        },
        {
          "output_type": "stream",
          "name": "stdout",
          "text": [
            "STARTED trial/Total: 15/20\n"
          ]
        },
        {
          "output_type": "stream",
          "name": "stderr",
          "text": [
            "\r 80%|████████  | 16/20 [00:49<00:10,  2.63s/it]"
          ]
        },
        {
          "output_type": "stream",
          "name": "stdout",
          "text": [
            "STARTED trial/Total: 16/20\n",
            "Process-3 LCA started bedroom18.jpg 0.01, 0.256, 0.8, 0.25, 0.097, 0.1, 0.31, 4.0, 14.045300964154606, 0.2 41.0\n"
          ]
        },
        {
          "output_type": "stream",
          "name": "stderr",
          "text": [
            "\r  0%|          | 0/20 [00:00<?, ?it/s]"
          ]
        },
        {
          "output_type": "stream",
          "name": "stdout",
          "text": [
            "STARTED trial/Total: 0/20\n",
            "Process-1 LCA started office.jpg 0.01, 0.256, 0.5, 0.37, 0.097, 0.64, 0.31, 1.043, 17.311783848922545, 0.465 24.817\n"
          ]
        },
        {
          "output_type": "stream",
          "name": "stderr",
          "text": [
            "\r  0%|          | 0/20 [00:00<?, ?it/s]"
          ]
        },
        {
          "output_type": "stream",
          "name": "stdout",
          "text": [
            "STARTED trial/Total: 0/20\n"
          ]
        },
        {
          "output_type": "stream",
          "name": "stderr",
          "text": [
            "\r 85%|████████▌ | 17/20 [00:51<00:07,  2.66s/it]"
          ]
        },
        {
          "output_type": "stream",
          "name": "stdout",
          "text": [
            "STARTED trial/Total: 17/20\n"
          ]
        },
        {
          "output_type": "stream",
          "name": "stderr",
          "text": [
            "\r  5%|▌         | 1/20 [00:02<00:51,  2.70s/it]"
          ]
        },
        {
          "output_type": "stream",
          "name": "stdout",
          "text": [
            "STARTED trial/Total: 1/20\n"
          ]
        },
        {
          "output_type": "stream",
          "name": "stderr",
          "text": [
            "\r  5%|▌         | 1/20 [00:02<00:53,  2.81s/it]"
          ]
        },
        {
          "output_type": "stream",
          "name": "stdout",
          "text": [
            "STARTED trial/Total: 1/20\n"
          ]
        },
        {
          "output_type": "stream",
          "name": "stderr",
          "text": [
            "\r 90%|█████████ | 18/20 [00:55<00:05,  2.83s/it]"
          ]
        },
        {
          "output_type": "stream",
          "name": "stdout",
          "text": [
            "STARTED trial/Total: 18/20\n"
          ]
        },
        {
          "output_type": "stream",
          "name": "stderr",
          "text": [
            "\r 10%|█         | 2/20 [00:06<01:00,  3.35s/it]"
          ]
        },
        {
          "output_type": "stream",
          "name": "stdout",
          "text": [
            "STARTED trial/Total: 2/20\n"
          ]
        },
        {
          "output_type": "stream",
          "name": "stderr",
          "text": [
            " 95%|█████████▌| 19/20 [00:59<00:03,  3.24s/it]"
          ]
        },
        {
          "output_type": "stream",
          "name": "stdout",
          "text": [
            "STARTED trial/Total: 2/20\n",
            "STARTED trial/Total: 19/20\n"
          ]
        },
        {
          "output_type": "stream",
          "name": "stderr",
          "text": [
            "\r 15%|█▌        | 3/20 [00:10<01:05,  3.85s/it]"
          ]
        },
        {
          "output_type": "stream",
          "name": "stdout",
          "text": [
            "STARTED trial/Total: 3/20\n"
          ]
        },
        {
          "output_type": "stream",
          "name": "stderr",
          "text": [
            " 15%|█▌        | 3/20 [00:11<01:07,  3.97s/it]\n"
          ]
        },
        {
          "output_type": "stream",
          "name": "stdout",
          "text": [
            "Process-2 LCA finished bedroom18.jpg 13.0, 13.0, 13.0, 13.0, 13.0, 13.0, 13.0, 13.0, 13.0, 13.0, 13.0, 12.0, 13.0, 13.0, 13.0, 13.0, 13.0, 13.0, 13.0, 13.0\n",
            "STARTED trial/Total: 3/20aj GOOD stim bedroom18.jpg, participant LMe_1.asc:: SM max 1.0, min: 0.0, mean 0.02848203028899838\n",
            "\n",
            "stim bedroom18.jpg, participant LMe_1.asc, params [1.00000000e-02 2.56000000e-01 9.00000000e-01 2.50000000e-01\n",
            " 9.70000000e-02 1.00000000e-01 3.10000000e-01 2.00000000e+00\n",
            " 2.42587729e+01 4.65000000e-01]:: ks KstestResult(statistic=1.0, pvalue=1.587369265997967e-14, statistic_location=13.0, statistic_sign=-1), 1-aj 0.3964971999999999\n",
            "aj GOOD stim bedroom18.jpg, participant LMe_1.asc:: SM max 1.0, min: 0.0, mean 0.02848203028899838\n",
            "Anderson-Darling stat: 7.176185885361075, critical values: [0.506 0.577 0.692 0.807 0.96 ], significance level: [15.  10.   5.   2.5  1. ]\n",
            "stim bedroom18.jpg, participant LMe_1.asc, params [1.00000000e-02 2.56000000e-01 9.00000000e-01 2.50000000e-01\n",
            " 9.70000000e-02 1.00000000e-01 3.10000000e-01 2.00000000e+00\n",
            " 2.42587729e+01 4.65000000e-01]:: ks KstestResult(statistic=1.0, pvalue=1.587369265997967e-14, statistic_location=13.0, statistic_sign=-1), 1-aj 0.3964971999999999, AD stat 7.176185885361075\n"
          ]
        },
        {
          "output_type": "stream",
          "name": "stderr",
          "text": [
            "\r 20%|██        | 4/20 [00:14<00:58,  3.63s/it]"
          ]
        },
        {
          "output_type": "stream",
          "name": "stdout",
          "text": [
            "STARTED trial/Total: 4/20\n"
          ]
        },
        {
          "output_type": "stream",
          "name": "stderr",
          "text": [
            "\r 20%|██        | 4/20 [00:14<00:56,  3.51s/it]"
          ]
        },
        {
          "output_type": "stream",
          "name": "stdout",
          "text": [
            "STARTED trial/Total: 4/20\n"
          ]
        },
        {
          "output_type": "stream",
          "name": "stderr",
          "text": [
            "\r 25%|██▌       | 5/20 [00:17<00:49,  3.32s/it]"
          ]
        },
        {
          "output_type": "stream",
          "name": "stdout",
          "text": [
            "STARTED trial/Total: 5/20\n",
            "new thresh 43.0\n"
          ]
        },
        {
          "output_type": "stream",
          "name": "stderr",
          "text": [
            "\r 25%|██▌       | 5/20 [00:17<00:48,  3.23s/it]"
          ]
        },
        {
          "output_type": "stream",
          "name": "stdout",
          "text": [
            "STARTED trial/Total: 5/20\n"
          ]
        },
        {
          "output_type": "stream",
          "name": "stderr",
          "text": [
            "\r 30%|███       | 6/20 [00:19<00:42,  3.06s/it]"
          ]
        },
        {
          "output_type": "stream",
          "name": "stdout",
          "text": [
            "STARTED trial/Total: 6/20\n"
          ]
        },
        {
          "output_type": "stream",
          "name": "stderr",
          "text": [
            "\r 30%|███       | 6/20 [00:20<00:45,  3.23s/it]"
          ]
        },
        {
          "output_type": "stream",
          "name": "stdout",
          "text": [
            "STARTED trial/Total: 6/20\n"
          ]
        },
        {
          "output_type": "stream",
          "name": "stderr",
          "text": [
            "\r 35%|███▌      | 7/20 [00:22<00:40,  3.11s/it]"
          ]
        },
        {
          "output_type": "stream",
          "name": "stdout",
          "text": [
            "STARTED trial/Total: 7/20\n",
            "Process-2 LCA started office.jpg 0.01, 0.256, 0.9, 0.25, 0.097, 0.1, 0.31, 2.0, 24.258772873077632, 0.465 43.0\n"
          ]
        },
        {
          "output_type": "stream",
          "name": "stderr",
          "text": [
            "\r  0%|          | 0/20 [00:00<?, ?it/s]"
          ]
        },
        {
          "output_type": "stream",
          "name": "stdout",
          "text": [
            "STARTED trial/Total: 0/20\n"
          ]
        },
        {
          "output_type": "stream",
          "name": "stderr",
          "text": [
            "\r 35%|███▌      | 7/20 [00:24<00:45,  3.53s/it]"
          ]
        },
        {
          "output_type": "stream",
          "name": "stdout",
          "text": [
            "STARTED trial/Total: 7/20\n"
          ]
        },
        {
          "output_type": "stream",
          "name": "stderr",
          "text": [
            "\r 40%|████      | 8/20 [00:26<00:40,  3.41s/it]"
          ]
        },
        {
          "output_type": "stream",
          "name": "stdout",
          "text": [
            "STARTED trial/Total: 8/20\n"
          ]
        },
        {
          "output_type": "stream",
          "name": "stderr",
          "text": [
            "\r  5%|▌         | 1/20 [00:04<01:28,  4.65s/it]"
          ]
        },
        {
          "output_type": "stream",
          "name": "stdout",
          "text": [
            "STARTED trial/Total: 1/20\n"
          ]
        },
        {
          "output_type": "stream",
          "name": "stderr",
          "text": [
            "\r 40%|████      | 8/20 [00:28<00:44,  3.72s/it]"
          ]
        },
        {
          "output_type": "stream",
          "name": "stdout",
          "text": [
            "STARTED trial/Total: 8/20\n"
          ]
        },
        {
          "output_type": "stream",
          "name": "stderr",
          "text": [
            "\r 45%|████▌     | 9/20 [00:30<00:39,  3.58s/it]"
          ]
        },
        {
          "output_type": "stream",
          "name": "stdout",
          "text": [
            "STARTED trial/Total: 9/20\n"
          ]
        },
        {
          "output_type": "stream",
          "name": "stderr",
          "text": [
            " 10%|█         | 2/20 [00:08<01:14,  4.13s/it]"
          ]
        },
        {
          "output_type": "stream",
          "name": "stdout",
          "text": [
            "STARTED trial/Total: 9/20\n",
            "STARTED trial/Total: 2/20\n"
          ]
        },
        {
          "output_type": "stream",
          "name": "stderr",
          "text": [
            "\r 50%|█████     | 10/20 [00:34<00:35,  3.50s/it]"
          ]
        },
        {
          "output_type": "stream",
          "name": "stdout",
          "text": [
            "STARTED trial/Total: 10/20\n"
          ]
        },
        {
          "output_type": "stream",
          "name": "stderr",
          "text": [
            " 15%|█▌        | 3/20 [00:11<01:05,  3.84s/it]"
          ]
        },
        {
          "output_type": "stream",
          "name": "stdout",
          "text": [
            "STARTED trial/Total: 3/20\n",
            "STARTED trial/Total: 10/20\n"
          ]
        },
        {
          "output_type": "stream",
          "name": "stderr",
          "text": [
            "\r 55%|█████▌    | 11/20 [00:37<00:31,  3.47s/it]"
          ]
        },
        {
          "output_type": "stream",
          "name": "stdout",
          "text": [
            "STARTED trial/Total: 11/20\n"
          ]
        },
        {
          "output_type": "stream",
          "name": "stderr",
          "text": [
            " 55%|█████▌    | 11/20 [00:39<00:33,  3.69s/it]"
          ]
        },
        {
          "output_type": "stream",
          "name": "stdout",
          "text": [
            "STARTED trial/Total: 4/20\n"
          ]
        },
        {
          "output_type": "stream",
          "name": "stderr",
          "text": [
            "\r 60%|██████    | 12/20 [00:41<00:28,  3.57s/it]"
          ]
        },
        {
          "output_type": "stream",
          "name": "stdout",
          "text": [
            "STARTED trial/Total: 11/20\n",
            "STARTED trial/Total: 12/20\n"
          ]
        },
        {
          "output_type": "stream",
          "name": "stderr",
          "text": [
            " 65%|██████▌   | 13/20 [00:45<00:27,  3.86s/it]"
          ]
        },
        {
          "output_type": "stream",
          "name": "stdout",
          "text": [
            "STARTED trial/Total: 5/20\n",
            "STARTED trial/Total: 12/20\n",
            "STARTED trial/Total: 13/20\n"
          ]
        },
        {
          "output_type": "stream",
          "name": "stderr",
          "text": [
            " 30%|███       | 6/20 [00:24<00:57,  4.08s/it]"
          ]
        },
        {
          "output_type": "stream",
          "name": "stdout",
          "text": [
            "STARTED trial/Total: 14/20\n",
            "STARTED trial/Total: 13/20\n",
            "STARTED trial/Total: 6/20\n"
          ]
        },
        {
          "output_type": "stream",
          "name": "stderr",
          "text": [
            " 70%|███████   | 14/20 [00:51<00:22,  3.76s/it]"
          ]
        },
        {
          "output_type": "stream",
          "name": "stdout",
          "text": [
            "STARTED trial/Total: 15/20"
          ]
        },
        {
          "output_type": "stream",
          "name": "stderr",
          "text": [
            "\r 35%|███▌      | 7/20 [00:27<00:50,  3.88s/it]"
          ]
        },
        {
          "output_type": "stream",
          "name": "stdout",
          "text": [
            "\n",
            "STARTED trial/Total: 14/20\n",
            "STARTED trial/Total: 7/20\n"
          ]
        },
        {
          "output_type": "stream",
          "name": "stderr",
          "text": [
            " 75%|███████▌  | 15/20 [00:54<00:18,  3.64s/it]"
          ]
        },
        {
          "output_type": "stream",
          "name": "stdout",
          "text": [
            "STARTED trial/Total: 16/20\n"
          ]
        },
        {
          "output_type": "stream",
          "name": "stderr",
          "text": [
            "\r 40%|████      | 8/20 [00:31<00:45,  3.79s/it]"
          ]
        },
        {
          "output_type": "stream",
          "name": "stdout",
          "text": [
            "STARTED trial/Total: 15/20\n",
            "STARTED trial/Total: 8/20\n"
          ]
        },
        {
          "output_type": "stream",
          "name": "stderr",
          "text": [
            " 80%|████████  | 16/20 [00:58<00:15,  3.83s/it]"
          ]
        },
        {
          "output_type": "stream",
          "name": "stdout",
          "text": [
            "STARTED trial/Total: 17/20\n",
            "STARTED trial/Total: 16/20\n"
          ]
        },
        {
          "output_type": "stream",
          "name": "stderr",
          "text": [
            "\r 45%|████▌     | 9/20 [00:36<00:45,  4.09s/it]"
          ]
        },
        {
          "output_type": "stream",
          "name": "stdout",
          "text": [
            "STARTED trial/Total: 9/20\n"
          ]
        },
        {
          "output_type": "stream",
          "name": "stderr",
          "text": [
            " 85%|████████▌ | 17/20 [01:02<00:11,  3.92s/it]"
          ]
        },
        {
          "output_type": "stream",
          "name": "stdout",
          "text": [
            "STARTED trial/Total: 18/20\n",
            "STARTED trial/Total: 17/20\n"
          ]
        },
        {
          "output_type": "stream",
          "name": "stderr",
          "text": [
            "\r 50%|█████     | 10/20 [00:40<00:41,  4.12s/it]"
          ]
        },
        {
          "output_type": "stream",
          "name": "stdout",
          "text": [
            "STARTED trial/Total: 10/20\n"
          ]
        },
        {
          "output_type": "stream",
          "name": "stderr",
          "text": [
            " 95%|█████████▌| 19/20 [01:07<00:03,  3.77s/it]"
          ]
        },
        {
          "output_type": "stream",
          "name": "stdout",
          "text": [
            "STARTED trial/Total: 18/20\n",
            "STARTED trial/Total: 19/20\n"
          ]
        },
        {
          "output_type": "stream",
          "name": "stderr",
          "text": [
            "\r 55%|█████▌    | 11/20 [00:43<00:34,  3.89s/it]"
          ]
        },
        {
          "output_type": "stream",
          "name": "stdout",
          "text": [
            "STARTED trial/Total: 11/20\n"
          ]
        },
        {
          "output_type": "stream",
          "name": "stderr",
          "text": [
            "100%|██████████| 20/20 [01:10<00:00,  3.54s/it]\n",
            " 95%|█████████▌| 19/20 [01:09<00:03,  3.60s/it]"
          ]
        },
        {
          "output_type": "stream",
          "name": "stdout",
          "text": [
            "Process-3 LCA finished bedroom18.jpg 17.0, 17.0, 17.0, 16.0, 17.0, 16.0, 17.0, 16.0, 16.0, 17.0, 17.0, 16.0, 16.0, 17.0, 17.0, 16.0, 17.0, 17.0, 17.0, 16.0\n",
            "aj GOOD stim bedroom18.jpg, participant LMe_1.asc:: SM max 1.0, min: 0.0, mean 0.03346405798205928\n",
            "stim bedroom18.jpg, participant LMe_1.asc, params [1.0000000e-02 2.5600000e-01 8.0000000e-01 2.5000000e-01 9.7000000e-02\n",
            " 1.0000000e-01 3.1000000e-01 4.0000000e+00 1.4045301e+01 2.0000000e-01]:: ks KstestResult(statistic=1.0, pvalue=1.587369265997967e-14, statistic_location=17.0, statistic_sign=-1), 1-aj 0.39524893500000013\n",
            "STARTED trial/Total: 19/20\n",
            "aj GOOD stim bedroom18.jpg, participant LMe_1.asc:: SM max 1.0, min: 0.0, mean 0.03346405798205928\n",
            "Anderson-Darling stat: 3.6254868322567972, critical values: [0.506 0.577 0.692 0.807 0.96 ], significance level: [15.  10.   5.   2.5  1. ]\n",
            "stim bedroom18.jpg, participant LMe_1.asc, params [1.0000000e-02 2.5600000e-01 8.0000000e-01 2.5000000e-01 9.7000000e-02\n",
            " 1.0000000e-01 3.1000000e-01 4.0000000e+00 1.4045301e+01 2.0000000e-01]:: ks KstestResult(statistic=1.0, pvalue=1.587369265997967e-14, statistic_location=17.0, statistic_sign=-1), 1-aj 0.39524893500000013, AD stat 3.6254868322567972\n"
          ]
        },
        {
          "output_type": "stream",
          "name": "stderr",
          "text": [
            "\r 60%|██████    | 12/20 [00:47<00:30,  3.81s/it]"
          ]
        },
        {
          "output_type": "stream",
          "name": "stdout",
          "text": [
            "STARTED trial/Total: 12/20\n"
          ]
        },
        {
          "output_type": "stream",
          "name": "stderr",
          "text": [
            "100%|██████████| 20/20 [01:11<00:00,  3.60s/it]\n"
          ]
        },
        {
          "output_type": "stream",
          "name": "stdout",
          "text": [
            "Process-1 LCA finished office.jpg 16.0, 17.0, 16.0, 16.0, 16.0, 16.0, 17.0, 16.0, 16.0, 17.0, 17.0, 17.0, 17.0, 17.0, 17.0, 16.0, 15.0, 16.0, 16.0, 17.0\n",
            "aj GOOD stim office.jpg, participant LMe_2.asc:: SM max 1.0, min: 0.0, mean 0.02958142376054737\n",
            "stim office.jpg, participant LMe_2.asc, params [1.00000000e-02 2.56000000e-01 5.00000000e-01 3.70000000e-01\n",
            " 9.70000000e-02 6.40000000e-01 3.10000000e-01 1.04300000e+00\n",
            " 1.73117838e+01 4.65000000e-01]:: ks KstestResult(statistic=1.0, pvalue=3.960103619575641e-15, statistic_location=17.0, statistic_sign=-1), 1-aj 0.55811338\n",
            "aj GOOD stim office.jpg, participant LMe_2.asc:: SM max 1.0, min: 0.0, mean 0.02958142376054737\n",
            "Anderson-Darling stat: 2.4590025152807087, critical values: [0.506 0.577 0.692 0.807 0.96 ], significance level: [15.  10.   5.   2.5  1. ]\n",
            "stim office.jpg, participant LMe_2.asc, params [1.00000000e-02 2.56000000e-01 5.00000000e-01 3.70000000e-01\n",
            " 9.70000000e-02 6.40000000e-01 3.10000000e-01 1.04300000e+00\n",
            " 1.73117838e+01 4.65000000e-01]:: ks KstestResult(statistic=1.0, pvalue=3.960103619575641e-15, statistic_location=17.0, statistic_sign=-1), 1-aj 0.55811338, AD stat 2.4590025152807087\n"
          ]
        },
        {
          "output_type": "stream",
          "name": "stderr",
          "text": [
            "\r 65%|██████▌   | 13/20 [00:51<00:26,  3.79s/it]"
          ]
        },
        {
          "output_type": "stream",
          "name": "stdout",
          "text": [
            "STARTED trial/Total: 13/20\n",
            "new thresh 81.0\n"
          ]
        },
        {
          "output_type": "stream",
          "name": "stderr",
          "text": [
            "\r 70%|███████   | 14/20 [00:54<00:22,  3.73s/it]"
          ]
        },
        {
          "output_type": "stream",
          "name": "stdout",
          "text": [
            "STARTED trial/Total: 14/20\n",
            "new thresh 15.43\n"
          ]
        },
        {
          "output_type": "stream",
          "name": "stderr",
          "text": [
            "\r 75%|███████▌  | 15/20 [00:57<00:17,  3.48s/it]"
          ]
        },
        {
          "output_type": "stream",
          "name": "stdout",
          "text": [
            "STARTED trial/Total: 15/20\n",
            "Process-3 LCA started office.jpg 0.01, 0.256, 0.8, 0.25, 0.097, 0.1, 0.31, 4.0, 14.045300964154606, 0.2 81.0\n"
          ]
        },
        {
          "output_type": "stream",
          "name": "stderr",
          "text": [
            "\r  0%|          | 0/20 [00:00<?, ?it/s]"
          ]
        },
        {
          "output_type": "stream",
          "name": "stdout",
          "text": [
            "STARTED trial/Total: 0/20\n"
          ]
        },
        {
          "output_type": "stream",
          "name": "stderr",
          "text": [
            "\r 80%|████████  | 16/20 [01:00<00:13,  3.30s/it]"
          ]
        },
        {
          "output_type": "stream",
          "name": "stdout",
          "text": [
            "STARTED trial/Total: 16/20\n"
          ]
        },
        {
          "output_type": "stream",
          "name": "stderr",
          "text": [
            "\r  5%|▌         | 1/20 [00:03<01:07,  3.55s/it]"
          ]
        },
        {
          "output_type": "stream",
          "name": "stdout",
          "text": [
            "Process-1 LCA started child2.jpg 0.01, 0.256, 0.5, 0.37, 0.097, 0.64, 0.31, 1.043, 17.311783848922545, 0.465 15.43\n"
          ]
        },
        {
          "output_type": "stream",
          "name": "stderr",
          "text": [
            "\r  0%|          | 0/20 [00:00<?, ?it/s]"
          ]
        },
        {
          "output_type": "stream",
          "name": "stdout",
          "text": [
            "STARTED trial/Total: 1/20\n",
            "STARTED trial/Total: 0/20\n"
          ]
        },
        {
          "output_type": "stream",
          "name": "stderr",
          "text": [
            "\r 85%|████████▌ | 17/20 [01:03<00:09,  3.24s/it]"
          ]
        },
        {
          "output_type": "stream",
          "name": "stdout",
          "text": [
            "STARTED trial/Total: 17/20\n"
          ]
        },
        {
          "output_type": "stream",
          "name": "stderr",
          "text": [
            "\r  5%|▌         | 1/20 [00:02<00:51,  2.74s/it]"
          ]
        },
        {
          "output_type": "stream",
          "name": "stdout",
          "text": [
            "STARTED trial/Total: 1/20\n"
          ]
        },
        {
          "output_type": "stream",
          "name": "stderr",
          "text": [
            "\r 10%|█         | 2/20 [00:07<01:12,  4.04s/it]"
          ]
        },
        {
          "output_type": "stream",
          "name": "stdout",
          "text": [
            "STARTED trial/Total: 2/20\n"
          ]
        },
        {
          "output_type": "stream",
          "name": "stderr",
          "text": [
            "\r 90%|█████████ | 18/20 [01:07<00:06,  3.47s/it]"
          ]
        },
        {
          "output_type": "stream",
          "name": "stdout",
          "text": [
            "STARTED trial/Total: 18/20\n"
          ]
        },
        {
          "output_type": "stream",
          "name": "stderr",
          "text": [
            "\r 10%|█         | 2/20 [00:06<00:57,  3.22s/it]"
          ]
        },
        {
          "output_type": "stream",
          "name": "stdout",
          "text": [
            "STARTED trial/Total: 2/20\n"
          ]
        },
        {
          "output_type": "stream",
          "name": "stderr",
          "text": [
            " 15%|█▌        | 3/20 [00:10<01:03,  3.75s/it]"
          ]
        },
        {
          "output_type": "stream",
          "name": "stdout",
          "text": [
            "STARTED trial/Total: 3/20\n",
            "STARTED trial/Total: 19/20\n",
            "STARTED trial/Total: 3/20\n"
          ]
        },
        {
          "output_type": "stream",
          "name": "stderr",
          "text": [
            "\r 20%|██        | 4/20 [00:13<00:55,  3.48s/it]"
          ]
        },
        {
          "output_type": "stream",
          "name": "stdout",
          "text": [
            "STARTED trial/Total: 4/20\n"
          ]
        },
        {
          "output_type": "stream",
          "name": "stderr",
          "text": [
            "100%|██████████| 20/20 [01:16<00:00,  3.84s/it]\n",
            " 20%|██        | 4/20 [00:18<01:16,  4.79s/it]"
          ]
        },
        {
          "output_type": "stream",
          "name": "stdout",
          "text": [
            "Process-2 LCA finished office.jpg 19.0, 19.0, 19.0, 19.0, 19.0, 19.0, 19.0, 19.0, 19.0, 20.0, 19.0, 20.0, 19.0, 19.0, 20.0, 19.0, 18.0, 19.0, 19.0, 19.0\n",
            "STARTED trial/Total: 4/20aj GOOD stim office.jpg, participant LMe_2.asc:: SM max 1.0, min: 0.0, mean 0.0330735528528194\n",
            "\n",
            "stim office.jpg, participant LMe_2.asc, params [1.00000000e-02 2.56000000e-01 9.00000000e-01 2.50000000e-01\n",
            " 9.70000000e-02 1.00000000e-01 3.10000000e-01 2.00000000e+00\n",
            " 2.42587729e+01 4.65000000e-01]:: ks KstestResult(statistic=1.0, pvalue=3.960103619575641e-15, statistic_location=20.0, statistic_sign=-1), 1-aj 0.5033288100000001\n",
            "aj GOOD stim office.jpg, participant LMe_2.asc:: SM max 1.0, min: 0.0, mean 0.0330735528528194\n",
            "Anderson-Darling stat: 4.2191606786228135, critical values: [0.506 0.577 0.692 0.807 0.96 ], significance level: [15.  10.   5.   2.5  1. ]\n",
            "stim office.jpg, participant LMe_2.asc, params [1.00000000e-02 2.56000000e-01 9.00000000e-01 2.50000000e-01\n",
            " 9.70000000e-02 1.00000000e-01 3.10000000e-01 2.00000000e+00\n",
            " 2.42587729e+01 4.65000000e-01]:: ks KstestResult(statistic=1.0, pvalue=3.960103619575641e-15, statistic_location=20.0, statistic_sign=-1), 1-aj 0.5033288100000001, AD stat 4.2191606786228135\n"
          ]
        },
        {
          "output_type": "stream",
          "name": "stderr",
          "text": [
            "\r 25%|██▌       | 5/20 [00:15<00:45,  3.02s/it]"
          ]
        },
        {
          "output_type": "stream",
          "name": "stdout",
          "text": [
            "STARTED trial/Total: 5/20\n"
          ]
        },
        {
          "output_type": "stream",
          "name": "stderr",
          "text": [
            " 30%|███       | 6/20 [00:18<00:40,  2.87s/it]"
          ]
        },
        {
          "output_type": "stream",
          "name": "stdout",
          "text": [
            "STARTED trial/Total: 6/20\n",
            "STARTED trial/Total: 5/20\n"
          ]
        },
        {
          "output_type": "stream",
          "name": "stderr",
          "text": [
            "\r 35%|███▌      | 7/20 [00:20<00:35,  2.71s/it]"
          ]
        },
        {
          "output_type": "stream",
          "name": "stdout",
          "text": [
            "new thresh 25.0\n",
            "STARTED trial/Total: 7/20\n"
          ]
        },
        {
          "output_type": "stream",
          "name": "stderr",
          "text": [
            "\r 30%|███       | 6/20 [00:26<01:01,  4.36s/it]"
          ]
        },
        {
          "output_type": "stream",
          "name": "stdout",
          "text": [
            "STARTED trial/Total: 6/20\n"
          ]
        },
        {
          "output_type": "stream",
          "name": "stderr",
          "text": [
            "\r 40%|████      | 8/20 [00:24<00:35,  2.96s/it]"
          ]
        },
        {
          "output_type": "stream",
          "name": "stdout",
          "text": [
            "STARTED trial/Total: 8/20\n"
          ]
        },
        {
          "output_type": "stream",
          "name": "stderr",
          "text": [
            " 45%|████▌     | 9/20 [00:28<00:35,  3.25s/it]"
          ]
        },
        {
          "output_type": "stream",
          "name": "stdout",
          "text": [
            "STARTED trial/Total: 7/20\n",
            "STARTED trial/Total: 9/20\n",
            "Process-2 LCA started child2.jpg 0.01, 0.256, 0.9, 0.25, 0.097, 0.1, 0.31, 2.0, 24.258772873077632, 0.465 25.0\n"
          ]
        },
        {
          "output_type": "stream",
          "name": "stderr",
          "text": [
            "\r  0%|          | 0/20 [00:00<?, ?it/s]"
          ]
        },
        {
          "output_type": "stream",
          "name": "stdout",
          "text": [
            "STARTED trial/Total: 0/20\n"
          ]
        },
        {
          "output_type": "stream",
          "name": "stderr",
          "text": [
            "\r 50%|█████     | 10/20 [00:30<00:29,  3.00s/it]"
          ]
        },
        {
          "output_type": "stream",
          "name": "stdout",
          "text": [
            "STARTED trial/Total: 10/20\n"
          ]
        },
        {
          "output_type": "stream",
          "name": "stderr",
          "text": [
            "  5%|▌         | 1/20 [00:03<00:59,  3.16s/it]"
          ]
        },
        {
          "output_type": "stream",
          "name": "stdout",
          "text": [
            "STARTED trial/Total: 8/20\n",
            "STARTED trial/Total: 1/20\n"
          ]
        },
        {
          "output_type": "stream",
          "name": "stderr",
          "text": [
            "\r 55%|█████▌    | 11/20 [00:33<00:25,  2.86s/it]"
          ]
        },
        {
          "output_type": "stream",
          "name": "stdout",
          "text": [
            "STARTED trial/Total: 11/20\n"
          ]
        },
        {
          "output_type": "stream",
          "name": "stderr",
          "text": [
            "\r 10%|█         | 2/20 [00:06<00:58,  3.24s/it]"
          ]
        },
        {
          "output_type": "stream",
          "name": "stdout",
          "text": [
            "STARTED trial/Total: 2/20\n"
          ]
        },
        {
          "output_type": "stream",
          "name": "stderr",
          "text": [
            "\r 60%|██████    | 12/20 [00:36<00:23,  2.89s/it]"
          ]
        },
        {
          "output_type": "stream",
          "name": "stdout",
          "text": [
            "STARTED trial/Total: 12/20\n"
          ]
        },
        {
          "output_type": "stream",
          "name": "stderr",
          "text": [
            "\r 45%|████▌     | 9/20 [00:40<00:49,  4.47s/it]"
          ]
        },
        {
          "output_type": "stream",
          "name": "stdout",
          "text": [
            "STARTED trial/Total: 9/20\n"
          ]
        },
        {
          "output_type": "stream",
          "name": "stderr",
          "text": [
            " 15%|█▌        | 3/20 [00:09<00:57,  3.37s/it]"
          ]
        },
        {
          "output_type": "stream",
          "name": "stdout",
          "text": [
            "STARTED trial/Total: 13/20\n",
            "STARTED trial/Total: 3/20\n"
          ]
        },
        {
          "output_type": "stream",
          "name": "stderr",
          "text": [
            "\r 50%|█████     | 10/20 [00:44<00:44,  4.40s/it]"
          ]
        },
        {
          "output_type": "stream",
          "name": "stdout",
          "text": [
            "STARTED trial/Total: 10/20\n"
          ]
        },
        {
          "output_type": "stream",
          "name": "stderr",
          "text": [
            " 20%|██        | 4/20 [00:14<00:59,  3.70s/it]"
          ]
        },
        {
          "output_type": "stream",
          "name": "stdout",
          "text": [
            "STARTED trial/Total: 14/20\n",
            "STARTED trial/Total: 4/20\n"
          ]
        },
        {
          "output_type": "stream",
          "name": "stderr",
          "text": [
            " 75%|███████▌  | 15/20 [00:46<00:16,  3.36s/it]"
          ]
        },
        {
          "output_type": "stream",
          "name": "stdout",
          "text": [
            "STARTED trial/Total: 11/20\n",
            "STARTED trial/Total: 15/20\n"
          ]
        },
        {
          "output_type": "stream",
          "name": "stderr",
          "text": [
            "\r 25%|██▌       | 5/20 [00:18<00:56,  3.76s/it]"
          ]
        },
        {
          "output_type": "stream",
          "name": "stdout",
          "text": [
            "STARTED trial/Total: 5/20\n"
          ]
        },
        {
          "output_type": "stream",
          "name": "stderr",
          "text": [
            "\r 80%|████████  | 16/20 [00:49<00:12,  3.22s/it]"
          ]
        },
        {
          "output_type": "stream",
          "name": "stdout",
          "text": [
            "STARTED trial/Total: 16/20\n"
          ]
        },
        {
          "output_type": "stream",
          "name": "stderr",
          "text": [
            " 30%|███       | 6/20 [00:21<00:50,  3.58s/it]"
          ]
        },
        {
          "output_type": "stream",
          "name": "stdout",
          "text": [
            "STARTED trial/Total: 12/20\n",
            "STARTED trial/Total: 6/20\n"
          ]
        },
        {
          "output_type": "stream",
          "name": "stderr",
          "text": [
            "\r 85%|████████▌ | 17/20 [00:51<00:08,  2.89s/it]"
          ]
        },
        {
          "output_type": "stream",
          "name": "stdout",
          "text": [
            "STARTED trial/Total: 17/20\n"
          ]
        },
        {
          "output_type": "stream",
          "name": "stderr",
          "text": [
            "\r 35%|███▌      | 7/20 [00:24<00:43,  3.31s/it]"
          ]
        },
        {
          "output_type": "stream",
          "name": "stdout",
          "text": [
            "STARTED trial/Total: 7/20\n"
          ]
        },
        {
          "output_type": "stream",
          "name": "stderr",
          "text": [
            " 90%|█████████ | 18/20 [00:54<00:05,  2.93s/it]"
          ]
        },
        {
          "output_type": "stream",
          "name": "stdout",
          "text": [
            "STARTED trial/Total: 13/20\n",
            "STARTED trial/Total: 18/20\n"
          ]
        },
        {
          "output_type": "stream",
          "name": "stderr",
          "text": [
            "\r 40%|████      | 8/20 [00:26<00:36,  3.07s/it]"
          ]
        },
        {
          "output_type": "stream",
          "name": "stdout",
          "text": [
            "STARTED trial/Total: 8/20\n"
          ]
        },
        {
          "output_type": "stream",
          "name": "stderr",
          "text": [
            "\r 95%|█████████▌| 19/20 [00:57<00:02,  3.00s/it]"
          ]
        },
        {
          "output_type": "stream",
          "name": "stdout",
          "text": [
            "STARTED trial/Total: 19/20\n"
          ]
        },
        {
          "output_type": "stream",
          "name": "stderr",
          "text": [
            "\r 70%|███████   | 14/20 [01:03<00:27,  4.52s/it]"
          ]
        },
        {
          "output_type": "stream",
          "name": "stdout",
          "text": [
            "STARTED trial/Total: 14/20\n"
          ]
        },
        {
          "output_type": "stream",
          "name": "stderr",
          "text": [
            "\r 45%|████▌     | 9/20 [00:30<00:37,  3.41s/it]"
          ]
        },
        {
          "output_type": "stream",
          "name": "stdout",
          "text": [
            "STARTED trial/Total: 9/20\n"
          ]
        },
        {
          "output_type": "stream",
          "name": "stderr",
          "text": [
            "100%|██████████| 20/20 [01:01<00:00,  3.09s/it]\n"
          ]
        },
        {
          "output_type": "stream",
          "name": "stdout",
          "text": [
            "Process-1 LCA finished child2.jpg 12.0, 12.0, 12.0, 12.0, 12.0, 12.0, 13.0, 12.0, 13.0, 12.0, 12.0, 12.0, 12.0, 12.0, 12.0, 12.0, 11.0, 12.0, 12.0, 12.0\n",
            "aj GOOD stim child2.jpg, participant LMe_2.asc:: SM max 1.0, min: 0.0, mean 0.027125344621808545\n",
            "stim child2.jpg, participant LMe_2.asc, params [1.00000000e-02 2.56000000e-01 5.00000000e-01 3.70000000e-01\n",
            " 9.70000000e-02 6.40000000e-01 3.10000000e-01 1.04300000e+00\n",
            " 1.73117838e+01 4.65000000e-01]:: ks KstestResult(statistic=1.0, pvalue=6.223019973618864e-15, statistic_location=13.0, statistic_sign=-1), 1-aj 0.4408666950000001\n",
            "aj GOOD stim child2.jpg, participant LMe_2.asc:: SM max 1.0, min: 0.0, mean 0.027125344621808545\n",
            "Anderson-Darling stat: 4.851592931410831, critical values: [0.506 0.577 0.692 0.807 0.96 ], significance level: [15.  10.   5.   2.5  1. ]\n",
            "stim child2.jpg, participant LMe_2.asc, params [1.00000000e-02 2.56000000e-01 5.00000000e-01 3.70000000e-01\n",
            " 9.70000000e-02 6.40000000e-01 3.10000000e-01 1.04300000e+00\n",
            " 1.73117838e+01 4.65000000e-01]:: ks KstestResult(statistic=1.0, pvalue=6.223019973618864e-15, statistic_location=13.0, statistic_sign=-1), 1-aj 0.4408666950000001, AD stat 4.851592931410831\n"
          ]
        },
        {
          "output_type": "stream",
          "name": "stderr",
          "text": [
            "\r 50%|█████     | 10/20 [00:34<00:35,  3.58s/it]"
          ]
        },
        {
          "output_type": "stream",
          "name": "stdout",
          "text": [
            "STARTED trial/Total: 10/20\n"
          ]
        },
        {
          "output_type": "stream",
          "name": "stderr",
          "text": [
            "\r 75%|███████▌  | 15/20 [01:08<00:23,  4.74s/it]"
          ]
        },
        {
          "output_type": "stream",
          "name": "stdout",
          "text": [
            "STARTED trial/Total: 15/20\n"
          ]
        },
        {
          "output_type": "stream",
          "name": "stderr",
          "text": [
            "\r 55%|█████▌    | 11/20 [00:37<00:28,  3.22s/it]"
          ]
        },
        {
          "output_type": "stream",
          "name": "stdout",
          "text": [
            "STARTED trial/Total: 11/20\n"
          ]
        },
        {
          "output_type": "stream",
          "name": "stderr",
          "text": [
            "\r 80%|████████  | 16/20 [01:11<00:17,  4.34s/it]"
          ]
        },
        {
          "output_type": "stream",
          "name": "stdout",
          "text": [
            "STARTED trial/Total: 16/20\n"
          ]
        },
        {
          "output_type": "stream",
          "name": "stderr",
          "text": [
            "\r 60%|██████    | 12/20 [00:39<00:23,  3.00s/it]"
          ]
        },
        {
          "output_type": "stream",
          "name": "stdout",
          "text": [
            "Process-1 FINISHED params_set 0\n",
            "STARTED trial/Total: 12/20\n"
          ]
        },
        {
          "output_type": "stream",
          "name": "stderr",
          "text": [
            " 65%|██████▌   | 13/20 [00:41<00:19,  2.81s/it]"
          ]
        },
        {
          "output_type": "stream",
          "name": "stdout",
          "text": [
            "STARTED trial/Total: 17/20\n",
            "STARTED trial/Total: 13/20\n"
          ]
        },
        {
          "output_type": "stream",
          "name": "stderr",
          "text": [
            "\r 70%|███████   | 14/20 [00:44<00:15,  2.58s/it]"
          ]
        },
        {
          "output_type": "stream",
          "name": "stdout",
          "text": [
            "STARTED trial/Total: 14/20\n"
          ]
        },
        {
          "output_type": "stream",
          "name": "stderr",
          "text": [
            "\r 90%|█████████ | 18/20 [01:17<00:07,  3.68s/it]"
          ]
        },
        {
          "output_type": "stream",
          "name": "stdout",
          "text": [
            "STARTED trial/Total: 18/20\n"
          ]
        },
        {
          "output_type": "stream",
          "name": "stderr",
          "text": [
            "\r 75%|███████▌  | 15/20 [00:46<00:12,  2.59s/it]"
          ]
        },
        {
          "output_type": "stream",
          "name": "stdout",
          "text": [
            "STARTED trial/Total: 15/20\n"
          ]
        },
        {
          "output_type": "stream",
          "name": "stderr",
          "text": [
            "\r 95%|█████████▌| 19/20 [01:21<00:03,  3.73s/it]"
          ]
        },
        {
          "output_type": "stream",
          "name": "stdout",
          "text": [
            "STARTED trial/Total: 19/20\n"
          ]
        },
        {
          "output_type": "stream",
          "name": "stderr",
          "text": [
            "\r 80%|████████  | 16/20 [00:49<00:10,  2.72s/it]"
          ]
        },
        {
          "output_type": "stream",
          "name": "stdout",
          "text": [
            "STARTED trial/Total: 16/20\n"
          ]
        },
        {
          "output_type": "stream",
          "name": "stderr",
          "text": [
            "\r 85%|████████▌ | 17/20 [00:52<00:08,  2.71s/it]"
          ]
        },
        {
          "output_type": "stream",
          "name": "stdout",
          "text": [
            "STARTED trial/Total: 17/20"
          ]
        },
        {
          "output_type": "stream",
          "name": "stderr",
          "text": [
            "100%|██████████| 20/20 [01:25<00:00,  4.29s/it]\n"
          ]
        },
        {
          "output_type": "stream",
          "name": "stdout",
          "text": [
            "\n",
            "Process-3 LCA finished office.jpg 25.0, 26.0, 26.0, 25.0, 25.0, 26.0, 26.0, 25.0, 26.0, 26.0, 26.0, 26.0, 26.0, 26.0, 26.0, 25.0, 25.0, 26.0, 26.0, 26.0\n",
            "aj GOOD stim office.jpg, participant LMe_2.asc:: SM max 1.0, min: 0.0, mean 0.03333383268298939\n",
            "stim office.jpg, participant LMe_2.asc, params [1.0000000e-02 2.5600000e-01 8.0000000e-01 2.5000000e-01 9.7000000e-02\n",
            " 1.0000000e-01 3.1000000e-01 4.0000000e+00 1.4045301e+01 2.0000000e-01]:: ks KstestResult(statistic=1.0, pvalue=3.960103619575641e-15, statistic_location=26.0, statistic_sign=-1), 1-aj 0.57699241\n",
            "aj GOOD stim office.jpg, participant LMe_2.asc:: SM max 1.0, min: 0.0, mean 0.03333383268298939\n",
            "Anderson-Darling stat: 4.212345414192335, critical values: [0.506 0.577 0.692 0.807 0.96 ], significance level: [15.  10.   5.   2.5  1. ]\n",
            "stim office.jpg, participant LMe_2.asc, params [1.0000000e-02 2.5600000e-01 8.0000000e-01 2.5000000e-01 9.7000000e-02\n",
            " 1.0000000e-01 3.1000000e-01 4.0000000e+00 1.4045301e+01 2.0000000e-01]:: ks KstestResult(statistic=1.0, pvalue=3.960103619575641e-15, statistic_location=26.0, statistic_sign=-1), 1-aj 0.57699241, AD stat 4.212345414192335\n"
          ]
        },
        {
          "output_type": "stream",
          "name": "stderr",
          "text": [
            "\r 90%|█████████ | 18/20 [00:54<00:04,  2.44s/it]"
          ]
        },
        {
          "output_type": "stream",
          "name": "stdout",
          "text": [
            "STARTED trial/Total: 18/20\n"
          ]
        },
        {
          "output_type": "stream",
          "name": "stderr",
          "text": [
            "\r 95%|█████████▌| 19/20 [00:55<00:02,  2.17s/it]"
          ]
        },
        {
          "output_type": "stream",
          "name": "stdout",
          "text": [
            "STARTED trial/Total: 19/20\n",
            "new thresh 45.0\n"
          ]
        },
        {
          "output_type": "stream",
          "name": "stderr",
          "text": [
            "100%|██████████| 20/20 [00:57<00:00,  2.87s/it]\n"
          ]
        },
        {
          "output_type": "stream",
          "name": "stdout",
          "text": [
            "Process-2 LCA finished child2.jpg 14.0, 14.0, 14.0, 14.0, 14.0, 14.0, 14.0, 14.0, 14.0, 14.0, 14.0, 14.0, 14.0, 14.0, 14.0, 14.0, 13.0, 14.0, 14.0, 14.0\n",
            "aj GOOD stim child2.jpg, participant LMe_2.asc:: SM max 1.0, min: 0.0, mean 0.030555385508542646\n",
            "stim child2.jpg, participant LMe_2.asc, params [1.00000000e-02 2.56000000e-01 9.00000000e-01 2.50000000e-01\n",
            " 9.70000000e-02 1.00000000e-01 3.10000000e-01 2.00000000e+00\n",
            " 2.42587729e+01 4.65000000e-01]:: ks KstestResult(statistic=1.0, pvalue=6.223019973618864e-15, statistic_location=14.0, statistic_sign=-1), 1-aj 0.41652327499999997\n",
            "aj GOOD stim child2.jpg, participant LMe_2.asc:: SM max 1.0, min: 0.0, mean 0.030555385508542646\n",
            "Anderson-Darling stat: 7.1761858276193635, critical values: [0.506 0.577 0.692 0.807 0.96 ], significance level: [15.  10.   5.   2.5  1. ]\n",
            "stim child2.jpg, participant LMe_2.asc, params [1.00000000e-02 2.56000000e-01 9.00000000e-01 2.50000000e-01\n",
            " 9.70000000e-02 1.00000000e-01 3.10000000e-01 2.00000000e+00\n",
            " 2.42587729e+01 4.65000000e-01]:: ks KstestResult(statistic=1.0, pvalue=6.223019973618864e-15, statistic_location=14.0, statistic_sign=-1), 1-aj 0.41652327499999997, AD stat 7.1761858276193635\n",
            "Process-3 LCA started child2.jpg 0.01, 0.256, 0.8, 0.25, 0.097, 0.1, 0.31, 4.0, 14.045300964154606, 0.2 45.0\n"
          ]
        },
        {
          "output_type": "stream",
          "name": "stderr",
          "text": [
            "\r  0%|          | 0/20 [00:00<?, ?it/s]"
          ]
        },
        {
          "output_type": "stream",
          "name": "stdout",
          "text": [
            "STARTED trial/Total: 0/20\n"
          ]
        },
        {
          "output_type": "stream",
          "name": "stderr",
          "text": [
            "\r  5%|▌         | 1/20 [00:01<00:35,  1.87s/it]"
          ]
        },
        {
          "output_type": "stream",
          "name": "stdout",
          "text": [
            "Process-2 FINISHED params_set 1\n",
            "STARTED trial/Total: 1/20\n"
          ]
        },
        {
          "output_type": "stream",
          "name": "stderr",
          "text": [
            "\r 10%|█         | 2/20 [00:03<00:32,  1.78s/it]"
          ]
        },
        {
          "output_type": "stream",
          "name": "stdout",
          "text": [
            "STARTED trial/Total: 2/20\n"
          ]
        },
        {
          "output_type": "stream",
          "name": "stderr",
          "text": [
            "\r 15%|█▌        | 3/20 [00:05<00:30,  1.78s/it]"
          ]
        },
        {
          "output_type": "stream",
          "name": "stdout",
          "text": [
            "STARTED trial/Total: 3/20\n"
          ]
        },
        {
          "output_type": "stream",
          "name": "stderr",
          "text": [
            "\r 20%|██        | 4/20 [00:07<00:29,  1.83s/it]"
          ]
        },
        {
          "output_type": "stream",
          "name": "stdout",
          "text": [
            "STARTED trial/Total: 4/20\n"
          ]
        },
        {
          "output_type": "stream",
          "name": "stderr",
          "text": [
            "\r 25%|██▌       | 5/20 [00:09<00:27,  1.82s/it]"
          ]
        },
        {
          "output_type": "stream",
          "name": "stdout",
          "text": [
            "STARTED trial/Total: 5/20\n"
          ]
        },
        {
          "output_type": "stream",
          "name": "stderr",
          "text": [
            "\r 30%|███       | 6/20 [00:10<00:23,  1.70s/it]"
          ]
        },
        {
          "output_type": "stream",
          "name": "stdout",
          "text": [
            "STARTED trial/Total: 6/20\n"
          ]
        },
        {
          "output_type": "stream",
          "name": "stderr",
          "text": [
            "\r 35%|███▌      | 7/20 [00:11<00:20,  1.57s/it]"
          ]
        },
        {
          "output_type": "stream",
          "name": "stdout",
          "text": [
            "STARTED trial/Total: 7/20\n"
          ]
        },
        {
          "output_type": "stream",
          "name": "stderr",
          "text": [
            "\r 40%|████      | 8/20 [00:13<00:17,  1.49s/it]"
          ]
        },
        {
          "output_type": "stream",
          "name": "stdout",
          "text": [
            "STARTED trial/Total: 8/20\n"
          ]
        },
        {
          "output_type": "stream",
          "name": "stderr",
          "text": [
            "\r 45%|████▌     | 9/20 [00:14<00:15,  1.43s/it]"
          ]
        },
        {
          "output_type": "stream",
          "name": "stdout",
          "text": [
            "STARTED trial/Total: 9/20\n"
          ]
        },
        {
          "output_type": "stream",
          "name": "stderr",
          "text": [
            "\r 50%|█████     | 10/20 [00:15<00:13,  1.38s/it]"
          ]
        },
        {
          "output_type": "stream",
          "name": "stdout",
          "text": [
            "STARTED trial/Total: 10/20\n"
          ]
        },
        {
          "output_type": "stream",
          "name": "stderr",
          "text": [
            "\r 55%|█████▌    | 11/20 [00:16<00:12,  1.34s/it]"
          ]
        },
        {
          "output_type": "stream",
          "name": "stdout",
          "text": [
            "STARTED trial/Total: 11/20\n"
          ]
        },
        {
          "output_type": "stream",
          "name": "stderr",
          "text": [
            "\r 60%|██████    | 12/20 [00:18<00:10,  1.34s/it]"
          ]
        },
        {
          "output_type": "stream",
          "name": "stdout",
          "text": [
            "STARTED trial/Total: 12/20\n"
          ]
        },
        {
          "output_type": "stream",
          "name": "stderr",
          "text": [
            "\r 65%|██████▌   | 13/20 [00:19<00:09,  1.36s/it]"
          ]
        },
        {
          "output_type": "stream",
          "name": "stdout",
          "text": [
            "STARTED trial/Total: 13/20\n"
          ]
        },
        {
          "output_type": "stream",
          "name": "stderr",
          "text": [
            "\r 70%|███████   | 14/20 [00:21<00:08,  1.45s/it]"
          ]
        },
        {
          "output_type": "stream",
          "name": "stdout",
          "text": [
            "STARTED trial/Total: 14/20\n"
          ]
        },
        {
          "output_type": "stream",
          "name": "stderr",
          "text": [
            "\r 75%|███████▌  | 15/20 [00:23<00:07,  1.55s/it]"
          ]
        },
        {
          "output_type": "stream",
          "name": "stdout",
          "text": [
            "STARTED trial/Total: 15/20\n"
          ]
        },
        {
          "output_type": "stream",
          "name": "stderr",
          "text": [
            "\r 80%|████████  | 16/20 [00:25<00:07,  1.83s/it]"
          ]
        },
        {
          "output_type": "stream",
          "name": "stdout",
          "text": [
            "STARTED trial/Total: 16/20\n"
          ]
        },
        {
          "output_type": "stream",
          "name": "stderr",
          "text": [
            "\r 85%|████████▌ | 17/20 [00:27<00:05,  1.95s/it]"
          ]
        },
        {
          "output_type": "stream",
          "name": "stdout",
          "text": [
            "STARTED trial/Total: 17/20\n"
          ]
        },
        {
          "output_type": "stream",
          "name": "stderr",
          "text": [
            "\r 90%|█████████ | 18/20 [00:29<00:03,  1.89s/it]"
          ]
        },
        {
          "output_type": "stream",
          "name": "stdout",
          "text": [
            "STARTED trial/Total: 18/20\n"
          ]
        },
        {
          "output_type": "stream",
          "name": "stderr",
          "text": [
            "\r 95%|█████████▌| 19/20 [00:31<00:01,  1.78s/it]"
          ]
        },
        {
          "output_type": "stream",
          "name": "stdout",
          "text": [
            "STARTED trial/Total: 19/20\n"
          ]
        },
        {
          "output_type": "stream",
          "name": "stderr",
          "text": [
            "100%|██████████| 20/20 [00:32<00:00,  1.62s/it]\n"
          ]
        },
        {
          "output_type": "stream",
          "name": "stdout",
          "text": [
            "Process-3 LCA finished child2.jpg 19.0, 18.0, 18.0, 18.0, 18.0, 19.0, 18.0, 18.0, 18.0, 18.0, 17.0, 19.0, 18.0, 18.0, 18.0, 18.0, 17.0, 18.0, 19.0, 18.0\n",
            "aj GOOD stim child2.jpg, participant LMe_2.asc:: SM max 1.0, min: 0.0, mean 0.02643478466789675\n",
            "stim child2.jpg, participant LMe_2.asc, params [1.0000000e-02 2.5600000e-01 8.0000000e-01 2.5000000e-01 9.7000000e-02\n",
            " 1.0000000e-01 3.1000000e-01 4.0000000e+00 1.4045301e+01 2.0000000e-01]:: ks KstestResult(statistic=1.0, pvalue=6.223019973618864e-15, statistic_location=19.0, statistic_sign=-1), 1-aj 0.455676065\n",
            "aj GOOD stim child2.jpg, participant LMe_2.asc:: SM max 1.0, min: 0.0, mean 0.02643478466789675\n",
            "Anderson-Darling stat: 2.889037063269811, critical values: [0.506 0.577 0.692 0.807 0.96 ], significance level: [15.  10.   5.   2.5  1. ]\n",
            "stim child2.jpg, participant LMe_2.asc, params [1.0000000e-02 2.5600000e-01 8.0000000e-01 2.5000000e-01 9.7000000e-02\n",
            " 1.0000000e-01 3.1000000e-01 4.0000000e+00 1.4045301e+01 2.0000000e-01]:: ks KstestResult(statistic=1.0, pvalue=6.223019973618864e-15, statistic_location=19.0, statistic_sign=-1), 1-aj 0.455676065, AD stat 2.889037063269811\n",
            "Process-3 FINISHED params_set 2\n",
            "fits 3 [[1.         0.50617087]\n",
            " [1.         0.5004706 ]\n",
            " [1.         0.504918  ]]\n",
            "started computing pareto\n",
            "best_pareto 1 0 2\n",
            "BEST RES: [{'params': array([1.00000000e-02, 2.56000000e-01, 9.00000000e-01, 2.50000000e-01,\n",
            "        9.70000000e-02, 1.00000000e-01, 3.10000000e-01, 2.00000000e+00,\n",
            "        2.42587729e+01, 4.65000000e-01]), 'fitness': (1.0, 0.5004706021428572)}\n",
            " {'params': array([1.00000000e-02, 2.56000000e-01, 5.00000000e-01, 3.70000000e-01,\n",
            "        9.70000000e-02, 6.40000000e-01, 3.10000000e-01, 1.04300000e+00,\n",
            "        1.73117838e+01, 4.65000000e-01]), 'fitness': (1.0, 0.5061708728571429)}\n",
            " {'params': array([1.0000000e-02, 2.5600000e-01, 8.0000000e-01, 2.5000000e-01,\n",
            "        9.7000000e-02, 1.0000000e-01, 3.1000000e-01, 4.0000000e+00,\n",
            "        1.4045301e+01, 2.0000000e-01]), 'fitness': (1.0, 0.5049180021428572)} ]\n",
            "gens_best shape, (3, 10)\n",
            "MUTATION\n",
            "param_num: 2\n",
            "length of self.params_diap: 8\n",
            "param_num: 6\n",
            "length of self.params_diap: 8\n",
            "param_num: 1\n",
            "length of self.params_diap: 8\n",
            "mutated shape, (3, 10)\n",
            "CROSSOVER\n",
            "crossover shape, (3, 10)\n",
            "RANDOM\n",
            "random shape, (0, 10)\n",
            "all shape, (9, 10)\n",
            "Shape of params[1]: (3, 10)\n",
            "Shape of next_gen result: (9, 10)\n"
          ]
        }
      ]
    },
    {
      "cell_type": "code",
      "source": [
        "run_command = f\"measure.py\"\n",
        "%run {run_command}"
      ],
      "metadata": {
        "id": "g_LdFUg3EQMv"
      },
      "execution_count": 20,
      "outputs": []
    },
    {
      "cell_type": "code",
      "source": [
        "import json\n",
        "import math\n",
        "\n",
        "\n",
        "def calculate_reaction_time(coordinates):\n",
        "    reaction_times = []\n",
        "\n",
        "    for key, points in coordinates.items():\n",
        "        # Ensure that there are at least four points to calculate reaction time\n",
        "        if len(points) > 4:\n",
        "            print(f\"Skipping {key} due to insufficient points.\")\n",
        "            continue\n",
        "\n",
        "        for i in range(2, len(points), 2):\n",
        "            delta_x = points[i] - points[i - 2]\n",
        "            delta_y = points[i + 1] - points[i - 1]\n",
        "            distance = math.sqrt(delta_x**2 + delta_y**2)\n",
        "            reaction_time = 0.5 * distance\n",
        "            reaction_times.append((key, reaction_time))\n",
        "\n",
        "    return reaction_times\n",
        "\n",
        "with open('/content/drive/MyDrive/slca-main-pavan/data/all_rts.json', 'r') as file:\n",
        "     coordinates = json.load(file)\n",
        "\n",
        "print(coordinates)\n",
        "reaction_times = calculate_reaction_time(coordinates)\n",
        "\n",
        "# Print or use reaction_times as needed\n",
        "for key, reaction_time in reaction_times:\n",
        "   print(f\"Image: {key}, Reaction Time: {reaction_time:.2f} units\")"
      ],
      "metadata": {
        "id": "jmMrYUAOegkI",
        "colab": {
          "base_uri": "https://localhost:8080/"
        },
        "outputId": "f3014345-ba6d-4400-de05-3f97d64c5fd1"
      },
      "execution_count": 21,
      "outputs": [
        {
          "output_type": "stream",
          "name": "stdout",
          "text": [
            "{'kitchen265.jpg': {'LMe_1.asc': [127.0, 172.0, 230.0, 199.0, 349.0, 396.0, 144.0, 243.0, 252.0, 149.0, 324.0, 223.0, 465.0, 116.0, 247.0, 110.0, 163.0, 216.0, 272.0, 104.0, 249.0, 263.0, 244.0, 276.0, 185.0, 402.0, 188.0, 236.0, 332.0, 205.0, 313.0, 155.0, 428.0, 120.0, 252.0, 116.0], 'LMe_37.asc': [394.0, 279.0, 250.0, 217.0, 259.0, 179.0, 437.0, 337.0, 215.0, 141.0, 262.0, 135.0, 267.0, 444.0, 200.0, 302.0, 303.0, 249.0, 378.0, 279.0, 436.0, 315.0, 199.0, 176.0, 264.0, 153.0, 560.0, 441.0, 215.0, 120.0, 459.0], 'LMe_4.asc': [123.0, 159.0, 180.0, 174.0, 194.0, 198.0, 147.0, 243.0, 247.0, 222.0, 881.0, 180.0, 590.0, 264.0, 243.0, 360.0, 149.0, 156.0, 129.0, 285.0, 325.0, 372.0, 374.0, 272.0, 532.0, 205.0, 246.0, 148.0, 773.0, 188.0, 169.0], 'LMe_40.asc': [238.0, 187.0, 431.0, 217.0, 224.0, 223.0, 278.0, 241.0, 134.0, 305.0, 254.0, 322.0, 432.0, 341.0, 317.0, 297.0, 346.0, 288.0, 394.0, 329.0, 75.0, 230.0, 392.0, 254.0, 108.0, 248.0, 252.0, 231.0, 200.0, 134.0, 363.0, 225.0, 306.0, 69.0], 'LMe_41.asc': [154.0, 194.0, 543.0, 390.0, 329.0, 367.0, 838.0, 128.0, 224.0, 216.0, 156.0, 131.0, 352.0, 179.0, 279.0, 303.0, 298.0, 208.0, 273.0, 348.0, 181.0, 249.0, 166.0, 292.0, 256.0, 306.0, 144.0, 147.0, 242.0, 144.0, 349.0, 273.0, 75.0], 'LMe_5.asc': [111.0, 179.0, 212.0, 286.0, 107.0, 164.0, 136.0, 419.0, 202.0, 237.0, 260.0, 155.0, 393.0, 201.0, 59.0, 210.0, 211.0, 299.0, 538.0, 434.0, 180.0, 150.0, 562.0, 126.0, 150.0, 163.0, 122.0, 214.0, 144.0, 105.0, 179.0, 147.0, 137.0, 155.0, 146.0, 297.0, 181.0, 182.0, 182.0, 182.0, 108.0]}, 'kitchen174.jpg': {'LMe_1.asc': [655.0, 289.0, 258.0, 188.0, 706.0, 474.0, 672.0, 299.0, 150.0, 383.0, 186.0, 152.0, 212.0, 223.0, 136.0, 301.0, 191.0, 195.0, 82.0, 331.0, 280.0, 422.0, 173.0, 132.0, 262.0, 275.0, 135.0, 515.0, 135.0, 250.0, 174.0, 132.0], 'LMe_37.asc': [209.0, 257.0, 242.0, 105.0, 157.0, 136.0, 42.0, 374.0, 819.0, 270.0, 370.0, 92.0, 225.0, 444.0, 300.0, 356.0, 220.0, 137.0, 360.0, 272.0, 336.0, 279.0, 128.0, 329.0, 507.0, 182.0, 211.0, 402.0, 188.0, 109.0, 271.0, 225.0, 214.0, 61.0], 'LMe_4.asc': [136.0, 209.0, 145.0, 119.0, 350.0, 476.0, 565.0, 111.0, 245.0, 408.0, 216.0, 154.0, 147.0, 152.0, 287.0, 230.0, 178.0, 467.0, 226.0, 371.0, 622.0, 598.0, 311.0, 130.0, 415.0, 319.0, 142.0, 594.0, 414.0, 271.0, 30.0], 'LMe_40.asc': [165.0, 453.0, 303.0, 388.0, 334.0, 252.0, 195.0, 557.0, 206.0, 198.0, 116.0, 189.0, 291.0, 169.0, 222.0, 145.0, 323.0, 232.0, 220.0, 311.0, 525.0, 269.0, 230.0, 314.0, 199.0, 347.0, 88.0, 144.0, 214.0, 193.0, 825.0], 'LMe_41.asc': [40.0, 164.0, 254.0, 315.0, 213.0, 352.0, 177.0, 193.0, 277.0, 312.0, 364.0, 192.0, 377.0, 384.0, 152.0, 282.0, 244.0, 144.0, 265.0, 192.0, 205.0, 454.0, 364.0, 291.0, 159.0, 150.0, 259.0, 320.0, 193.0, 161.0, 164.0, 193.0, 171.0, 382.0, 71.0], 'LMe_5.asc': [29.0, 49.0, 128.0, 182.0, 335.0, 142.0, 146.0, 192.0, 49.0, 163.0, 229.0, 552.0, 302.0, 378.0, 425.0, 374.0, 198.0, 147.0, 272.0, 453.0, 229.0, 188.0, 247.0, 211.0, 144.0, 76.0, 206.0, 116.0, 242.0, 136.0, 210.0, 174.0, 278.0, 496.0, 269.0, 144.0, 227.0, 199.0]}, 'kitchen014.jpg': {'LMe_1.asc': [114.0, 163.0, 81.0, 281.0, 259.0, 155.0, 145.0, 167.0, 157.0, 158.0, 204.0, 101.0, 199.0, 189.0, 45.0, 272.0, 306.0, 187.0, 148.0, 174.0, 102.0, 164.0, 151.0, 201.0, 216.0, 165.0, 107.0, 314.0, 236.0, 231.0, 155.0, 220.0, 188.0, 273.0, 168.0, 282.0, 187.0, 352.0, 340.0, 206.0, 295.0, 408.0], 'LMe_37.asc': [197.0, 289.0, 158.0, 213.0, 219.0, 278.0, 115.0, 182.0, 170.0, 140.0, 206.0, 166.0, 162.0, 232.0, 234.0, 246.0, 323.0, 137.0, 187.0, 84.0, 214.0, 163.0, 195.0, 152.0, 271.0, 291.0, 77.0, 277.0, 201.0, 129.0, 249.0, 202.0, 270.0, 359.0, 234.0, 273.0, 161.0, 319.0, 148.0, 233.0, 225.0], 'LMe_4.asc': [142.0, 224.0, 255.0, 187.0, 169.0, 205.0, 309.0, 150.0, 167.0, 196.0, 122.0, 209.0, 214.0, 291.0, 54.0, 172.0, 201.0, 205.0, 296.0, 140.0, 228.0, 288.0, 166.0, 102.0, 127.0, 172.0, 240.0, 116.0, 199.0, 179.0, 219.0, 143.0, 283.0, 499.0, 314.0, 558.0, 526.0, 58.0], 'LMe_40.asc': [128.0, 191.0, 201.0, 255.0, 104.0, 325.0, 265.0, 200.0, 148.0, 290.0, 188.0, 338.0, 238.0, 334.0, 137.0, 362.0, 183.0, 348.0, 211.0, 339.0, 148.0, 211.0, 297.0, 190.0, 141.0, 623.0, 319.0, 214.0, 266.0, 210.0, 218.0, 260.0, 192.0, 148.0], 'LMe_41.asc': [123.0, 258.0, 153.0, 306.0, 158.0, 221.0, 156.0, 119.0, 227.0, 224.0, 316.0, 273.0, 343.0, 29.0, 172.0, 266.0, 135.0, 216.0, 122.0, 139.0, 271.0, 183.0, 318.0, 175.0, 167.0, 244.0, 303.0, 209.0, 152.0, 243.0, 225.0, 154.0, 101.0, 175.0, 280.0, 363.0, 180.0], 'LMe_5.asc': [154.0, 281.0, 159.0, 220.0, 186.0, 160.0, 148.0, 246.0, 320.0, 168.0, 359.0, 310.0, 172.0, 103.0, 84.0, 177.0, 169.0, 267.0, 312.0, 198.0, 340.0, 215.0, 130.0, 98.0, 339.0, 134.0, 252.0, 178.0, 280.0, 237.0, 236.0, 227.0, 225.0, 320.0, 154.0, 466.0, 299.0, 125.0]}, 'kitchen65.jpg': {'LMe_1.asc': [142.0, 315.0, 435.0, 341.0, 85.0, 207.0, 151.0, 204.0, 171.0, 351.0, 249.0, 267.0, 176.0, 198.0, 218.0, 221.0, 202.0, 199.0, 168.0, 124.0, 213.0, 94.0, 283.0, 229.0, 77.0, 246.0, 147.0, 243.0, 143.0, 147.0, 261.0, 471.0, 179.0, 332.0, 335.0, 196.0, 237.0, 119.0, 175.0], 'LMe_37.asc': [224.0, 155.0, 214.0, 268.0, 181.0, 414.0, 144.0, 226.0, 360.0, 217.0, 236.0, 202.0, 213.0, 147.0, 327.0, 166.0, 164.0, 219.0, 455.0, 188.0, 180.0, 351.0, 538.0, 241.0, 596.0, 237.0, 62.0, 340.0, 133.0, 202.0, 267.0, 165.0, 188.0, 396.0, 240.0], 'LMe_4.asc': [151.0, 176.0, 215.0, 336.0, 363.0, 281.0, 304.0, 126.0, 260.0, 224.0, 218.0, 120.0, 212.0, 139.0, 108.0, 129.0, 219.0, 342.0, 210.0, 129.0, 297.0, 178.0, 300.0, 483.0, 266.0, 180.0, 137.0, 210.0, 257.0, 290.0, 157.0, 172.0, 237.0, 147.0, 172.0, 267.0, 313.0, 199.0], 'LMe_40.asc': [200.0, 154.0, 250.0, 130.0, 292.0, 203.0, 149.0, 223.0, 166.0, 143.0, 243.0, 394.0, 245.0, 147.0, 294.0, 190.0, 256.0, 262.0, 302.0, 147.0, 418.0, 213.0, 176.0, 187.0, 268.0, 320.0, 204.0, 238.0, 338.0, 90.0, 346.0, 416.0, 239.0, 159.0, 193.0, 160.0, 281.0], 'LMe_41.asc': [180.0, 136.0, 150.0, 36.0, 239.0, 301.0, 214.0, 295.0, 180.0, 375.0, 231.0, 265.0, 134.0, 112.0, 162.0, 699.0, 269.0, 216.0, 511.0, 344.0, 435.0, 283.0, 427.0, 718.0, 724.0, 228.0, 219.0, 109.0, 219.0, 218.0], 'LMe_5.asc': [196.0, 174.0, 290.0, 144.0, 529.0, 395.0, 615.0, 305.0, 157.0, 193.0, 131.0, 623.0, 315.0, 197.0, 216.0, 260.0, 992.0, 358.0, 340.0, 268.0, 209.0, 230.0, 342.0, 163.0, 352.0, 288.0, 91.0, 295.0, 193.0, 66.0]}, 'childroom01.jpg': {'LMe_1.asc': [280.0, 284.0, 208.0, 195.0, 197.0, 136.0, 201.0, 170.0, 235.0, 86.0, 269.0, 340.0, 286.0, 170.0, 205.0, 146.0, 261.0, 263.0, 331.0, 107.0, 385.0, 264.0, 310.0, 178.0, 427.0, 221.0, 227.0, 251.0, 305.0, 116.0, 161.0, 507.0, 200.0, 205.0, 201.0, 161.0], 'LMe_37.asc': [206.0, 247.0, 173.0, 250.0, 137.0, 57.0, 223.0, 175.0, 47.0, 164.0, 114.0, 321.0, 249.0, 181.0, 272.0, 237.0, 160.0, 206.0, 676.0, 472.0, 302.0, 553.0, 313.0, 244.0, 169.0, 171.0, 265.0, 205.0, 232.0, 113.0, 272.0, 278.0, 206.0, 192.0, 145.0, 161.0, 259.0, 104.0], 'LMe_4.asc': [115.0, 197.0, 196.0, 144.0, 274.0, 100.0, 200.0, 132.0, 106.0, 188.0, 240.0, 222.0, 219.0, 196.0, 198.0, 136.0, 259.0, 182.0, 194.0, 56.0, 201.0, 244.0, 164.0, 159.0, 200.0, 140.0, 225.0, 182.0, 262.0, 284.0, 216.0, 223.0, 192.0, 240.0, 454.0, 116.0, 126.0, 238.0, 537.0, 293.0], 'LMe_40.asc': [302.0, 192.0, 266.0, 233.0, 228.0, 199.0, 263.0, 215.0, 191.0, 283.0, 294.0, 334.0, 157.0, 215.0, 223.0, 333.0, 320.0, 184.0, 293.0, 278.0, 295.0, 295.0, 148.0, 295.0, 203.0, 342.0, 223.0, 174.0, 181.0, 377.0, 214.0, 429.0, 128.0, 50.0], 'LMe_41.asc': [144.0, 140.0, 215.0, 233.0, 219.0, 158.0, 258.0, 184.0, 197.0, 193.0, 165.0, 105.0, 282.0, 299.0, 171.0, 179.0, 250.0, 235.0, 138.0, 213.0, 203.0, 162.0, 247.0, 185.0, 124.0, 245.0, 363.0, 469.0, 337.0, 184.0, 231.0, 237.0, 125.0, 141.0, 217.0, 145.0, 93.0, 266.0, 97.0], 'LMe_5.asc': [163.0, 34.0, 152.0, 230.0, 140.0, 291.0, 261.0, 172.0, 161.0, 223.0, 335.0, 104.0, 183.0, 186.0, 249.0, 181.0, 144.0, 229.0, 90.0, 75.0, 183.0, 230.0, 275.0, 318.0, 254.0, 235.0, 134.0, 351.0, 202.0, 372.0, 162.0, 129.0, 283.0, 104.0, 397.0, 226.0, 128.0, 207.0, 190.0, 220.0, 142.0]}, 'IMG_9651.jpg': {'LMe_1.asc': [148.0, 104.0, 450.0, 227.0, 288.0, 246.0, 295.0, 203.0, 172.0, 224.0, 241.0, 128.0, 254.0, 220.0, 267.0, 248.0, 512.0, 154.0, 342.0, 476.0, 299.0, 93.0, 262.0, 328.0, 121.0, 201.0, 209.0, 380.0, 529.0, 511.0, 617.0], 'LMe_37.asc': [197.0, 167.0, 249.0, 333.0, 318.0, 321.0, 24.0, 207.0, 138.0, 213.0, 122.0, 381.0, 310.0, 356.0, 138.0, 231.0, 291.0, 198.0, 165.0, 202.0, 326.0, 298.0, 353.0, 307.0, 210.0, 199.0, 541.0, 204.0, 290.0, 566.0, 213.0, 472.0, 60.0], 'LMe_4.asc': [145.0, 186.0, 391.0, 206.0, 238.0, 213.0, 150.0, 186.0, 270.0, 77.0, 185.0, 146.0, 202.0, 259.0, 169.0, 182.0, 341.0, 210.0, 163.0, 349.0, 305.0, 194.0, 315.0, 245.0, 183.0, 212.0, 166.0, 108.0, 216.0, 427.0, 142.0, 149.0, 194.0, 158.0, 235.0, 205.0, 166.0, 271.0, 342.0], 'LMe_40.asc': [60.0, 289.0, 225.0, 331.0, 320.0, 328.0, 156.0, 355.0, 105.0, 354.0, 150.0, 321.0, 347.0, 156.0, 167.0, 302.0, 125.0, 208.0, 698.0, 251.0, 290.0, 117.0, 240.0, 546.0, 191.0, 267.0, 362.0, 576.0, 231.0, 444.0, 153.0], 'LMe_41.asc': [158.0, 189.0, 216.0, 553.0, 304.0, 333.0, 319.0, 158.0, 203.0, 252.0, 267.0, 352.0, 329.0, 251.0, 140.0, 233.0, 499.0, 400.0, 265.0, 138.0, 261.0, 241.0, 134.0, 142.0, 122.0, 123.0, 241.0, 293.0, 135.0, 181.0, 380.0, 150.0, 205.0, 124.0], 'LMe_5.asc': [134.0, 110.0, 221.0, 115.0, 191.0, 118.0, 300.0, 359.0, 387.0, 170.0, 394.0, 122.0, 200.0, 202.0, 217.0, 202.0, 352.0, 61.0, 227.0, 55.0, 335.0, 189.0, 242.0, 240.0, 109.0, 578.0, 143.0, 280.0, 169.0, 500.0, 147.0, 188.0, 208.0, 195.0, 221.0, 344.0]}, 'homeoff014.jpg': {'LMe_1.asc': [150.0, 123.0, 139.0, 267.0, 135.0, 174.0, 173.0, 276.0, 178.0, 224.0, 257.0, 217.0, 178.0, 250.0, 131.0, 128.0, 215.0, 201.0, 385.0, 274.0, 298.0, 185.0, 121.0, 159.0, 215.0, 377.0, 272.0, 171.0, 490.0, 534.0, 282.0, 274.0, 159.0, 894.0], 'LMe_37.asc': [136.0, 272.0, 187.0, 119.0, 120.0, 149.0, 280.0, 183.0, 123.0, 164.0, 179.0, 244.0, 163.0, 155.0, 294.0, 135.0, 79.0, 285.0, 196.0, 163.0, 194.0, 201.0, 245.0, 170.0, 298.0, 254.0, 330.0, 118.0, 162.0, 223.0, 172.0, 103.0, 140.0, 239.0, 124.0, 388.0, 255.0, 213.0, 345.0, 122.0, 86.0], 'LMe_4.asc': [140.0, 192.0, 149.0, 287.0, 125.0, 106.0, 164.0, 118.0, 226.0, 153.0, 203.0, 223.0, 161.0, 276.0, 248.0, 114.0, 291.0, 460.0, 280.0, 158.0, 156.0, 131.0, 198.0, 336.0, 157.0, 184.0, 222.0, 214.0, 185.0, 156.0, 369.0, 275.0, 282.0, 267.0, 196.0, 263.0, 247.0, 179.0, 235.0, 61.0], 'LMe_40.asc': [223.0, 152.0, 222.0, 265.0, 223.0, 300.0, 310.0, 158.0, 162.0, 134.0, 369.0, 151.0, 152.0, 288.0, 157.0, 144.0, 237.0, 153.0, 173.0, 192.0, 150.0, 236.0, 244.0, 168.0, 277.0, 191.0, 129.0, 251.0, 333.0, 412.0, 275.0, 190.0, 285.0, 263.0, 319.0, 198.0, 248.0, 57.0], 'LMe_41.asc': [190.0, 156.0, 159.0, 147.0, 194.0, 145.0, 220.0, 197.0, 158.0, 197.0, 304.0, 117.0, 74.0, 186.0, 269.0, 115.0, 219.0, 260.0, 171.0, 183.0, 130.0, 190.0, 932.0, 420.0, 132.0, 216.0, 85.0, 220.0, 180.0, 198.0, 125.0, 211.0, 327.0, 209.0, 159.0, 321.0, 331.0, 274.0], 'LMe_5.asc': [149.0, 253.0, 129.0, 150.0, 130.0, 202.0, 102.0, 205.0, 213.0, 143.0, 271.0, 268.0, 167.0, 193.0, 162.0, 87.0, 201.0, 332.0, 260.0, 257.0, 149.0, 218.0, 221.0, 276.0, 259.0, 169.0, 193.0, 185.0, 154.0, 214.0, 134.0, 214.0, 251.0, 252.0, 263.0, 219.0, 265.0, 144.0, 134.0, 190.0, 203.0]}, 'kitchen125.jpg': {'LMe_1.asc': [188.0, 202.0, 103.0, 280.0, 224.0, 102.0, 261.0, 199.0, 175.0, 158.0, 406.0, 365.0, 215.0, 626.0, 322.0, 377.0, 158.0, 479.0, 540.0, 351.0, 484.0, 215.0, 333.0, 718.0, 325.0, 201.0, 308.0, 214.0, 163.0, 205.0], 'LMe_37.asc': [231.0, 190.0, 223.0, 158.0, 243.0, 342.0, 285.0, 279.0, 251.0, 173.0, 315.0, 370.0, 97.0, 145.0, 447.0, 253.0, 111.0, 239.0, 264.0, 533.0, 225.0, 125.0, 762.0, 358.0, 238.0, 195.0, 199.0, 301.0, 217.0, 368.0, 496.0, 150.0], 'LMe_4.asc': [142.0, 167.0, 199.0, 349.0, 275.0, 192.0, 182.0, 159.0, 267.0, 358.0, 233.0, 248.0, 466.0, 481.0, 423.0, 463.0, 703.0, 634.0, 286.0, 233.0, 579.0, 488.0, 204.0, 108.0, 222.0, 196.0, 326.0, 230.0, 146.0], 'LMe_40.asc': [198.0, 155.0, 169.0, 333.0, 110.0, 274.0, 127.0, 147.0, 242.0, 48.0, 218.0, 213.0, 105.0, 353.0, 109.0, 166.0, 334.0, 393.0, 532.0, 645.0, 637.0, 700.0, 359.0, 714.0, 356.0, 422.0, 342.0, 157.0, 298.0], 'LMe_41.asc': [117.0, 239.0, 250.0, 178.0, 213.0, 106.0, 167.0, 227.0, 203.0, 254.0, 355.0, 256.0, 477.0, 152.0, 462.0, 1110.0, 689.0, 186.0, 240.0, 216.0, 455.0, 414.0, 300.0, 147.0, 368.0, 427.0, 129.0, 57.0, 167.0, 173.0, 118.0, 41.0], 'LMe_5.asc': [80.0, 90.0, 328.0, 258.0, 205.0, 252.0, 194.0, 37.0, 80.0, 156.0, 207.0, 156.0, 190.0, 184.0, 154.0, 33.0, 284.0, 275.0, 204.0, 194.0, 119.0, 1009.0, 374.0, 721.0, 176.0, 401.0, 408.0, 309.0, 1195.0, 173.0, 151.0]}, 'kitchen15.jpg': {'LMe_1.asc': [122.0, 73.0, 169.0, 261.0, 166.0, 141.0, 223.0, 151.0, 165.0, 98.0, 244.0, 186.0, 218.0, 99.0, 239.0, 204.0, 746.0, 266.0, 115.0, 209.0, 282.0, 240.0, 250.0, 178.0, 186.0, 258.0, 123.0, 198.0, 418.0, 193.0, 270.0, 357.0, 239.0, 230.0, 235.0, 133.0, 239.0, 529.0], 'LMe_37.asc': [199.0, 204.0, 195.0, 260.0, 281.0, 19.0, 109.0, 326.0, 202.0, 187.0, 153.0, 413.0, 399.0, 183.0, 424.0, 189.0, 242.0, 298.0, 353.0, 722.0, 64.0, 225.0, 141.0, 176.0, 753.0, 504.0, 565.0, 1153.0], 'LMe_4.asc': [143.0, 166.0, 307.0, 279.0, 213.0, 156.0, 118.0, 195.0, 131.0, 234.0, 189.0, 229.0, 452.0, 305.0, 241.0, 246.0, 516.0, 226.0, 184.0, 202.0, 148.0, 238.0, 159.0, 221.0, 482.0, 235.0, 204.0, 279.0, 299.0, 296.0, 194.0, 283.0, 250.0, 399.0, 189.0, 40.0], 'LMe_40.asc': [216.0, 185.0, 263.0, 165.0, 346.0, 220.0, 327.0, 284.0, 132.0, 182.0, 211.0, 156.0, 280.0, 171.0, 568.0, 255.0, 1166.0, 370.0, 263.0, 287.0, 285.0, 283.0, 554.0, 383.0, 188.0, 177.0, 271.0, 396.0, 210.0], 'LMe_41.asc': [67.0, 220.0, 161.0, 219.0, 157.0, 255.0, 472.0, 252.0, 170.0, 312.0, 209.0, 184.0, 121.0, 200.0, 303.0, 384.0, 248.0, 257.0, 305.0, 274.0, 280.0, 268.0, 158.0, 189.0, 233.0, 216.0, 192.0, 61.0, 185.0, 417.0, 325.0, 404.0, 169.0, 213.0, 238.0, 151.0, 79.0, 89.0], 'LMe_5.asc': [165.0, 122.0, 180.0, 208.0, 104.0, 273.0, 222.0, 142.0, 42.0, 223.0, 138.0, 166.0, 161.0, 266.0, 185.0, 264.0, 283.0, 299.0, 126.0, 196.0, 131.0, 252.0, 219.0, 163.0, 142.0, 164.0, 472.0, 539.0, 349.0, 175.0, 197.0, 560.0, 197.0, 268.0, 152.0, 248.0, 189.0, 136.0, 210.0, 68.0]}, 'office12.jpg': {'LMe_1.asc': [96.0, 255.0, 126.0, 220.0, 189.0, 202.0, 331.0, 146.0, 242.0, 228.0, 65.0, 317.0, 160.0, 173.0, 140.0, 231.0, 382.0, 238.0, 259.0, 178.0, 193.0, 153.0, 234.0, 305.0, 308.0, 382.0, 258.0, 331.0, 166.0, 388.0, 222.0, 249.0, 417.0, 400.0, 722.0], 'LMe_37.asc': [217.0, 213.0, 140.0, 215.0, 170.0, 146.0, 102.0, 178.0, 142.0, 249.0, 177.0, 308.0, 126.0, 299.0, 120.0, 172.0, 199.0, 206.0, 292.0, 159.0, 165.0, 159.0, 195.0, 84.0, 154.0, 141.0, 154.0, 161.0, 202.0, 161.0, 298.0, 171.0, 370.0, 552.0, 425.0, 266.0, 174.0, 280.0, 216.0, 63.0], 'LMe_4.asc': [145.0, 264.0, 170.0, 160.0, 218.0, 145.0, 146.0, 160.0, 161.0, 147.0, 249.0, 299.0, 155.0, 304.0, 237.0, 249.0, 77.0, 249.0, 146.0, 306.0, 205.0, 132.0, 344.0, 342.0, 170.0, 253.0, 193.0, 168.0, 201.0, 303.0, 114.0, 731.0, 241.0, 494.0, 202.0, 455.0, 107.0], 'LMe_40.asc': [210.0, 380.0, 177.0, 277.0, 303.0, 96.0, 150.0, 126.0, 263.0, 221.0, 262.0, 212.0, 129.0, 398.0, 254.0, 298.0, 96.0, 377.0, 165.0, 236.0, 123.0, 528.0, 383.0, 120.0, 249.0, 194.0, 369.0, 261.0, 182.0, 211.0, 244.0, 174.0, 222.0, 237.0, 34.0], 'LMe_41.asc': [145.0, 223.0, 261.0, 252.0, 258.0, 190.0, 193.0, 295.0, 110.0, 229.0, 171.0, 196.0, 127.0, 149.0, 77.0, 159.0, 148.0, 285.0, 228.0, 257.0, 229.0, 153.0, 62.0, 327.0, 177.0, 143.0, 224.0, 188.0, 197.0, 85.0, 191.0, 82.0, 221.0, 184.0, 230.0, 278.0, 194.0, 167.0, 197.0, 137.0], 'LMe_5.asc': [172.0, 158.0, 245.0, 216.0, 188.0, 189.0, 189.0, 159.0, 210.0, 284.0, 217.0, 161.0, 249.0, 170.0, 179.0, 5664.0, 99.0, 92.0]}, 'kitchen_0002_rgbImage_002151.jpg': {'LMe_1.asc': [296.0, 116.0, 246.0, 487.0, 266.0, 105.0, 203.0, 239.0, 162.0, 167.0, 130.0, 655.0, 203.0, 435.0, 273.0, 124.0, 411.0, 404.0, 216.0, 210.0, 91.0, 183.0, 767.0, 438.0, 301.0, 175.0, 190.0, 159.0, 191.0, 288.0, 607.0], 'LMe_37.asc': [166.0, 179.0, 173.0, 175.0, 486.0, 278.0, 505.0, 278.0, 490.0, 156.0, 418.0, 241.0, 140.0, 195.0, 152.0, 163.0, 250.0, 292.0, 120.0, 311.0, 366.0, 33.0, 640.0, 186.0, 245.0, 356.0, 458.0, 505.0, 169.0, 378.0, 152.0], 'LMe_4.asc': [91.0, 144.0, 246.0, 113.0, 174.0, 418.0, 325.0, 611.0, 171.0, 178.0, 73.0, 231.0, 219.0, 437.0, 216.0, 282.0, 348.0, 251.0, 431.0, 228.0, 340.0, 224.0, 430.0, 272.0, 251.0, 584.0, 363.0, 435.0, 811.0], 'LMe_40.asc': [350.0, 332.0, 156.0, 220.0, 253.0, 245.0, 194.0, 309.0, 435.0, 402.0, 376.0, 454.0, 564.0, 837.0, 126.0, 225.0, 76.0, 325.0, 182.0, 271.0, 240.0, 201.0, 320.0, 244.0, 642.0, 271.0, 167.0], 'LMe_41.asc': [135.0, 404.0, 163.0, 243.0, 353.0, 207.0, 290.0, 121.0, 99.0, 191.0, 205.0, 186.0, 68.0, 109.0, 230.0, 158.0, 214.0, 265.0, 249.0, 139.0, 410.0, 196.0, 179.0, 277.0, 121.0, 156.0, 233.0, 303.0, 287.0, 306.0, 277.0, 310.0, 207.0, 127.0], 'LMe_5.asc': [313.0, 181.0, 232.0, 342.0, 366.0, 674.0, 175.0, 416.0, 101.0, 211.0, 270.0, 162.0, 209.0, 467.0, 221.0, 289.0, 335.0, 230.0, 499.0, 268.0, 154.0, 540.0, 736.0, 354.0, 329.0, 392.0, 409.0, 227.0, 81.0]}, 'kitchen_0044_rgbImage_000608.jpg': {'LMe_1.asc': [144.0, 160.0, 353.0, 192.0, 137.0, 300.0, 275.0, 243.0, 212.0, 363.0, 59.0, 185.0, 218.0, 130.0, 314.0, 386.0, 161.0, 180.0, 329.0, 275.0, 175.0, 350.0, 216.0, 272.0, 410.0, 432.0, 230.0, 186.0, 236.0, 205.0, 147.0, 340.0, 460.0, 155.0, 216.0], 'LMe_37.asc': [229.0, 317.0, 283.0, 107.0, 154.0, 145.0, 295.0, 224.0, 366.0, 182.0, 222.0, 110.0, 212.0, 184.0, 416.0, 436.0, 322.0, 177.0, 386.0, 324.0, 244.0, 190.0, 136.0, 173.0, 273.0, 193.0, 244.0, 227.0, 214.0, 518.0, 221.0, 144.0, 244.0, 336.0], 'LMe_4.asc': [168.0, 214.0, 143.0, 110.0, 244.0, 232.0, 167.0, 237.0, 152.0, 134.0, 204.0, 241.0, 244.0, 357.0, 180.0, 234.0, 118.0, 247.0, 193.0, 220.0, 196.0, 104.0, 198.0, 109.0, 191.0, 353.0, 360.0, 551.0, 481.0, 262.0, 187.0, 309.0, 397.0, 227.0, 288.0, 207.0], 'LMe_40.asc': [147.0, 217.0, 308.0, 185.0, 369.0, 537.0, 173.0, 349.0, 246.0, 281.0, 139.0, 242.0, 215.0, 207.0, 219.0, 259.0, 180.0, 326.0, 152.0, 257.0, 212.0, 182.0, 309.0, 269.0, 371.0, 476.0, 259.0, 393.0, 186.0, 340.0, 179.0, 111.0, 208.0], 'LMe_41.asc': [207.0, 242.0, 221.0, 85.0, 267.0, 72.0, 190.0, 224.0, 38.0, 186.0, 586.0, 326.0, 121.0, 363.0, 233.0, 166.0, 196.0, 275.0, 373.0, 290.0, 217.0, 411.0, 165.0, 256.0, 149.0, 197.0, 163.0, 313.0, 760.0, 343.0, 293.0, 143.0, 152.0, 167.0], 'LMe_5.asc': [81.0, 225.0, 168.0, 291.0, 220.0, 163.0, 260.0, 189.0, 341.0, 190.0, 217.0, 99.0, 297.0, 192.0, 189.0, 133.0, 392.0, 284.0, 168.0, 210.0, 302.0, 338.0, 405.0, 461.0, 446.0, 364.0, 410.0, 585.0, 216.0, 247.0, 323.0, 103.0]}, 'office_10.jpg': {'LMe_1.asc': [173.0, 199.0, 207.0, 252.0, 148.0, 189.0, 32.0, 142.0, 463.0, 344.0, 127.0, 242.0, 140.0, 331.0, 94.0, 298.0, 181.0, 211.0, 172.0, 285.0, 330.0, 187.0, 327.0, 171.0, 301.0, 260.0, 109.0, 555.0, 221.0, 227.0, 126.0, 218.0, 290.0, 83.0, 128.0, 291.0, 161.0, 241.0], 'LMe_37.asc': [271.0, 213.0, 483.0, 386.0, 110.0, 250.0, 158.0, 169.0, 139.0, 238.0, 183.0, 587.0, 117.0, 194.0, 418.0, 174.0, 262.0, 453.0, 318.0, 196.0, 130.0, 151.0, 201.0, 209.0, 159.0, 183.0, 202.0, 223.0, 194.0, 548.0, 175.0, 294.0, 176.0, 468.0], 'LMe_4.asc': [274.0, 186.0, 226.0, 250.0, 176.0, 138.0, 185.0, 131.0, 375.0, 365.0, 180.0, 140.0, 252.0, 211.0, 252.0, 300.0, 75.0, 179.0, 271.0, 164.0, 290.0, 205.0, 180.0, 119.0, 260.0, 328.0, 303.0, 130.0, 329.0, 97.0, 238.0, 117.0, 1120.0, 266.0, 183.0, 104.0], 'LMe_40.asc': [130.0, 185.0, 216.0, 286.0, 129.0, 254.0, 216.0, 262.0, 256.0, 119.0, 223.0, 123.0, 137.0, 326.0, 336.0, 152.0, 322.0, 195.0, 300.0, 143.0, 143.0, 250.0, 227.0, 302.0, 539.0, 233.0, 202.0, 171.0, 183.0, 294.0, 238.0, 222.0, 426.0, 164.0, 322.0, 121.0], 'LMe_41.asc': [123.0, 158.0, 177.0, 163.0, 302.0, 219.0, 338.0, 295.0, 182.0, 147.0, 96.0, 380.0, 199.0, 247.0, 246.0, 118.0, 278.0, 239.0, 244.0, 179.0, 338.0, 266.0, 139.0, 235.0, 112.0, 193.0, 340.0, 244.0, 288.0, 203.0, 240.0, 289.0, 152.0, 424.0, 282.0, 179.0], 'LMe_5.asc': [162.0, 130.0, 117.0, 200.0, 145.0, 175.0, 330.0, 249.0, 72.0, 369.0, 200.0, 30.0, 187.0, 134.0, 319.0, 226.0, 163.0, 142.0, 327.0, 154.0, 79.0, 287.0, 227.0, 126.0, 216.0, 161.0, 152.0, 253.0, 95.0, 272.0, 318.0, 134.0, 184.0, 121.0, 233.0, 138.0, 309.0, 186.0, 119.0, 154.0, 269.0, 205.0, 36.0]}, 'dining29.jpg': {'LMe_1.asc': [148.0, 296.0, 183.0, 174.0, 189.0, 295.0, 141.0, 378.0, 229.0, 248.0, 225.0, 165.0, 253.0, 235.0, 261.0, 254.0, 194.0, 201.0, 246.0, 177.0, 128.0, 136.0, 254.0, 183.0, 149.0, 205.0, 186.0, 319.0, 306.0, 383.0, 196.0, 247.0, 371.0, 351.0, 207.0, 263.0, 171.0, 185.0], 'LMe_37.asc': [231.0, 162.0, 241.0, 211.0, 155.0, 359.0, 261.0, 356.0, 220.0, 371.0, 332.0, 254.0, 312.0, 237.0, 155.0, 154.0, 259.0, 193.0, 284.0, 270.0, 136.0, 212.0, 144.0, 235.0, 235.0, 173.0, 246.0, 112.0, 135.0, 332.0, 379.0, 160.0, 249.0, 77.0, 146.0, 113.0, 142.0, 193.0], 'LMe_4.asc': [238.0, 181.0, 180.0, 167.0, 167.0, 241.0, 234.0, 210.0, 126.0, 137.0, 282.0, 126.0, 176.0, 175.0, 163.0, 223.0, 162.0, 341.0, 291.0, 281.0, 243.0, 345.0, 433.0, 440.0, 223.0, 183.0, 161.0, 158.0, 192.0, 215.0, 336.0, 163.0, 290.0, 130.0, 226.0, 258.0, 189.0, 160.0], 'LMe_40.asc': [204.0, 230.0, 172.0, 240.0, 249.0, 318.0, 182.0, 345.0, 214.0, 279.0, 237.0, 216.0, 297.0, 220.0, 363.0, 244.0, 161.0, 296.0, 236.0, 241.0, 178.0, 367.0, 180.0, 390.0, 168.0, 460.0, 149.0, 234.0, 364.0, 231.0, 289.0, 261.0, 168.0, 83.0], 'LMe_41.asc': [214.0, 109.0, 257.0, 226.0, 226.0, 167.0, 288.0, 191.0, 202.0, 192.0, 354.0, 105.0, 119.0, 123.0, 278.0, 141.0, 156.0, 269.0, 184.0, 228.0, 168.0, 175.0, 253.0, 332.0, 149.0, 379.0, 187.0, 323.0, 295.0, 119.0, 194.0, 211.0, 215.0, 118.0, 111.0, 218.0, 248.0, 218.0, 159.0, 40.0], 'LMe_5.asc': [102.0, 253.0, 127.0, 167.0, 280.0, 175.0, 213.0, 58.0, 266.0, 97.0, 429.0, 130.0, 107.0, 201.0, 187.0, 258.0, 227.0, 243.0, 155.0, 162.0, 220.0, 221.0, 321.0, 178.0, 278.0, 187.0, 96.0, 181.0, 231.0, 217.0, 108.0, 334.0, 122.0, 192.0, 212.0, 334.0, 188.0, 250.0, 203.0, 120.0, 230.0, 105.0]}, 'dining41.jpg': {'LMe_1.asc': [297.0, 413.0, 150.0, 87.0, 281.0, 123.0, 271.0, 259.0, 170.0, 230.0, 171.0, 184.0, 217.0, 203.0, 185.0, 192.0, 171.0, 144.0, 156.0, 138.0, 193.0, 425.0, 257.0, 68.0, 132.0, 190.0, 219.0, 333.0, 182.0, 293.0, 318.0, 341.0, 199.0, 193.0, 203.0, 324.0, 165.0, 356.0, 141.0, 49.0], 'LMe_38.asc': [213.0, 79.0, 122.0, 231.0, 80.0, 120.0, 212.0, 370.0, 167.0, 185.0, 235.0, 337.0, 208.0, 238.0, 285.0, 160.0, 112.0, 210.0, 123.0, 145.0, 136.0, 387.0, 622.0, 207.0, 143.0, 205.0, 1835.0, 933.0], 'LMe_39.asc': [164.0, 118.0, 222.0, 176.0, 110.0, 296.0, 282.0, 200.0, 300.0, 261.0, 144.0, 208.0, 199.0, 300.0, 274.0, 270.0, 178.0, 253.0, 242.0, 229.0, 310.0, 246.0, 198.0, 217.0, 295.0, 173.0, 172.0, 208.0, 289.0, 131.0, 374.0, 223.0, 250.0, 227.0, 282.0], 'LMe_4.asc': [186.0, 219.0, 167.0, 93.0, 234.0, 207.0, 260.0, 117.0, 268.0, 219.0, 299.0, 306.0, 128.0, 238.0, 109.0, 251.0, 180.0, 125.0, 247.0, 337.0, 225.0, 212.0, 229.0, 233.0, 211.0, 298.0, 350.0, 177.0, 422.0, 291.0, 295.0, 221.0, 151.0, 357.0, 314.0, 69.0], 'LMe_42.asc': [121.0, 138.0, 178.0, 138.0, 276.0, 259.0, 162.0, 282.0, 110.0, 285.0, 200.0, 216.0, 362.0, 224.0, 535.0, 300.0, 307.0, 222.0, 289.0, 99.0, 263.0, 269.0, 151.0, 244.0, 168.0, 296.0, 142.0, 340.0, 203.0, 178.0, 99.0, 180.0, 159.0, 163.0, 386.0, 135.0], 'LMe_5.asc': [223.0, 246.0, 174.0, 74.0, 221.0, 214.0, 196.0, 207.0, 306.0, 215.0, 84.0, 181.0, 304.0, 134.0, 211.0, 194.0, 970.0, 151.0, 284.0, 300.0, 306.0, 274.0, 97.0, 168.0, 164.0, 163.0, 176.0, 206.0, 122.0, 149.0, 359.0, 165.0, 220.0, 163.0, 352.0, 178.0, 100.0, 141.0, 42.0]}, 'img_0015.jpg': {'LMe_1.asc': [154.0, 151.0, 130.0, 258.0, 240.0, 334.0, 473.0, 172.0, 278.0, 231.0, 237.0, 179.0, 250.0, 257.0, 187.0, 230.0, 116.0, 401.0, 304.0, 169.0, 245.0, 189.0, 289.0, 216.0, 156.0, 293.0, 209.0, 373.0, 223.0, 171.0, 451.0, 168.0, 864.0], 'LMe_37.asc': [190.0, 247.0, 253.0, 304.0, 197.0, 127.0, 216.0, 278.0, 148.0, 233.0, 147.0, 215.0, 156.0, 310.0, 361.0, 298.0, 243.0, 138.0, 98.0, 409.0, 1416.0, 391.0, 290.0, 108.0, 136.0, 352.0, 184.0, 138.0, 210.0, 109.0, 152.0, 196.0, 164.0], 'LMe_4.asc': [110.0, 167.0, 206.0, 296.0, 282.0, 122.0, 149.0, 223.0, 109.0, 224.0, 179.0, 181.0, 193.0, 204.0, 192.0, 327.0, 203.0, 175.0, 553.0, 603.0, 184.0, 220.0, 228.0, 275.0, 198.0, 278.0, 171.0, 673.0, 527.0, 279.0, 227.0, 504.0], 'LMe_40.asc': [277.0, 98.0, 223.0, 298.0, 390.0, 194.0, 270.0, 256.0, 266.0, 200.0, 363.0, 170.0, 134.0, 141.0, 340.0, 1070.0, 197.0, 234.0, 290.0, 158.0, 288.0, 343.0, 306.0, 715.0, 1296.0], 'LMe_41.asc': [168.0, 154.0, 276.0, 264.0, 446.0, 863.0, 251.0, 105.0, 132.0, 217.0, 216.0, 558.0, 197.0, 520.0, 148.0, 145.0, 48.0, 267.0, 119.0, 275.0, 360.0, 306.0, 128.0, 313.0, 184.0, 247.0, 310.0, 270.0, 261.0, 129.0, 180.0], 'LMe_5.asc': [172.0, 160.0, 255.0, 240.0, 124.0, 262.0, 184.0, 176.0, 95.0, 260.0, 233.0, 150.0, 88.0, 237.0, 274.0, 148.0, 220.0, 156.0, 932.0, 274.0, 368.0, 181.0, 284.0, 258.0, 441.0, 339.0, 129.0, 338.0, 189.0, 363.0, 166.0, 208.0, 406.0, 286.0, 166.0]}, 'kitchen189.jpg': {'LMe_1.asc': [149.0, 341.0, 80.0, 313.0, 141.0, 184.0, 242.0, 148.0, 151.0, 372.0, 229.0, 183.0, 186.0, 171.0, 88.0, 175.0, 210.0, 203.0, 173.0, 271.0, 592.0, 199.0, 463.0, 231.0, 262.0, 223.0, 149.0, 313.0, 176.0, 315.0, 172.0, 247.0, 316.0, 225.0, 134.0, 269.0, 273.0, 121.0], 'LMe_37.asc': [328.0, 203.0, 266.0, 538.0, 137.0, 185.0, 211.0, 155.0, 204.0, 318.0, 376.0, 67.0, 137.0, 150.0, 147.0, 145.0, 220.0, 193.0, 350.0, 227.0, 310.0, 137.0, 254.0, 230.0, 222.0, 181.0, 104.0, 256.0, 132.0, 161.0, 307.0, 351.0, 126.0, 328.0, 162.0, 114.0, 281.0, 152.0, 116.0], 'LMe_4.asc': [222.0, 173.0, 179.0, 243.0, 84.0, 230.0, 173.0, 151.0, 182.0, 347.0, 131.0, 277.0, 317.0, 151.0, 221.0, 253.0, 258.0, 133.0, 138.0, 229.0, 186.0, 281.0, 214.0, 154.0, 160.0, 171.0, 356.0, 140.0, 147.0, 167.0, 206.0, 268.0, 255.0, 201.0, 314.0, 665.0, 164.0, 138.0, 146.0], 'LMe_40.asc': [229.0, 169.0, 294.0, 276.0, 205.0, 153.0, 233.0, 170.0, 182.0, 321.0, 184.0, 256.0, 441.0, 149.0, 334.0, 380.0, 104.0, 193.0, 434.0, 315.0, 353.0, 278.0, 312.0, 221.0, 253.0, 196.0, 208.0, 596.0, 272.0, 292.0, 199.0, 52.0, 246.0], 'LMe_41.asc': [223.0, 311.0, 220.0, 225.0, 161.0, 149.0, 782.0, 227.0, 203.0, 352.0, 84.0, 231.0, 123.0, 419.0, 192.0, 124.0, 211.0, 161.0, 537.0, 153.0, 312.0, 229.0, 89.0, 781.0, 518.0, 317.0, 179.0, 286.0, 106.0, 191.0, 548.0], 'LMe_5.asc': [104.0, 91.0, 171.0, 185.0, 168.0, 160.0, 165.0, 165.0, 349.0, 334.0, 124.0, 113.0, 275.0, 246.0, 178.0, 73.0, 164.0, 249.0, 202.0, 249.0, 169.0, 156.0, 545.0, 548.0, 62.0, 250.0, 139.0, 197.0, 142.0, 279.0, 142.0, 89.0, 308.0, 171.0, 235.0, 94.0, 222.0, 294.0, 255.0, 138.0, 55.0]}, 'p1010833.jpg': {'LMe_1.asc': [185.0, 246.0, 170.0, 169.0, 140.0, 251.0, 120.0, 283.0, 200.0, 112.0, 171.0, 129.0, 195.0, 307.0, 100.0, 290.0, 160.0, 380.0, 190.0, 138.0, 332.0, 279.0, 243.0, 174.0, 321.0, 269.0, 145.0, 151.0, 130.0, 664.0, 263.0, 421.0, 265.0, 155.0, 272.0, 338.0, 250.0], 'LMe_37.asc': [329.0, 278.0, 317.0, 147.0, 320.0, 107.0, 187.0, 295.0, 387.0, 202.0, 311.0, 652.0, 121.0, 205.0, 128.0, 213.0, 147.0, 248.0, 165.0, 195.0, 195.0, 377.0, 245.0, 160.0, 310.0, 246.0, 255.0, 301.0, 193.0, 172.0, 361.0, 258.0, 522.0], 'LMe_4.asc': [125.0, 183.0, 166.0, 159.0, 367.0, 265.0, 149.0, 155.0, 138.0, 249.0, 154.0, 203.0, 159.0, 156.0, 253.0, 204.0, 239.0, 96.0, 147.0, 151.0, 255.0, 200.0, 143.0, 127.0, 245.0, 149.0, 223.0, 153.0, 217.0, 110.0, 225.0, 1401.0, 1498.0, 64.0], 'LMe_40.asc': [32.0, 209.0, 99.0, 259.0, 271.0, 177.0, 307.0, 167.0, 238.0, 207.0, 184.0, 145.0, 160.0, 244.0, 232.0, 155.0, 338.0, 230.0, 233.0, 700.0, 1148.0, 255.0, 354.0, 1064.0, 247.0, 781.0, 236.0], 'LMe_41.asc': [73.0, 132.0, 318.0, 110.0, 220.0, 209.0, 328.0, 325.0, 270.0, 444.0, 165.0, 253.0, 190.0, 183.0, 110.0, 251.0, 237.0, 229.0, 102.0, 208.0, 249.0, 156.0, 288.0, 209.0, 169.0, 265.0, 280.0, 201.0, 178.0, 306.0, 116.0, 152.0, 302.0, 305.0, 291.0, 111.0], 'LMe_5.asc': [153.0, 185.0, 112.0, 440.0, 253.0, 145.0, 218.0, 136.0, 373.0, 58.0, 251.0, 141.0, 188.0, 74.0, 171.0, 232.0, 287.0, 185.0, 236.0, 25.0, 182.0, 230.0, 349.0, 177.0, 327.0, 234.0, 182.0, 179.0, 168.0, 100.0, 216.0, 174.0, 245.0, 179.0, 371.0, 217.0, 142.0, 379.0, 279.0, 101.0]}, 'DSC_0497.jpg': {'LMe_1.asc': [94.0, 272.0, 190.0, 149.0, 412.0, 910.0, 154.0, 477.0, 206.0, 162.0, 140.0, 557.0, 288.0, 206.0, 158.0, 150.0, 172.0, 174.0, 315.0, 187.0, 250.0, 263.0, 336.0, 402.0, 277.0, 239.0, 279.0, 254.0, 214.0, 177.0, 301.0, 247.0, 143.0], 'LMe_37.asc': [188.0, 193.0, 169.0, 296.0, 151.0, 286.0, 257.0, 156.0, 423.0, 277.0, 204.0, 156.0, 162.0, 107.0, 528.0, 165.0, 417.0, 139.0, 329.0, 465.0, 259.0, 426.0, 220.0, 205.0, 236.0, 205.0, 315.0, 234.0, 107.0, 319.0, 328.0, 204.0, 246.0, 166.0], 'LMe_4.asc': [106.0, 185.0, 142.0, 242.0, 203.0, 218.0, 394.0, 272.0, 520.0, 376.0, 167.0, 204.0, 57.0, 145.0, 332.0, 265.0, 263.0, 246.0, 324.0, 25.0, 273.0, 339.0, 170.0, 272.0, 191.0, 302.0, 135.0, 170.0, 194.0, 217.0, 179.0, 248.0, 372.0, 330.0, 276.0, 208.0], 'LMe_40.asc': [153.0, 117.0, 190.0, 248.0, 234.0, 273.0, 249.0, 304.0, 447.0, 238.0, 315.0, 330.0, 197.0, 345.0, 275.0, 238.0, 194.0, 215.0, 179.0, 213.0, 205.0, 323.0, 229.0, 148.0, 309.0, 240.0, 472.0, 549.0, 707.0, 135.0, 259.0], 'LMe_41.asc': [188.0, 182.0, 210.0, 193.0, 268.0, 347.0, 290.0, 413.0, 142.0, 310.0, 475.0, 94.0, 189.0, 311.0, 93.0, 261.0, 272.0, 273.0, 80.0, 362.0, 138.0, 85.0, 206.0, 217.0, 254.0, 266.0, 106.0, 211.0, 86.0, 163.0, 84.0, 100.0, 109.0, 354.0, 194.0, 123.0, 204.0], 'LMe_5.asc': [150.0, 202.0, 155.0, 236.0, 64.0, 372.0, 200.0, 306.0, 627.0, 764.0, 175.0, 360.0, 228.0, 159.0, 123.0, 159.0, 154.0, 164.0, 115.0, 203.0, 184.0, 313.0, 275.0, 320.0, 196.0, 280.0, 180.0, 178.0, 150.0, 240.0, 130.0, 166.0, 167.0, 176.0, 377.0, 320.0, 58.0]}, 'smallsp001.jpg': {'LMe_1.asc': [111.0, 138.0, 183.0, 256.0, 226.0, 308.0, 305.0, 395.0, 228.0, 501.0, 185.0, 160.0, 231.0, 280.0, 306.0, 517.0, 297.0, 1158.0, 601.0, 255.0, 417.0, 476.0, 856.0, 300.0, 250.0, 91.0], 'LMe_37.asc': [131.0, 163.0, 279.0, 202.0, 213.0, 163.0, 201.0, 210.0, 163.0, 155.0, 462.0, 240.0, 182.0, 261.0, 171.0, 507.0, 252.0, 307.0, 222.0, 156.0, 325.0, 207.0, 227.0, 218.0, 266.0, 167.0, 236.0, 135.0, 186.0, 361.0, 215.0, 274.0, 116.0, 253.0, 444.0, 157.0], 'LMe_4.asc': [109.0, 133.0, 147.0, 88.0, 172.0, 288.0, 187.0, 134.0, 463.0, 228.0, 190.0, 160.0, 441.0, 366.0, 120.0, 319.0, 556.0, 1695.0, 451.0, 731.0, 1643.0, 493.0], 'LMe_40.asc': [191.0, 256.0, 170.0, 84.0, 169.0, 253.0, 238.0, 122.0, 212.0, 180.0, 163.0, 362.0, 198.0, 146.0, 177.0, 256.0, 336.0, 429.0, 279.0, 350.0, 285.0, 451.0, 334.0, 168.0, 214.0, 113.0, 916.0, 168.0, 1210.0], 'LMe_41.asc': [276.0, 201.0, 181.0, 254.0, 202.0, 143.0, 603.0, 803.0, 184.0, 124.0, 444.0, 178.0, 398.0, 444.0, 136.0, 217.0, 84.0, 178.0, 302.0, 236.0, 462.0, 314.0, 85.0, 359.0, 240.0, 360.0, 291.0, 96.0, 115.0], 'LMe_5.asc': [284.0, 145.0, 284.0, 226.0, 189.0, 163.0, 107.0, 155.0, 345.0, 376.0, 188.0, 177.0, 362.0, 271.0, 233.0, 57.0, 212.0, 215.0, 204.0, 808.0, 272.0, 416.0, 275.0, 223.0, 184.0, 1758.0, 327.0]}, 'IMG_2333.jpg': {'LMe_1.asc': [172.0, 184.0, 236.0, 127.0, 288.0, 356.0, 163.0, 319.0, 208.0, 216.0, 201.0, 258.0, 175.0, 72.0, 331.0, 124.0, 124.0, 138.0, 169.0, 214.0, 163.0, 239.0, 292.0, 169.0, 218.0, 249.0, 503.0, 528.0, 299.0, 240.0, 278.0, 89.0, 120.0, 509.0, 238.0, 251.0], 'LMe_37.asc': [90.0, 217.0, 118.0, 359.0, 282.0, 139.0, 468.0, 258.0, 335.0, 343.0, 172.0, 199.0, 42.0, 126.0, 334.0, 150.0, 337.0, 265.0, 35.0, 288.0, 153.0, 205.0, 183.0, 305.0, 218.0, 175.0, 129.0, 269.0, 258.0, 230.0, 43.0, 320.0, 234.0, 172.0, 191.0, 242.0, 251.0, 172.0, 78.0], 'LMe_4.asc': [183.0, 147.0, 142.0, 200.0, 266.0, 120.0, 247.0, 145.0, 362.0, 56.0, 224.0, 219.0, 237.0, 227.0, 167.0, 262.0, 316.0, 93.0, 377.0, 102.0, 156.0, 169.0, 246.0, 335.0, 447.0, 182.0, 230.0, 192.0, 310.0, 139.0, 189.0, 245.0, 147.0, 200.0, 255.0, 179.0, 286.0, 183.0, 161.0], 'LMe_40.asc': [137.0, 306.0, 327.0, 312.0, 420.0, 371.0, 182.0, 251.0, 166.0, 264.0, 316.0, 284.0, 309.0, 155.0, 147.0, 242.0, 242.0, 110.0, 338.0, 195.0, 412.0, 248.0, 488.0, 281.0, 236.0, 212.0, 235.0, 105.0, 172.0, 119.0, 170.0, 253.0, 365.0], 'LMe_41.asc': [187.0, 180.0, 129.0, 153.0, 252.0, 229.0, 262.0, 165.0, 213.0, 175.0, 229.0, 194.0, 150.0, 210.0, 156.0, 150.0, 176.0, 241.0, 182.0, 266.0, 354.0, 142.0, 213.0, 181.0, 223.0, 172.0, 261.0, 158.0, 200.0, 191.0, 196.0, 178.0, 118.0, 87.0, 283.0, 113.0, 158.0, 392.0], 'LMe_5.asc': [161.0, 138.0, 42.0, 214.0, 169.0, 265.0, 96.0, 260.0, 163.0, 167.0, 108.0, 143.0, 219.0, 134.0, 320.0, 333.0, 146.0, 287.0, 175.0, 232.0, 250.0, 268.0, 251.0, 400.0, 259.0, 165.0, 292.0, 108.0, 140.0, 176.0, 167.0, 179.0, 131.0, 473.0, 193.0, 759.0, 189.0, 156.0]}, 'img_0061.jpg': {'LMe_1.asc': [193.0, 161.0, 320.0, 269.0, 330.0, 311.0, 235.0, 377.0, 107.0, 327.0, 186.0, 297.0, 138.0, 142.0, 242.0, 150.0, 162.0, 229.0, 322.0, 294.0, 277.0, 85.0, 268.0, 276.0, 130.0, 428.0, 165.0, 769.0, 263.0, 1265.0, 130.0], 'LMe_37.asc': [164.0, 116.0, 301.0, 223.0, 194.0, 291.0, 191.0, 283.0, 20.0, 103.0, 176.0, 244.0, 319.0, 190.0, 375.0, 169.0, 272.0, 226.0, 38.0, 267.0, 163.0, 195.0, 171.0, 297.0, 187.0, 270.0, 191.0, 286.0, 271.0, 463.0, 225.0, 228.0, 174.0, 177.0, 328.0, 409.0, 290.0, 48.0], 'LMe_4.asc': [159.0, 174.0, 396.0, 206.0, 185.0, 144.0, 310.0, 156.0, 328.0, 120.0, 165.0, 201.0, 213.0, 297.0, 447.0, 365.0, 174.0, 368.0, 260.0, 318.0, 519.0, 585.0, 603.0, 331.0, 364.0, 119.0, 486.0, 296.0, 311.0, 221.0, 150.0], 'LMe_40.asc': [175.0, 196.0, 356.0, 136.0, 282.0, 238.0, 331.0, 196.0, 322.0, 384.0, 688.0, 228.0, 344.0, 179.0, 370.0, 255.0, 464.0, 767.0, 463.0, 366.0, 325.0, 395.0, 514.0, 362.0, 839.0], 'LMe_41.asc': [244.0, 344.0, 258.0, 277.0, 135.0, 182.0, 829.0, 393.0, 293.0, 178.0, 203.0, 157.0, 298.0, 139.0, 214.0, 309.0, 226.0, 150.0, 279.0, 225.0, 158.0, 145.0, 362.0, 361.0, 171.0, 243.0, 105.0, 168.0, 289.0, 266.0, 156.0, 241.0, 98.0, 230.0, 180.0, 39.0, 158.0], 'LMe_5.asc': [190.0, 131.0, 166.0, 178.0, 299.0, 333.0, 259.0, 160.0, 159.0, 883.0, 154.0, 575.0, 349.0, 317.0, 176.0, 75.0, 494.0, 192.0, 291.0, 142.0, 94.0, 138.0, 67.0, 216.0, 302.0, 198.0, 327.0, 173.0, 240.0, 204.0, 423.0, 309.0, 269.0, 220.0]}, 'kitchen177.jpg': {'LMe_1.asc': [170.0, 122.0, 187.0, 379.0, 217.0, 191.0, 654.0, 237.0, 259.0, 303.0, 430.0, 345.0, 149.0, 273.0, 264.0, 269.0, 107.0, 161.0, 127.0, 265.0, 229.0, 377.0, 280.0, 435.0, 196.0, 311.0, 118.0, 368.0, 188.0, 333.0, 261.0, 475.0, 161.0], 'LMe_37.asc': [150.0, 218.0, 309.0, 219.0, 221.0, 274.0, 147.0, 370.0, 207.0, 207.0, 244.0, 177.0, 246.0, 124.0, 167.0, 35.0, 447.0, 73.0, 278.0, 304.0, 167.0, 303.0, 197.0, 1128.0, 285.0, 262.0, 184.0, 419.0, 243.0, 334.0, 463.0, 147.0, 205.0], 'LMe_4.asc': [166.0, 246.0, 222.0, 142.0, 164.0, 202.0, 202.0, 200.0, 208.0, 251.0, 508.0, 130.0, 263.0, 155.0, 302.0, 188.0, 358.0, 101.0, 137.0, 272.0, 307.0, 342.0, 313.0, 437.0, 375.0, 237.0, 298.0, 419.0, 118.0, 165.0, 220.0, 242.0, 153.0, 376.0, 216.0, 238.0], 'LMe_40.asc': [234.0, 376.0, 271.0, 351.0, 355.0, 271.0, 152.0, 350.0, 302.0, 250.0, 466.0, 109.0, 420.0, 328.0, 312.0, 424.0, 214.0, 435.0, 370.0, 276.0, 350.0, 172.0, 287.0, 158.0, 276.0, 312.0, 248.0, 185.0, 166.0, 36.0], 'LMe_41.asc': [81.0, 176.0, 156.0, 191.0, 131.0, 301.0, 356.0, 160.0, 249.0, 313.0, 191.0, 396.0, 153.0, 163.0, 201.0, 175.0, 387.0, 200.0, 200.0, 355.0, 259.0, 215.0, 165.0, 120.0, 111.0, 255.0, 244.0, 142.0, 314.0, 203.0, 212.0, 250.0, 204.0, 176.0, 231.0, 147.0, 147.0, 36.0], 'LMe_5.asc': [152.0, 233.0, 138.0, 159.0, 269.0, 220.0, 225.0, 93.0, 180.0, 71.0, 248.0, 110.0, 22.0, 344.0, 246.0, 238.0, 82.0, 250.0, 258.0, 171.0, 140.0, 321.0, 183.0, 241.0, 185.0, 246.0, 202.0, 180.0, 194.0, 440.0, 142.0, 156.0, 246.0, 114.0, 191.0, 117.0, 108.0, 112.0, 453.0, 161.0, 454.0, 340.0]}, 'indoor_0604.jpg': {'LMe_1.asc': [144.0, 104.0, 228.0, 158.0, 410.0, 237.0, 185.0, 295.0, 169.0, 282.0, 343.0, 182.0, 271.0, 260.0, 136.0, 248.0, 241.0, 130.0, 213.0, 145.0, 268.0, 325.0, 318.0, 177.0, 101.0, 385.0, 120.0, 168.0, 663.0, 1879.0], 'LMe_37.asc': [131.0, 150.0, 122.0, 376.0, 212.0, 264.0, 396.0, 176.0, 170.0, 86.0, 173.0, 194.0, 207.0, 73.0, 79.0, 151.0, 298.0, 149.0, 354.0, 492.0, 272.0, 189.0, 244.0, 158.0, 316.0, 178.0, 135.0, 445.0, 182.0, 151.0, 321.0, 139.0, 272.0, 240.0, 153.0, 118.0, 122.0, 130.0], 'LMe_4.asc': [120.0, 240.0, 122.0, 177.0, 230.0, 212.0, 319.0, 351.0, 172.0, 254.0, 353.0, 361.0, 334.0, 295.0, 538.0, 442.0, 257.0, 390.0, 383.0, 629.0, 512.0, 288.0, 339.0, 298.0, 152.0, 179.0, 167.0, 185.0, 310.0, 353.0, 71.0], 'LMe_40.asc': [146.0, 265.0, 130.0, 190.0, 191.0, 435.0, 241.0, 385.0, 189.0, 272.0, 246.0, 440.0, 183.0, 150.0, 231.0, 348.0, 217.0, 162.0, 174.0, 339.0, 269.0, 151.0, 313.0, 266.0, 152.0, 205.0, 258.0, 221.0, 292.0, 337.0, 288.0, 190.0, 460.0, 149.0], 'LMe_41.asc': [63.0, 260.0, 211.0, 304.0, 208.0, 177.0, 169.0, 232.0, 271.0, 254.0, 511.0, 240.0, 237.0, 219.0, 219.0, 199.0, 332.0, 177.0, 175.0, 260.0, 265.0, 332.0, 251.0, 241.0, 119.0, 220.0, 211.0, 203.0, 128.0, 176.0, 231.0, 94.0, 153.0, 118.0, 201.0], 'LMe_5.asc': [100.0, 123.0, 141.0, 126.0, 257.0, 252.0, 166.0, 57.0, 239.0, 127.0, 247.0, 253.0, 170.0, 123.0, 175.0, 106.0, 376.0, 259.0, 254.0, 519.0, 367.0, 195.0, 334.0, 360.0, 135.0, 561.0, 251.0, 666.0, 77.0, 153.0, 203.0, 144.0, 116.0, 147.0, 172.0, 386.0, 91.0, 175.0]}, 'living_room_0058_rgbImage_001765.jpg': {'LMe_1.asc': [281.0, 311.0, 108.0, 315.0, 164.0, 202.0, 190.0, 268.0, 259.0, 125.0, 140.0, 162.0, 250.0, 259.0, 285.0, 464.0, 325.0, 223.0, 139.0, 240.0, 361.0, 235.0, 316.0, 303.0, 306.0, 265.0, 436.0, 210.0, 274.0, 458.0, 520.0, 218.0], 'LMe_37.asc': [251.0, 165.0, 167.0, 136.0, 143.0, 294.0, 205.0, 148.0, 296.0, 239.0, 308.0, 153.0, 138.0, 196.0, 297.0, 259.0, 113.0, 228.0, 205.0, 293.0, 280.0, 257.0, 204.0, 244.0, 235.0, 123.0, 88.0, 453.0, 305.0, 224.0, 108.0, 193.0, 236.0, 573.0, 367.0, 333.0, 149.0], 'LMe_4.asc': [158.0, 274.0, 110.0, 149.0, 271.0, 274.0, 125.0, 298.0, 473.0, 344.0, 225.0, 196.0, 260.0, 182.0, 154.0, 228.0, 343.0, 325.0, 227.0, 234.0, 251.0, 390.0, 187.0, 100.0, 256.0, 266.0, 234.0, 354.0, 136.0, 269.0, 237.0, 535.0, 235.0, 201.0, 86.0], 'LMe_40.asc': [262.0, 116.0, 164.0, 191.0, 289.0, 211.0, 241.0, 270.0, 137.0, 179.0, 223.0, 282.0, 142.0, 368.0, 192.0, 487.0, 184.0, 414.0, 54.0, 232.0, 249.0, 996.0, 3037.0], 'LMe_41.asc': [90.0, 260.0, 294.0, 160.0, 190.0, 193.0, 272.0, 119.0, 298.0, 139.0, 104.0, 247.0, 340.0, 151.0, 396.0, 163.0, 449.0, 230.0, 277.0, 234.0, 176.0, 266.0, 246.0, 153.0, 297.0, 203.0, 258.0, 202.0, 226.0, 240.0, 346.0, 129.0, 33.0, 342.0, 202.0, 194.0, 172.0], 'LMe_5.asc': [259.0, 132.0, 270.0, 242.0, 153.0, 206.0, 171.0, 290.0, 172.0, 323.0, 187.0, 161.0, 973.0, 202.0, 129.0, 217.0, 165.0, 348.0, 282.0, 167.0, 233.0, 419.0, 149.0, 184.0, 546.0, 242.0, 270.0, 158.0, 425.0, 262.0, 122.0, 202.0, 140.0, 209.0, 36.0]}, 'kitchen037.jpg': {'LMe_1.asc': [157.0, 161.0, 207.0, 176.0, 199.0, 109.0, 205.0, 150.0, 218.0, 602.0, 250.0, 106.0, 261.0, 132.0, 152.0, 173.0, 190.0, 175.0, 143.0, 199.0, 309.0, 267.0, 248.0, 339.0, 170.0, 318.0, 103.0, 182.0, 126.0, 190.0, 206.0, 146.0, 161.0, 169.0, 262.0, 186.0, 170.0, 229.0, 109.0, 291.0, 243.0, 269.0], 'LMe_37.asc': [127.0, 239.0, 254.0, 289.0, 206.0, 186.0, 153.0, 163.0, 191.0, 160.0, 260.0, 227.0, 250.0, 263.0, 114.0, 402.0, 400.0, 747.0, 207.0, 259.0, 28.0, 204.0, 208.0, 344.0, 282.0, 168.0, 166.0, 199.0, 221.0, 321.0, 213.0, 225.0, 86.0, 248.0, 276.0, 163.0, 111.0, 212.0], 'LMe_4.asc': [174.0, 175.0, 132.0, 216.0, 187.0, 242.0, 180.0, 165.0, 119.0, 484.0, 314.0, 266.0, 233.0, 150.0, 168.0, 125.0, 160.0, 166.0, 102.0, 217.0, 144.0, 275.0, 155.0, 469.0, 140.0, 164.0, 252.0, 181.0, 224.0, 267.0, 230.0, 134.0, 177.0, 162.0, 248.0, 138.0, 258.0, 192.0, 158.0, 243.0, 214.0], 'LMe_40.asc': [373.0, 221.0, 145.0, 198.0, 152.0, 342.0, 255.0, 367.0, 210.0, 365.0, 293.0, 89.0, 505.0, 215.0, 185.0, 343.0, 129.0, 164.0, 271.0, 162.0, 233.0, 184.0, 278.0, 625.0, 561.0, 358.0, 907.0, 459.0, 372.0, 130.0], 'LMe_41.asc': [185.0, 177.0, 237.0, 208.0, 201.0, 198.0, 223.0, 248.0, 127.0, 197.0, 307.0, 550.0, 223.0, 257.0, 191.0, 302.0, 538.0, 391.0, 270.0, 127.0, 205.0, 1087.0, 367.0, 133.0, 149.0, 158.0, 191.0, 300.0, 174.0, 506.0, 218.0, 79.0], 'LMe_5.asc': [137.0, 136.0, 406.0, 211.0, 188.0, 342.0, 132.0, 49.0, 298.0, 1056.0, 282.0, 200.0, 424.0, 234.0, 151.0, 348.0, 262.0, 167.0, 245.0, 85.0, 147.0, 162.0, 142.0, 300.0, 103.0, 168.0, 162.0, 128.0, 159.0, 214.0, 775.0, 497.0, 187.0, 111.0, 353.0]}, 'dining46.jpg': {'LMe_1.asc': [210.0, 123.0, 144.0, 307.0, 139.0, 150.0, 157.0, 240.0, 210.0, 281.0, 413.0, 212.0, 275.0, 162.0, 158.0, 195.0, 132.0, 153.0, 178.0, 264.0, 731.0, 376.0, 207.0, 218.0, 158.0, 176.0, 320.0, 154.0, 215.0, 142.0, 158.0, 209.0, 186.0, 253.0, 231.0, 182.0, 158.0, 182.0, 308.0], 'LMe_37.asc': [330.0, 289.0, 138.0, 356.0, 147.0, 372.0, 254.0, 245.0, 312.0, 342.0, 299.0, 292.0, 253.0, 181.0, 151.0, 166.0, 348.0, 212.0, 199.0, 205.0, 975.0, 401.0, 224.0, 147.0, 202.0, 256.0, 321.0, 213.0, 181.0, 331.0, 165.0, 726.0], 'LMe_4.asc': [180.0, 335.0, 353.0, 115.0, 226.0, 264.0, 226.0, 137.0, 174.0, 266.0, 493.0, 204.0, 135.0, 148.0, 363.0, 409.0, 286.0, 217.0, 190.0, 135.0, 324.0, 501.0, 233.0, 231.0, 165.0, 160.0, 357.0, 184.0, 383.0, 216.0, 228.0, 293.0, 225.0, 214.0, 273.0], 'LMe_40.asc': [163.0, 234.0, 276.0, 247.0, 158.0, 188.0, 295.0, 157.0, 293.0, 340.0, 162.0, 207.0, 236.0, 331.0, 312.0, 465.0, 271.0, 154.0, 156.0, 169.0, 232.0, 209.0, 194.0, 151.0, 255.0, 173.0, 153.0, 298.0, 224.0, 253.0, 191.0, 192.0, 248.0, 334.0, 214.0, 257.0, 274.0], 'LMe_41.asc': [162.0, 128.0, 202.0, 180.0, 244.0, 123.0, 238.0, 202.0, 377.0, 323.0, 121.0, 276.0, 206.0, 250.0, 243.0, 233.0, 239.0, 287.0, 215.0, 264.0, 461.0, 226.0, 360.0, 186.0, 63.0, 280.0, 571.0, 258.0, 262.0, 210.0, 209.0, 197.0, 491.0, 261.0, 77.0], 'LMe_5.asc': [136.0, 118.0, 344.0, 275.0, 224.0, 268.0, 191.0, 189.0, 95.0, 148.0, 223.0, 262.0, 179.0, 163.0, 125.0, 253.0, 158.0, 54.0, 241.0, 171.0, 267.0, 167.0, 180.0, 252.0, 208.0, 156.0, 197.0, 143.0, 158.0, 295.0, 329.0, 278.0, 258.0, 121.0, 550.0, 205.0, 318.0, 228.0, 189.0, 249.0, 189.0, 113.0]}, 'kitchen35.jpg': {'LMe_1.asc': [166.0, 263.0, 62.0, 293.0, 126.0, 270.0, 484.0, 565.0, 221.0, 156.0, 298.0, 41.0, 103.0, 204.0, 74.0, 133.0, 122.0, 155.0, 146.0, 228.0, 271.0, 204.0, 128.0, 144.0, 757.0, 138.0, 268.0, 154.0, 177.0, 302.0, 226.0, 265.0, 456.0, 140.0, 116.0, 187.0, 185.0, 309.0], 'LMe_37.asc': [183.0, 174.0, 181.0, 128.0, 244.0, 100.0, 228.0, 142.0, 144.0, 114.0, 187.0, 161.0, 300.0, 190.0, 311.0, 204.0, 197.0, 253.0, 197.0, 237.0, 128.0, 363.0, 203.0, 101.0, 165.0, 285.0, 191.0, 263.0, 196.0, 127.0, 104.0, 374.0, 156.0, 130.0, 124.0, 333.0, 389.0, 701.0, 390.0], 'LMe_4.asc': [103.0, 189.0, 153.0, 203.0, 134.0, 178.0, 188.0, 156.0, 153.0, 227.0, 276.0, 304.0, 27.0, 254.0, 239.0, 144.0, 163.0, 251.0, 287.0, 184.0, 210.0, 166.0, 129.0, 233.0, 162.0, 255.0, 134.0, 411.0, 299.0, 389.0, 254.0, 241.0, 420.0, 184.0, 811.0, 407.0], 'LMe_40.asc': [246.0, 148.0, 194.0, 170.0, 323.0, 167.0, 119.0, 266.0, 147.0, 179.0, 238.0, 126.0, 406.0, 421.0, 261.0, 166.0, 245.0, 333.0, 204.0, 189.0, 138.0, 240.0, 241.0, 137.0, 206.0, 275.0, 243.0, 303.0, 274.0, 133.0, 159.0, 212.0, 303.0, 237.0, 160.0, 138.0, 261.0], 'LMe_41.asc': [105.0, 177.0, 229.0, 193.0, 218.0, 346.0, 89.0, 165.0, 217.0, 485.0, 46.0, 337.0, 198.0, 248.0, 91.0, 224.0, 211.0, 190.0, 163.0, 171.0, 195.0, 181.0, 165.0, 228.0, 135.0, 264.0, 294.0, 163.0, 453.0, 192.0, 104.0, 216.0, 312.0, 290.0, 148.0, 189.0, 159.0], 'LMe_5.asc': [149.0, 67.0, 209.0, 221.0, 170.0, 250.0, 306.0, 369.0, 185.0, 494.0, 254.0, 160.0, 359.0, 277.0, 146.0, 139.0, 601.0, 238.0, 256.0, 547.0, 276.0, 91.0, 128.0, 173.0, 94.0, 211.0, 254.0, 947.0, 330.0, 233.0, 59.0, 246.0, 264.0, 47.0]}, 'kitchen169.jpg': {'LMe_1.asc': [185.0, 137.0, 274.0, 205.0, 236.0, 222.0, 174.0, 406.0, 288.0, 149.0, 201.0, 208.0, 237.0, 191.0, 349.0, 175.0, 127.0, 221.0, 185.0, 175.0, 146.0, 150.0, 142.0, 322.0, 87.0, 122.0, 153.0, 272.0, 206.0, 132.0, 278.0, 491.0, 647.0, 208.0, 273.0, 180.0, 156.0, 200.0], 'LMe_37.asc': [128.0, 229.0, 246.0, 384.0, 168.0, 134.0, 110.0, 369.0, 158.0, 138.0, 174.0, 262.0, 230.0, 40.0, 168.0, 114.0, 363.0, 229.0, 112.0, 295.0, 152.0, 140.0, 338.0, 182.0, 864.0, 358.0, 193.0, 549.0, 148.0, 138.0, 221.0, 299.0, 275.0, 41.0, 166.0, 272.0, 97.0], 'LMe_4.asc': [133.0, 221.0, 227.0, 198.0, 190.0, 267.0, 277.0, 216.0, 109.0, 292.0, 264.0, 275.0, 514.0, 249.0, 233.0, 144.0, 323.0, 110.0, 141.0, 149.0, 117.0, 251.0, 131.0, 236.0, 223.0, 215.0, 229.0, 155.0, 209.0, 171.0, 403.0, 251.0, 182.0, 224.0, 375.0, 222.0, 241.0], 'LMe_40.asc': [258.0, 171.0, 219.0, 265.0, 264.0, 262.0, 187.0, 381.0, 292.0, 287.0, 236.0, 281.0, 29.0, 144.0, 219.0, 136.0, 283.0, 403.0, 208.0, 389.0, 332.0, 226.0, 296.0, 338.0, 226.0, 144.0, 208.0, 306.0, 220.0, 474.0, 324.0, 671.0], 'LMe_41.asc': [32.0, 151.0, 291.0, 148.0, 259.0, 190.0, 366.0, 280.0, 185.0, 229.0, 273.0, 170.0, 264.0, 181.0, 79.0, 482.0, 287.0, 457.0, 285.0, 254.0, 210.0, 234.0, 214.0, 216.0, 223.0, 105.0, 50.0, 137.0, 164.0, 246.0, 223.0, 181.0, 157.0, 183.0, 150.0, 292.0], 'LMe_5.asc': [183.0, 197.0, 165.0, 251.0, 369.0, 100.0, 489.0, 227.0, 213.0, 310.0, 137.0, 27.0, 196.0, 184.0, 156.0, 121.0, 253.0, 140.0, 109.0, 391.0, 336.0, 400.0, 228.0, 710.0, 554.0, 327.0, 143.0]}, 'kitchen060.jpg': {'LMe_1.asc': [172.0, 254.0, 173.0, 149.0, 275.0, 191.0, 150.0, 294.0, 222.0, 175.0, 520.0, 152.0, 266.0, 165.0, 244.0, 86.0, 328.0, 699.0, 131.0, 252.0, 124.0, 274.0, 271.0, 449.0, 214.0, 255.0, 235.0, 176.0, 182.0, 113.0, 462.0, 347.0, 254.0, 276.0, 131.0], 'LMe_37.asc': [232.0, 183.0, 424.0, 300.0, 191.0, 128.0, 192.0, 162.0, 308.0, 214.0, 164.0, 357.0, 347.0, 340.0, 546.0, 496.0, 338.0, 432.0, 406.0, 216.0, 166.0, 430.0, 671.0, 147.0, 949.0, 447.0, 281.0], 'LMe_4.asc': [129.0, 137.0, 148.0, 198.0, 346.0, 124.0, 268.0, 382.0, 287.0, 209.0, 262.0, 110.0, 172.0, 386.0, 173.0, 189.0, 183.0, 121.0, 193.0, 215.0, 178.0, 284.0, 397.0, 109.0, 438.0, 664.0, 359.0, 302.0, 190.0, 1007.0, 303.0, 146.0], 'LMe_40.asc': [278.0, 301.0, 428.0, 155.0, 297.0, 114.0, 174.0, 150.0, 233.0, 238.0, 149.0, 312.0, 203.0, 237.0, 304.0, 172.0, 386.0, 275.0, 231.0, 431.0, 297.0, 270.0, 223.0, 443.0, 317.0, 263.0, 126.0, 725.0, 299.0, 125.0, 276.0, 163.0, 165.0], 'LMe_41.asc': [64.0, 162.0, 133.0, 334.0, 179.0, 303.0, 230.0, 161.0, 315.0, 140.0, 155.0, 231.0, 154.0, 247.0, 205.0, 188.0, 235.0, 190.0, 154.0, 118.0, 391.0, 273.0, 86.0, 245.0, 98.0, 301.0, 194.0, 136.0, 287.0, 174.0, 298.0, 251.0, 136.0, 203.0, 164.0, 173.0, 60.0, 199.0, 231.0, 222.0], 'LMe_5.asc': [172.0, 190.0, 150.0, 307.0, 283.0, 155.0, 188.0, 118.0, 293.0, 159.0, 195.0, 113.0, 318.0, 250.0, 221.0, 108.0, 785.0, 25.0, 319.0, 67.0, 255.0, 107.0, 193.0, 393.0, 115.0, 130.0, 90.0, 591.0, 165.0, 145.0, 307.0, 113.0, 214.0, 113.0, 54.0, 53.0, 158.0, 237.0, 141.0]}, 'dining35.jpg': {'LMe_1.asc': [68.0, 235.0, 290.0, 463.0, 229.0, 152.0, 172.0, 230.0, 119.0, 207.0, 119.0, 277.0, 399.0, 438.0, 236.0, 88.0, 188.0, 258.0, 211.0, 284.0, 205.0, 206.0, 149.0, 270.0, 186.0, 331.0, 374.0, 256.0, 232.0, 178.0, 352.0, 261.0, 765.0, 296.0], 'LMe_38.asc': [179.0, 129.0, 250.0, 207.0, 238.0, 280.0, 205.0, 346.0, 354.0, 337.0, 232.0, 199.0, 135.0, 118.0, 166.0, 278.0, 228.0, 216.0, 191.0, 224.0, 199.0, 231.0, 426.0, 234.0, 250.0, 238.0, 211.0, 174.0, 301.0, 177.0, 213.0, 198.0, 221.0, 190.0, 264.0, 248.0], 'LMe_39.asc': [318.0, 208.0, 113.0, 213.0, 518.0, 190.0, 261.0, 245.0, 186.0, 301.0, 236.0, 270.0, 71.0, 342.0, 204.0, 370.0, 191.0, 183.0, 212.0, 292.0, 244.0, 245.0, 257.0, 251.0, 243.0, 183.0, 168.0, 239.0, 443.0, 180.0, 303.0, 235.0, 213.0, 181.0], 'LMe_4.asc': [128.0, 179.0, 112.0, 266.0, 270.0, 228.0, 163.0, 201.0, 151.0, 189.0, 261.0, 80.0, 142.0, 189.0, 178.0, 170.0, 234.0, 171.0, 213.0, 182.0, 397.0, 236.0, 539.0, 239.0, 251.0, 225.0, 355.0, 231.0, 188.0, 581.0, 220.0, 304.0, 112.0, 225.0, 245.0, 303.0, 175.0, 36.0], 'LMe_42.asc': [], 'LMe_5.asc': [132.0, 217.0, 148.0, 197.0, 268.0, 327.0, 310.0, 152.0, 212.0, 288.0, 695.0, 207.0, 192.0, 196.0, 29.0, 264.0, 210.0, 232.0, 359.0, 133.0, 129.0, 240.0, 195.0, 296.0, 95.0, 254.0, 171.0, 129.0, 227.0, 34.0, 294.0, 125.0, 119.0, 170.0, 163.0, 281.0, 211.0, 156.0, 194.0, 302.0]}, 'img_6613.jpg': {'LMe_1.asc': [257.0, 332.0, 103.0, 264.0, 146.0, 280.0, 262.0, 168.0, 322.0, 117.0, 174.0, 168.0, 160.0, 238.0, 156.0, 296.0, 323.0, 537.0, 405.0, 207.0, 148.0, 22.0, 171.0, 173.0, 446.0, 225.0, 184.0, 184.0, 281.0, 53.0, 341.0, 177.0, 1403.0], 'LMe_37.asc': [158.0, 162.0, 566.0, 195.0, 188.0, 187.0, 272.0, 267.0, 278.0, 198.0, 201.0, 166.0, 347.0, 437.0, 175.0, 244.0, 224.0, 95.0, 273.0, 244.0, 243.0, 215.0, 184.0, 115.0, 99.0, 191.0, 155.0, 157.0, 273.0, 135.0, 176.0, 413.0, 258.0, 225.0, 131.0, 296.0, 198.0, 33.0], 'LMe_4.asc': [156.0, 110.0, 216.0, 239.0, 159.0, 258.0, 280.0, 341.0, 314.0, 230.0, 132.0, 157.0, 237.0, 205.0, 218.0, 112.0, 161.0, 115.0, 187.0, 290.0, 216.0, 339.0, 173.0, 297.0, 312.0, 211.0, 187.0, 243.0, 158.0, 750.0, 724.0, 330.0, 199.0, 253.0, 155.0], 'LMe_40.asc': [190.0, 265.0, 163.0, 243.0, 170.0, 248.0, 164.0, 260.0, 250.0, 278.0, 394.0, 407.0, 263.0, 199.0, 243.0, 163.0, 260.0, 211.0, 290.0, 196.0, 244.0, 108.0, 369.0, 174.0, 142.0, 490.0, 111.0, 389.0, 340.0, 314.0, 153.0, 163.0, 647.0], 'LMe_41.asc': [143.0, 149.0, 279.0, 221.0, 282.0, 329.0, 53.0, 210.0, 200.0, 76.0, 153.0, 376.0, 194.0, 203.0, 206.0, 323.0, 267.0, 258.0, 224.0, 159.0, 318.0, 90.0, 159.0, 270.0, 253.0, 132.0, 201.0, 193.0, 168.0, 151.0, 190.0, 263.0, 293.0, 291.0, 185.0, 332.0], 'LMe_5.asc': [167.0, 188.0, 172.0, 218.0, 223.0, 104.0, 615.0, 146.0, 437.0, 310.0, 91.0, 233.0, 108.0, 166.0, 300.0, 145.0, 125.0, 126.0, 186.0, 231.0, 157.0, 209.0, 83.0, 200.0, 129.0, 276.0, 143.0, 356.0, 217.0, 287.0, 280.0, 232.0, 119.0, 275.0, 143.0, 258.0, 425.0]}, 'office_kitchen_0003_rgbImage_000008.jpg': {'LMe_1.asc': [84.0, 126.0, 225.0, 208.0, 329.0, 205.0, 200.0, 505.0, 341.0, 579.0, 250.0, 185.0, 400.0, 498.0, 194.0, 224.0, 191.0, 280.0, 204.0, 271.0, 170.0, 203.0, 208.0, 128.0, 149.0, 863.0, 718.0, 201.0, 269.0, 140.0, 272.0], 'LMe_37.asc': [347.0, 282.0, 250.0, 574.0, 392.0, 211.0, 282.0, 207.0, 106.0, 155.0, 238.0, 149.0, 332.0, 227.0, 405.0, 336.0, 141.0, 159.0, 361.0, 136.0, 167.0, 336.0, 162.0, 304.0, 467.0, 580.0, 102.0, 305.0, 168.0, 168.0, 178.0, 88.0], 'LMe_4.asc': [148.0, 122.0, 146.0, 219.0, 260.0, 313.0, 142.0, 138.0, 110.0, 863.0, 437.0, 263.0, 100.0, 161.0, 361.0, 266.0, 369.0, 200.0, 159.0, 194.0, 127.0, 481.0, 375.0, 646.0, 439.0, 120.0, 250.0, 125.0, 163.0, 1111.0], 'LMe_40.asc': [143.0, 175.0, 385.0, 122.0, 162.0, 372.0, 105.0, 253.0, 151.0, 123.0, 250.0, 165.0, 306.0, 173.0, 197.0, 295.0, 481.0, 291.0, 425.0, 200.0, 174.0, 267.0, 135.0, 207.0, 276.0, 383.0, 338.0, 31.0], 'LMe_41.asc': [150.0, 334.0, 201.0, 134.0, 263.0, 185.0, 278.0, 185.0, 183.0, 156.0, 260.0, 238.0, 178.0, 85.0, 150.0, 125.0, 328.0, 306.0, 198.0, 356.0, 273.0, 138.0, 214.0, 135.0, 158.0, 93.0, 207.0, 117.0, 115.0, 195.0, 177.0, 213.0, 114.0, 133.0, 208.0, 116.0, 135.0, 185.0, 35.0], 'LMe_5.asc': [182.0, 243.0, 179.0, 270.0, 410.0, 163.0, 213.0, 84.0, 204.0, 493.0, 442.0, 231.0, 181.0, 280.0, 253.0, 34.0, 153.0, 484.0, 342.0, 248.0, 239.0, 312.0, 114.0, 65.0, 362.0, 340.0, 207.0, 276.0, 146.0, 154.0, 105.0, 253.0, 235.0, 40.0, 163.0, 62.0, 160.0, 201.0, 61.0]}, 'pittsburgh_IMG_4077.jpg': {'LMe_1.asc': [45.0, 264.0, 406.0, 650.0, 398.0, 113.0, 243.0, 333.0, 438.0, 396.0, 288.0, 365.0, 104.0, 392.0, 514.0, 296.0, 364.0, 204.0, 157.0, 243.0, 256.0, 141.0, 254.0, 144.0, 213.0, 330.0, 229.0, 160.0, 385.0, 285.0, 172.0], 'LMe_37.asc': [203.0, 484.0, 50.0, 258.0, 585.0, 396.0, 405.0, 165.0, 249.0, 212.0, 210.0, 328.0, 414.0, 248.0, 29.0, 171.0, 277.0, 283.0, 173.0, 269.0, 429.0, 256.0, 217.0, 188.0, 118.0, 148.0, 230.0, 269.0, 52.0, 121.0, 205.0, 281.0, 364.0, 264.0], 'LMe_4.asc': [104.0, 410.0, 517.0, 250.0, 360.0, 327.0, 325.0, 287.0, 165.0, 246.0, 248.0, 678.0, 374.0, 306.0, 94.0, 198.0, 414.0, 392.0, 284.0, 156.0, 132.0, 142.0, 253.0, 246.0, 307.0, 946.0, 357.0, 622.0], 'LMe_40.asc': [160.0, 278.0, 349.0, 428.0, 487.0, 754.0, 384.0, 500.0, 375.0, 187.0, 307.0, 380.0, 229.0, 236.0, 462.0, 300.0, 333.0, 272.0, 2103.0, 122.0, 110.0, 142.0, 105.0], 'LMe_41.asc': [183.0, 109.0, 306.0, 438.0, 642.0, 238.0, 251.0, 430.0, 385.0, 818.0, 81.0, 329.0, 636.0, 285.0, 191.0, 175.0, 256.0, 48.0, 270.0, 240.0, 377.0, 387.0, 266.0, 104.0, 244.0, 406.0, 205.0, 160.0, 79.0], 'LMe_5.asc': [207.0, 246.0, 464.0, 336.0, 68.0, 189.0, 152.0, 379.0, 388.0, 596.0, 394.0, 308.0, 314.0, 250.0, 529.0, 267.0, 376.0, 530.0, 408.0, 237.0, 193.0, 309.0, 116.0, 315.0, 341.0, 179.0, 136.0, 278.0, 126.0, 240.0, 116.0]}, 'homeoff002.jpg': {'LMe_1.asc': [171.0, 83.0, 200.0, 199.0, 183.0, 244.0, 133.0, 128.0, 164.0, 249.0, 122.0, 193.0, 208.0, 176.0, 216.0, 83.0, 311.0, 147.0, 128.0, 291.0, 232.0, 198.0, 207.0, 545.0, 256.0, 188.0, 80.0, 238.0, 219.0, 194.0, 370.0, 226.0, 245.0, 110.0, 391.0, 248.0, 164.0, 205.0, 334.0, 148.0], 'LMe_38.asc': [123.0, 576.0, 179.0, 356.0, 210.0, 160.0, 423.0, 165.0, 207.0, 147.0, 233.0, 124.0, 167.0, 476.0, 209.0, 208.0, 210.0, 318.0, 199.0, 215.0, 191.0, 276.0, 253.0, 121.0, 257.0, 154.0, 217.0, 172.0, 532.0, 329.0, 145.0, 479.0, 118.0], 'LMe_39.asc': [289.0, 185.0, 149.0, 193.0, 157.0, 251.0, 131.0, 258.0, 212.0, 216.0, 230.0, 134.0, 191.0, 532.0, 231.0, 287.0, 332.0, 302.0, 302.0, 204.0, 229.0, 111.0, 196.0, 176.0, 211.0, 120.0, 389.0, 198.0, 297.0, 115.0, 263.0, 361.0, 191.0, 456.0, 66.0], 'LMe_4.asc': [152.0, 109.0, 126.0, 147.0, 236.0, 232.0, 154.0, 147.0, 191.0, 207.0, 99.0, 127.0, 147.0, 160.0, 137.0, 238.0, 161.0, 325.0, 124.0, 231.0, 280.0, 201.0, 531.0, 101.0, 346.0, 449.0, 352.0, 464.0, 408.0, 215.0, 332.0, 1338.0, 210.0], 'LMe_42.asc': [128.0, 173.0, 110.0, 250.0, 241.0, 341.0, 234.0, 289.0, 188.0, 222.0, 429.0, 241.0, 252.0, 316.0, 187.0, 193.0, 207.0, 244.0, 133.0, 162.0, 132.0, 152.0, 193.0, 125.0, 151.0, 137.0, 177.0, 56.0, 173.0, 531.0, 310.0, 156.0, 216.0, 50.0, 78.0, 159.0, 100.0, 222.0, 243.0], 'LMe_5.asc': [133.0, 253.0, 254.0, 188.0, 124.0, 136.0, 128.0, 47.0, 245.0, 237.0, 323.0, 170.0, 252.0, 201.0, 191.0, 132.0, 184.0, 117.0, 176.0, 158.0, 265.0, 293.0, 177.0, 97.0, 164.0, 300.0, 197.0, 243.0, 225.0, 219.0, 151.0, 222.0, 96.0, 213.0, 238.0, 268.0, 241.0, 278.0, 242.0, 189.0, 201.0]}, 'kitchen138.jpg': {'LMe_1.asc': [200.0, 149.0, 208.0, 474.0, 41.0, 406.0, 82.0, 517.0, 187.0, 383.0, 259.0, 179.0, 110.0, 380.0, 194.0, 270.0, 203.0, 199.0, 236.0, 212.0, 225.0, 258.0, 344.0, 363.0, 216.0, 136.0, 259.0, 179.0, 192.0, 152.0, 171.0, 154.0, 166.0, 105.0, 283.0, 167.0, 163.0, 136.0], 'LMe_37.asc': [660.0, 348.0, 339.0, 212.0, 196.0, 646.0, 391.0, 602.0, 312.0, 234.0, 311.0, 180.0, 383.0, 207.0, 134.0, 127.0, 308.0, 1275.0, 266.0, 280.0, 175.0, 185.0, 268.0, 338.0, 333.0, 181.0, 127.0], 'LMe_4.asc': [261.0, 198.0, 219.0, 197.0, 209.0, 172.0, 545.0, 265.0, 214.0, 168.0, 315.0, 351.0, 312.0, 253.0, 229.0, 127.0, 351.0, 157.0, 314.0, 216.0, 739.0, 252.0, 228.0, 334.0, 349.0, 413.0, 189.0, 916.0, 163.0], 'LMe_40.asc': [133.0, 226.0, 231.0, 84.0, 254.0, 398.0, 273.0, 251.0, 152.0, 295.0, 188.0, 362.0, 431.0, 386.0, 226.0, 188.0, 131.0, 241.0, 148.0, 278.0, 153.0, 248.0, 201.0, 155.0, 243.0, 386.0, 276.0, 213.0, 233.0, 92.0, 131.0, 187.0, 322.0, 171.0, 210.0, 189.0, 178.0], 'LMe_41.asc': [100.0, 239.0, 289.0, 219.0, 164.0, 251.0, 282.0, 213.0, 100.0, 186.0, 292.0, 198.0, 297.0, 460.0, 190.0, 193.0, 657.0, 335.0, 378.0, 387.0, 328.0, 170.0, 349.0, 376.0, 390.0, 310.0, 309.0, 144.0, 207.0, 208.0, 252.0, 220.0, 105.0, 126.0], 'LMe_5.asc': [152.0, 152.0, 143.0, 191.0, 334.0, 79.0, 295.0, 298.0, 217.0, 237.0, 185.0, 302.0, 399.0, 553.0, 135.0, 157.0, 213.0, 250.0, 42.0, 236.0, 251.0, 584.0, 201.0, 1053.0, 114.0, 177.0, 274.0, 631.0, 157.0, 753.0, 160.0, 205.0, 24.0]}, 'dining9.jpg': {'LMe_1.asc': [195.0, 199.0, 190.0, 193.0, 289.0, 142.0, 112.0, 195.0, 167.0, 177.0, 278.0, 120.0, 164.0, 232.0, 247.0, 264.0, 422.0, 104.0, 232.0, 294.0, 193.0, 313.0, 240.0, 266.0, 277.0, 155.0, 324.0, 134.0, 219.0, 243.0, 330.0, 126.0, 189.0, 170.0, 149.0, 229.0, 307.0, 123.0, 202.0, 157.0, 39.0], 'LMe_37.asc': [269.0, 205.0, 178.0, 121.0, 257.0, 318.0, 510.0, 117.0, 156.0, 178.0, 478.0, 158.0, 159.0, 132.0, 264.0, 245.0, 74.0, 467.0, 199.0, 189.0, 205.0, 130.0, 290.0, 360.0, 189.0, 101.0, 156.0, 219.0, 140.0, 212.0, 675.0, 383.0, 163.0, 220.0, 382.0, 170.0], 'LMe_4.asc': [152.0, 113.0, 297.0, 289.0, 358.0, 154.0, 213.0, 204.0, 244.0, 353.0, 310.0, 183.0, 254.0, 127.0, 311.0, 279.0, 262.0, 466.0, 386.0, 198.0, 210.0, 194.0, 248.0, 387.0, 251.0, 622.0, 218.0, 173.0, 183.0, 313.0, 214.0, 312.0, 158.0, 187.0], 'LMe_40.asc': [148.0, 278.0, 205.0, 315.0, 292.0, 193.0, 207.0, 214.0, 224.0, 293.0, 334.0, 421.0, 452.0, 121.0, 216.0, 194.0, 257.0, 41.0, 541.0, 352.0, 251.0, 117.0, 271.0, 200.0, 206.0, 267.0, 261.0, 112.0, 190.0, 282.0, 209.0, 194.0, 134.0, 267.0, 346.0], 'LMe_41.asc': [222.0, 230.0, 482.0, 206.0, 602.0, 314.0, 238.0, 186.0, 132.0, 111.0, 227.0, 127.0, 579.0, 206.0, 266.0, 548.0, 344.0, 617.0, 273.0, 171.0, 213.0, 170.0, 374.0, 251.0, 340.0, 455.0, 298.0, 103.0, 247.0, 90.0, 62.0], 'LMe_5.asc': [216.0, 193.0, 233.0, 159.0, 280.0, 128.0, 124.0, 621.0, 239.0, 285.0, 750.0, 46.0, 208.0, 172.0, 290.0, 256.0, 105.0, 210.0, 130.0, 253.0, 299.0, 130.0, 268.0, 142.0, 352.0, 170.0, 356.0, 178.0, 130.0, 241.0, 38.0, 174.0, 121.0, 207.0, 210.0, 188.0, 429.0, 44.0]}, 'dining3.jpg': {'LMe_1.asc': [162.0, 128.0, 146.0, 325.0, 213.0, 150.0, 148.0, 303.0, 426.0, 199.0, 378.0, 173.0, 294.0, 148.0, 222.0, 134.0, 227.0, 252.0, 106.0, 227.0, 585.0, 180.0, 281.0, 114.0, 593.0, 141.0, 266.0, 170.0, 278.0, 193.0, 151.0, 256.0, 215.0, 602.0, 130.0, 66.0], 'LMe_37.asc': [177.0, 166.0, 226.0, 91.0, 352.0, 139.0, 173.0, 273.0, 310.0, 137.0, 158.0, 164.0, 255.0, 205.0, 767.0, 491.0, 321.0, 177.0, 606.0, 436.0, 160.0, 164.0, 242.0, 117.0, 170.0, 154.0, 541.0, 594.0, 134.0, 134.0, 525.0, 194.0], 'LMe_4.asc': [261.0, 225.0, 173.0, 216.0, 218.0, 242.0, 148.0, 304.0, 60.0, 184.0, 152.0, 197.0, 255.0, 323.0, 190.0, 217.0, 321.0, 164.0, 392.0, 278.0, 183.0, 482.0, 146.0, 483.0, 179.0, 446.0, 175.0, 567.0, 498.0, 201.0, 124.0, 207.0, 320.0, 229.0], 'LMe_40.asc': [162.0, 146.0, 304.0, 182.0, 156.0, 360.0, 239.0, 116.0, 303.0, 281.0, 154.0, 186.0, 279.0, 396.0, 150.0, 208.0, 279.0, 850.0, 368.0, 314.0, 318.0, 306.0, 172.0, 180.0, 382.0, 270.0, 407.0, 204.0, 345.0, 167.0, 462.0], 'LMe_41.asc': [195.0, 268.0, 163.0, 457.0, 224.0, 162.0, 124.0, 356.0, 289.0, 293.0, 279.0, 179.0, 262.0, 150.0, 147.0, 184.0, 174.0, 230.0, 70.0, 179.0, 276.0, 187.0, 183.0, 264.0, 243.0, 143.0, 191.0, 174.0, 95.0, 169.0, 277.0, 335.0, 223.0, 248.0, 354.0], 'LMe_5.asc': [203.0, 47.0, 162.0, 67.0, 132.0, 99.0, 230.0, 88.0, 212.0, 65.0, 88.0, 226.0, 114.0, 145.0, 293.0, 269.0, 515.0, 217.0, 596.0, 217.0, 159.0, 186.0, 143.0, 197.0, 266.0, 413.0, 383.0, 201.0, 135.0, 36.0, 270.0, 397.0, 144.0, 1106.0, 168.0, 185.0, 156.0, 24.0, 131.0, 257.0]}, 'office_0003_rgbImage_000391.jpg': {'LMe_1.asc': [235.0, 148.0, 279.0, 86.0, 387.0, 106.0, 770.0, 293.0, 179.0, 266.0, 360.0, 376.0, 183.0, 300.0, 287.0, 142.0, 195.0, 216.0, 364.0, 166.0, 169.0, 297.0, 239.0, 413.0, 178.0, 298.0, 277.0, 216.0, 108.0, 346.0, 152.0, 189.0, 440.0, 64.0], 'LMe_37.asc': [247.0, 149.0, 158.0, 137.0, 304.0, 133.0, 282.0, 101.0, 196.0, 218.0, 257.0, 110.0, 253.0, 271.0, 709.0, 207.0, 409.0, 62.0, 353.0, 187.0, 181.0, 105.0, 148.0, 201.0, 268.0, 200.0, 345.0, 237.0, 290.0, 133.0, 207.0, 233.0, 262.0, 216.0, 169.0, 155.0, 144.0], 'LMe_4.asc': [83.0, 227.0, 262.0, 128.0, 310.0, 218.0, 356.0, 234.0, 226.0, 95.0, 148.0, 248.0, 274.0, 266.0, 250.0, 152.0, 1013.0, 398.0, 320.0, 426.0, 145.0, 140.0, 231.0, 436.0, 115.0, 945.0, 336.0, 293.0, 553.0], 'LMe_40.asc': [175.0, 150.0, 154.0, 485.0, 161.0, 330.0, 224.0, 1279.0, 405.0, 266.0, 400.0, 189.0, 536.0, 285.0, 315.0, 178.0, 407.0, 269.0, 414.0, 173.0, 320.0, 184.0, 359.0, 171.0, 187.0, 762.0], 'LMe_41.asc': [78.0, 212.0, 179.0, 296.0, 115.0, 152.0, 306.0, 185.0, 50.0, 163.0, 164.0, 133.0, 209.0, 493.0, 214.0, 248.0, 72.0, 172.0, 209.0, 136.0, 139.0, 191.0, 376.0, 462.0, 419.0, 114.0, 249.0, 209.0, 203.0, 283.0, 215.0, 90.0, 138.0, 275.0, 77.0], 'LMe_5.asc': [143.0, 50.0, 195.0, 251.0, 118.0, 310.0, 93.0, 668.0, 577.0, 188.0, 322.0, 113.0, 193.0, 453.0, 137.0, 185.0, 133.0, 172.0, 208.0, 674.0, 235.0, 193.0, 302.0, 393.0, 347.0, 203.0, 327.0, 189.0, 151.0, 425.0, 157.0, 286.0]}, 'dining048.jpg': {'LMe_1.asc': [139.0, 149.0, 353.0, 205.0, 334.0, 258.0, 156.0, 278.0, 417.0, 300.0, 287.0, 380.0, 247.0, 138.0, 144.0, 239.0, 294.0, 200.0, 311.0, 243.0, 789.0, 161.0, 257.0, 242.0, 185.0, 117.0, 313.0, 222.0, 200.0, 155.0, 274.0, 195.0, 252.0, 130.0], 'LMe_37.asc': [127.0, 230.0, 164.0, 137.0, 161.0, 252.0, 183.0, 191.0, 213.0, 342.0, 40.0, 195.0, 218.0, 306.0, 161.0, 230.0, 66.0, 53.0, 135.0, 157.0, 273.0, 197.0, 242.0, 73.0, 177.0, 201.0, 209.0, 248.0, 343.0, 211.0, 157.0, 379.0, 322.0, 170.0, 178.0, 215.0, 246.0, 187.0, 497.0], 'LMe_4.asc': [143.0, 142.0, 191.0, 159.0, 223.0, 269.0, 304.0, 304.0, 184.0, 223.0, 126.0, 250.0, 147.0, 165.0, 348.0, 165.0, 253.0, 76.0, 292.0, 173.0, 274.0, 245.0, 228.0, 321.0, 214.0, 149.0, 326.0, 360.0, 162.0, 1403.0, 138.0, 454.0, 52.0], 'LMe_40.asc': [165.0, 281.0, 135.0, 231.0, 209.0, 150.0, 252.0, 280.0, 264.0, 304.0, 260.0, 165.0, 405.0, 161.0, 198.0, 411.0, 195.0, 182.0, 146.0, 234.0, 265.0, 137.0, 192.0, 295.0, 204.0, 190.0, 161.0, 181.0, 214.0, 176.0, 291.0, 274.0, 174.0, 355.0, 125.0, 228.0, 51.0], 'LMe_41.asc': [235.0, 224.0, 207.0, 219.0, 186.0, 187.0, 208.0, 163.0, 303.0, 187.0, 281.0, 184.0, 187.0, 78.0, 206.0, 344.0, 448.0, 219.0, 160.0, 154.0, 189.0, 225.0, 103.0, 230.0, 222.0, 130.0, 277.0, 277.0, 262.0, 232.0, 211.0, 166.0, 298.0, 137.0, 251.0, 150.0, 195.0, 118.0], 'LMe_5.asc': [105.0, 69.0, 225.0, 186.0, 209.0, 125.0, 209.0, 286.0, 280.0, 257.0, 185.0, 200.0, 113.0, 128.0, 262.0, 215.0, 198.0, 55.0, 638.0, 442.0, 650.0, 205.0, 174.0, 261.0, 181.0, 255.0, 155.0, 232.0, 183.0, 213.0, 173.0, 1024.0, 249.0, 94.0, 210.0]}, 'kitchen_0060_rgbImage_000646.jpg': {'LMe_1.asc': [243.0, 53.0, 112.0, 1029.0, 194.0, 359.0, 383.0, 183.0, 155.0, 515.0, 105.0, 278.0, 227.0, 839.0, 334.0, 244.0, 456.0, 368.0, 170.0, 214.0, 836.0, 273.0, 168.0, 196.0, 273.0, 191.0, 122.0, 345.0], 'LMe_37.asc': [211.0, 194.0, 194.0, 269.0, 198.0, 198.0, 183.0, 259.0, 254.0, 309.0, 175.0, 200.0, 233.0, 804.0, 494.0, 351.0, 323.0, 217.0, 385.0, 188.0, 207.0, 123.0, 188.0, 107.0, 216.0, 186.0, 222.0, 239.0, 229.0, 165.0, 430.0, 153.0, 178.0, 361.0], 'LMe_4.asc': [151.0, 239.0, 180.0, 138.0, 355.0, 281.0, 208.0, 141.0, 204.0, 239.0, 80.0, 178.0, 270.0, 122.0, 249.0, 131.0, 194.0, 442.0, 224.0, 386.0, 304.0, 298.0, 352.0, 224.0, 485.0, 166.0, 249.0, 386.0, 183.0, 740.0, 183.0, 326.0, 208.0, 293.0], 'LMe_40.asc': [191.0, 132.0, 249.0, 336.0, 201.0, 171.0, 149.0, 245.0, 119.0, 234.0, 181.0, 119.0, 270.0, 147.0, 212.0, 378.0, 339.0, 244.0, 292.0, 208.0, 155.0, 240.0, 337.0, 341.0, 795.0, 283.0, 184.0, 240.0, 241.0, 284.0, 61.0, 325.0, 107.0, 309.0, 380.0], 'LMe_41.asc': [123.0, 171.0, 189.0, 160.0, 262.0, 275.0, 223.0, 196.0, 198.0, 434.0, 192.0, 280.0, 132.0, 465.0, 142.0, 153.0, 154.0, 201.0, 921.0, 252.0, 325.0, 140.0, 329.0, 86.0, 249.0, 270.0, 301.0, 293.0, 221.0, 130.0, 253.0, 102.0, 292.0], 'LMe_5.asc': [115.0, 242.0, 136.0, 179.0, 241.0, 161.0, 311.0, 225.0, 192.0, 305.0, 82.0, 157.0, 154.0, 63.0, 182.0, 305.0, 223.0, 185.0, 281.0, 291.0, 215.0, 260.0, 231.0, 101.0, 487.0, 301.0, 204.0, 191.0, 305.0, 103.0, 153.0, 144.0, 220.0, 303.0, 180.0, 880.0, 180.0]}, 'estudio2.jpg': {'LMe_1.asc': [46.0, 139.0, 122.0, 116.0, 211.0, 102.0, 120.0, 333.0, 353.0, 183.0, 217.0, 194.0, 149.0, 201.0, 188.0, 284.0, 269.0, 133.0, 458.0, 310.0, 222.0, 153.0, 279.0, 236.0, 132.0, 158.0, 222.0, 130.0, 237.0, 111.0, 207.0, 413.0, 151.0, 186.0, 208.0, 231.0, 136.0, 169.0, 210.0, 264.0], 'LMe_37.asc': [198.0, 235.0, 383.0, 215.0, 94.0, 247.0, 329.0, 414.0, 185.0, 225.0, 233.0, 222.0, 151.0, 184.0, 159.0, 303.0, 103.0, 190.0, 230.0, 282.0, 103.0, 275.0, 272.0, 160.0, 243.0, 188.0, 236.0, 185.0, 373.0, 223.0, 348.0, 214.0, 199.0, 200.0, 150.0, 110.0, 187.0], 'LMe_4.asc': [97.0, 124.0, 173.0, 188.0, 195.0, 244.0, 197.0, 167.0, 225.0, 347.0, 291.0, 334.0, 207.0, 89.0, 145.0, 235.0, 291.0, 179.0, 287.0, 168.0, 151.0, 157.0, 48.0, 143.0, 175.0, 203.0, 369.0, 208.0, 178.0, 136.0, 258.0, 200.0, 177.0, 189.0, 177.0, 359.0, 194.0, 268.0, 153.0, 274.0, 201.0], 'LMe_40.asc': [107.0, 189.0, 140.0, 224.0, 193.0, 310.0, 154.0, 280.0, 286.0, 367.0, 98.0, 246.0, 244.0, 265.0, 210.0, 208.0, 191.0, 58.0, 315.0, 228.0, 308.0, 181.0, 338.0, 167.0, 123.0, 219.0, 95.0, 326.0, 282.0, 140.0, 321.0, 259.0, 207.0, 377.0, 397.0, 102.0, 92.0], 'LMe_41.asc': [66.0, 75.0, 150.0, 188.0, 221.0, 209.0, 391.0, 609.0, 204.0, 283.0, 203.0, 170.0, 287.0, 111.0, 171.0, 311.0, 142.0, 168.0, 102.0, 226.0, 91.0, 175.0, 275.0, 97.0, 364.0, 182.0, 227.0, 253.0, 542.0, 304.0, 287.0, 288.0, 258.0, 179.0, 230.0, 71.0], 'LMe_5.asc': [219.0, 150.0, 349.0, 90.0, 160.0, 187.0, 98.0, 196.0, 139.0, 27.0, 102.0, 134.0, 137.0, 138.0, 153.0, 258.0, 204.0, 26.0, 295.0, 21.0, 70.0, 216.0, 141.0, 225.0, 285.0, 204.0, 160.0, 220.0, 220.0, 173.0, 150.0, 235.0, 358.0, 200.0, 225.0, 228.0, 238.0, 356.0, 119.0, 203.0, 661.0, 254.0]}, 'dining38.jpg': {'LMe_1.asc': [113.0, 285.0, 247.0, 66.0, 120.0, 274.0, 509.0, 227.0, 303.0, 106.0, 253.0, 171.0, 200.0, 322.0, 120.0, 285.0, 287.0, 148.0, 113.0, 252.0, 137.0, 289.0, 270.0, 231.0, 220.0, 348.0, 189.0, 288.0, 193.0, 194.0, 390.0, 169.0, 184.0, 424.0, 657.0], 'LMe_37.asc': [199.0, 458.0, 162.0, 300.0, 186.0, 203.0, 210.0, 135.0, 506.0, 244.0, 376.0, 148.0, 226.0, 675.0, 589.0, 201.0, 242.0, 159.0, 205.0, 144.0, 188.0, 118.0, 189.0, 156.0, 197.0, 152.0, 194.0, 135.0, 144.0, 135.0, 188.0, 176.0, 171.0, 50.0, 219.0, 185.0, 121.0, 319.0], 'LMe_4.asc': [220.0, 150.0, 216.0, 247.0, 165.0, 376.0, 341.0, 254.0, 108.0, 241.0, 143.0, 164.0, 165.0, 174.0, 242.0, 214.0, 141.0, 226.0, 367.0, 664.0, 210.0, 317.0, 224.0, 353.0, 126.0, 227.0, 355.0, 136.0, 195.0, 258.0, 295.0, 381.0, 205.0, 455.0], 'LMe_40.asc': [164.0, 197.0, 171.0, 403.0, 415.0, 371.0, 381.0, 167.0, 204.0, 220.0, 197.0, 292.0, 98.0, 190.0, 257.0, 131.0, 222.0, 173.0, 205.0, 132.0, 193.0, 300.0, 211.0, 285.0, 256.0, 123.0, 440.0, 124.0, 188.0, 220.0, 205.0, 506.0, 207.0, 203.0, 71.0], 'LMe_41.asc': [179.0, 277.0, 219.0, 396.0, 307.0, 195.0, 160.0, 220.0, 258.0, 266.0, 103.0, 150.0, 152.0, 244.0, 157.0, 190.0, 69.0, 185.0, 268.0, 237.0, 125.0, 212.0, 172.0, 356.0, 222.0, 270.0, 234.0, 138.0, 385.0, 286.0, 717.0, 205.0, 205.0, 279.0], 'LMe_5.asc': [157.0, 87.0, 295.0, 176.0, 224.0, 131.0, 274.0, 174.0, 158.0, 165.0, 175.0, 187.0, 203.0, 172.0, 130.0, 181.0, 136.0, 263.0, 275.0, 153.0, 324.0, 155.0, 90.0, 468.0, 138.0, 192.0, 125.0, 488.0, 244.0, 389.0, 124.0, 53.0, 211.0, 606.0, 212.0, 121.0, 109.0, 181.0]}, 'bedroom18.jpg': {'LMe_1.asc': [143.0, 171.0, 230.0, 525.0, 280.0, 406.0, 196.0, 199.0, 229.0, 269.0, 280.0, 175.0, 240.0, 234.0, 334.0, 239.0, 252.0, 150.0, 374.0, 219.0, 374.0, 252.0, 264.0, 300.0, 296.0, 190.0, 320.0, 168.0, 242.0, 221.0, 168.0, 171.0], 'LMe_37.asc': [227.0, 203.0, 314.0, 220.0, 175.0, 169.0, 250.0, 285.0, 472.0, 302.0, 215.0, 278.0, 734.0, 224.0, 181.0, 435.0, 228.0, 147.0, 231.0, 293.0, 290.0, 323.0, 212.0, 178.0, 144.0, 231.0, 241.0, 159.0, 170.0, 136.0, 260.0, 143.0, 226.0, 139.0, 95.0], 'LMe_4.asc': [168.0, 176.0, 187.0, 183.0, 370.0, 140.0, 199.0, 428.0, 203.0, 652.0, 105.0, 185.0, 215.0, 143.0, 179.0, 201.0, 235.0, 132.0, 277.0, 168.0, 223.0, 184.0, 153.0, 218.0, 175.0, 145.0, 261.0, 201.0, 158.0, 171.0, 336.0, 177.0, 242.0, 215.0, 228.0, 161.0, 176.0, 216.0, 61.0], 'LMe_40.asc': [142.0, 227.0, 145.0, 189.0, 645.0, 387.0, 163.0, 118.0, 189.0, 177.0, 326.0, 271.0, 316.0, 157.0, 229.0, 262.0, 175.0, 184.0, 380.0, 277.0, 153.0, 413.0, 185.0, 192.0, 162.0, 325.0, 283.0, 153.0, 363.0, 109.0, 173.0, 267.0, 234.0, 245.0, 46.0], 'LMe_41.asc': [173.0, 276.0, 329.0, 89.0, 342.0, 328.0, 248.0, 397.0, 246.0, 353.0, 110.0, 239.0, 1034.0, 71.0, 244.0, 277.0, 355.0, 283.0, 319.0, 197.0, 313.0, 172.0, 260.0, 278.0, 266.0, 113.0, 259.0, 261.0, 225.0, 187.0, 184.0], 'LMe_5.asc': [109.0, 189.0, 134.0, 359.0, 107.0, 391.0, 167.0, 124.0, 202.0, 172.0, 269.0, 181.0, 164.0, 127.0, 234.0, 166.0, 259.0, 129.0, 49.0, 207.0, 174.0, 254.0, 202.0, 401.0, 210.0, 101.0, 122.0, 361.0, 317.0, 157.0, 229.0, 281.0, 297.0, 144.0, 268.0, 133.0, 150.0, 364.0, 276.0, 188.0]}, 'kitchen143.jpg': {'LMe_1.asc': [204.0, 142.0, 356.0, 135.0, 223.0, 63.0, 203.0, 287.0, 142.0, 154.0, 322.0, 77.0, 328.0, 324.0, 225.0, 245.0, 213.0, 237.0, 266.0, 244.0, 159.0, 226.0, 354.0, 290.0, 117.0, 265.0, 313.0, 359.0, 175.0, 143.0, 303.0, 222.0, 250.0, 271.0, 125.0, 175.0, 221.0], 'LMe_38.asc': [178.0, 238.0, 138.0, 250.0, 192.0, 403.0, 156.0, 579.0, 209.0, 391.0, 222.0, 392.0, 221.0, 225.0, 257.0, 270.0, 184.0, 204.0, 218.0, 181.0, 365.0, 384.0, 176.0, 223.0, 272.0, 178.0, 245.0, 177.0, 298.0, 162.0, 137.0, 220.0, 127.0, 265.0, 166.0, 83.0], 'LMe_39.asc': [214.0, 235.0, 211.0, 283.0, 350.0, 86.0, 167.0, 301.0, 226.0, 94.0, 408.0, 145.0, 254.0, 185.0, 57.0, 220.0, 226.0, 338.0, 222.0, 162.0, 390.0, 143.0, 344.0, 245.0, 199.0, 158.0, 186.0, 358.0, 119.0, 366.0, 229.0, 241.0, 218.0, 393.0, 250.0, 166.0, 30.0], 'LMe_4.asc': [121.0, 211.0, 75.0, 186.0, 257.0, 232.0, 138.0, 210.0, 190.0, 137.0, 310.0, 276.0, 219.0, 161.0, 246.0, 282.0, 173.0, 296.0, 151.0, 356.0, 195.0, 359.0, 356.0, 165.0, 222.0, 197.0, 213.0, 158.0, 193.0, 151.0, 147.0, 278.0, 365.0, 391.0, 141.0, 273.0, 200.0, 176.0, 113.0], 'LMe_42.asc': [], 'LMe_5.asc': [151.0, 187.0, 198.0, 254.0, 140.0, 137.0, 184.0, 242.0, 186.0, 197.0, 147.0, 168.0, 154.0, 157.0, 170.0, 350.0, 308.0, 222.0, 218.0, 274.0, 42.0, 320.0, 118.0, 144.0, 314.0, 172.0, 392.0, 119.0, 191.0, 265.0, 291.0, 61.0, 109.0, 159.0, 234.0, 455.0, 192.0, 293.0, 87.0, 306.0]}, 'hallway5.jpg': {'LMe_1.asc': [153.0, 227.0, 266.0, 224.0, 83.0, 286.0, 235.0, 224.0, 405.0, 275.0, 225.0, 632.0, 222.0, 233.0, 564.0, 194.0, 241.0, 189.0, 210.0, 353.0, 210.0, 310.0, 229.0, 179.0, 404.0, 293.0, 373.0, 278.0, 239.0, 259.0, 252.0, 161.0, 43.0], 'LMe_38.asc': [161.0, 155.0, 257.0, 282.0, 172.0, 113.0, 225.0, 258.0, 165.0, 152.0, 113.0, 133.0, 138.0, 222.0, 98.0, 287.0, 187.0, 220.0, 248.0, 469.0, 194.0, 239.0, 254.0, 165.0, 331.0, 409.0, 151.0, 281.0, 299.0, 691.0, 33.0, 261.0, 233.0, 213.0, 180.0, 178.0, 263.0], 'LMe_39.asc': [210.0, 308.0, 295.0, 152.0, 257.0, 121.0, 161.0, 176.0, 256.0, 144.0, 207.0, 224.0, 131.0, 270.0, 267.0, 369.0, 228.0, 329.0, 258.0, 169.0, 353.0, 203.0, 389.0, 111.0, 219.0, 203.0, 238.0, 214.0, 405.0, 128.0, 182.0, 291.0, 209.0, 127.0, 258.0, 224.0, 92.0], 'LMe_4.asc': [136.0, 194.0, 141.0, 178.0, 224.0, 152.0, 235.0, 149.0, 131.0, 155.0, 159.0, 267.0, 198.0, 295.0, 156.0, 213.0, 131.0, 406.0, 223.0, 201.0, 188.0, 227.0, 227.0, 175.0, 314.0, 282.0, 222.0, 156.0, 391.0, 209.0, 298.0, 151.0, 1274.0, 157.0, 137.0, 228.0], 'LMe_42.asc': [187.0, 196.0, 172.0, 266.0, 338.0, 120.0, 134.0, 229.0, 377.0, 548.0, 176.0, 249.0, 332.0, 267.0, 161.0, 127.0, 307.0, 165.0, 263.0, 169.0, 408.0, 260.0, 125.0, 200.0, 51.0, 186.0, 190.0, 78.0, 187.0, 146.0, 127.0, 36.0, 122.0, 159.0, 212.0, 297.0], 'LMe_5.asc': [23.0, 196.0, 167.0, 129.0, 123.0, 141.0, 154.0, 69.0, 60.0, 149.0, 231.0, 119.0, 111.0, 86.0, 151.0, 254.0, 1265.0, 263.0, 130.0, 130.0, 61.0, 94.0, 153.0, 165.0, 456.0, 193.0, 147.0, 243.0, 141.0, 575.0, 121.0, 149.0, 194.0, 205.0, 58.0, 161.0, 166.0, 212.0, 267.0, 288.0, 121.0, 193.0]}, 'kitchen057.jpg': {'LMe_2.asc': [206.0, 182.0, 152.0, 273.0, 259.0, 169.0, 304.0, 377.0, 312.0, 200.0, 481.0, 218.0, 213.0, 154.0, 142.0, 210.0, 165.0, 174.0, 553.0, 266.0, 211.0, 115.0, 160.0, 173.0, 148.0, 212.0, 294.0, 504.0, 201.0, 187.0, 400.0, 125.0, 224.0, 159.0, 305.0, 87.0], 'LMe_3.asc': [183.0, 119.0, 212.0, 178.0, 193.0, 260.0, 155.0, 205.0, 163.0, 232.0, 346.0, 128.0, 169.0, 141.0, 237.0, 370.0, 147.0, 271.0, 244.0, 197.0, 159.0, 247.0, 145.0, 183.0, 149.0, 250.0, 302.0, 250.0, 270.0, 160.0, 120.0, 172.0, 209.0, 152.0, 254.0, 229.0, 357.0, 246.0, 257.0], 'LMe_38.asc': [136.0, 187.0, 151.0, 235.0, 296.0, 262.0, 214.0, 219.0, 402.0, 462.0, 193.0, 296.0, 186.0, 312.0, 171.0, 48.0, 133.0, 122.0, 206.0, 176.0, 487.0, 246.0, 384.0, 233.0, 184.0, 100.0, 176.0, 193.0, 139.0, 365.0, 150.0, 135.0, 353.0, 259.0, 132.0, 327.0, 157.0], 'LMe_39.asc': [223.0, 165.0, 112.0, 143.0, 192.0, 195.0, 365.0, 326.0, 386.0, 376.0, 271.0, 124.0, 228.0, 264.0, 239.0, 352.0, 154.0, 226.0, 397.0, 368.0, 132.0, 280.0, 368.0, 277.0, 218.0, 284.0, 249.0, 289.0, 265.0, 214.0, 279.0, 161.0, 252.0, 147.0], 'LMe_42.asc': [145.0, 207.0, 238.0, 153.0, 243.0, 292.0, 326.0, 231.0, 248.0, 101.0, 136.0, 256.0, 183.0, 172.0, 265.0, 496.0, 415.0, 150.0, 121.0, 439.0, 551.0, 281.0, 127.0, 252.0, 220.0, 654.0, 205.0, 137.0, 299.0, 124.0, 315.0, 246.0, 379.0], 'LMe_6.asc': [166.0, 292.0, 170.0, 157.0, 615.0, 165.0, 339.0, 328.0, 144.0, 195.0, 75.0, 267.0, 337.0, 98.0, 226.0, 433.0, 133.0, 220.0, 185.0, 131.0, 104.0, 293.0, 123.0, 236.0, 167.0, 198.0, 457.0, 324.0, 151.0, 240.0, 133.0, 238.0, 297.0, 189.0, 161.0, 129.0, 194.0, 141.0]}, 'conference_room_1_lr_sm.jpg': {'LMe_2.asc': [189.0, 145.0, 171.0, 79.0, 269.0, 217.0, 186.0, 170.0, 281.0, 292.0, 148.0, 227.0, 150.0, 244.0, 28.0, 93.0, 169.0, 149.0, 221.0, 356.0, 358.0, 290.0, 210.0, 129.0, 142.0, 140.0, 137.0, 75.0, 492.0, 153.0, 243.0, 102.0, 182.0, 741.0, 315.0, 291.0, 293.0, 258.0, 94.0], 'LMe_3.asc': [205.0, 299.0, 150.0, 132.0, 186.0, 126.0, 197.0, 304.0, 94.0, 210.0, 205.0, 156.0, 369.0, 415.0, 233.0, 144.0, 216.0, 125.0, 209.0, 303.0, 353.0, 143.0, 407.0, 281.0, 174.0, 197.0, 202.0, 267.0, 301.0, 313.0, 253.0, 372.0, 204.0, 243.0, 377.0, 225.0], 'LMe_38.asc': [272.0, 246.0, 443.0, 352.0, 488.0, 174.0, 104.0, 212.0, 121.0, 257.0, 463.0, 241.0, 501.0, 88.0, 186.0, 277.0, 192.0, 374.0, 187.0, 487.0, 157.0, 161.0, 178.0, 83.0, 311.0, 237.0, 271.0, 133.0, 166.0, 451.0, 393.0, 162.0], 'LMe_39.asc': [122.0, 197.0, 220.0, 234.0, 159.0, 470.0, 170.0, 198.0, 150.0, 215.0, 142.0, 388.0, 437.0, 218.0, 466.0, 428.0, 412.0, 228.0, 184.0, 414.0, 162.0, 262.0, 396.0, 172.0, 301.0, 204.0, 315.0, 165.0, 475.0, 225.0, 151.0, 233.0], 'LMe_42.asc': [], 'LMe_6.asc': [200.0, 164.0, 121.0, 147.0, 269.0, 139.0, 182.0, 166.0, 197.0, 335.0, 228.0, 214.0, 150.0, 262.0, 236.0, 164.0, 213.0, 256.0, 273.0, 124.0, 220.0, 318.0, 282.0, 217.0, 97.0, 130.0, 121.0, 282.0, 304.0, 115.0, 224.0, 132.0, 310.0, 191.0, 250.0, 237.0, 165.0, 276.0, 158.0, 240.0, 133.0]}, 'Restaurant10.jpg': {'LMe_2.asc': [114.0, 238.0, 274.0, 311.0, 192.0, 181.0, 192.0, 104.0, 169.0, 300.0, 382.0, 520.0, 377.0, 444.0, 151.0, 217.0, 109.0, 292.0, 195.0, 195.0, 159.0, 206.0, 257.0, 273.0, 304.0, 233.0, 289.0, 196.0, 154.0, 199.0, 183.0, 369.0, 989.0], 'LMe_3.asc': [190.0, 214.0, 148.0, 92.0, 135.0, 402.0, 235.0, 159.0, 115.0, 149.0, 79.0, 168.0, 200.0, 242.0, 285.0, 207.0, 320.0, 734.0, 646.0, 294.0, 452.0, 409.0, 201.0, 283.0, 163.0, 239.0, 176.0, 470.0, 208.0, 144.0, 175.0, 318.0, 298.0, 117.0, 250.0], 'LMe_38.asc': [226.0, 307.0, 233.0, 174.0, 771.0, 256.0, 295.0, 65.0, 124.0, 170.0, 147.0, 259.0, 184.0, 160.0, 215.0, 158.0, 295.0, 159.0, 225.0, 342.0, 213.0, 167.0, 185.0, 237.0, 213.0, 402.0, 199.0, 387.0, 221.0, 716.0, 399.0, 157.0, 73.0], 'LMe_39.asc': [283.0, 264.0, 244.0, 261.0, 969.0, 1308.0, 643.0, 554.0, 684.0, 1303.0, 277.0, 186.0, 236.0, 168.0, 109.0, 246.0, 253.0, 209.0, 103.0, 234.0, 581.0], 'LMe_42.asc': [], 'LMe_6.asc': [58.0, 62.0, 242.0, 290.0, 180.0, 188.0, 136.0, 189.0, 153.0, 156.0, 295.0, 50.0, 152.0, 165.0, 178.0, 336.0, 865.0, 312.0, 199.0, 289.0, 192.0, 136.0, 277.0, 203.0, 1080.0, 240.0, 234.0, 139.0, 289.0, 334.0, 150.0, 253.0, 150.0, 116.0]}, 'sitting26.jpg': {'LMe_2.asc': [173.0, 97.0, 125.0, 226.0, 324.0, 314.0, 281.0, 242.0, 240.0, 246.0, 409.0, 89.0, 491.0, 287.0, 108.0, 278.0, 206.0, 202.0, 169.0, 250.0, 318.0, 220.0, 252.0, 205.0, 191.0, 267.0, 168.0, 242.0, 79.0, 250.0, 337.0, 464.0, 648.0, 305.0, 59.0], 'LMe_3.asc': [127.0, 153.0, 455.0, 177.0, 299.0, 336.0, 227.0, 295.0, 150.0, 225.0, 166.0, 235.0, 245.0, 252.0, 258.0, 147.0, 219.0, 225.0, 293.0, 161.0, 113.0, 356.0, 95.0, 168.0, 244.0, 352.0, 727.0, 212.0, 282.0, 393.0, 489.0, 366.0, 302.0, 93.0], 'LMe_37.asc': [273.0, 80.0, 195.0, 222.0, 185.0, 234.0, 239.0, 200.0, 133.0, 424.0, 399.0, 293.0, 273.0, 181.0, 688.0, 382.0, 525.0, 286.0, 1362.0, 471.0, 117.0, 240.0, 160.0, 246.0, 121.0, 226.0, 223.0, 376.0, 259.0], 'LMe_40.asc': [162.0, 279.0, 166.0, 357.0, 169.0, 182.0, 322.0, 238.0, 210.0, 404.0, 194.0, 231.0, 178.0, 252.0, 150.0, 509.0, 143.0, 283.0, 141.0, 404.0, 286.0, 293.0, 208.0, 184.0, 225.0, 237.0, 290.0, 404.0, 269.0, 230.0, 141.0, 208.0, 182.0, 94.0, 67.0, 271.0], 'LMe_41.asc': [230.0, 182.0, 204.0, 274.0, 133.0, 224.0, 199.0, 272.0, 220.0, 70.0, 222.0, 335.0, 287.0, 364.0, 348.0, 87.0, 272.0, 473.0, 616.0, 340.0, 316.0, 357.0, 490.0, 190.0, 236.0, 263.0, 167.0, 202.0, 138.0, 414.0, 331.0, 386.0], 'LMe_6.asc': [155.0, 160.0, 59.0, 227.0, 196.0, 332.0, 137.0, 135.0, 231.0, 316.0, 172.0, 116.0, 353.0, 218.0, 388.0, 203.0, 235.0, 142.0, 195.0, 162.0, 172.0, 203.0, 28.0, 101.0, 272.0, 278.0, 180.0, 403.0, 116.0, 217.0, 607.0, 298.0, 113.0, 88.0, 133.0, 146.0, 286.0, 132.0, 137.0, 166.0, 214.0]}, 'dining032.jpg': {'LMe_2.asc': [141.0, 125.0, 442.0, 183.0, 283.0, 121.0, 141.0, 199.0, 171.0, 125.0, 281.0, 254.0, 299.0, 167.0, 255.0, 377.0, 394.0, 291.0, 330.0, 422.0, 310.0, 449.0, 422.0, 1827.0, 368.0, 294.0, 201.0], 'LMe_3.asc': [191.0, 178.0, 175.0, 319.0, 571.0, 184.0, 164.0, 206.0, 239.0, 235.0, 217.0, 184.0, 218.0, 223.0, 322.0, 209.0, 253.0, 289.0, 977.0, 1750.0, 303.0, 1142.0, 189.0, 162.0, 45.0], 'LMe_38.asc': [116.0, 196.0, 177.0, 98.0, 156.0, 297.0, 212.0, 232.0, 230.0, 167.0, 249.0, 323.0, 136.0, 223.0, 226.0, 174.0, 184.0, 143.0, 399.0, 305.0, 284.0, 193.0, 122.0, 246.0, 271.0, 229.0, 416.0, 258.0, 289.0, 356.0, 164.0, 316.0, 319.0, 155.0, 234.0, 372.0], 'LMe_39.asc': [145.0, 215.0, 152.0, 239.0, 282.0, 245.0, 217.0, 106.0, 298.0, 121.0, 299.0, 226.0, 199.0, 274.0, 133.0, 296.0, 212.0, 240.0, 285.0, 230.0, 356.0, 199.0, 120.0, 256.0, 443.0, 143.0, 474.0, 206.0, 247.0, 967.0, 172.0, 144.0, 97.0], 'LMe_42.asc': [], 'LMe_6.asc': [154.0, 195.0, 162.0, 282.0, 114.0, 152.0, 278.0, 157.0, 282.0, 24.0, 112.0, 214.0, 175.0, 48.0, 113.0, 73.0, 27.0, 301.0, 201.0, 297.0, 159.0, 211.0, 135.0, 205.0, 272.0, 111.0, 213.0, 281.0, 240.0, 314.0, 90.0, 214.0, 311.0, 175.0, 208.0, 204.0, 279.0, 163.0, 281.0, 184.0, 230.0, 138.0]}, 'image1.jpg': {'LMe_2.asc': [121.0, 61.0, 146.0, 157.0, 245.0, 114.0, 130.0, 243.0, 195.0, 253.0, 148.0, 278.0, 202.0, 167.0, 214.0, 203.0, 159.0, 91.0, 320.0, 245.0, 161.0, 262.0, 98.0, 371.0, 343.0, 186.0, 125.0, 240.0, 697.0, 349.0, 265.0, 494.0, 333.0, 192.0, 227.0, 456.0], 'LMe_3.asc': [231.0, 115.0, 178.0, 232.0, 258.0, 163.0, 204.0, 347.0, 116.0, 258.0, 190.0, 204.0, 310.0, 292.0, 255.0, 181.0, 397.0, 296.0, 309.0, 254.0, 278.0, 505.0, 140.0, 201.0, 157.0, 214.0, 253.0, 200.0, 165.0, 349.0, 214.0, 166.0, 208.0, 198.0, 342.0, 78.0], 'LMe_38.asc': [137.0, 161.0, 249.0, 202.0, 60.0, 270.0, 180.0, 168.0, 274.0, 107.0, 167.0, 121.0, 307.0, 243.0, 188.0, 108.0, 154.0, 263.0, 264.0, 121.0, 176.0, 181.0, 287.0, 381.0, 170.0, 384.0, 206.0, 208.0, 141.0, 280.0, 102.0, 319.0, 287.0, 387.0, 479.0, 255.0], 'LMe_39.asc': [331.0, 272.0, 207.0, 185.0, 283.0, 290.0, 180.0, 232.0, 176.0, 181.0, 262.0, 219.0, 237.0, 278.0, 142.0, 338.0, 470.0, 204.0, 206.0, 194.0, 184.0, 217.0, 121.0, 287.0, 267.0, 226.0, 251.0, 155.0, 181.0, 146.0, 282.0, 219.0, 243.0, 291.0, 283.0], 'LMe_42.asc': [], 'LMe_6.asc': [88.0, 151.0, 199.0, 176.0, 249.0, 197.0, 150.0, 202.0, 45.0, 70.0, 220.0, 79.0, 354.0, 173.0, 258.0, 188.0, 238.0, 276.0, 179.0, 131.0, 245.0, 213.0, 197.0, 256.0, 285.0, 214.0, 267.0, 178.0, 274.0, 211.0, 145.0, 215.0, 172.0, 291.0, 290.0, 304.0, 248.0, 234.0, 322.0]}, 'hall18.jpg': {'LMe_2.asc': [23.0, 617.0, 144.0, 144.0, 652.0, 472.0, 228.0, 126.0, 207.0, 161.0, 131.0, 230.0, 159.0, 367.0, 193.0, 175.0, 196.0, 130.0, 123.0, 215.0, 198.0, 175.0, 274.0, 213.0, 280.0, 943.0, 221.0, 487.0, 1288.0], 'LMe_3.asc': [299.0, 211.0, 96.0, 123.0, 198.0, 155.0, 105.0, 139.0, 424.0, 158.0, 185.0, 187.0, 265.0, 299.0, 286.0, 196.0, 151.0, 188.0, 143.0, 116.0, 157.0, 476.0, 184.0, 190.0, 151.0, 171.0, 185.0, 580.0, 452.0, 190.0, 272.0, 244.0, 126.0, 220.0, 942.0], 'LMe_38.asc': [163.0, 212.0, 170.0, 140.0, 247.0, 266.0, 246.0, 474.0, 428.0, 272.0, 168.0, 192.0, 213.0, 212.0, 391.0, 388.0, 257.0, 217.0, 272.0, 171.0, 254.0, 223.0, 239.0, 99.0, 210.0, 171.0, 217.0, 320.0, 260.0, 197.0, 467.0, 177.0, 164.0, 219.0, 193.0], 'LMe_39.asc': [184.0, 214.0, 171.0, 169.0, 233.0, 233.0, 185.0, 170.0, 141.0, 186.0, 207.0, 219.0, 101.0, 271.0, 306.0, 413.0, 120.0, 476.0, 351.0, 315.0, 304.0, 217.0, 185.0, 245.0, 237.0, 150.0, 177.0, 194.0, 320.0, 138.0, 205.0, 207.0, 78.0, 176.0, 245.0, 91.0, 243.0, 51.0], 'LMe_42.asc': [233.0, 285.0, 243.0, 149.0, 197.0, 256.0, 255.0, 157.0, 249.0, 341.0, 410.0, 464.0, 267.0, 388.0, 146.0, 325.0, 234.0, 201.0, 132.0, 222.0, 140.0, 200.0, 173.0, 143.0, 107.0, 197.0, 160.0, 262.0, 229.0, 99.0, 125.0, 353.0, 121.0, 209.0, 138.0, 131.0], 'LMe_6.asc': [128.0, 297.0, 261.0, 187.0, 132.0, 184.0, 401.0, 232.0, 79.0, 245.0, 271.0, 138.0, 297.0, 145.0, 59.0, 286.0, 207.0, 203.0, 359.0, 241.0, 174.0, 167.0, 209.0, 171.0, 233.0, 144.0, 183.0, 268.0, 185.0, 251.0, 164.0, 242.0, 366.0, 156.0, 253.0, 479.0]}, 'kitchen17.jpg': {'LMe_2.asc': [218.0, 125.0, 154.0, 151.0, 183.0, 278.0, 114.0, 183.0, 152.0, 372.0, 194.0, 152.0, 187.0, 118.0, 260.0, 286.0, 200.0, 208.0, 72.0, 336.0, 147.0, 173.0, 285.0, 361.0, 244.0, 180.0, 383.0, 290.0, 260.0, 197.0, 544.0, 106.0, 304.0, 163.0, 341.0, 255.0, 236.0, 103.0], 'LMe_3.asc': [152.0, 162.0, 161.0, 447.0, 374.0, 225.0, 113.0, 235.0, 278.0, 201.0, 380.0, 232.0, 228.0, 241.0, 247.0, 120.0, 248.0, 117.0, 276.0, 161.0, 104.0, 280.0, 423.0, 484.0, 293.0, 90.0, 253.0, 219.0, 222.0, 243.0, 241.0, 91.0, 290.0, 125.0, 302.0, 383.0], 'LMe_38.asc': [268.0, 208.0, 483.0, 191.0, 185.0, 170.0, 189.0, 302.0, 253.0, 196.0, 351.0, 84.0, 170.0, 190.0, 261.0, 252.0, 275.0, 405.0, 150.0, 167.0, 328.0, 719.0, 220.0, 275.0, 130.0, 237.0, 190.0, 110.0, 326.0, 63.0, 522.0, 123.0, 147.0, 152.0, 183.0, 130.0], 'LMe_39.asc': [298.0, 129.0, 416.0, 153.0, 203.0, 368.0, 197.0, 212.0, 240.0, 330.0, 100.0, 317.0, 256.0, 251.0, 118.0, 198.0, 150.0, 224.0, 283.0, 317.0, 379.0, 376.0, 169.0, 294.0, 135.0, 481.0, 276.0, 131.0, 205.0, 214.0, 270.0, 256.0, 460.0, 64.0], 'LMe_42.asc': [143.0, 241.0, 181.0, 173.0, 290.0, 140.0, 208.0, 198.0, 456.0, 255.0, 133.0, 246.0, 259.0, 283.0, 191.0, 171.0, 385.0, 109.0, 31.0, 323.0, 269.0, 143.0, 226.0, 295.0, 258.0, 153.0, 172.0, 397.0, 281.0, 203.0, 308.0, 347.0, 155.0, 159.0, 190.0, 261.0, 141.0, 102.0], 'LMe_6.asc': [56.0, 184.0, 175.0, 354.0, 235.0, 164.0, 311.0, 218.0, 193.0, 136.0, 258.0, 204.0, 215.0, 211.0, 142.0, 184.0, 337.0, 71.0, 42.0, 73.0, 179.0, 228.0, 289.0, 136.0, 309.0, 241.0, 255.0, 193.0, 126.0, 207.0, 178.0, 151.0, 169.0, 309.0, 47.0, 184.0, 107.0, 238.0, 479.0, 355.0, 156.0, 43.0]}, 'living88.jpg': {'LMe_2.asc': [156.0, 220.0, 228.0, 306.0, 290.0, 170.0, 178.0, 259.0, 97.0, 630.0, 318.0, 233.0, 213.0, 361.0, 273.0, 184.0, 290.0, 335.0, 213.0, 217.0, 221.0, 324.0, 219.0, 310.0, 172.0, 514.0, 217.0, 236.0, 233.0, 198.0, 285.0, 230.0, 270.0], 'LMe_3.asc': [187.0, 153.0, 168.0, 300.0, 277.0, 384.0, 206.0, 146.0, 154.0, 95.0, 140.0, 96.0, 172.0, 286.0, 157.0, 110.0, 180.0, 231.0, 261.0, 204.0, 364.0, 186.0, 453.0, 198.0, 268.0, 297.0, 283.0, 744.0, 282.0, 202.0, 124.0, 123.0, 232.0, 192.0, 321.0, 164.0, 183.0], 'LMe_38.asc': [148.0, 285.0, 245.0, 285.0, 164.0, 236.0, 193.0, 359.0, 176.0, 270.0, 270.0, 275.0, 212.0, 230.0, 167.0, 163.0, 247.0, 509.0, 330.0, 542.0, 286.0, 290.0, 294.0, 37.0, 88.0, 301.0, 148.0, 177.0, 140.0, 318.0, 172.0, 200.0, 261.0, 148.0, 115.0, 238.0], 'LMe_39.asc': [291.0, 276.0, 91.0, 248.0, 241.0, 178.0, 135.0, 210.0, 191.0, 515.0, 129.0, 136.0, 132.0, 174.0, 381.0, 208.0, 363.0, 227.0, 172.0, 271.0, 386.0, 286.0, 90.0, 244.0, 258.0, 149.0, 130.0, 338.0, 148.0, 171.0, 264.0, 47.0, 91.0, 114.0, 346.0, 309.0, 434.0, 125.0, 58.0], 'LMe_42.asc': [155.0, 212.0, 137.0, 207.0, 117.0, 252.0, 125.0, 83.0, 180.0, 233.0, 364.0, 327.0, 112.0, 222.0, 131.0, 290.0, 81.0, 373.0, 275.0, 198.0, 314.0, 176.0, 243.0, 253.0, 324.0, 262.0, 582.0, 130.0, 244.0, 171.0, 259.0, 252.0, 202.0, 406.0, 190.0, 249.0, 37.0], 'LMe_6.asc': [44.0, 243.0, 644.0, 164.0, 138.0, 366.0, 225.0, 729.0, 237.0, 286.0, 280.0, 207.0, 159.0, 107.0, 236.0, 117.0, 77.0, 336.0, 493.0, 190.0, 124.0, 293.0, 128.0, 471.0, 285.0, 400.0, 126.0, 107.0, 46.0, 106.0, 132.0, 177.0, 106.0, 281.0, 116.0, 221.0, 123.0]}, 'kitchen137.jpg': {'LMe_2.asc': [157.0, 162.0, 375.0, 199.0, 216.0, 240.0, 228.0, 283.0, 557.0, 373.0, 204.0, 221.0, 406.0, 225.0, 185.0, 293.0, 217.0, 286.0, 201.0, 186.0, 213.0, 143.0, 78.0, 169.0, 294.0, 204.0, 241.0, 225.0, 230.0, 140.0, 313.0, 146.0, 323.0, 459.0, 198.0, 53.0], 'LMe_3.asc': [125.0, 288.0, 106.0, 214.0, 309.0, 204.0, 293.0, 157.0, 182.0, 139.0, 233.0, 198.0, 195.0, 140.0, 208.0, 121.0, 156.0, 141.0, 149.0, 208.0, 191.0, 242.0, 271.0, 160.0, 153.0, 201.0, 80.0, 333.0, 303.0, 369.0, 252.0, 293.0, 273.0, 229.0, 288.0, 312.0, 474.0, 281.0, 53.0], 'LMe_38.asc': [157.0, 210.0, 153.0, 279.0, 178.0, 253.0, 167.0, 133.0, 206.0, 269.0, 226.0, 112.0, 226.0, 151.0, 165.0, 365.0, 142.0, 248.0, 147.0, 274.0, 211.0, 103.0, 289.0, 148.0, 266.0, 166.0, 148.0, 319.0, 146.0, 207.0, 435.0, 388.0, 197.0, 269.0, 289.0, 221.0, 404.0, 48.0], 'LMe_39.asc': [148.0, 156.0, 216.0, 211.0, 498.0, 241.0, 209.0, 143.0, 162.0, 219.0, 263.0, 100.0, 408.0, 294.0, 104.0, 65.0, 247.0, 235.0, 312.0, 227.0, 287.0, 174.0, 282.0, 126.0, 302.0, 223.0, 205.0, 319.0, 135.0, 219.0, 431.0, 244.0, 262.0, 306.0, 316.0, 87.0], 'LMe_42.asc': [], 'LMe_6.asc': [222.0, 185.0, 126.0, 265.0, 76.0, 224.0, 196.0, 146.0, 169.0, 277.0, 284.0, 249.0, 114.0, 136.0, 225.0, 266.0, 330.0, 237.0, 187.0, 281.0, 248.0, 171.0, 166.0, 89.0, 224.0, 208.0, 296.0, 192.0, 208.0, 280.0, 211.0, 217.0, 292.0, 127.0, 319.0, 135.0, 211.0, 302.0, 177.0, 152.0, 36.0]}, 'living71.jpg': {'LMe_2.asc': [187.0, 77.0, 259.0, 343.0, 378.0, 425.0, 301.0, 108.0, 265.0, 431.0, 154.0, 384.0, 143.0, 419.0, 202.0, 236.0, 158.0, 175.0, 193.0, 110.0, 274.0, 354.0, 313.0, 439.0, 197.0, 122.0, 250.0, 303.0, 250.0, 142.0, 367.0, 398.0, 76.0], 'LMe_3.asc': [121.0, 160.0, 96.0, 161.0, 293.0, 181.0, 237.0, 239.0, 82.0, 98.0, 209.0, 215.0, 383.0, 166.0, 234.0, 194.0, 131.0, 332.0, 151.0, 153.0, 126.0, 225.0, 229.0, 242.0, 201.0, 234.0, 247.0, 180.0, 251.0, 382.0, 219.0, 202.0, 194.0, 356.0, 308.0, 294.0, 720.0], 'LMe_38.asc': [216.0, 139.0, 177.0, 108.0, 171.0, 151.0, 282.0, 327.0, 254.0, 143.0, 120.0, 192.0, 151.0, 159.0, 303.0, 415.0, 409.0, 374.0, 254.0, 121.0, 286.0, 50.0, 184.0, 354.0, 129.0, 102.0, 103.0, 145.0, 205.0, 160.0, 331.0, 288.0, 256.0, 145.0, 241.0, 306.0, 384.0, 78.0], 'LMe_39.asc': [125.0, 246.0, 64.0, 273.0, 234.0, 269.0, 315.0, 175.0, 362.0, 209.0, 97.0, 308.0, 285.0, 110.0, 383.0, 292.0, 426.0, 177.0, 299.0, 898.0, 176.0, 317.0, 405.0, 286.0, 518.0, 1393.0], 'LMe_42.asc': [45.0, 75.0, 107.0, 262.0, 153.0, 235.0, 290.0, 258.0, 351.0, 265.0, 118.0, 318.0, 169.0, 302.0, 217.0, 199.0, 335.0, 255.0, 251.0, 156.0, 452.0, 146.0, 528.0, 143.0, 138.0, 364.0, 110.0, 104.0, 185.0, 490.0, 246.0, 120.0, 102.0, 221.0, 144.0, 304.0, 32.0, 19.0], 'LMe_6.asc': [70.0, 150.0, 189.0, 119.0, 171.0, 191.0, 197.0, 333.0, 29.0, 263.0, 253.0, 144.0, 305.0, 199.0, 322.0, 149.0, 169.0, 169.0, 225.0, 145.0, 282.0, 683.0, 161.0, 322.0, 279.0, 194.0, 202.0, 184.0, 202.0, 284.0, 345.0, 279.0, 320.0, 175.0, 212.0, 272.0, 195.0, 71.0]}, 'pittsburgh_IMG_4078.jpg': {'LMe_2.asc': [118.0, 182.0, 75.0, 285.0, 375.0, 469.0, 185.0, 413.0, 45.0, 151.0, 203.0, 325.0, 185.0, 178.0, 269.0, 154.0, 252.0, 241.0, 103.0, 163.0, 225.0, 140.0, 239.0, 1475.0, 1035.0, 769.0, 694.0], 'LMe_3.asc': [124.0, 143.0, 320.0, 245.0, 186.0, 243.0, 123.0, 308.0, 190.0, 110.0, 222.0, 389.0, 509.0, 174.0, 153.0, 243.0, 341.0, 389.0, 567.0, 163.0, 146.0, 486.0, 424.0, 142.0, 310.0, 88.0, 244.0, 194.0, 322.0, 393.0, 345.0], 'LMe_38.asc': [175.0, 184.0, 185.0, 181.0, 585.0, 167.0, 198.0, 104.0, 485.0, 243.0, 163.0, 184.0, 318.0, 146.0, 324.0, 280.0, 195.0, 179.0, 147.0, 192.0, 267.0, 160.0, 237.0, 136.0, 784.0, 2277.0], 'LMe_39.asc': [144.0, 115.0, 210.0, 130.0, 178.0, 298.0, 237.0, 165.0, 177.0, 224.0, 117.0, 226.0, 158.0, 324.0, 252.0, 286.0, 367.0, 304.0, 163.0, 32.0, 558.0, 4314.0], 'LMe_42.asc': [205.0, 72.0, 149.0, 230.0, 668.0, 205.0, 485.0, 150.0, 215.0, 155.0, 220.0, 172.0, 282.0, 150.0, 172.0, 289.0, 122.0, 526.0, 245.0, 964.0, 146.0, 285.0, 268.0, 350.0, 181.0, 89.0, 126.0, 106.0, 243.0, 132.0], 'LMe_6.asc': [157.0, 120.0, 308.0, 243.0, 437.0, 332.0, 223.0, 326.0, 171.0, 63.0, 103.0, 214.0, 547.0, 499.0, 559.0, 473.0, 272.0, 126.0, 184.0, 165.0, 282.0, 148.0, 219.0, 193.0, 439.0, 211.0, 159.0, 221.0, 280.0, 392.0, 310.0]}, 'kitchen78.jpg': {'LMe_2.asc': [151.0, 77.0, 523.0, 98.0, 202.0, 97.0, 172.0, 188.0, 182.0, 236.0, 160.0, 213.0, 168.0, 196.0, 267.0, 146.0, 239.0, 270.0, 184.0, 142.0, 213.0, 259.0, 118.0, 231.0, 137.0, 267.0, 179.0, 332.0, 524.0, 287.0, 251.0, 515.0, 340.0, 344.0, 179.0, 349.0], 'LMe_3.asc': [133.0, 126.0, 201.0, 154.0, 376.0, 298.0, 164.0, 104.0, 184.0, 184.0, 210.0, 73.0, 130.0, 138.0, 483.0, 360.0, 250.0, 208.0, 194.0, 207.0, 303.0, 153.0, 301.0, 34.0, 258.0, 516.0, 523.0, 811.0, 196.0, 173.0, 175.0, 518.0, 149.0, 270.0, 107.0], 'LMe_38.asc': [178.0, 204.0, 428.0, 421.0, 197.0, 289.0, 202.0, 413.0, 195.0, 227.0, 268.0, 205.0, 259.0, 521.0, 197.0, 181.0, 166.0, 184.0, 169.0, 322.0, 282.0, 203.0, 227.0, 154.0, 859.0, 456.0, 275.0, 159.0, 237.0, 211.0, 126.0, 137.0], 'LMe_39.asc': [189.0, 314.0, 186.0, 163.0, 148.0, 115.0, 343.0, 229.0, 447.0, 296.0, 233.0, 209.0, 215.0, 134.0, 273.0, 334.0, 372.0, 236.0, 167.0, 304.0, 295.0, 221.0, 89.0, 249.0, 221.0, 291.0, 344.0, 267.0, 151.0, 218.0, 244.0, 132.0, 391.0, 255.0, 203.0, 51.0], 'LMe_42.asc': [230.0, 193.0, 205.0, 250.0, 216.0, 130.0, 382.0, 253.0, 199.0, 276.0, 285.0, 247.0, 229.0, 169.0, 308.0, 236.0, 308.0, 208.0, 192.0, 190.0, 161.0, 263.0, 158.0, 287.0, 252.0, 166.0, 198.0, 351.0, 131.0, 211.0, 278.0, 229.0, 394.0, 147.0], 'LMe_6.asc': [154.0, 228.0, 208.0, 130.0, 233.0, 136.0, 162.0, 239.0, 53.0, 187.0, 198.0, 147.0, 157.0, 188.0, 142.0, 116.0, 221.0, 248.0, 267.0, 112.0, 156.0, 153.0, 341.0, 184.0, 89.0, 160.0, 156.0, 175.0, 163.0, 120.0, 263.0, 189.0, 968.0, 272.0, 146.0, 143.0, 181.0, 173.0, 569.0, 224.0, 68.0]}, 'living29.jpg': {'LMe_2.asc': [126.0, 151.0, 343.0, 390.0, 214.0, 347.0, 448.0, 231.0, 198.0, 135.0, 195.0, 286.0, 95.0, 104.0, 183.0, 282.0, 87.0, 105.0, 295.0, 225.0, 316.0, 296.0, 533.0, 163.0, 241.0, 145.0, 240.0, 1846.0, 159.0, 252.0], 'LMe_3.asc': [25.0, 159.0, 114.0, 321.0, 167.0, 286.0, 211.0, 190.0, 160.0, 191.0, 154.0, 312.0, 177.0, 306.0, 189.0, 203.0, 265.0, 247.0, 173.0, 257.0, 102.0, 132.0, 329.0, 171.0, 143.0, 215.0, 435.0, 162.0, 132.0, 281.0, 150.0, 205.0, 320.0, 196.0, 244.0, 274.0, 241.0, 775.0], 'LMe_38.asc': [129.0, 269.0, 233.0, 133.0, 190.0, 219.0, 409.0, 258.0, 266.0, 150.0, 151.0, 138.0, 86.0, 427.0, 183.0, 325.0, 199.0, 336.0, 186.0, 322.0, 390.0, 212.0, 231.0, 121.0, 552.0, 194.0, 173.0, 146.0, 187.0, 158.0, 375.0, 185.0, 151.0, 298.0, 88.0], 'LMe_39.asc': [138.0, 131.0, 187.0, 346.0, 271.0, 96.0, 140.0, 255.0, 501.0, 235.0, 477.0, 272.0, 170.0, 321.0, 89.0, 219.0, 253.0, 310.0, 206.0, 179.0, 256.0, 134.0, 90.0, 163.0, 165.0, 203.0, 139.0, 275.0, 172.0, 250.0, 262.0, 442.0, 363.0, 598.0], 'LMe_42.asc': [], 'LMe_6.asc': [226.0, 28.0, 187.0, 212.0, 103.0, 153.0, 261.0, 154.0, 414.0, 414.0, 479.0, 244.0, 161.0, 476.0, 25.0, 235.0, 545.0, 161.0, 164.0, 601.0, 244.0, 124.0, 275.0, 166.0, 235.0, 94.0, 147.0, 145.0, 70.0, 241.0, 264.0, 225.0, 151.0, 129.0, 158.0, 164.0, 225.0, 100.0]}, 'restaurant36.jpg': {'LMe_2.asc': [153.0, 147.0, 101.0, 154.0, 413.0, 196.0, 266.0, 212.0, 244.0, 219.0, 234.0, 141.0, 365.0, 269.0, 93.0, 127.0, 232.0, 597.0, 333.0, 465.0, 512.0, 326.0, 142.0, 186.0, 513.0, 256.0, 249.0, 266.0, 317.0, 234.0, 192.0, 302.0, 297.0], 'LMe_3.asc': [175.0, 156.0, 163.0, 697.0, 220.0, 165.0, 118.0, 118.0, 419.0, 216.0, 265.0, 189.0, 120.0, 329.0, 154.0, 267.0, 176.0, 156.0, 148.0, 243.0, 303.0, 246.0, 255.0, 190.0, 245.0, 323.0, 281.0, 219.0, 177.0, 561.0, 152.0, 212.0, 184.0, 194.0, 237.0, 175.0, 247.0], 'LMe_38.asc': [241.0, 316.0, 191.0, 207.0, 131.0, 206.0, 121.0, 170.0, 214.0, 512.0, 189.0, 214.0, 164.0, 393.0, 409.0, 285.0, 192.0, 127.0, 287.0, 205.0, 182.0, 272.0, 208.0, 219.0, 183.0, 174.0, 141.0, 515.0, 598.0, 1029.0], 'LMe_39.asc': [132.0, 250.0, 40.0, 547.0, 213.0, 206.0, 460.0, 277.0, 332.0, 333.0, 403.0, 716.0, 256.0, 191.0, 258.0, 261.0, 253.0, 2134.0, 189.0, 293.0, 97.0, 249.0, 270.0, 414.0], 'LMe_42.asc': [], 'LMe_6.asc': [200.0, 271.0, 207.0, 125.0, 236.0, 228.0, 121.0, 198.0, 214.0, 275.0, 329.0, 147.0, 230.0, 215.0, 141.0, 187.0, 162.0, 307.0, 120.0, 188.0, 184.0, 170.0, 200.0, 183.0, 409.0, 260.0, 169.0, 179.0, 242.0, 312.0, 188.0, 21.0, 279.0, 252.0, 153.0, 227.0, 165.0, 384.0, 195.0, 46.0]}, 'living14.jpg': {'LMe_2.asc': [129.0, 87.0, 188.0, 155.0, 279.0, 361.0, 236.0, 291.0, 250.0, 239.0, 197.0, 252.0, 195.0, 248.0, 169.0, 112.0, 153.0, 140.0, 233.0, 331.0, 186.0, 374.0, 385.0, 252.0, 156.0, 297.0, 201.0, 157.0, 251.0, 160.0, 405.0, 326.0, 156.0, 311.0, 178.0, 213.0, 322.0], 'LMe_3.asc': [117.0, 109.0, 148.0, 193.0, 140.0, 225.0, 154.0, 106.0, 302.0, 233.0, 162.0, 347.0, 337.0, 259.0, 277.0, 141.0, 160.0, 316.0, 330.0, 280.0, 311.0, 253.0, 493.0, 126.0, 176.0, 149.0, 340.0, 238.0, 345.0, 336.0, 549.0, 161.0, 109.0, 382.0, 283.0], 'LMe_38.asc': [172.0, 188.0, 93.0, 508.0, 262.0, 212.0, 239.0, 287.0, 180.0, 449.0, 273.0, 241.0, 221.0, 174.0, 226.0, 212.0, 207.0, 293.0, 371.0, 266.0, 251.0, 142.0, 230.0, 144.0, 171.0, 206.0, 169.0, 182.0, 149.0, 321.0, 204.0, 241.0, 264.0, 558.0, 73.0], 'LMe_39.asc': [186.0, 172.0, 159.0, 228.0, 296.0, 283.0, 206.0, 195.0, 285.0, 251.0, 205.0, 214.0, 303.0, 196.0, 239.0, 174.0, 209.0, 297.0, 249.0, 374.0, 236.0, 348.0, 105.0, 80.0, 141.0, 352.0, 215.0, 258.0, 345.0, 362.0, 232.0, 835.0], 'LMe_42.asc': [195.0, 190.0, 461.0, 186.0, 221.0, 128.0, 198.0, 255.0, 336.0, 282.0, 210.0, 267.0, 157.0, 156.0, 175.0, 119.0, 145.0, 139.0, 109.0, 268.0, 186.0, 296.0, 529.0, 237.0, 48.0, 174.0, 182.0, 309.0, 267.0, 141.0, 251.0, 276.0, 191.0, 190.0, 176.0], 'LMe_6.asc': [189.0, 151.0, 258.0, 162.0, 110.0, 201.0, 276.0, 144.0, 281.0, 339.0, 909.0, 140.0, 240.0, 373.0, 297.0, 241.0, 159.0, 203.0, 159.0, 202.0, 278.0, 232.0, 145.0, 220.0, 322.0, 238.0, 198.0, 130.0, 263.0, 88.0, 270.0, 171.0, 103.0, 83.0, 72.0, 479.0, 298.0, 97.0]}, 'living53.jpg': {'LMe_2.asc': [483.0, 156.0, 193.0, 133.0, 265.0, 120.0, 299.0, 154.0, 141.0, 183.0, 265.0, 236.0, 284.0, 323.0, 353.0, 195.0, 936.0, 413.0, 3899.0], 'LMe_3.asc': [240.0, 248.0, 112.0, 212.0, 121.0, 179.0, 103.0, 150.0, 533.0, 422.0, 569.0, 308.0, 611.0, 314.0, 482.0, 386.0, 269.0, 146.0, 248.0, 268.0, 179.0, 179.0, 139.0, 149.0, 269.0, 577.0, 339.0, 323.0, 687.0, 128.0], 'LMe_38.asc': [160.0, 299.0, 213.0, 259.0, 195.0, 229.0, 139.0, 374.0, 320.0, 168.0, 161.0, 370.0, 659.0, 271.0, 247.0, 246.0, 190.0, 267.0, 457.0, 274.0, 120.0, 319.0, 202.0, 343.0, 353.0, 343.0, 234.0, 148.0, 174.0, 402.0, 69.0], 'LMe_39.asc': [154.0, 146.0, 318.0, 248.0, 222.0, 219.0, 99.0, 169.0, 246.0, 166.0, 201.0, 226.0, 127.0, 453.0, 378.0, 290.0, 734.0, 241.0, 196.0, 277.0, 479.0, 67.0, 53.0, 266.0, 410.0, 363.0, 243.0, 250.0, 137.0, 333.0, 569.0, 108.0, 77.0], 'LMe_42.asc': [322.0, 162.0, 212.0, 228.0, 376.0, 222.0, 267.0, 240.0, 114.0, 149.0, 151.0, 84.0, 243.0, 308.0, 322.0, 458.0, 323.0, 964.0, 363.0, 306.0, 290.0, 185.0, 679.0, 83.0, 114.0, 251.0, 415.0, 282.0, 402.0, 145.0], 'LMe_6.asc': [24.0, 118.0, 192.0, 263.0, 196.0, 265.0, 66.0, 223.0, 337.0, 161.0, 201.0, 214.0, 142.0, 329.0, 201.0, 173.0, 128.0, 225.0, 196.0, 271.0, 99.0, 157.0, 265.0, 191.0, 176.0, 121.0, 134.0, 234.0, 415.0, 210.0, 274.0, 86.0, 357.0, 272.0, 267.0, 276.0, 429.0, 279.0]}, 'dining008.jpg': {'LMe_2.asc': [104.0, 175.0, 355.0, 252.0, 158.0, 471.0, 185.0, 197.0, 169.0, 208.0, 151.0, 227.0, 199.0, 189.0, 169.0, 235.0, 604.0, 130.0, 124.0, 371.0, 168.0, 273.0, 236.0, 265.0, 223.0, 262.0, 150.0, 182.0, 207.0, 129.0, 272.0, 932.0, 184.0, 180.0], 'LMe_3.asc': [132.0, 209.0, 145.0, 250.0, 132.0, 156.0, 50.0, 158.0, 214.0, 185.0, 189.0, 132.0, 256.0, 276.0, 281.0, 241.0, 251.0, 139.0, 148.0, 1854.0, 176.0, 933.0, 503.0, 163.0, 121.0, 190.0, 417.0, 262.0, 153.0, 255.0, 130.0], 'LMe_38.asc': [108.0, 253.0, 261.0, 191.0, 452.0, 213.0, 159.0, 188.0, 179.0, 287.0, 229.0, 248.0, 147.0, 129.0, 475.0, 103.0, 471.0, 414.0, 205.0, 151.0, 156.0, 346.0, 181.0, 474.0, 213.0, 198.0, 223.0, 476.0, 99.0, 164.0, 536.0, 420.0], 'LMe_39.asc': [99.0, 235.0, 149.0, 131.0, 206.0, 242.0, 247.0, 21.0, 286.0, 376.0, 268.0, 306.0, 190.0, 496.0, 183.0, 325.0, 177.0, 343.0, 117.0, 206.0, 368.0, 475.0, 487.0, 539.0, 2088.0], 'LMe_42.asc': [31.0, 33.0, 89.0, 306.0, 234.0, 190.0, 193.0, 144.0, 297.0, 315.0, 186.0, 134.0, 185.0, 189.0, 235.0, 150.0, 482.0, 230.0, 167.0, 139.0, 314.0, 101.0, 226.0, 331.0, 199.0, 159.0, 334.0, 178.0, 225.0, 232.0, 365.0, 191.0, 298.0, 154.0, 248.0, 33.0, 97.0, 68.0], 'LMe_6.asc': [144.0, 53.0, 111.0, 142.0, 206.0, 213.0, 192.0, 283.0, 157.0, 51.0, 182.0, 107.0, 294.0, 322.0, 229.0, 256.0, 128.0, 325.0, 126.0, 508.0, 176.0, 322.0, 250.0, 166.0, 204.0, 390.0, 224.0, 395.0, 333.0, 759.0, 214.0, 137.0, 240.0, 172.0, 188.0, 333.0, 93.0]}, 'dining013.jpg': {'LMe_2.asc': [126.0, 182.0, 218.0, 343.0, 226.0, 285.0, 247.0, 220.0, 262.0, 232.0, 153.0, 286.0, 344.0, 291.0, 237.0, 330.0, 174.0, 447.0, 47.0, 217.0, 215.0, 195.0, 173.0, 233.0, 191.0, 65.0, 282.0, 195.0, 265.0, 218.0, 106.0, 576.0, 262.0, 196.0, 72.0, 259.0, 163.0, 224.0], 'LMe_3.asc': [160.0, 117.0, 121.0, 169.0, 227.0, 312.0, 692.0, 189.0, 216.0, 314.0, 130.0, 192.0, 302.0, 552.0, 106.0, 166.0, 153.0, 245.0, 183.0, 147.0, 139.0, 212.0, 213.0, 104.0, 200.0, 282.0, 354.0, 268.0, 382.0, 224.0, 310.0, 216.0, 186.0, 290.0, 274.0, 338.0], 'LMe_38.asc': [163.0, 408.0, 542.0, 308.0, 618.0, 185.0, 305.0, 399.0, 157.0, 158.0, 278.0, 295.0, 389.0, 144.0, 200.0, 149.0, 401.0, 303.0, 328.0, 158.0, 193.0, 203.0, 144.0, 319.0, 258.0, 233.0, 257.0, 149.0, 165.0, 126.0, 115.0, 326.0, 399.0], 'LMe_39.asc': [201.0, 146.0, 185.0, 405.0, 291.0, 152.0, 78.0, 335.0, 157.0, 152.0, 211.0, 156.0, 172.0, 390.0, 263.0, 196.0, 182.0, 188.0, 239.0, 295.0, 164.0, 198.0, 241.0, 351.0, 192.0, 161.0, 177.0, 252.0, 127.0, 483.0, 189.0, 262.0, 224.0, 299.0, 308.0, 267.0, 244.0, 139.0], 'LMe_42.asc': [], 'LMe_6.asc': [81.0, 118.0, 300.0, 125.0, 110.0, 271.0, 330.0, 86.0, 353.0, 197.0, 198.0, 194.0, 157.0, 114.0, 539.0, 263.0, 271.0, 299.0, 164.0, 234.0, 141.0, 158.0, 235.0, 335.0, 236.0, 265.0, 189.0, 127.0, 188.0, 138.0, 290.0, 187.0, 263.0, 168.0, 202.0, 239.0, 408.0, 188.0, 263.0, 123.0]}, 'Restaurant14.jpg': {'LMe_2.asc': [341.0, 181.0, 133.0, 162.0, 173.0, 178.0, 161.0, 112.0, 251.0, 824.0, 172.0, 318.0, 122.0, 221.0, 386.0, 40.0, 200.0, 270.0, 223.0, 300.0, 349.0, 185.0, 289.0, 193.0, 174.0, 267.0, 260.0, 275.0, 366.0, 313.0, 226.0, 708.0, 31.0], 'LMe_3.asc': [124.0, 171.0, 446.0, 300.0, 137.0, 144.0, 190.0, 210.0, 195.0, 139.0, 189.0, 422.0, 372.0, 335.0, 884.0, 366.0, 647.0, 602.0, 388.0, 513.0, 206.0, 157.0, 271.0, 297.0, 230.0, 380.0, 294.0, 141.0, 143.0], 'LMe_38.asc': [248.0, 182.0, 131.0, 261.0, 335.0, 1436.0, 136.0, 229.0, 169.0, 243.0, 145.0, 216.0, 251.0, 165.0, 265.0, 346.0, 250.0, 275.0, 215.0, 306.0, 307.0, 222.0, 429.0, 231.0, 93.0, 620.0, 241.0, 357.0, 232.0], 'LMe_39.asc': [202.0, 200.0, 77.0, 177.0, 135.0, 95.0, 145.0, 287.0, 297.0, 283.0, 244.0, 398.0, 217.0, 261.0, 234.0, 324.0, 280.0, 308.0, 257.0, 148.0, 421.0, 461.0, 211.0, 214.0, 224.0, 142.0, 203.0, 196.0, 435.0, 220.0, 243.0, 314.0, 322.0, 190.0], 'LMe_42.asc': [], 'LMe_6.asc': [240.0, 256.0, 209.0, 108.0, 153.0, 233.0, 130.0, 319.0, 130.0, 225.0, 48.0, 372.0, 175.0, 246.0, 95.0, 134.0, 104.0, 259.0, 37.0, 221.0, 103.0, 261.0, 158.0, 299.0, 303.0, 160.0, 111.0, 181.0, 201.0, 298.0, 132.0, 285.0, 335.0, 367.0, 112.0, 270.0, 228.0, 303.0, 275.0, 220.0]}, 'IMG_1081.jpg': {'LMe_2.asc': [177.0, 172.0, 260.0, 129.0, 142.0, 128.0, 507.0, 160.0, 217.0, 207.0, 231.0, 205.0, 202.0, 168.0, 152.0, 195.0, 760.0, 555.0, 268.0, 235.0, 307.0, 320.0, 230.0, 226.0, 282.0, 246.0, 234.0, 316.0, 238.0, 350.0, 260.0, 373.0], 'LMe_3.asc': [150.0, 113.0, 155.0, 160.0, 311.0, 956.0, 159.0, 230.0, 263.0, 113.0, 324.0, 303.0, 628.0, 198.0, 471.0, 224.0, 171.0, 158.0, 166.0, 175.0, 384.0, 201.0, 585.0, 626.0, 1676.0], 'LMe_38.asc': [171.0, 274.0, 168.0, 300.0, 190.0, 190.0, 537.0, 234.0, 271.0, 374.0, 308.0, 344.0, 200.0, 88.0, 312.0, 142.0, 249.0, 263.0, 376.0, 303.0, 700.0, 450.0, 371.0, 311.0, 303.0, 498.0, 124.0, 201.0, 67.0], 'LMe_39.asc': [233.0, 115.0, 215.0, 158.0, 62.0, 205.0, 136.0, 316.0, 359.0, 280.0, 228.0, 130.0, 207.0, 190.0, 222.0, 301.0, 284.0, 303.0, 146.0, 243.0, 180.0, 137.0, 295.0, 165.0, 116.0, 244.0, 336.0, 231.0, 288.0, 154.0, 178.0, 176.0, 100.0, 188.0, 362.0, 400.0], 'LMe_42.asc': [128.0, 193.0, 199.0, 190.0, 251.0, 260.0, 191.0, 73.0, 161.0, 148.0, 173.0, 481.0, 141.0, 226.0, 239.0, 232.0, 196.0, 368.0, 295.0, 83.0, 289.0, 191.0, 710.0, 148.0, 135.0, 139.0, 105.0, 308.0, 336.0, 185.0, 197.0, 287.0, 186.0, 63.0], 'LMe_6.asc': [178.0, 106.0, 197.0, 290.0, 169.0, 212.0, 201.0, 113.0, 130.0, 223.0, 90.0, 479.0, 605.0, 382.0, 269.0, 679.0, 191.0, 403.0, 276.0, 147.0, 145.0, 179.0, 53.0, 305.0, 988.0, 454.0, 130.0, 238.0, 241.0, 156.0, 222.0]}, 'office_13.jpg': {'LMe_2.asc': [146.0, 66.0, 196.0, 210.0, 217.0, 129.0, 174.0, 239.0, 112.0, 141.0, 273.0, 184.0, 255.0, 239.0, 79.0, 67.0, 198.0, 217.0, 118.0, 164.0, 177.0, 276.0, 286.0, 215.0, 251.0, 184.0, 157.0, 220.0, 313.0, 307.0, 106.0, 201.0, 140.0, 309.0, 296.0, 380.0, 297.0, 244.0, 286.0, 300.0, 90.0], 'LMe_3.asc': [392.0, 181.0, 184.0, 358.0, 145.0, 135.0, 124.0, 233.0, 248.0, 138.0, 199.0, 182.0, 468.0, 148.0, 194.0, 182.0, 215.0, 190.0, 255.0, 229.0, 154.0, 244.0, 177.0, 386.0, 214.0, 179.0, 213.0, 177.0, 196.0, 189.0, 162.0, 189.0, 163.0, 227.0, 174.0, 204.0, 246.0, 239.0, 156.0, 80.0], 'LMe_38.asc': [283.0, 271.0, 157.0, 152.0, 301.0, 197.0, 208.0, 58.0, 228.0, 69.0, 327.0, 114.0, 283.0, 199.0, 236.0, 143.0, 229.0, 287.0, 172.0, 208.0, 298.0, 349.0, 257.0, 219.0, 229.0, 305.0, 385.0, 345.0, 176.0, 232.0, 131.0, 138.0, 168.0, 264.0, 204.0, 273.0, 223.0, 62.0], 'LMe_39.asc': [260.0, 174.0, 208.0, 237.0, 249.0, 258.0, 277.0, 203.0, 295.0, 150.0, 275.0, 334.0, 172.0, 168.0, 221.0, 284.0, 236.0, 189.0, 267.0, 115.0, 389.0, 321.0, 195.0, 185.0, 135.0, 194.0, 280.0, 183.0, 382.0, 216.0, 148.0, 90.0, 286.0, 154.0, 350.0, 209.0, 167.0], 'LMe_42.asc': [160.0, 178.0, 273.0, 168.0, 305.0, 121.0, 122.0, 230.0, 423.0, 193.0, 266.0, 136.0, 19.0, 138.0, 119.0, 331.0, 256.0, 290.0, 482.0, 146.0, 99.0, 179.0, 193.0, 196.0, 248.0, 295.0, 181.0, 209.0, 250.0, 124.0, 270.0, 118.0, 118.0, 239.0, 169.0, 305.0, 274.0, 141.0, 91.0], 'LMe_6.asc': [172.0, 208.0, 18.0, 331.0, 118.0, 290.0, 122.0, 261.0, 259.0, 193.0, 191.0, 189.0, 270.0, 305.0, 260.0, 22.0, 366.0, 87.0, 263.0, 130.0, 399.0, 140.0, 287.0, 618.0, 138.0, 195.0, 338.0, 440.0, 699.0, 150.0, 177.0, 954.0, 149.0]}, 'kitchen99.jpg': {'LMe_2.asc': [170.0, 188.0, 221.0, 166.0, 327.0, 187.0, 180.0, 224.0, 264.0, 84.0, 282.0, 522.0, 195.0, 272.0, 307.0, 211.0, 389.0, 109.0, 193.0, 299.0, 327.0, 441.0, 309.0, 148.0, 432.0, 165.0, 164.0, 564.0, 273.0, 157.0, 316.0, 234.0, 163.0, 255.0], 'LMe_3.asc': [145.0, 153.0, 209.0, 276.0, 114.0, 141.0, 221.0, 188.0, 251.0, 286.0, 178.0, 205.0, 161.0, 149.0, 268.0, 583.0, 496.0, 269.0, 265.0, 441.0, 360.0, 259.0, 259.0, 353.0, 337.0, 210.0, 283.0, 335.0, 869.0, 265.0, 359.0, 106.0], 'LMe_38.asc': [198.0, 304.0, 239.0, 206.0, 169.0, 190.0, 269.0, 350.0, 298.0, 172.0, 202.0, 149.0, 245.0, 78.0, 135.0, 232.0, 357.0, 91.0, 306.0, 196.0, 193.0, 142.0, 178.0, 229.0, 221.0, 195.0, 249.0, 192.0, 249.0, 104.0, 314.0, 199.0, 190.0, 158.0, 255.0, 334.0, 31.0], 'LMe_39.asc': [169.0, 204.0, 203.0, 199.0, 285.0, 193.0, 215.0, 108.0, 187.0, 146.0, 173.0, 266.0, 202.0, 196.0, 291.0, 180.0, 224.0, 153.0, 209.0, 222.0, 142.0, 143.0, 287.0, 765.0, 195.0, 176.0, 162.0, 167.0, 552.0, 1366.0, 195.0, 288.0], 'LMe_42.asc': [], 'LMe_6.asc': [49.0, 194.0, 280.0, 207.0, 280.0, 306.0, 196.0, 245.0, 278.0, 119.0, 178.0, 225.0, 177.0, 129.0, 243.0, 225.0, 381.0, 153.0, 74.0, 138.0, 171.0, 124.0, 221.0, 300.0, 165.0, 612.0, 334.0, 155.0, 210.0, 281.0, 283.0, 358.0, 253.0, 215.0, 308.0, 205.0, 41.0]}, 'living24.jpg': {'LMe_2.asc': [213.0, 169.0, 357.0, 230.0, 235.0, 303.0, 184.0, 238.0, 158.0, 683.0, 129.0, 151.0, 284.0, 173.0, 198.0, 1163.0, 177.0, 1407.0, 156.0, 175.0, 476.0, 286.0, 1519.0], 'LMe_3.asc': [74.0, 245.0, 322.0, 138.0, 227.0, 91.0, 231.0, 145.0, 198.0, 234.0, 208.0, 330.0, 445.0, 257.0, 318.0, 145.0, 202.0, 212.0, 262.0, 167.0, 179.0, 555.0, 263.0, 218.0, 184.0, 461.0, 276.0, 213.0, 211.0, 160.0, 129.0, 190.0, 303.0, 378.0, 152.0, 253.0, 86.0], 'LMe_38.asc': [216.0, 210.0, 317.0, 422.0, 354.0, 643.0, 217.0, 221.0, 148.0, 185.0, 188.0, 230.0, 225.0, 266.0, 224.0, 309.0, 253.0, 139.0, 222.0, 563.0, 150.0, 234.0, 135.0, 182.0, 140.0, 253.0, 241.0, 213.0, 291.0, 425.0, 772.0], 'LMe_39.asc': [185.0, 364.0, 128.0, 462.0, 151.0, 201.0, 356.0, 388.0, 214.0, 207.0, 344.0, 382.0, 136.0, 151.0, 133.0, 115.0, 273.0, 442.0, 231.0, 215.0, 199.0, 218.0, 311.0, 316.0, 346.0, 348.0, 237.0, 144.0, 236.0, 112.0, 129.0, 160.0, 177.0, 218.0, 227.0], 'LMe_42.asc': [], 'LMe_6.asc': [121.0, 177.0, 161.0, 220.0, 144.0, 233.0, 116.0, 140.0, 214.0, 111.0, 397.0, 397.0, 401.0, 144.0, 261.0, 137.0, 302.0, 218.0, 551.0, 191.0, 251.0, 27.0, 101.0, 254.0, 190.0, 127.0, 1254.0, 59.0, 71.0, 294.0]}, 'easyst034.jpg': {'LMe_2.asc': [89.0, 207.0, 171.0, 142.0, 185.0, 158.0, 172.0, 243.0, 439.0, 172.0, 216.0, 46.0, 211.0, 193.0, 178.0, 174.0, 205.0, 110.0, 168.0, 340.0, 293.0, 165.0, 441.0, 362.0, 186.0, 231.0, 184.0, 145.0, 146.0, 347.0, 189.0, 202.0, 299.0, 479.0, 142.0, 171.0, 137.0, 168.0, 128.0, 72.0], 'LMe_3.asc': [73.0, 201.0, 269.0, 189.0, 115.0, 270.0, 134.0, 180.0, 369.0, 310.0, 180.0, 260.0, 139.0, 164.0, 133.0, 200.0, 231.0, 211.0, 353.0, 227.0, 292.0, 186.0, 274.0, 223.0, 187.0, 244.0, 226.0, 139.0, 160.0, 153.0, 195.0, 242.0, 210.0, 125.0, 302.0, 312.0, 198.0, 513.0, 125.0], 'LMe_38.asc': [140.0, 201.0, 349.0, 329.0, 174.0, 143.0, 164.0, 188.0, 293.0, 397.0, 326.0, 307.0, 543.0, 332.0, 232.0, 170.0, 317.0, 205.0, 200.0, 208.0, 287.0, 160.0, 233.0, 255.0, 286.0, 238.0, 167.0, 441.0, 183.0, 259.0, 167.0, 157.0, 144.0, 207.0, 387.0], 'LMe_39.asc': [149.0, 175.0, 174.0, 180.0, 220.0, 132.0, 501.0, 443.0, 559.0, 143.0, 161.0, 143.0, 202.0, 313.0, 290.0, 143.0, 315.0, 274.0, 224.0, 412.0, 214.0, 178.0, 226.0, 540.0, 498.0, 398.0, 461.0, 152.0, 271.0, 331.0, 110.0], 'LMe_42.asc': [283.0, 248.0, 261.0, 307.0, 259.0, 299.0, 111.0, 205.0, 330.0, 247.0, 217.0, 289.0, 231.0, 158.0, 216.0, 174.0, 155.0, 115.0, 175.0, 283.0, 144.0, 108.0, 181.0, 205.0, 206.0, 157.0, 290.0, 466.0, 288.0, 383.0, 113.0, 123.0, 189.0, 102.0, 218.0, 146.0, 92.0], 'LMe_6.asc': [125.0, 212.0, 723.0, 282.0, 261.0, 178.0, 221.0, 226.0, 167.0, 148.0, 158.0, 208.0, 119.0, 225.0, 158.0, 228.0, 148.0, 209.0, 214.0, 358.0, 335.0, 141.0, 114.0, 187.0, 174.0, 164.0, 203.0, 309.0, 56.0, 86.0, 640.0, 193.0, 102.0, 202.0, 343.0, 163.0, 41.0, 251.0, 143.0]}, 'office.jpg': {'LMe_2.asc': [85.0, 161.0, 130.0, 247.0, 106.0, 272.0, 217.0, 86.0, 242.0, 454.0, 190.0, 205.0, 168.0, 834.0, 267.0, 205.0, 212.0, 341.0, 236.0, 490.0, 124.0, 315.0, 149.0, 223.0, 248.0, 91.0, 165.0, 427.0, 340.0, 353.0, 168.0, 158.0, 472.0, 169.0, 158.0], 'LMe_3.asc': [131.0, 188.0, 212.0, 239.0, 291.0, 103.0, 152.0, 145.0, 110.0, 435.0, 527.0, 136.0, 275.0, 217.0, 199.0, 232.0, 238.0, 289.0, 158.0, 231.0, 178.0, 255.0, 308.0, 596.0, 202.0, 394.0, 2003.0, 123.0, 355.0], 'LMe_37.asc': [268.0, 272.0, 279.0, 165.0, 242.0, 267.0, 168.0, 278.0, 215.0, 277.0, 185.0, 130.0, 135.0, 143.0, 169.0, 207.0, 242.0, 296.0, 251.0, 165.0, 171.0, 610.0, 46.0, 425.0, 152.0, 191.0, 270.0, 243.0, 262.0, 162.0, 190.0, 173.0, 237.0, 344.0, 150.0, 322.0, 189.0], 'LMe_40.asc': [144.0, 194.0, 291.0, 209.0, 326.0, 228.0, 279.0, 167.0, 200.0, 223.0, 250.0, 71.0, 156.0, 169.0, 227.0, 318.0, 344.0, 440.0, 229.0, 218.0, 153.0, 328.0, 361.0, 149.0, 323.0, 177.0, 349.0, 400.0, 211.0, 250.0, 528.0, 196.0, 331.0, 138.0], 'LMe_41.asc': [226.0, 171.0, 152.0, 274.0, 171.0, 223.0, 231.0, 229.0, 147.0, 428.0, 402.0, 209.0, 343.0, 168.0, 251.0, 140.0, 188.0, 169.0, 249.0, 217.0, 129.0, 323.0, 196.0, 283.0, 242.0, 320.0, 108.0, 198.0, 272.0, 163.0, 508.0, 476.0, 84.0, 272.0, 388.0], 'LMe_6.asc': [160.0, 150.0, 274.0, 215.0, 472.0, 223.0, 414.0, 347.0, 31.0, 171.0, 489.0, 240.0, 258.0, 128.0, 126.0, 246.0, 728.0, 138.0, 358.0, 225.0, 170.0, 551.0, 157.0, 270.0, 208.0, 316.0, 172.0, 240.0, 165.0, 400.0, 390.0, 170.0, 106.0]}, 'living20.jpg': {'LMe_2.asc': [160.0, 168.0, 433.0, 221.0, 554.0, 149.0, 574.0, 259.0, 217.0, 259.0, 180.0, 462.0, 270.0, 354.0, 388.0, 484.0, 254.0, 193.0, 587.0, 201.0, 143.0, 82.0, 172.0, 377.0, 197.0, 251.0, 221.0, 276.0, 328.0, 170.0, 126.0], 'LMe_3.asc': [84.0, 243.0, 159.0, 229.0, 250.0, 197.0, 155.0, 175.0, 142.0, 125.0, 160.0, 118.0, 564.0, 249.0, 205.0, 216.0, 186.0, 543.0, 216.0, 212.0, 174.0, 119.0, 197.0, 113.0, 252.0, 271.0, 291.0, 220.0, 193.0, 176.0, 248.0, 310.0, 309.0, 257.0, 237.0, 186.0, 513.0], 'LMe_38.asc': [181.0, 412.0, 177.0, 125.0, 265.0, 412.0, 199.0, 228.0, 193.0, 156.0, 200.0, 219.0, 194.0, 343.0, 77.0, 236.0, 188.0, 218.0, 241.0, 393.0, 161.0, 474.0, 216.0, 305.0, 191.0, 129.0, 371.0, 228.0, 137.0, 190.0, 277.0, 263.0, 103.0, 221.0, 218.0, 153.0, 56.0], 'LMe_39.asc': [358.0, 140.0, 136.0, 350.0, 191.0, 404.0, 354.0, 127.0, 154.0, 317.0, 252.0, 334.0, 143.0, 421.0, 110.0, 243.0, 220.0, 274.0, 432.0, 219.0, 235.0, 197.0, 290.0, 283.0, 374.0, 256.0, 314.0, 419.0, 203.0, 189.0, 496.0, 355.0, 36.0], 'LMe_42.asc': [216.0, 243.0, 132.0, 131.0, 251.0, 160.0, 161.0, 294.0, 223.0, 174.0, 216.0, 186.0, 105.0, 141.0, 207.0, 83.0, 195.0, 180.0, 193.0, 133.0, 93.0, 229.0, 408.0, 116.0, 169.0, 297.0, 290.0, 237.0, 284.0, 210.0, 435.0, 277.0, 349.0, 288.0, 79.0], 'LMe_6.asc': [175.0, 132.0, 167.0, 147.0, 141.0, 204.0, 284.0, 286.0, 274.0, 168.0, 238.0, 203.0, 128.0, 326.0, 136.0, 301.0, 176.0, 79.0, 230.0, 181.0, 285.0, 241.0, 104.0, 211.0, 260.0, 262.0, 164.0, 314.0, 198.0, 303.0, 317.0, 308.0, 250.0, 143.0, 234.0, 362.0, 331.0, 164.0]}, 'living38.jpg': {'LMe_2.asc': [116.0, 134.0, 93.0, 173.0, 288.0, 465.0, 343.0, 174.0, 180.0, 98.0, 228.0, 144.0, 166.0, 487.0, 738.0, 260.0, 222.0, 244.0, 235.0, 149.0, 334.0, 144.0, 435.0, 274.0, 150.0, 170.0, 188.0, 255.0, 161.0, 1720.0], 'LMe_3.asc': [186.0, 123.0, 118.0, 203.0, 157.0, 170.0, 267.0, 145.0, 186.0, 143.0, 245.0, 300.0, 259.0, 284.0, 383.0, 363.0, 245.0, 210.0, 199.0, 228.0, 144.0, 136.0, 177.0, 208.0, 295.0, 246.0, 388.0, 223.0, 287.0, 302.0, 349.0, 640.0, 333.0, 427.0, 163.0], 'LMe_38.asc': [202.0, 131.0, 211.0, 185.0, 168.0, 160.0, 173.0, 458.0, 156.0, 116.0, 129.0, 180.0, 111.0, 244.0, 177.0, 165.0, 216.0, 390.0, 166.0, 237.0, 239.0, 203.0, 150.0, 88.0, 275.0, 175.0, 326.0, 488.0, 184.0, 239.0, 174.0, 184.0, 177.0, 365.0, 82.0, 106.0, 231.0, 231.0, 124.0], 'LMe_39.asc': [289.0, 47.0, 266.0, 206.0, 213.0, 126.0, 239.0, 141.0, 170.0, 237.0, 152.0, 204.0, 423.0, 567.0, 471.0, 242.0, 262.0, 148.0, 276.0, 184.0, 277.0, 376.0, 383.0, 176.0, 263.0, 453.0, 362.0, 74.0, 289.0, 257.0, 249.0, 135.0, 325.0, 132.0], 'LMe_42.asc': [33.0, 160.0, 154.0, 147.0, 305.0, 121.0, 178.0, 287.0, 236.0, 149.0, 111.0, 373.0, 305.0, 154.0, 185.0, 200.0, 254.0, 177.0, 413.0, 823.0, 75.0, 281.0, 176.0, 259.0, 290.0, 176.0, 101.0, 323.0, 187.0, 204.0, 171.0, 368.0, 274.0, 73.0], 'LMe_6.asc': [170.0, 159.0, 202.0, 141.0, 283.0, 176.0, 202.0, 106.0, 312.0, 205.0, 174.0, 253.0, 103.0, 302.0, 282.0, 161.0, 200.0, 197.0, 208.0, 511.0, 195.0, 234.0, 124.0, 735.0, 219.0, 151.0, 175.0, 187.0, 120.0, 258.0, 271.0, 251.0, 115.0, 457.0, 221.0, 164.0, 253.0]}, 'living23.jpg': {'LMe_2.asc': [135.0, 178.0, 226.0, 195.0, 227.0, 126.0, 194.0, 113.0, 274.0, 216.0, 190.0, 62.0, 361.0, 214.0, 182.0, 213.0, 218.0, 175.0, 292.0, 392.0, 305.0, 253.0, 261.0, 81.0, 284.0, 307.0, 244.0, 380.0, 251.0, 363.0, 275.0, 873.0, 567.0], 'LMe_3.asc': [133.0, 186.0, 174.0, 147.0, 227.0, 215.0, 348.0, 267.0, 387.0, 376.0, 442.0, 139.0, 281.0, 195.0, 427.0, 248.0, 330.0, 302.0, 183.0, 402.0, 96.0, 234.0, 268.0, 182.0, 453.0, 305.0, 259.0, 462.0, 213.0, 225.0, 117.0], 'LMe_38.asc': [152.0, 227.0, 195.0, 250.0, 333.0, 258.0, 188.0, 430.0, 199.0, 224.0, 65.0, 321.0, 210.0, 676.0, 158.0, 154.0, 365.0, 326.0, 233.0, 304.0, 381.0, 220.0, 115.0, 139.0, 156.0, 154.0, 163.0, 196.0, 269.0, 130.0, 214.0, 140.0, 112.0, 189.0, 38.0], 'LMe_39.asc': [225.0, 267.0, 222.0, 136.0, 247.0, 207.0, 205.0, 208.0, 176.0, 273.0, 382.0, 243.0, 354.0, 149.0, 271.0, 475.0, 290.0, 170.0, 351.0, 172.0, 149.0, 220.0, 149.0, 229.0, 343.0, 287.0, 247.0, 172.0, 152.0, 139.0, 248.0, 244.0, 215.0, 450.0, 127.0], 'LMe_42.asc': [], 'LMe_6.asc': [171.0, 237.0, 47.0, 257.0, 212.0, 172.0, 176.0, 253.0, 213.0, 201.0, 163.0, 219.0, 124.0, 264.0, 385.0, 145.0, 236.0, 1127.0, 189.0, 312.0, 342.0, 709.0, 1132.0, 203.0, 150.0, 192.0, 79.0, 518.0, 230.0, 156.0, 29.0]}, 'img_256.jpg': {'LMe_2.asc': [85.0, 647.0, 151.0, 235.0, 213.0, 598.0, 303.0, 140.0, 131.0, 236.0, 240.0, 142.0, 233.0, 164.0, 213.0, 268.0, 121.0, 148.0, 264.0, 187.0, 205.0, 302.0, 207.0, 348.0, 125.0, 890.0, 202.0, 300.0, 268.0, 124.0, 1018.0], 'LMe_3.asc': [111.0, 127.0, 143.0, 80.0, 186.0, 114.0, 492.0, 145.0, 153.0, 154.0, 224.0, 321.0, 141.0, 130.0, 342.0, 348.0, 186.0, 151.0, 156.0, 457.0, 120.0, 508.0, 140.0, 362.0, 665.0, 476.0, 310.0, 623.0, 343.0, 310.0, 743.0], 'LMe_38.asc': [160.0, 252.0, 183.0, 342.0, 109.0, 82.0, 187.0, 166.0, 143.0, 260.0, 255.0, 147.0, 155.0, 217.0, 146.0, 139.0, 194.0, 250.0, 188.0, 177.0, 307.0, 173.0, 147.0, 291.0, 445.0, 140.0, 211.0, 122.0, 176.0, 154.0, 317.0, 272.0, 223.0, 218.0, 130.0, 142.0, 487.0, 166.0], 'LMe_39.asc': [67.0, 154.0, 135.0, 198.0, 258.0, 147.0, 254.0, 140.0, 308.0, 259.0, 301.0, 206.0, 248.0, 189.0, 383.0, 376.0, 406.0, 164.0, 156.0, 321.0, 227.0, 221.0, 137.0, 311.0, 234.0, 97.0, 231.0, 253.0, 532.0, 402.0, 1134.0], 'LMe_42.asc': [199.0, 104.0, 193.0, 368.0, 197.0, 222.0, 181.0, 60.0, 216.0, 131.0, 674.0, 154.0, 287.0, 403.0, 251.0, 191.0, 242.0, 188.0, 112.0, 183.0, 219.0, 128.0, 165.0, 205.0, 137.0, 180.0, 139.0, 30.0, 187.0, 150.0, 176.0, 109.0, 77.0, 145.0, 313.0, 179.0, 44.0, 169.0, 139.0], 'LMe_6.asc': [119.0, 183.0, 152.0, 122.0, 162.0, 315.0, 242.0, 443.0, 214.0, 237.0, 150.0, 297.0, 114.0, 332.0, 290.0, 187.0, 486.0, 158.0, 185.0, 268.0, 172.0, 53.0, 397.0, 175.0, 116.0, 285.0, 193.0, 131.0, 219.0, 294.0, 169.0, 309.0, 152.0, 99.0, 137.0]}, 'IMG_9641.jpg': {'LMe_2.asc': [78.0, 224.0, 415.0, 250.0, 244.0, 202.0, 226.0, 143.0, 142.0, 270.0, 629.0, 276.0, 549.0, 263.0, 547.0, 270.0, 2798.0, 545.0, 419.0, 417.0, 225.0], 'LMe_3.asc': [114.0, 429.0, 275.0, 259.0, 113.0, 246.0, 185.0, 152.0, 218.0, 133.0, 118.0, 235.0, 196.0, 223.0, 231.0, 522.0, 292.0, 665.0, 496.0, 562.0, 751.0, 312.0, 602.0, 654.0, 935.0], 'LMe_38.asc': [126.0, 245.0, 941.0, 320.0, 89.0, 315.0, 144.0, 165.0, 172.0, 145.0, 157.0, 249.0, 233.0, 156.0, 213.0, 245.0, 123.0, 186.0, 279.0, 349.0, 428.0, 237.0, 774.0, 478.0, 632.0, 166.0, 156.0, 330.0], 'LMe_39.asc': [117.0, 312.0, 312.0, 195.0, 327.0, 131.0, 171.0, 214.0, 196.0, 133.0, 169.0, 199.0, 222.0, 281.0, 231.0, 354.0, 492.0, 238.0, 400.0, 250.0, 298.0, 168.0, 122.0, 136.0, 114.0, 201.0, 234.0, 132.0, 206.0, 100.0, 242.0, 180.0, 104.0, 239.0, 230.0, 133.0, 213.0], 'LMe_42.asc': [], 'LMe_6.asc': [165.0, 150.0, 214.0, 158.0, 263.0, 186.0, 192.0, 160.0, 216.0, 192.0, 240.0, 157.0, 171.0, 280.0, 218.0, 301.0, 358.0, 370.0, 104.0, 158.0, 251.0, 344.0, 367.0, 467.0, 199.0, 307.0, 172.0, 210.0, 170.0, 189.0, 243.0, 416.0, 215.0, 224.0]}, 'kitchen061.jpg': {'LMe_2.asc': [77.0, 387.0, 321.0, 253.0, 403.0, 196.0, 154.0, 211.0, 203.0, 199.0, 330.0, 500.0, 129.0, 203.0, 295.0, 120.0, 165.0, 1157.0, 419.0, 2498.0, 805.0], 'LMe_3.asc': [200.0, 353.0, 179.0, 134.0, 174.0, 376.0, 196.0, 236.0, 119.0, 217.0, 167.0, 103.0, 166.0, 119.0, 164.0, 276.0, 224.0, 250.0, 149.0, 159.0, 175.0, 381.0, 213.0, 325.0, 276.0, 235.0, 155.0, 240.0, 270.0, 184.0, 184.0, 200.0, 711.0, 337.0, 362.0, 245.0, 46.0], 'LMe_38.asc': [346.0, 88.0, 187.0, 241.0, 160.0, 327.0, 245.0, 177.0, 146.0, 201.0, 289.0, 291.0, 240.0, 117.0, 145.0, 239.0, 180.0, 240.0, 269.0, 64.0, 194.0, 166.0, 1554.0, 350.0, 900.0, 467.0, 149.0, 214.0, 185.0, 338.0], 'LMe_39.asc': [227.0, 184.0, 208.0, 196.0, 221.0, 205.0, 188.0, 193.0, 255.0, 219.0, 147.0, 257.0, 232.0, 148.0, 258.0, 174.0, 349.0, 139.0, 164.0, 282.0, 354.0, 64.0, 268.0, 75.0, 233.0, 175.0, 258.0, 136.0, 275.0, 255.0, 226.0, 196.0, 240.0, 148.0, 391.0, 183.0, 248.0, 124.0], 'LMe_42.asc': [], 'LMe_6.asc': [153.0, 266.0, 155.0, 113.0, 206.0, 432.0, 187.0, 256.0, 104.0, 182.0, 248.0, 260.0, 236.0, 317.0, 351.0, 125.0, 283.0, 163.0, 53.0, 160.0, 143.0, 301.0, 272.0, 636.0, 510.0, 528.0, 292.0, 253.0, 516.0, 118.0, 180.0, 178.0, 168.0, 224.0]}, 'easyst012.jpg': {'LMe_2.asc': [55.0, 337.0, 28.0, 305.0, 242.0, 222.0, 190.0, 526.0, 22.0, 314.0, 417.0, 144.0, 351.0, 282.0, 142.0, 314.0, 194.0, 313.0, 249.0, 247.0, 202.0, 277.0, 444.0, 459.0, 174.0, 304.0, 234.0, 324.0, 480.0, 450.0, 147.0, 170.0, 230.0], 'LMe_3.asc': [111.0, 351.0, 178.0, 172.0, 555.0, 137.0, 85.0, 233.0, 250.0, 277.0, 156.0, 300.0, 247.0, 436.0, 160.0, 370.0, 368.0, 198.0, 126.0, 174.0, 85.0, 241.0, 129.0, 170.0, 175.0, 220.0, 184.0, 359.0, 150.0, 301.0, 266.0, 293.0, 366.0, 276.0, 209.0, 264.0, 130.0], 'LMe_38.asc': [310.0, 175.0, 165.0, 199.0, 449.0, 521.0, 274.0, 254.0, 422.0, 290.0, 167.0, 248.0, 161.0, 149.0, 131.0, 696.0, 191.0, 212.0, 68.0, 213.0, 188.0, 319.0, 221.0, 173.0, 222.0, 226.0, 200.0, 155.0, 131.0, 209.0, 252.0, 443.0, 430.0, 114.0], 'LMe_39.asc': [128.0, 156.0, 159.0, 298.0, 308.0, 345.0, 221.0, 171.0, 155.0, 126.0, 134.0, 180.0, 280.0, 226.0, 363.0, 475.0, 301.0, 339.0, 220.0, 211.0, 139.0, 197.0, 165.0, 295.0, 173.0, 325.0, 194.0, 555.0, 304.0, 324.0, 527.0, 575.0], 'LMe_42.asc': [], 'LMe_6.asc': [135.0, 151.0, 217.0, 227.0, 202.0, 285.0, 350.0, 301.0, 167.0, 139.0, 269.0, 283.0, 95.0, 280.0, 272.0, 177.0, 78.0, 231.0, 265.0, 357.0, 183.0, 184.0, 321.0, 332.0, 286.0, 231.0, 373.0, 319.0, 291.0, 422.0, 117.0, 155.0, 248.0, 66.0, 159.0, 208.0, 119.0, 49.0]}, 'living58.jpg': {'LMe_2.asc': [191.0, 138.0, 187.0, 242.0, 258.0, 111.0, 255.0, 310.0, 99.0, 259.0, 446.0, 503.0, 279.0, 203.0, 216.0, 209.0, 251.0, 210.0, 206.0, 219.0, 225.0, 172.0, 274.0, 232.0, 1469.0, 321.0, 296.0, 232.0, 206.0, 329.0, 228.0], 'LMe_3.asc': [159.0, 115.0, 169.0, 151.0, 199.0, 142.0, 277.0, 337.0, 136.0, 153.0, 31.0, 166.0, 168.0, 233.0, 193.0, 193.0, 199.0, 152.0, 450.0, 166.0, 147.0, 108.0, 176.0, 128.0, 213.0, 377.0, 242.0, 222.0, 394.0, 153.0, 657.0, 889.0, 654.0, 229.0], 'LMe_38.asc': [315.0, 219.0, 229.0, 175.0, 161.0, 192.0, 142.0, 149.0, 167.0, 623.0, 202.0, 174.0, 200.0, 124.0, 317.0, 295.0, 106.0, 189.0, 267.0, 169.0, 169.0, 409.0, 355.0, 228.0, 302.0, 272.0, 199.0, 224.0, 195.0, 214.0, 386.0, 341.0, 369.0, 152.0], 'LMe_39.asc': [249.0, 135.0, 246.0, 255.0, 213.0, 321.0, 213.0, 202.0, 380.0, 125.0, 200.0, 364.0, 224.0, 143.0, 302.0, 307.0, 323.0, 322.0, 71.0, 233.0, 290.0, 235.0, 222.0, 280.0, 163.0, 281.0, 293.0, 339.0, 338.0, 246.0, 379.0, 145.0, 286.0, 47.0], 'LMe_42.asc': [101.0, 261.0, 205.0, 321.0, 354.0, 258.0, 145.0, 401.0, 378.0, 39.0, 198.0, 181.0, 240.0, 221.0, 77.0, 325.0, 133.0, 287.0, 212.0, 59.0, 116.0, 200.0, 183.0, 164.0, 192.0, 166.0, 171.0, 293.0, 283.0, 384.0, 273.0, 258.0, 211.0, 245.0, 133.0, 347.0, 93.0], 'LMe_6.asc': [234.0, 357.0, 83.0, 238.0, 142.0, 216.0, 191.0, 157.0, 1146.0, 197.0, 224.0, 200.0, 152.0, 211.0, 69.0, 331.0, 194.0, 220.0, 202.0, 314.0, 303.0, 304.0, 260.0, 178.0, 432.0, 262.0, 307.0, 337.0, 304.0, 21.0, 153.0, 319.0]}, 'restau39.jpg': {'LMe_2.asc': [146.0, 152.0, 229.0, 693.0, 111.0, 116.0, 128.0, 322.0, 211.0, 225.0, 313.0, 277.0, 160.0, 142.0, 281.0, 182.0, 234.0, 192.0, 150.0, 236.0, 76.0, 197.0, 255.0, 306.0, 226.0, 124.0, 189.0, 312.0, 149.0, 198.0, 305.0, 317.0, 356.0, 132.0, 135.0, 170.0, 240.0, 262.0], 'LMe_3.asc': [168.0, 199.0, 107.0, 142.0, 149.0, 172.0, 131.0, 139.0, 376.0, 174.0, 234.0, 205.0, 328.0, 99.0, 119.0, 240.0, 224.0, 149.0, 217.0, 155.0, 229.0, 381.0, 362.0, 200.0, 202.0, 260.0, 348.0, 152.0, 280.0, 198.0, 233.0, 205.0, 632.0, 143.0, 171.0, 144.0, 220.0, 226.0, 158.0], 'LMe_38.asc': [265.0, 279.0, 197.0, 699.0, 212.0, 207.0, 223.0, 159.0, 344.0, 125.0, 145.0, 220.0, 159.0, 118.0, 396.0, 329.0, 166.0, 164.0, 177.0, 104.0, 178.0, 296.0, 221.0, 249.0, 126.0, 183.0, 135.0, 210.0, 162.0, 217.0, 244.0, 227.0, 173.0, 177.0, 101.0, 85.0, 407.0, 66.0], 'LMe_39.asc': [191.0, 365.0, 144.0, 439.0, 375.0, 180.0, 243.0, 192.0, 333.0, 215.0, 265.0, 267.0, 426.0, 278.0, 389.0, 207.0, 279.0, 176.0, 181.0, 124.0, 366.0, 257.0, 187.0, 180.0, 218.0, 172.0, 262.0, 240.0, 281.0, 176.0, 227.0, 447.0, 149.0, 55.0], 'LMe_42.asc': [], 'LMe_6.asc': [234.0, 44.0, 269.0, 256.0, 198.0, 923.0, 115.0, 249.0, 178.0, 269.0, 243.0, 190.0, 265.0, 41.0, 266.0, 257.0, 311.0, 118.0, 178.0, 149.0, 251.0, 176.0, 187.0, 222.0, 417.0, 161.0, 211.0, 274.0, 465.0, 242.0, 270.0, 294.0, 139.0, 175.0, 109.0, 176.0]}, 'living49.jpg': {'LMe_2.asc': [205.0, 128.0, 194.0, 556.0, 134.0, 443.0, 196.0, 341.0, 132.0, 221.0, 251.0, 229.0, 219.0, 152.0, 289.0, 228.0, 262.0, 187.0, 238.0, 202.0, 99.0, 192.0, 133.0, 460.0, 209.0, 349.0, 220.0, 203.0, 218.0, 532.0, 367.0, 233.0, 268.0, 64.0], 'LMe_3.asc': [106.0, 313.0, 114.0, 124.0, 207.0, 194.0, 172.0, 110.0, 197.0, 160.0, 232.0, 288.0, 176.0, 182.0, 267.0, 230.0, 178.0, 202.0, 184.0, 205.0, 236.0, 185.0, 272.0, 293.0, 182.0, 227.0, 261.0, 200.0, 230.0, 550.0, 770.0, 623.0, 791.0], 'LMe_38.asc': [161.0, 152.0, 145.0, 186.0, 271.0, 103.0, 119.0, 171.0, 223.0, 326.0, 172.0, 361.0, 241.0, 170.0, 275.0, 168.0, 231.0, 345.0, 233.0, 226.0, 311.0, 116.0, 224.0, 117.0, 157.0, 300.0, 421.0, 139.0, 233.0, 277.0, 384.0, 240.0, 475.0, 204.0, 157.0, 73.0], 'LMe_39.asc': [160.0, 298.0, 274.0, 216.0, 311.0, 160.0, 249.0, 198.0, 146.0, 314.0, 260.0, 140.0, 223.0, 327.0, 372.0, 312.0, 269.0, 544.0, 172.0, 237.0, 540.0, 422.0, 170.0, 363.0, 412.0, 459.0, 34.0, 426.0, 268.0, 308.0], 'LMe_42.asc': [], 'LMe_6.asc': [177.0, 153.0, 143.0, 307.0, 314.0, 175.0, 183.0, 199.0, 271.0, 226.0, 561.0, 381.0, 233.0, 177.0, 200.0, 212.0, 148.0, 172.0, 178.0, 196.0, 205.0, 158.0, 192.0, 284.0, 310.0, 320.0, 288.0, 327.0, 127.0, 175.0, 147.0, 207.0, 21.0, 148.0, 48.0, 34.0]}, 'eagle_office.jpg': {'LMe_2.asc': [103.0, 325.0, 115.0, 170.0, 168.0, 346.0, 497.0, 256.0, 212.0, 114.0, 117.0, 278.0, 219.0, 168.0, 209.0, 165.0, 199.0, 312.0, 159.0, 503.0, 235.0, 339.0, 177.0, 196.0, 123.0, 155.0, 334.0, 197.0, 191.0, 219.0, 249.0, 279.0, 1347.0, 42.0], 'LMe_3.asc': [136.0, 108.0, 120.0, 278.0, 200.0, 158.0, 213.0, 236.0, 114.0, 232.0, 97.0, 277.0, 150.0, 366.0, 138.0, 170.0, 280.0, 223.0, 440.0, 154.0, 305.0, 420.0, 358.0, 363.0, 271.0, 326.0, 238.0, 332.0, 366.0, 210.0, 441.0, 988.0], 'LMe_38.asc': [228.0, 248.0, 201.0, 135.0, 112.0, 722.0, 231.0, 211.0, 60.0, 202.0, 376.0, 412.0, 112.0, 301.0, 432.0, 139.0, 160.0, 261.0, 145.0, 193.0, 90.0, 114.0, 164.0, 46.0, 233.0, 201.0, 350.0, 254.0, 205.0, 147.0, 443.0, 493.0, 342.0, 104.0, 179.0, 168.0], 'LMe_39.asc': [191.0, 215.0, 225.0, 125.0, 210.0, 240.0, 171.0, 275.0, 116.0, 225.0, 356.0, 322.0, 156.0, 246.0, 215.0, 294.0, 105.0, 193.0, 247.0, 26.0, 353.0, 187.0, 199.0, 219.0, 312.0, 300.0, 1067.0, 256.0, 314.0, 391.0, 213.0, 209.0, 388.0], 'LMe_42.asc': [154.0, 158.0, 153.0, 307.0, 164.0, 182.0, 233.0, 193.0, 221.0, 146.0, 40.0, 287.0, 275.0, 309.0, 189.0, 137.0, 153.0, 187.0, 371.0, 435.0, 317.0, 247.0, 239.0, 233.0, 144.0, 294.0, 126.0, 88.0, 172.0, 274.0, 260.0, 473.0, 115.0, 164.0, 145.0, 80.0, 282.0, 42.0], 'LMe_6.asc': [129.0, 133.0, 155.0, 168.0, 190.0, 173.0, 162.0, 127.0, 214.0, 123.0, 261.0, 149.0, 167.0, 307.0, 137.0, 147.0, 119.0, 134.0, 188.0, 156.0, 165.0, 80.0, 45.0, 163.0, 219.0, 341.0, 369.0, 180.0, 157.0, 211.0, 139.0, 268.0, 215.0, 239.0, 139.0, 231.0, 136.0, 312.0, 102.0, 297.0, 143.0, 469.0, 377.0, 246.0]}, 'kitchen045.jpg': {'LMe_2.asc': [174.0, 208.0, 274.0, 302.0, 316.0, 388.0, 286.0, 669.0, 145.0, 321.0, 213.0, 170.0, 129.0, 238.0, 211.0, 428.0, 190.0, 140.0, 275.0, 195.0, 137.0, 91.0, 152.0, 148.0, 262.0, 236.0, 178.0, 151.0, 322.0, 340.0, 184.0, 162.0, 170.0, 151.0, 216.0, 177.0, 201.0], 'LMe_3.asc': [131.0, 342.0, 176.0, 135.0, 152.0, 252.0, 281.0, 299.0, 370.0, 123.0, 499.0, 295.0, 232.0, 206.0, 182.0, 181.0, 144.0, 186.0, 243.0, 321.0, 187.0, 291.0, 204.0, 283.0, 276.0, 169.0, 196.0, 216.0, 270.0, 376.0, 166.0, 262.0, 171.0, 984.0], 'LMe_38.asc': [350.0, 694.0, 159.0, 300.0, 477.0, 632.0, 485.0, 536.0, 285.0, 269.0, 207.0, 223.0, 194.0, 111.0, 221.0, 161.0, 144.0, 147.0, 238.0, 155.0, 313.0, 317.0, 307.0, 296.0, 401.0, 261.0, 144.0, 285.0, 220.0, 280.0, 47.0], 'LMe_39.asc': [111.0, 255.0, 353.0, 98.0, 364.0, 387.0, 91.0, 302.0, 281.0, 314.0, 472.0, 161.0, 194.0, 143.0, 188.0, 232.0, 160.0, 171.0, 420.0, 358.0, 254.0, 539.0, 327.0, 293.0, 265.0, 221.0, 566.0, 91.0, 317.0, 309.0, 242.0, 110.0], 'LMe_42.asc': [], 'LMe_6.asc': [218.0, 131.0, 258.0, 245.0, 53.0, 190.0, 155.0, 418.0, 296.0, 184.0, 330.0, 198.0, 273.0, 176.0, 215.0, 255.0, 285.0, 194.0, 191.0, 216.0, 217.0, 208.0, 183.0, 185.0, 206.0, 210.0, 163.0, 91.0, 114.0, 201.0, 225.0, 317.0, 344.0, 142.0, 311.0, 237.0, 53.0, 219.0, 150.0, 120.0, 140.0, 48.0]}, 'Living31.jpg': {'LMe_2.asc': [152.0, 125.0, 171.0, 145.0, 333.0, 225.0, 253.0, 231.0, 260.0, 90.0, 148.0, 229.0, 118.0, 225.0, 299.0, 172.0, 195.0, 202.0, 207.0, 324.0, 197.0, 261.0, 226.0, 232.0, 129.0, 206.0, 192.0, 124.0, 322.0, 487.0, 370.0, 997.0, 245.0, 367.0, 203.0], 'LMe_3.asc': [110.0, 132.0, 217.0, 184.0, 151.0, 166.0, 101.0, 163.0, 199.0, 273.0, 125.0, 252.0, 532.0, 200.0, 304.0, 215.0, 184.0, 324.0, 205.0, 147.0, 101.0, 248.0, 295.0, 290.0, 314.0, 220.0, 167.0, 267.0, 136.0, 258.0, 160.0, 490.0, 132.0, 155.0, 316.0, 321.0, 296.0, 43.0], 'LMe_37.asc': [234.0, 150.0, 270.0, 134.0, 142.0, 141.0, 177.0, 78.0, 177.0, 204.0, 151.0, 228.0, 260.0, 109.0, 254.0, 197.0, 227.0, 152.0, 145.0, 141.0, 350.0, 207.0, 200.0, 40.0, 321.0, 203.0, 308.0, 144.0, 197.0, 206.0, 173.0, 151.0, 145.0, 144.0, 166.0, 263.0, 173.0, 156.0, 257.0, 581.0, 271.0, 96.0, 81.0], 'LMe_40.asc': [239.0, 247.0, 324.0, 134.0, 426.0, 436.0, 310.0, 245.0, 169.0, 324.0, 183.0, 147.0, 227.0, 156.0, 330.0, 138.0, 250.0, 146.0, 279.0, 228.0, 462.0, 241.0, 185.0, 201.0, 178.0, 314.0, 287.0, 273.0, 194.0, 146.0, 196.0, 206.0, 174.0, 157.0, 262.0, 122.0], 'LMe_41.asc': [128.0, 167.0, 268.0, 200.0, 307.0, 205.0, 205.0, 192.0, 137.0, 242.0, 288.0, 159.0, 912.0, 273.0, 312.0, 193.0, 195.0, 200.0, 209.0, 115.0, 142.0, 55.0, 165.0, 456.0, 280.0, 310.0, 318.0, 463.0, 287.0, 180.0, 170.0, 154.0, 97.0, 338.0, 183.0], 'LMe_6.asc': [90.0, 128.0, 198.0, 321.0, 269.0, 287.0, 370.0, 318.0, 53.0, 215.0, 96.0, 234.0, 293.0, 145.0, 187.0, 376.0, 174.0, 132.0, 376.0, 254.0, 257.0, 271.0, 378.0, 766.0, 125.0, 190.0, 127.0, 312.0, 200.0, 107.0, 118.0, 318.0, 273.0, 262.0, 88.0, 318.0]}, 'living69.jpg': {'LMe_2.asc': [118.0, 22.0, 30.0, 226.0, 147.0, 240.0, 293.0, 247.0, 309.0, 504.0, 216.0, 362.0, 238.0, 133.0, 271.0, 87.0, 254.0, 221.0, 157.0, 159.0, 247.0, 287.0, 186.0, 226.0, 187.0, 243.0, 318.0, 434.0, 682.0, 233.0, 380.0, 169.0, 46.0, 307.0, 119.0, 131.0, 124.0], 'LMe_3.asc': [152.0, 220.0, 93.0, 128.0, 235.0, 149.0, 205.0, 329.0, 153.0, 388.0, 574.0, 213.0, 242.0, 335.0, 294.0, 437.0, 379.0, 150.0, 203.0, 170.0, 141.0, 188.0, 136.0, 183.0, 191.0, 184.0, 281.0, 408.0, 1105.0, 606.0, 387.0], 'LMe_38.asc': [143.0, 186.0, 153.0, 137.0, 355.0, 105.0, 100.0, 555.0, 252.0, 230.0, 233.0, 267.0, 143.0, 230.0, 193.0, 265.0, 203.0, 74.0, 230.0, 199.0, 60.0, 259.0, 241.0, 425.0, 381.0, 301.0, 194.0, 797.0, 174.0, 239.0, 59.0], 'LMe_39.asc': [181.0, 279.0, 94.0, 187.0, 129.0, 371.0, 219.0, 259.0, 159.0, 257.0, 262.0, 281.0, 206.0, 378.0, 349.0, 370.0, 250.0, 143.0, 325.0, 212.0, 259.0, 149.0, 303.0, 188.0, 130.0, 222.0, 296.0, 145.0, 446.0, 252.0, 250.0, 271.0, 307.0, 133.0], 'LMe_42.asc': [], 'LMe_6.asc': [92.0, 126.0, 268.0, 159.0, 214.0, 200.0, 140.0, 146.0, 244.0, 539.0, 303.0, 120.0, 73.0, 393.0, 153.0, 324.0, 215.0, 113.0, 136.0, 333.0, 1515.0, 315.0, 823.0, 223.0, 233.0, 372.0, 446.0, 626.0]}, 'child2.jpg': {'LMe_2.asc': [367.0, 129.0, 219.0, 617.0, 412.0, 265.0, 220.0, 186.0, 116.0, 261.0, 339.0, 628.0, 106.0, 312.0, 292.0, 181.0, 178.0, 127.0, 338.0, 161.0, 352.0, 187.0, 282.0, 324.0, 254.0, 137.0, 193.0, 258.0, 138.0, 166.0, 150.0, 123.0, 240.0, 216.0], 'LMe_3.asc': [184.0, 164.0, 241.0, 103.0, 106.0, 302.0, 175.0, 199.0, 185.0, 238.0, 133.0, 456.0, 204.0, 120.0, 157.0, 410.0, 154.0, 128.0, 183.0, 238.0, 296.0, 184.0, 188.0, 557.0, 230.0, 358.0, 375.0, 519.0, 2089.0], 'LMe_38.asc': [149.0, 225.0, 506.0, 237.0, 263.0, 107.0, 358.0, 487.0, 270.0, 331.0, 87.0, 184.0, 431.0, 252.0, 284.0, 182.0, 341.0, 124.0, 190.0, 419.0, 231.0, 181.0, 298.0, 375.0, 129.0, 229.0, 149.0, 114.0, 223.0, 233.0, 143.0, 183.0, 421.0, 216.0], 'LMe_39.asc': [203.0, 31.0, 222.0, 143.0, 207.0, 128.0, 385.0, 220.0, 139.0, 229.0, 196.0, 112.0, 187.0, 129.0, 225.0, 384.0, 223.0, 219.0, 328.0, 239.0, 143.0, 115.0, 232.0, 198.0, 133.0, 290.0, 214.0, 474.0, 268.0, 250.0, 408.0, 211.0, 225.0, 238.0, 146.0, 179.0, 189.0, 312.0], 'LMe_42.asc': [288.0, 214.0, 239.0, 135.0, 193.0, 310.0, 165.0, 183.0, 162.0, 25.0, 282.0, 265.0, 234.0, 193.0, 220.0, 185.0, 326.0, 157.0, 241.0, 370.0, 448.0, 232.0, 215.0, 130.0, 174.0, 309.0, 294.0, 175.0, 184.0, 166.0, 201.0, 129.0, 107.0, 274.0, 200.0, 54.0], 'LMe_6.asc': [33.0, 152.0, 109.0, 121.0, 272.0, 321.0, 166.0, 207.0, 136.0, 178.0, 155.0, 389.0, 156.0, 443.0, 232.0, 90.0, 70.0, 138.0, 160.0, 301.0, 269.0, 689.0, 382.0, 498.0, 542.0, 456.0, 232.0, 240.0, 63.0, 218.0, 204.0, 161.0, 185.0, 199.0, 149.0, 226.0]}, 'kitchenblack.jpg': {'LMe_2.asc': [242.0, 147.0, 166.0, 86.0, 442.0, 528.0, 169.0, 112.0, 253.0, 118.0, 297.0, 251.0, 175.0, 290.0, 141.0, 300.0, 179.0, 253.0, 151.0, 181.0, 267.0, 123.0, 298.0, 325.0, 190.0, 299.0, 246.0, 102.0, 284.0, 294.0, 190.0, 207.0, 194.0, 325.0, 167.0, 584.0], 'LMe_3.asc': [161.0, 232.0, 182.0, 236.0, 195.0, 146.0, 151.0, 177.0, 146.0, 366.0, 169.0, 209.0, 408.0, 270.0, 514.0, 206.0, 578.0, 313.0, 686.0, 307.0, 1086.0, 1152.0, 395.0, 288.0], 'LMe_38.asc': [139.0, 223.0, 342.0, 179.0, 261.0, 306.0, 374.0, 121.0, 153.0, 85.0, 140.0, 183.0, 632.0, 668.0, 448.0, 163.0, 163.0, 107.0, 565.0, 241.0, 203.0, 306.0, 338.0, 521.0, 111.0, 403.0, 481.0, 273.0, 267.0], 'LMe_39.asc': [218.0, 303.0, 207.0, 248.0, 180.0, 270.0, 85.0, 160.0, 271.0, 278.0, 197.0, 260.0, 180.0, 312.0, 232.0, 145.0, 287.0, 215.0, 298.0, 212.0, 180.0, 287.0, 196.0, 326.0, 418.0, 530.0, 342.0, 703.0, 293.0, 127.0, 342.0, 243.0], 'LMe_42.asc': [134.0, 219.0, 108.0, 64.0, 197.0, 126.0, 260.0, 129.0, 329.0, 58.0, 89.0, 250.0, 191.0, 190.0, 131.0, 267.0, 174.0, 250.0, 123.0, 131.0, 250.0, 305.0, 113.0, 151.0, 239.0, 149.0, 183.0, 269.0, 233.0, 166.0, 173.0, 371.0, 246.0, 117.0, 234.0, 211.0, 139.0, 226.0, 128.0, 278.0], 'LMe_6.asc': [164.0, 114.0, 295.0, 189.0, 167.0, 150.0, 198.0, 223.0, 133.0, 358.0, 254.0, 350.0, 39.0, 137.0, 331.0, 205.0, 335.0, 94.0, 314.0, 173.0, 341.0, 100.0, 247.0, 102.0, 209.0, 211.0, 102.0, 312.0, 175.0, 318.0, 322.0, 214.0, 407.0, 229.0, 44.0, 762.0]}, 'kitchen248.jpg': {'LMe_2.asc': [162.0, 147.0, 166.0, 239.0, 193.0, 190.0, 278.0, 267.0, 289.0, 376.0, 102.0, 167.0, 149.0, 232.0, 183.0, 198.0, 166.0, 180.0, 167.0, 164.0, 229.0, 468.0, 316.0, 277.0, 50.0, 245.0, 257.0, 270.0, 203.0, 173.0, 177.0, 251.0, 154.0, 89.0, 265.0, 160.0, 208.0, 316.0, 248.0], 'LMe_3.asc': [131.0, 136.0, 195.0, 139.0, 153.0, 176.0, 162.0, 194.0, 146.0, 170.0, 233.0, 137.0, 318.0, 208.0, 67.0, 307.0, 343.0, 234.0, 200.0, 257.0, 149.0, 202.0, 172.0, 281.0, 207.0, 391.0, 229.0, 1097.0, 803.0, 338.0, 962.0], 'LMe_37.asc': [179.0, 193.0, 214.0, 160.0, 278.0, 155.0, 108.0, 162.0, 202.0, 146.0, 153.0, 173.0, 66.0, 189.0, 126.0, 220.0, 193.0, 297.0, 311.0, 297.0, 153.0, 194.0, 150.0, 187.0, 169.0, 166.0, 241.0, 198.0, 138.0, 187.0, 197.0, 179.0, 248.0, 112.0, 95.0, 272.0, 162.0, 284.0, 158.0, 253.0, 66.0, 165.0, 370.0, 151.0], 'LMe_40.asc': [210.0, 205.0, 189.0, 106.0, 205.0, 196.0, 265.0, 294.0, 185.0, 292.0, 251.0, 193.0, 325.0, 292.0, 140.0, 234.0, 222.0, 270.0, 227.0, 138.0, 147.0, 230.0, 283.0, 330.0, 278.0, 251.0, 216.0, 175.0, 368.0, 142.0, 179.0, 261.0, 232.0, 165.0, 597.0], 'LMe_41.asc': [133.0, 162.0, 169.0, 117.0, 351.0, 229.0, 257.0, 291.0, 212.0, 272.0, 450.0, 216.0, 310.0, 160.0, 144.0, 157.0, 66.0, 266.0, 271.0, 234.0, 147.0, 193.0, 102.0, 217.0, 459.0, 193.0, 280.0, 211.0, 170.0, 232.0, 291.0, 184.0, 105.0, 141.0, 278.0, 332.0, 144.0, 317.0, 39.0], 'LMe_6.asc': [29.0, 145.0, 257.0, 277.0, 717.0, 419.0, 234.0, 134.0, 358.0, 243.0, 105.0, 226.0, 160.0, 174.0, 279.0, 220.0, 298.0, 188.0, 121.0, 452.0, 20.0, 141.0, 402.0, 368.0, 262.0, 157.0, 150.0, 294.0, 424.0, 43.0, 147.0, 607.0, 214.0, 224.0, 206.0]}, 'Restaurant8.jpg': {'LMe_2.asc': [116.0, 186.0, 218.0, 118.0, 174.0, 180.0, 212.0, 135.0, 156.0, 181.0, 648.0, 138.0, 605.0, 574.0, 197.0, 212.0, 295.0, 195.0, 140.0, 329.0, 366.0, 237.0, 221.0, 168.0, 511.0, 196.0, 182.0, 218.0, 174.0, 334.0, 411.0, 130.0, 172.0, 161.0], 'LMe_3.asc': [114.0, 107.0, 183.0, 135.0, 130.0, 131.0, 199.0, 151.0, 151.0, 219.0, 214.0, 140.0, 155.0, 163.0, 295.0, 143.0, 234.0, 198.0, 260.0, 167.0, 169.0, 456.0, 308.0, 263.0, 304.0, 552.0, 854.0, 1146.0, 1391.0], 'LMe_37.asc': [364.0, 464.0, 373.0, 214.0, 647.0, 153.0, 340.0, 146.0, 149.0, 191.0, 267.0, 249.0, 286.0, 353.0, 57.0, 147.0, 160.0, 177.0, 238.0, 708.0, 301.0, 440.0, 577.0, 261.0, 148.0, 153.0, 352.0, 390.0, 91.0, 157.0, 133.0, 41.0], 'LMe_40.asc': [308.0, 127.0, 271.0, 199.0, 231.0, 204.0, 188.0, 335.0, 135.0, 305.0, 542.0, 229.0, 224.0, 526.0, 335.0, 273.0, 652.0, 491.0, 228.0, 155.0, 454.0, 143.0, 292.0, 342.0, 193.0, 303.0, 180.0, 335.0, 711.0, 60.0], 'LMe_41.asc': [229.0, 326.0, 209.0, 170.0, 340.0, 309.0, 186.0, 704.0, 420.0, 150.0, 169.0, 253.0, 283.0, 431.0, 986.0, 337.0, 282.0, 242.0, 139.0, 288.0, 191.0, 228.0, 365.0, 119.0, 194.0, 134.0, 424.0, 225.0, 252.0, 173.0], 'LMe_6.asc': [96.0, 25.0, 246.0, 326.0, 119.0, 188.0, 121.0, 350.0, 346.0, 139.0, 259.0, 88.0, 288.0, 225.0, 204.0, 205.0, 168.0, 102.0, 112.0, 182.0, 150.0, 102.0, 266.0, 201.0, 289.0, 118.0, 184.0, 173.0, 182.0, 169.0, 295.0, 142.0, 211.0, 361.0, 523.0, 122.0, 191.0, 171.0, 165.0, 189.0, 202.0]}, 'hallway05.jpg': {'LMe_2.asc': [95.0, 297.0, 274.0, 286.0, 115.0, 392.0, 167.0, 211.0, 193.0, 191.0, 425.0, 601.0, 845.0, 265.0, 419.0, 333.0, 157.0, 413.0, 143.0, 1456.0, 294.0, 283.0, 339.0, 548.0, 76.0], 'LMe_3.asc': [161.0, 153.0, 245.0, 174.0, 142.0, 104.0, 278.0, 212.0, 177.0, 158.0, 234.0, 418.0, 306.0, 202.0, 216.0, 328.0, 239.0, 346.0, 139.0, 227.0, 163.0, 268.0, 304.0, 360.0, 226.0, 800.0, 127.0, 696.0, 234.0, 311.0, 262.0, 390.0, 122.0], 'LMe_38.asc': [194.0, 388.0, 198.0, 392.0, 466.0, 208.0, 210.0, 235.0, 222.0, 175.0, 303.0, 253.0, 191.0, 201.0, 332.0, 187.0, 313.0, 132.0, 252.0, 188.0, 282.0, 379.0, 157.0, 223.0, 175.0, 193.0, 489.0, 886.0, 281.0], 'LMe_39.asc': [184.0, 222.0, 249.0, 211.0, 189.0, 212.0, 275.0, 202.0, 188.0, 160.0, 156.0, 274.0, 663.0, 656.0, 309.0, 297.0, 202.0, 186.0, 237.0, 392.0, 343.0, 189.0, 111.0, 269.0, 244.0, 345.0, 291.0, 141.0, 368.0, 267.0, 374.0, 188.0], 'LMe_42.asc': [123.0, 304.0, 166.0, 181.0, 182.0, 100.0, 206.0, 223.0, 346.0, 232.0, 198.0, 173.0, 288.0, 214.0, 174.0, 145.0, 176.0, 251.0, 296.0, 146.0, 104.0, 127.0, 181.0, 248.0, 276.0, 211.0, 293.0, 138.0, 114.0, 30.0, 137.0, 304.0, 239.0, 210.0, 327.0, 297.0], 'LMe_6.asc': [160.0, 191.0, 160.0, 322.0, 312.0, 171.0, 192.0, 195.0, 224.0, 197.0, 162.0, 178.0, 150.0, 139.0, 291.0, 276.0, 312.0, 228.0, 136.0, 85.0, 214.0, 276.0, 264.0, 336.0, 214.0, 147.0, 378.0, 149.0, 178.0, 163.0, 203.0, 434.0, 44.0, 267.0, 192.0, 169.0, 195.0, 294.0, 177.0]}}\n",
            "Skipping kitchen265.jpg due to insufficient points.\n",
            "Skipping kitchen174.jpg due to insufficient points.\n",
            "Skipping kitchen014.jpg due to insufficient points.\n",
            "Skipping kitchen65.jpg due to insufficient points.\n",
            "Skipping childroom01.jpg due to insufficient points.\n",
            "Skipping IMG_9651.jpg due to insufficient points.\n",
            "Skipping homeoff014.jpg due to insufficient points.\n",
            "Skipping kitchen125.jpg due to insufficient points.\n",
            "Skipping kitchen15.jpg due to insufficient points.\n",
            "Skipping office12.jpg due to insufficient points.\n",
            "Skipping kitchen_0002_rgbImage_002151.jpg due to insufficient points.\n",
            "Skipping kitchen_0044_rgbImage_000608.jpg due to insufficient points.\n",
            "Skipping office_10.jpg due to insufficient points.\n",
            "Skipping dining29.jpg due to insufficient points.\n",
            "Skipping dining41.jpg due to insufficient points.\n",
            "Skipping img_0015.jpg due to insufficient points.\n",
            "Skipping kitchen189.jpg due to insufficient points.\n",
            "Skipping p1010833.jpg due to insufficient points.\n",
            "Skipping DSC_0497.jpg due to insufficient points.\n",
            "Skipping smallsp001.jpg due to insufficient points.\n",
            "Skipping IMG_2333.jpg due to insufficient points.\n",
            "Skipping img_0061.jpg due to insufficient points.\n",
            "Skipping kitchen177.jpg due to insufficient points.\n",
            "Skipping indoor_0604.jpg due to insufficient points.\n",
            "Skipping living_room_0058_rgbImage_001765.jpg due to insufficient points.\n",
            "Skipping kitchen037.jpg due to insufficient points.\n",
            "Skipping dining46.jpg due to insufficient points.\n",
            "Skipping kitchen35.jpg due to insufficient points.\n",
            "Skipping kitchen169.jpg due to insufficient points.\n",
            "Skipping kitchen060.jpg due to insufficient points.\n",
            "Skipping dining35.jpg due to insufficient points.\n",
            "Skipping img_6613.jpg due to insufficient points.\n",
            "Skipping office_kitchen_0003_rgbImage_000008.jpg due to insufficient points.\n",
            "Skipping pittsburgh_IMG_4077.jpg due to insufficient points.\n",
            "Skipping homeoff002.jpg due to insufficient points.\n",
            "Skipping kitchen138.jpg due to insufficient points.\n",
            "Skipping dining9.jpg due to insufficient points.\n",
            "Skipping dining3.jpg due to insufficient points.\n",
            "Skipping office_0003_rgbImage_000391.jpg due to insufficient points.\n",
            "Skipping dining048.jpg due to insufficient points.\n",
            "Skipping kitchen_0060_rgbImage_000646.jpg due to insufficient points.\n",
            "Skipping estudio2.jpg due to insufficient points.\n",
            "Skipping dining38.jpg due to insufficient points.\n",
            "Skipping bedroom18.jpg due to insufficient points.\n",
            "Skipping kitchen143.jpg due to insufficient points.\n",
            "Skipping hallway5.jpg due to insufficient points.\n",
            "Skipping kitchen057.jpg due to insufficient points.\n",
            "Skipping conference_room_1_lr_sm.jpg due to insufficient points.\n",
            "Skipping Restaurant10.jpg due to insufficient points.\n",
            "Skipping sitting26.jpg due to insufficient points.\n",
            "Skipping dining032.jpg due to insufficient points.\n",
            "Skipping image1.jpg due to insufficient points.\n",
            "Skipping hall18.jpg due to insufficient points.\n",
            "Skipping kitchen17.jpg due to insufficient points.\n",
            "Skipping living88.jpg due to insufficient points.\n",
            "Skipping kitchen137.jpg due to insufficient points.\n",
            "Skipping living71.jpg due to insufficient points.\n",
            "Skipping pittsburgh_IMG_4078.jpg due to insufficient points.\n",
            "Skipping kitchen78.jpg due to insufficient points.\n",
            "Skipping living29.jpg due to insufficient points.\n",
            "Skipping restaurant36.jpg due to insufficient points.\n",
            "Skipping living14.jpg due to insufficient points.\n",
            "Skipping living53.jpg due to insufficient points.\n",
            "Skipping dining008.jpg due to insufficient points.\n",
            "Skipping dining013.jpg due to insufficient points.\n",
            "Skipping Restaurant14.jpg due to insufficient points.\n",
            "Skipping IMG_1081.jpg due to insufficient points.\n",
            "Skipping office_13.jpg due to insufficient points.\n",
            "Skipping kitchen99.jpg due to insufficient points.\n",
            "Skipping living24.jpg due to insufficient points.\n",
            "Skipping easyst034.jpg due to insufficient points.\n",
            "Skipping office.jpg due to insufficient points.\n",
            "Skipping living20.jpg due to insufficient points.\n",
            "Skipping living38.jpg due to insufficient points.\n",
            "Skipping living23.jpg due to insufficient points.\n",
            "Skipping img_256.jpg due to insufficient points.\n",
            "Skipping IMG_9641.jpg due to insufficient points.\n",
            "Skipping kitchen061.jpg due to insufficient points.\n",
            "Skipping easyst012.jpg due to insufficient points.\n",
            "Skipping living58.jpg due to insufficient points.\n",
            "Skipping restau39.jpg due to insufficient points.\n",
            "Skipping living49.jpg due to insufficient points.\n",
            "Skipping eagle_office.jpg due to insufficient points.\n",
            "Skipping kitchen045.jpg due to insufficient points.\n",
            "Skipping Living31.jpg due to insufficient points.\n",
            "Skipping living69.jpg due to insufficient points.\n",
            "Skipping child2.jpg due to insufficient points.\n",
            "Skipping kitchenblack.jpg due to insufficient points.\n",
            "Skipping kitchen248.jpg due to insufficient points.\n",
            "Skipping Restaurant8.jpg due to insufficient points.\n",
            "Skipping hallway05.jpg due to insufficient points.\n"
          ]
        }
      ]
    },
    {
      "cell_type": "code",
      "source": [
        "print(reaction_times)"
      ],
      "metadata": {
        "colab": {
          "base_uri": "https://localhost:8080/"
        },
        "id": "fgT1iqGZs40o",
        "outputId": "4eb2706f-3f4b-4a10-8dfc-c63715777afa"
      },
      "execution_count": 22,
      "outputs": [
        {
          "output_type": "stream",
          "name": "stdout",
          "text": [
            "[]\n"
          ]
        }
      ]
    },
    {
      "cell_type": "code",
      "source": [
        "import json\n",
        "import math\n",
        "\n",
        "def calculate_stimulated_reaction_time(coordinates):\n",
        "    reaction_times = []\n",
        "\n",
        "    for key, points_list in coordinates.items():\n",
        "        # Ensure that there are at least four points to calculate reaction time\n",
        "        if len(points_list) < 8:\n",
        "            print(f\"Skipping {key} due to insufficient points.\")\n",
        "            continue\n",
        "\n",
        "        # Calculate the reaction time for each pair of consecutive points\n",
        "        for i in range(4, len(points_list), 4):\n",
        "            delta_x = points_list[i] - points_list[i - 4]\n",
        "            delta_y = points_list[i + 1] - points_list[i - 3]\n",
        "            distance = math.sqrt(delta_x**2 + delta_y**2)\n",
        "            reaction_time = 0.5 * distance\n",
        "            reaction_times.append((key, reaction_time))\n",
        "\n",
        "    return reaction_times\n",
        "\n",
        "with open('/content/drive/MyDrive/slca-main-pavan/data/all_rts.json', 'r') as file:\n",
        "    coordinates = json.load(file)\n",
        "\n",
        "print(coordinates)\n",
        "stimulated_reaction_times = calculate_stimulated_reaction_time(coordinates)\n",
        "\n",
        "# Print or use stimulated_reaction_times as needed\n",
        "for key, reaction_time in stimulated_reaction_times:\n",
        "    print(f\"Image: {key}, Stimulated Reaction Time: {reaction_time:.2f} units\")\n"
      ],
      "metadata": {
        "colab": {
          "base_uri": "https://localhost:8080/"
        },
        "id": "sA4ZtBFezkmE",
        "outputId": "55801095-b093-4930-d5a4-d891d1809f7e"
      },
      "execution_count": 23,
      "outputs": [
        {
          "output_type": "stream",
          "name": "stdout",
          "text": [
            "{'kitchen265.jpg': {'LMe_1.asc': [127.0, 172.0, 230.0, 199.0, 349.0, 396.0, 144.0, 243.0, 252.0, 149.0, 324.0, 223.0, 465.0, 116.0, 247.0, 110.0, 163.0, 216.0, 272.0, 104.0, 249.0, 263.0, 244.0, 276.0, 185.0, 402.0, 188.0, 236.0, 332.0, 205.0, 313.0, 155.0, 428.0, 120.0, 252.0, 116.0], 'LMe_37.asc': [394.0, 279.0, 250.0, 217.0, 259.0, 179.0, 437.0, 337.0, 215.0, 141.0, 262.0, 135.0, 267.0, 444.0, 200.0, 302.0, 303.0, 249.0, 378.0, 279.0, 436.0, 315.0, 199.0, 176.0, 264.0, 153.0, 560.0, 441.0, 215.0, 120.0, 459.0], 'LMe_4.asc': [123.0, 159.0, 180.0, 174.0, 194.0, 198.0, 147.0, 243.0, 247.0, 222.0, 881.0, 180.0, 590.0, 264.0, 243.0, 360.0, 149.0, 156.0, 129.0, 285.0, 325.0, 372.0, 374.0, 272.0, 532.0, 205.0, 246.0, 148.0, 773.0, 188.0, 169.0], 'LMe_40.asc': [238.0, 187.0, 431.0, 217.0, 224.0, 223.0, 278.0, 241.0, 134.0, 305.0, 254.0, 322.0, 432.0, 341.0, 317.0, 297.0, 346.0, 288.0, 394.0, 329.0, 75.0, 230.0, 392.0, 254.0, 108.0, 248.0, 252.0, 231.0, 200.0, 134.0, 363.0, 225.0, 306.0, 69.0], 'LMe_41.asc': [154.0, 194.0, 543.0, 390.0, 329.0, 367.0, 838.0, 128.0, 224.0, 216.0, 156.0, 131.0, 352.0, 179.0, 279.0, 303.0, 298.0, 208.0, 273.0, 348.0, 181.0, 249.0, 166.0, 292.0, 256.0, 306.0, 144.0, 147.0, 242.0, 144.0, 349.0, 273.0, 75.0], 'LMe_5.asc': [111.0, 179.0, 212.0, 286.0, 107.0, 164.0, 136.0, 419.0, 202.0, 237.0, 260.0, 155.0, 393.0, 201.0, 59.0, 210.0, 211.0, 299.0, 538.0, 434.0, 180.0, 150.0, 562.0, 126.0, 150.0, 163.0, 122.0, 214.0, 144.0, 105.0, 179.0, 147.0, 137.0, 155.0, 146.0, 297.0, 181.0, 182.0, 182.0, 182.0, 108.0]}, 'kitchen174.jpg': {'LMe_1.asc': [655.0, 289.0, 258.0, 188.0, 706.0, 474.0, 672.0, 299.0, 150.0, 383.0, 186.0, 152.0, 212.0, 223.0, 136.0, 301.0, 191.0, 195.0, 82.0, 331.0, 280.0, 422.0, 173.0, 132.0, 262.0, 275.0, 135.0, 515.0, 135.0, 250.0, 174.0, 132.0], 'LMe_37.asc': [209.0, 257.0, 242.0, 105.0, 157.0, 136.0, 42.0, 374.0, 819.0, 270.0, 370.0, 92.0, 225.0, 444.0, 300.0, 356.0, 220.0, 137.0, 360.0, 272.0, 336.0, 279.0, 128.0, 329.0, 507.0, 182.0, 211.0, 402.0, 188.0, 109.0, 271.0, 225.0, 214.0, 61.0], 'LMe_4.asc': [136.0, 209.0, 145.0, 119.0, 350.0, 476.0, 565.0, 111.0, 245.0, 408.0, 216.0, 154.0, 147.0, 152.0, 287.0, 230.0, 178.0, 467.0, 226.0, 371.0, 622.0, 598.0, 311.0, 130.0, 415.0, 319.0, 142.0, 594.0, 414.0, 271.0, 30.0], 'LMe_40.asc': [165.0, 453.0, 303.0, 388.0, 334.0, 252.0, 195.0, 557.0, 206.0, 198.0, 116.0, 189.0, 291.0, 169.0, 222.0, 145.0, 323.0, 232.0, 220.0, 311.0, 525.0, 269.0, 230.0, 314.0, 199.0, 347.0, 88.0, 144.0, 214.0, 193.0, 825.0], 'LMe_41.asc': [40.0, 164.0, 254.0, 315.0, 213.0, 352.0, 177.0, 193.0, 277.0, 312.0, 364.0, 192.0, 377.0, 384.0, 152.0, 282.0, 244.0, 144.0, 265.0, 192.0, 205.0, 454.0, 364.0, 291.0, 159.0, 150.0, 259.0, 320.0, 193.0, 161.0, 164.0, 193.0, 171.0, 382.0, 71.0], 'LMe_5.asc': [29.0, 49.0, 128.0, 182.0, 335.0, 142.0, 146.0, 192.0, 49.0, 163.0, 229.0, 552.0, 302.0, 378.0, 425.0, 374.0, 198.0, 147.0, 272.0, 453.0, 229.0, 188.0, 247.0, 211.0, 144.0, 76.0, 206.0, 116.0, 242.0, 136.0, 210.0, 174.0, 278.0, 496.0, 269.0, 144.0, 227.0, 199.0]}, 'kitchen014.jpg': {'LMe_1.asc': [114.0, 163.0, 81.0, 281.0, 259.0, 155.0, 145.0, 167.0, 157.0, 158.0, 204.0, 101.0, 199.0, 189.0, 45.0, 272.0, 306.0, 187.0, 148.0, 174.0, 102.0, 164.0, 151.0, 201.0, 216.0, 165.0, 107.0, 314.0, 236.0, 231.0, 155.0, 220.0, 188.0, 273.0, 168.0, 282.0, 187.0, 352.0, 340.0, 206.0, 295.0, 408.0], 'LMe_37.asc': [197.0, 289.0, 158.0, 213.0, 219.0, 278.0, 115.0, 182.0, 170.0, 140.0, 206.0, 166.0, 162.0, 232.0, 234.0, 246.0, 323.0, 137.0, 187.0, 84.0, 214.0, 163.0, 195.0, 152.0, 271.0, 291.0, 77.0, 277.0, 201.0, 129.0, 249.0, 202.0, 270.0, 359.0, 234.0, 273.0, 161.0, 319.0, 148.0, 233.0, 225.0], 'LMe_4.asc': [142.0, 224.0, 255.0, 187.0, 169.0, 205.0, 309.0, 150.0, 167.0, 196.0, 122.0, 209.0, 214.0, 291.0, 54.0, 172.0, 201.0, 205.0, 296.0, 140.0, 228.0, 288.0, 166.0, 102.0, 127.0, 172.0, 240.0, 116.0, 199.0, 179.0, 219.0, 143.0, 283.0, 499.0, 314.0, 558.0, 526.0, 58.0], 'LMe_40.asc': [128.0, 191.0, 201.0, 255.0, 104.0, 325.0, 265.0, 200.0, 148.0, 290.0, 188.0, 338.0, 238.0, 334.0, 137.0, 362.0, 183.0, 348.0, 211.0, 339.0, 148.0, 211.0, 297.0, 190.0, 141.0, 623.0, 319.0, 214.0, 266.0, 210.0, 218.0, 260.0, 192.0, 148.0], 'LMe_41.asc': [123.0, 258.0, 153.0, 306.0, 158.0, 221.0, 156.0, 119.0, 227.0, 224.0, 316.0, 273.0, 343.0, 29.0, 172.0, 266.0, 135.0, 216.0, 122.0, 139.0, 271.0, 183.0, 318.0, 175.0, 167.0, 244.0, 303.0, 209.0, 152.0, 243.0, 225.0, 154.0, 101.0, 175.0, 280.0, 363.0, 180.0], 'LMe_5.asc': [154.0, 281.0, 159.0, 220.0, 186.0, 160.0, 148.0, 246.0, 320.0, 168.0, 359.0, 310.0, 172.0, 103.0, 84.0, 177.0, 169.0, 267.0, 312.0, 198.0, 340.0, 215.0, 130.0, 98.0, 339.0, 134.0, 252.0, 178.0, 280.0, 237.0, 236.0, 227.0, 225.0, 320.0, 154.0, 466.0, 299.0, 125.0]}, 'kitchen65.jpg': {'LMe_1.asc': [142.0, 315.0, 435.0, 341.0, 85.0, 207.0, 151.0, 204.0, 171.0, 351.0, 249.0, 267.0, 176.0, 198.0, 218.0, 221.0, 202.0, 199.0, 168.0, 124.0, 213.0, 94.0, 283.0, 229.0, 77.0, 246.0, 147.0, 243.0, 143.0, 147.0, 261.0, 471.0, 179.0, 332.0, 335.0, 196.0, 237.0, 119.0, 175.0], 'LMe_37.asc': [224.0, 155.0, 214.0, 268.0, 181.0, 414.0, 144.0, 226.0, 360.0, 217.0, 236.0, 202.0, 213.0, 147.0, 327.0, 166.0, 164.0, 219.0, 455.0, 188.0, 180.0, 351.0, 538.0, 241.0, 596.0, 237.0, 62.0, 340.0, 133.0, 202.0, 267.0, 165.0, 188.0, 396.0, 240.0], 'LMe_4.asc': [151.0, 176.0, 215.0, 336.0, 363.0, 281.0, 304.0, 126.0, 260.0, 224.0, 218.0, 120.0, 212.0, 139.0, 108.0, 129.0, 219.0, 342.0, 210.0, 129.0, 297.0, 178.0, 300.0, 483.0, 266.0, 180.0, 137.0, 210.0, 257.0, 290.0, 157.0, 172.0, 237.0, 147.0, 172.0, 267.0, 313.0, 199.0], 'LMe_40.asc': [200.0, 154.0, 250.0, 130.0, 292.0, 203.0, 149.0, 223.0, 166.0, 143.0, 243.0, 394.0, 245.0, 147.0, 294.0, 190.0, 256.0, 262.0, 302.0, 147.0, 418.0, 213.0, 176.0, 187.0, 268.0, 320.0, 204.0, 238.0, 338.0, 90.0, 346.0, 416.0, 239.0, 159.0, 193.0, 160.0, 281.0], 'LMe_41.asc': [180.0, 136.0, 150.0, 36.0, 239.0, 301.0, 214.0, 295.0, 180.0, 375.0, 231.0, 265.0, 134.0, 112.0, 162.0, 699.0, 269.0, 216.0, 511.0, 344.0, 435.0, 283.0, 427.0, 718.0, 724.0, 228.0, 219.0, 109.0, 219.0, 218.0], 'LMe_5.asc': [196.0, 174.0, 290.0, 144.0, 529.0, 395.0, 615.0, 305.0, 157.0, 193.0, 131.0, 623.0, 315.0, 197.0, 216.0, 260.0, 992.0, 358.0, 340.0, 268.0, 209.0, 230.0, 342.0, 163.0, 352.0, 288.0, 91.0, 295.0, 193.0, 66.0]}, 'childroom01.jpg': {'LMe_1.asc': [280.0, 284.0, 208.0, 195.0, 197.0, 136.0, 201.0, 170.0, 235.0, 86.0, 269.0, 340.0, 286.0, 170.0, 205.0, 146.0, 261.0, 263.0, 331.0, 107.0, 385.0, 264.0, 310.0, 178.0, 427.0, 221.0, 227.0, 251.0, 305.0, 116.0, 161.0, 507.0, 200.0, 205.0, 201.0, 161.0], 'LMe_37.asc': [206.0, 247.0, 173.0, 250.0, 137.0, 57.0, 223.0, 175.0, 47.0, 164.0, 114.0, 321.0, 249.0, 181.0, 272.0, 237.0, 160.0, 206.0, 676.0, 472.0, 302.0, 553.0, 313.0, 244.0, 169.0, 171.0, 265.0, 205.0, 232.0, 113.0, 272.0, 278.0, 206.0, 192.0, 145.0, 161.0, 259.0, 104.0], 'LMe_4.asc': [115.0, 197.0, 196.0, 144.0, 274.0, 100.0, 200.0, 132.0, 106.0, 188.0, 240.0, 222.0, 219.0, 196.0, 198.0, 136.0, 259.0, 182.0, 194.0, 56.0, 201.0, 244.0, 164.0, 159.0, 200.0, 140.0, 225.0, 182.0, 262.0, 284.0, 216.0, 223.0, 192.0, 240.0, 454.0, 116.0, 126.0, 238.0, 537.0, 293.0], 'LMe_40.asc': [302.0, 192.0, 266.0, 233.0, 228.0, 199.0, 263.0, 215.0, 191.0, 283.0, 294.0, 334.0, 157.0, 215.0, 223.0, 333.0, 320.0, 184.0, 293.0, 278.0, 295.0, 295.0, 148.0, 295.0, 203.0, 342.0, 223.0, 174.0, 181.0, 377.0, 214.0, 429.0, 128.0, 50.0], 'LMe_41.asc': [144.0, 140.0, 215.0, 233.0, 219.0, 158.0, 258.0, 184.0, 197.0, 193.0, 165.0, 105.0, 282.0, 299.0, 171.0, 179.0, 250.0, 235.0, 138.0, 213.0, 203.0, 162.0, 247.0, 185.0, 124.0, 245.0, 363.0, 469.0, 337.0, 184.0, 231.0, 237.0, 125.0, 141.0, 217.0, 145.0, 93.0, 266.0, 97.0], 'LMe_5.asc': [163.0, 34.0, 152.0, 230.0, 140.0, 291.0, 261.0, 172.0, 161.0, 223.0, 335.0, 104.0, 183.0, 186.0, 249.0, 181.0, 144.0, 229.0, 90.0, 75.0, 183.0, 230.0, 275.0, 318.0, 254.0, 235.0, 134.0, 351.0, 202.0, 372.0, 162.0, 129.0, 283.0, 104.0, 397.0, 226.0, 128.0, 207.0, 190.0, 220.0, 142.0]}, 'IMG_9651.jpg': {'LMe_1.asc': [148.0, 104.0, 450.0, 227.0, 288.0, 246.0, 295.0, 203.0, 172.0, 224.0, 241.0, 128.0, 254.0, 220.0, 267.0, 248.0, 512.0, 154.0, 342.0, 476.0, 299.0, 93.0, 262.0, 328.0, 121.0, 201.0, 209.0, 380.0, 529.0, 511.0, 617.0], 'LMe_37.asc': [197.0, 167.0, 249.0, 333.0, 318.0, 321.0, 24.0, 207.0, 138.0, 213.0, 122.0, 381.0, 310.0, 356.0, 138.0, 231.0, 291.0, 198.0, 165.0, 202.0, 326.0, 298.0, 353.0, 307.0, 210.0, 199.0, 541.0, 204.0, 290.0, 566.0, 213.0, 472.0, 60.0], 'LMe_4.asc': [145.0, 186.0, 391.0, 206.0, 238.0, 213.0, 150.0, 186.0, 270.0, 77.0, 185.0, 146.0, 202.0, 259.0, 169.0, 182.0, 341.0, 210.0, 163.0, 349.0, 305.0, 194.0, 315.0, 245.0, 183.0, 212.0, 166.0, 108.0, 216.0, 427.0, 142.0, 149.0, 194.0, 158.0, 235.0, 205.0, 166.0, 271.0, 342.0], 'LMe_40.asc': [60.0, 289.0, 225.0, 331.0, 320.0, 328.0, 156.0, 355.0, 105.0, 354.0, 150.0, 321.0, 347.0, 156.0, 167.0, 302.0, 125.0, 208.0, 698.0, 251.0, 290.0, 117.0, 240.0, 546.0, 191.0, 267.0, 362.0, 576.0, 231.0, 444.0, 153.0], 'LMe_41.asc': [158.0, 189.0, 216.0, 553.0, 304.0, 333.0, 319.0, 158.0, 203.0, 252.0, 267.0, 352.0, 329.0, 251.0, 140.0, 233.0, 499.0, 400.0, 265.0, 138.0, 261.0, 241.0, 134.0, 142.0, 122.0, 123.0, 241.0, 293.0, 135.0, 181.0, 380.0, 150.0, 205.0, 124.0], 'LMe_5.asc': [134.0, 110.0, 221.0, 115.0, 191.0, 118.0, 300.0, 359.0, 387.0, 170.0, 394.0, 122.0, 200.0, 202.0, 217.0, 202.0, 352.0, 61.0, 227.0, 55.0, 335.0, 189.0, 242.0, 240.0, 109.0, 578.0, 143.0, 280.0, 169.0, 500.0, 147.0, 188.0, 208.0, 195.0, 221.0, 344.0]}, 'homeoff014.jpg': {'LMe_1.asc': [150.0, 123.0, 139.0, 267.0, 135.0, 174.0, 173.0, 276.0, 178.0, 224.0, 257.0, 217.0, 178.0, 250.0, 131.0, 128.0, 215.0, 201.0, 385.0, 274.0, 298.0, 185.0, 121.0, 159.0, 215.0, 377.0, 272.0, 171.0, 490.0, 534.0, 282.0, 274.0, 159.0, 894.0], 'LMe_37.asc': [136.0, 272.0, 187.0, 119.0, 120.0, 149.0, 280.0, 183.0, 123.0, 164.0, 179.0, 244.0, 163.0, 155.0, 294.0, 135.0, 79.0, 285.0, 196.0, 163.0, 194.0, 201.0, 245.0, 170.0, 298.0, 254.0, 330.0, 118.0, 162.0, 223.0, 172.0, 103.0, 140.0, 239.0, 124.0, 388.0, 255.0, 213.0, 345.0, 122.0, 86.0], 'LMe_4.asc': [140.0, 192.0, 149.0, 287.0, 125.0, 106.0, 164.0, 118.0, 226.0, 153.0, 203.0, 223.0, 161.0, 276.0, 248.0, 114.0, 291.0, 460.0, 280.0, 158.0, 156.0, 131.0, 198.0, 336.0, 157.0, 184.0, 222.0, 214.0, 185.0, 156.0, 369.0, 275.0, 282.0, 267.0, 196.0, 263.0, 247.0, 179.0, 235.0, 61.0], 'LMe_40.asc': [223.0, 152.0, 222.0, 265.0, 223.0, 300.0, 310.0, 158.0, 162.0, 134.0, 369.0, 151.0, 152.0, 288.0, 157.0, 144.0, 237.0, 153.0, 173.0, 192.0, 150.0, 236.0, 244.0, 168.0, 277.0, 191.0, 129.0, 251.0, 333.0, 412.0, 275.0, 190.0, 285.0, 263.0, 319.0, 198.0, 248.0, 57.0], 'LMe_41.asc': [190.0, 156.0, 159.0, 147.0, 194.0, 145.0, 220.0, 197.0, 158.0, 197.0, 304.0, 117.0, 74.0, 186.0, 269.0, 115.0, 219.0, 260.0, 171.0, 183.0, 130.0, 190.0, 932.0, 420.0, 132.0, 216.0, 85.0, 220.0, 180.0, 198.0, 125.0, 211.0, 327.0, 209.0, 159.0, 321.0, 331.0, 274.0], 'LMe_5.asc': [149.0, 253.0, 129.0, 150.0, 130.0, 202.0, 102.0, 205.0, 213.0, 143.0, 271.0, 268.0, 167.0, 193.0, 162.0, 87.0, 201.0, 332.0, 260.0, 257.0, 149.0, 218.0, 221.0, 276.0, 259.0, 169.0, 193.0, 185.0, 154.0, 214.0, 134.0, 214.0, 251.0, 252.0, 263.0, 219.0, 265.0, 144.0, 134.0, 190.0, 203.0]}, 'kitchen125.jpg': {'LMe_1.asc': [188.0, 202.0, 103.0, 280.0, 224.0, 102.0, 261.0, 199.0, 175.0, 158.0, 406.0, 365.0, 215.0, 626.0, 322.0, 377.0, 158.0, 479.0, 540.0, 351.0, 484.0, 215.0, 333.0, 718.0, 325.0, 201.0, 308.0, 214.0, 163.0, 205.0], 'LMe_37.asc': [231.0, 190.0, 223.0, 158.0, 243.0, 342.0, 285.0, 279.0, 251.0, 173.0, 315.0, 370.0, 97.0, 145.0, 447.0, 253.0, 111.0, 239.0, 264.0, 533.0, 225.0, 125.0, 762.0, 358.0, 238.0, 195.0, 199.0, 301.0, 217.0, 368.0, 496.0, 150.0], 'LMe_4.asc': [142.0, 167.0, 199.0, 349.0, 275.0, 192.0, 182.0, 159.0, 267.0, 358.0, 233.0, 248.0, 466.0, 481.0, 423.0, 463.0, 703.0, 634.0, 286.0, 233.0, 579.0, 488.0, 204.0, 108.0, 222.0, 196.0, 326.0, 230.0, 146.0], 'LMe_40.asc': [198.0, 155.0, 169.0, 333.0, 110.0, 274.0, 127.0, 147.0, 242.0, 48.0, 218.0, 213.0, 105.0, 353.0, 109.0, 166.0, 334.0, 393.0, 532.0, 645.0, 637.0, 700.0, 359.0, 714.0, 356.0, 422.0, 342.0, 157.0, 298.0], 'LMe_41.asc': [117.0, 239.0, 250.0, 178.0, 213.0, 106.0, 167.0, 227.0, 203.0, 254.0, 355.0, 256.0, 477.0, 152.0, 462.0, 1110.0, 689.0, 186.0, 240.0, 216.0, 455.0, 414.0, 300.0, 147.0, 368.0, 427.0, 129.0, 57.0, 167.0, 173.0, 118.0, 41.0], 'LMe_5.asc': [80.0, 90.0, 328.0, 258.0, 205.0, 252.0, 194.0, 37.0, 80.0, 156.0, 207.0, 156.0, 190.0, 184.0, 154.0, 33.0, 284.0, 275.0, 204.0, 194.0, 119.0, 1009.0, 374.0, 721.0, 176.0, 401.0, 408.0, 309.0, 1195.0, 173.0, 151.0]}, 'kitchen15.jpg': {'LMe_1.asc': [122.0, 73.0, 169.0, 261.0, 166.0, 141.0, 223.0, 151.0, 165.0, 98.0, 244.0, 186.0, 218.0, 99.0, 239.0, 204.0, 746.0, 266.0, 115.0, 209.0, 282.0, 240.0, 250.0, 178.0, 186.0, 258.0, 123.0, 198.0, 418.0, 193.0, 270.0, 357.0, 239.0, 230.0, 235.0, 133.0, 239.0, 529.0], 'LMe_37.asc': [199.0, 204.0, 195.0, 260.0, 281.0, 19.0, 109.0, 326.0, 202.0, 187.0, 153.0, 413.0, 399.0, 183.0, 424.0, 189.0, 242.0, 298.0, 353.0, 722.0, 64.0, 225.0, 141.0, 176.0, 753.0, 504.0, 565.0, 1153.0], 'LMe_4.asc': [143.0, 166.0, 307.0, 279.0, 213.0, 156.0, 118.0, 195.0, 131.0, 234.0, 189.0, 229.0, 452.0, 305.0, 241.0, 246.0, 516.0, 226.0, 184.0, 202.0, 148.0, 238.0, 159.0, 221.0, 482.0, 235.0, 204.0, 279.0, 299.0, 296.0, 194.0, 283.0, 250.0, 399.0, 189.0, 40.0], 'LMe_40.asc': [216.0, 185.0, 263.0, 165.0, 346.0, 220.0, 327.0, 284.0, 132.0, 182.0, 211.0, 156.0, 280.0, 171.0, 568.0, 255.0, 1166.0, 370.0, 263.0, 287.0, 285.0, 283.0, 554.0, 383.0, 188.0, 177.0, 271.0, 396.0, 210.0], 'LMe_41.asc': [67.0, 220.0, 161.0, 219.0, 157.0, 255.0, 472.0, 252.0, 170.0, 312.0, 209.0, 184.0, 121.0, 200.0, 303.0, 384.0, 248.0, 257.0, 305.0, 274.0, 280.0, 268.0, 158.0, 189.0, 233.0, 216.0, 192.0, 61.0, 185.0, 417.0, 325.0, 404.0, 169.0, 213.0, 238.0, 151.0, 79.0, 89.0], 'LMe_5.asc': [165.0, 122.0, 180.0, 208.0, 104.0, 273.0, 222.0, 142.0, 42.0, 223.0, 138.0, 166.0, 161.0, 266.0, 185.0, 264.0, 283.0, 299.0, 126.0, 196.0, 131.0, 252.0, 219.0, 163.0, 142.0, 164.0, 472.0, 539.0, 349.0, 175.0, 197.0, 560.0, 197.0, 268.0, 152.0, 248.0, 189.0, 136.0, 210.0, 68.0]}, 'office12.jpg': {'LMe_1.asc': [96.0, 255.0, 126.0, 220.0, 189.0, 202.0, 331.0, 146.0, 242.0, 228.0, 65.0, 317.0, 160.0, 173.0, 140.0, 231.0, 382.0, 238.0, 259.0, 178.0, 193.0, 153.0, 234.0, 305.0, 308.0, 382.0, 258.0, 331.0, 166.0, 388.0, 222.0, 249.0, 417.0, 400.0, 722.0], 'LMe_37.asc': [217.0, 213.0, 140.0, 215.0, 170.0, 146.0, 102.0, 178.0, 142.0, 249.0, 177.0, 308.0, 126.0, 299.0, 120.0, 172.0, 199.0, 206.0, 292.0, 159.0, 165.0, 159.0, 195.0, 84.0, 154.0, 141.0, 154.0, 161.0, 202.0, 161.0, 298.0, 171.0, 370.0, 552.0, 425.0, 266.0, 174.0, 280.0, 216.0, 63.0], 'LMe_4.asc': [145.0, 264.0, 170.0, 160.0, 218.0, 145.0, 146.0, 160.0, 161.0, 147.0, 249.0, 299.0, 155.0, 304.0, 237.0, 249.0, 77.0, 249.0, 146.0, 306.0, 205.0, 132.0, 344.0, 342.0, 170.0, 253.0, 193.0, 168.0, 201.0, 303.0, 114.0, 731.0, 241.0, 494.0, 202.0, 455.0, 107.0], 'LMe_40.asc': [210.0, 380.0, 177.0, 277.0, 303.0, 96.0, 150.0, 126.0, 263.0, 221.0, 262.0, 212.0, 129.0, 398.0, 254.0, 298.0, 96.0, 377.0, 165.0, 236.0, 123.0, 528.0, 383.0, 120.0, 249.0, 194.0, 369.0, 261.0, 182.0, 211.0, 244.0, 174.0, 222.0, 237.0, 34.0], 'LMe_41.asc': [145.0, 223.0, 261.0, 252.0, 258.0, 190.0, 193.0, 295.0, 110.0, 229.0, 171.0, 196.0, 127.0, 149.0, 77.0, 159.0, 148.0, 285.0, 228.0, 257.0, 229.0, 153.0, 62.0, 327.0, 177.0, 143.0, 224.0, 188.0, 197.0, 85.0, 191.0, 82.0, 221.0, 184.0, 230.0, 278.0, 194.0, 167.0, 197.0, 137.0], 'LMe_5.asc': [172.0, 158.0, 245.0, 216.0, 188.0, 189.0, 189.0, 159.0, 210.0, 284.0, 217.0, 161.0, 249.0, 170.0, 179.0, 5664.0, 99.0, 92.0]}, 'kitchen_0002_rgbImage_002151.jpg': {'LMe_1.asc': [296.0, 116.0, 246.0, 487.0, 266.0, 105.0, 203.0, 239.0, 162.0, 167.0, 130.0, 655.0, 203.0, 435.0, 273.0, 124.0, 411.0, 404.0, 216.0, 210.0, 91.0, 183.0, 767.0, 438.0, 301.0, 175.0, 190.0, 159.0, 191.0, 288.0, 607.0], 'LMe_37.asc': [166.0, 179.0, 173.0, 175.0, 486.0, 278.0, 505.0, 278.0, 490.0, 156.0, 418.0, 241.0, 140.0, 195.0, 152.0, 163.0, 250.0, 292.0, 120.0, 311.0, 366.0, 33.0, 640.0, 186.0, 245.0, 356.0, 458.0, 505.0, 169.0, 378.0, 152.0], 'LMe_4.asc': [91.0, 144.0, 246.0, 113.0, 174.0, 418.0, 325.0, 611.0, 171.0, 178.0, 73.0, 231.0, 219.0, 437.0, 216.0, 282.0, 348.0, 251.0, 431.0, 228.0, 340.0, 224.0, 430.0, 272.0, 251.0, 584.0, 363.0, 435.0, 811.0], 'LMe_40.asc': [350.0, 332.0, 156.0, 220.0, 253.0, 245.0, 194.0, 309.0, 435.0, 402.0, 376.0, 454.0, 564.0, 837.0, 126.0, 225.0, 76.0, 325.0, 182.0, 271.0, 240.0, 201.0, 320.0, 244.0, 642.0, 271.0, 167.0], 'LMe_41.asc': [135.0, 404.0, 163.0, 243.0, 353.0, 207.0, 290.0, 121.0, 99.0, 191.0, 205.0, 186.0, 68.0, 109.0, 230.0, 158.0, 214.0, 265.0, 249.0, 139.0, 410.0, 196.0, 179.0, 277.0, 121.0, 156.0, 233.0, 303.0, 287.0, 306.0, 277.0, 310.0, 207.0, 127.0], 'LMe_5.asc': [313.0, 181.0, 232.0, 342.0, 366.0, 674.0, 175.0, 416.0, 101.0, 211.0, 270.0, 162.0, 209.0, 467.0, 221.0, 289.0, 335.0, 230.0, 499.0, 268.0, 154.0, 540.0, 736.0, 354.0, 329.0, 392.0, 409.0, 227.0, 81.0]}, 'kitchen_0044_rgbImage_000608.jpg': {'LMe_1.asc': [144.0, 160.0, 353.0, 192.0, 137.0, 300.0, 275.0, 243.0, 212.0, 363.0, 59.0, 185.0, 218.0, 130.0, 314.0, 386.0, 161.0, 180.0, 329.0, 275.0, 175.0, 350.0, 216.0, 272.0, 410.0, 432.0, 230.0, 186.0, 236.0, 205.0, 147.0, 340.0, 460.0, 155.0, 216.0], 'LMe_37.asc': [229.0, 317.0, 283.0, 107.0, 154.0, 145.0, 295.0, 224.0, 366.0, 182.0, 222.0, 110.0, 212.0, 184.0, 416.0, 436.0, 322.0, 177.0, 386.0, 324.0, 244.0, 190.0, 136.0, 173.0, 273.0, 193.0, 244.0, 227.0, 214.0, 518.0, 221.0, 144.0, 244.0, 336.0], 'LMe_4.asc': [168.0, 214.0, 143.0, 110.0, 244.0, 232.0, 167.0, 237.0, 152.0, 134.0, 204.0, 241.0, 244.0, 357.0, 180.0, 234.0, 118.0, 247.0, 193.0, 220.0, 196.0, 104.0, 198.0, 109.0, 191.0, 353.0, 360.0, 551.0, 481.0, 262.0, 187.0, 309.0, 397.0, 227.0, 288.0, 207.0], 'LMe_40.asc': [147.0, 217.0, 308.0, 185.0, 369.0, 537.0, 173.0, 349.0, 246.0, 281.0, 139.0, 242.0, 215.0, 207.0, 219.0, 259.0, 180.0, 326.0, 152.0, 257.0, 212.0, 182.0, 309.0, 269.0, 371.0, 476.0, 259.0, 393.0, 186.0, 340.0, 179.0, 111.0, 208.0], 'LMe_41.asc': [207.0, 242.0, 221.0, 85.0, 267.0, 72.0, 190.0, 224.0, 38.0, 186.0, 586.0, 326.0, 121.0, 363.0, 233.0, 166.0, 196.0, 275.0, 373.0, 290.0, 217.0, 411.0, 165.0, 256.0, 149.0, 197.0, 163.0, 313.0, 760.0, 343.0, 293.0, 143.0, 152.0, 167.0], 'LMe_5.asc': [81.0, 225.0, 168.0, 291.0, 220.0, 163.0, 260.0, 189.0, 341.0, 190.0, 217.0, 99.0, 297.0, 192.0, 189.0, 133.0, 392.0, 284.0, 168.0, 210.0, 302.0, 338.0, 405.0, 461.0, 446.0, 364.0, 410.0, 585.0, 216.0, 247.0, 323.0, 103.0]}, 'office_10.jpg': {'LMe_1.asc': [173.0, 199.0, 207.0, 252.0, 148.0, 189.0, 32.0, 142.0, 463.0, 344.0, 127.0, 242.0, 140.0, 331.0, 94.0, 298.0, 181.0, 211.0, 172.0, 285.0, 330.0, 187.0, 327.0, 171.0, 301.0, 260.0, 109.0, 555.0, 221.0, 227.0, 126.0, 218.0, 290.0, 83.0, 128.0, 291.0, 161.0, 241.0], 'LMe_37.asc': [271.0, 213.0, 483.0, 386.0, 110.0, 250.0, 158.0, 169.0, 139.0, 238.0, 183.0, 587.0, 117.0, 194.0, 418.0, 174.0, 262.0, 453.0, 318.0, 196.0, 130.0, 151.0, 201.0, 209.0, 159.0, 183.0, 202.0, 223.0, 194.0, 548.0, 175.0, 294.0, 176.0, 468.0], 'LMe_4.asc': [274.0, 186.0, 226.0, 250.0, 176.0, 138.0, 185.0, 131.0, 375.0, 365.0, 180.0, 140.0, 252.0, 211.0, 252.0, 300.0, 75.0, 179.0, 271.0, 164.0, 290.0, 205.0, 180.0, 119.0, 260.0, 328.0, 303.0, 130.0, 329.0, 97.0, 238.0, 117.0, 1120.0, 266.0, 183.0, 104.0], 'LMe_40.asc': [130.0, 185.0, 216.0, 286.0, 129.0, 254.0, 216.0, 262.0, 256.0, 119.0, 223.0, 123.0, 137.0, 326.0, 336.0, 152.0, 322.0, 195.0, 300.0, 143.0, 143.0, 250.0, 227.0, 302.0, 539.0, 233.0, 202.0, 171.0, 183.0, 294.0, 238.0, 222.0, 426.0, 164.0, 322.0, 121.0], 'LMe_41.asc': [123.0, 158.0, 177.0, 163.0, 302.0, 219.0, 338.0, 295.0, 182.0, 147.0, 96.0, 380.0, 199.0, 247.0, 246.0, 118.0, 278.0, 239.0, 244.0, 179.0, 338.0, 266.0, 139.0, 235.0, 112.0, 193.0, 340.0, 244.0, 288.0, 203.0, 240.0, 289.0, 152.0, 424.0, 282.0, 179.0], 'LMe_5.asc': [162.0, 130.0, 117.0, 200.0, 145.0, 175.0, 330.0, 249.0, 72.0, 369.0, 200.0, 30.0, 187.0, 134.0, 319.0, 226.0, 163.0, 142.0, 327.0, 154.0, 79.0, 287.0, 227.0, 126.0, 216.0, 161.0, 152.0, 253.0, 95.0, 272.0, 318.0, 134.0, 184.0, 121.0, 233.0, 138.0, 309.0, 186.0, 119.0, 154.0, 269.0, 205.0, 36.0]}, 'dining29.jpg': {'LMe_1.asc': [148.0, 296.0, 183.0, 174.0, 189.0, 295.0, 141.0, 378.0, 229.0, 248.0, 225.0, 165.0, 253.0, 235.0, 261.0, 254.0, 194.0, 201.0, 246.0, 177.0, 128.0, 136.0, 254.0, 183.0, 149.0, 205.0, 186.0, 319.0, 306.0, 383.0, 196.0, 247.0, 371.0, 351.0, 207.0, 263.0, 171.0, 185.0], 'LMe_37.asc': [231.0, 162.0, 241.0, 211.0, 155.0, 359.0, 261.0, 356.0, 220.0, 371.0, 332.0, 254.0, 312.0, 237.0, 155.0, 154.0, 259.0, 193.0, 284.0, 270.0, 136.0, 212.0, 144.0, 235.0, 235.0, 173.0, 246.0, 112.0, 135.0, 332.0, 379.0, 160.0, 249.0, 77.0, 146.0, 113.0, 142.0, 193.0], 'LMe_4.asc': [238.0, 181.0, 180.0, 167.0, 167.0, 241.0, 234.0, 210.0, 126.0, 137.0, 282.0, 126.0, 176.0, 175.0, 163.0, 223.0, 162.0, 341.0, 291.0, 281.0, 243.0, 345.0, 433.0, 440.0, 223.0, 183.0, 161.0, 158.0, 192.0, 215.0, 336.0, 163.0, 290.0, 130.0, 226.0, 258.0, 189.0, 160.0], 'LMe_40.asc': [204.0, 230.0, 172.0, 240.0, 249.0, 318.0, 182.0, 345.0, 214.0, 279.0, 237.0, 216.0, 297.0, 220.0, 363.0, 244.0, 161.0, 296.0, 236.0, 241.0, 178.0, 367.0, 180.0, 390.0, 168.0, 460.0, 149.0, 234.0, 364.0, 231.0, 289.0, 261.0, 168.0, 83.0], 'LMe_41.asc': [214.0, 109.0, 257.0, 226.0, 226.0, 167.0, 288.0, 191.0, 202.0, 192.0, 354.0, 105.0, 119.0, 123.0, 278.0, 141.0, 156.0, 269.0, 184.0, 228.0, 168.0, 175.0, 253.0, 332.0, 149.0, 379.0, 187.0, 323.0, 295.0, 119.0, 194.0, 211.0, 215.0, 118.0, 111.0, 218.0, 248.0, 218.0, 159.0, 40.0], 'LMe_5.asc': [102.0, 253.0, 127.0, 167.0, 280.0, 175.0, 213.0, 58.0, 266.0, 97.0, 429.0, 130.0, 107.0, 201.0, 187.0, 258.0, 227.0, 243.0, 155.0, 162.0, 220.0, 221.0, 321.0, 178.0, 278.0, 187.0, 96.0, 181.0, 231.0, 217.0, 108.0, 334.0, 122.0, 192.0, 212.0, 334.0, 188.0, 250.0, 203.0, 120.0, 230.0, 105.0]}, 'dining41.jpg': {'LMe_1.asc': [297.0, 413.0, 150.0, 87.0, 281.0, 123.0, 271.0, 259.0, 170.0, 230.0, 171.0, 184.0, 217.0, 203.0, 185.0, 192.0, 171.0, 144.0, 156.0, 138.0, 193.0, 425.0, 257.0, 68.0, 132.0, 190.0, 219.0, 333.0, 182.0, 293.0, 318.0, 341.0, 199.0, 193.0, 203.0, 324.0, 165.0, 356.0, 141.0, 49.0], 'LMe_38.asc': [213.0, 79.0, 122.0, 231.0, 80.0, 120.0, 212.0, 370.0, 167.0, 185.0, 235.0, 337.0, 208.0, 238.0, 285.0, 160.0, 112.0, 210.0, 123.0, 145.0, 136.0, 387.0, 622.0, 207.0, 143.0, 205.0, 1835.0, 933.0], 'LMe_39.asc': [164.0, 118.0, 222.0, 176.0, 110.0, 296.0, 282.0, 200.0, 300.0, 261.0, 144.0, 208.0, 199.0, 300.0, 274.0, 270.0, 178.0, 253.0, 242.0, 229.0, 310.0, 246.0, 198.0, 217.0, 295.0, 173.0, 172.0, 208.0, 289.0, 131.0, 374.0, 223.0, 250.0, 227.0, 282.0], 'LMe_4.asc': [186.0, 219.0, 167.0, 93.0, 234.0, 207.0, 260.0, 117.0, 268.0, 219.0, 299.0, 306.0, 128.0, 238.0, 109.0, 251.0, 180.0, 125.0, 247.0, 337.0, 225.0, 212.0, 229.0, 233.0, 211.0, 298.0, 350.0, 177.0, 422.0, 291.0, 295.0, 221.0, 151.0, 357.0, 314.0, 69.0], 'LMe_42.asc': [121.0, 138.0, 178.0, 138.0, 276.0, 259.0, 162.0, 282.0, 110.0, 285.0, 200.0, 216.0, 362.0, 224.0, 535.0, 300.0, 307.0, 222.0, 289.0, 99.0, 263.0, 269.0, 151.0, 244.0, 168.0, 296.0, 142.0, 340.0, 203.0, 178.0, 99.0, 180.0, 159.0, 163.0, 386.0, 135.0], 'LMe_5.asc': [223.0, 246.0, 174.0, 74.0, 221.0, 214.0, 196.0, 207.0, 306.0, 215.0, 84.0, 181.0, 304.0, 134.0, 211.0, 194.0, 970.0, 151.0, 284.0, 300.0, 306.0, 274.0, 97.0, 168.0, 164.0, 163.0, 176.0, 206.0, 122.0, 149.0, 359.0, 165.0, 220.0, 163.0, 352.0, 178.0, 100.0, 141.0, 42.0]}, 'img_0015.jpg': {'LMe_1.asc': [154.0, 151.0, 130.0, 258.0, 240.0, 334.0, 473.0, 172.0, 278.0, 231.0, 237.0, 179.0, 250.0, 257.0, 187.0, 230.0, 116.0, 401.0, 304.0, 169.0, 245.0, 189.0, 289.0, 216.0, 156.0, 293.0, 209.0, 373.0, 223.0, 171.0, 451.0, 168.0, 864.0], 'LMe_37.asc': [190.0, 247.0, 253.0, 304.0, 197.0, 127.0, 216.0, 278.0, 148.0, 233.0, 147.0, 215.0, 156.0, 310.0, 361.0, 298.0, 243.0, 138.0, 98.0, 409.0, 1416.0, 391.0, 290.0, 108.0, 136.0, 352.0, 184.0, 138.0, 210.0, 109.0, 152.0, 196.0, 164.0], 'LMe_4.asc': [110.0, 167.0, 206.0, 296.0, 282.0, 122.0, 149.0, 223.0, 109.0, 224.0, 179.0, 181.0, 193.0, 204.0, 192.0, 327.0, 203.0, 175.0, 553.0, 603.0, 184.0, 220.0, 228.0, 275.0, 198.0, 278.0, 171.0, 673.0, 527.0, 279.0, 227.0, 504.0], 'LMe_40.asc': [277.0, 98.0, 223.0, 298.0, 390.0, 194.0, 270.0, 256.0, 266.0, 200.0, 363.0, 170.0, 134.0, 141.0, 340.0, 1070.0, 197.0, 234.0, 290.0, 158.0, 288.0, 343.0, 306.0, 715.0, 1296.0], 'LMe_41.asc': [168.0, 154.0, 276.0, 264.0, 446.0, 863.0, 251.0, 105.0, 132.0, 217.0, 216.0, 558.0, 197.0, 520.0, 148.0, 145.0, 48.0, 267.0, 119.0, 275.0, 360.0, 306.0, 128.0, 313.0, 184.0, 247.0, 310.0, 270.0, 261.0, 129.0, 180.0], 'LMe_5.asc': [172.0, 160.0, 255.0, 240.0, 124.0, 262.0, 184.0, 176.0, 95.0, 260.0, 233.0, 150.0, 88.0, 237.0, 274.0, 148.0, 220.0, 156.0, 932.0, 274.0, 368.0, 181.0, 284.0, 258.0, 441.0, 339.0, 129.0, 338.0, 189.0, 363.0, 166.0, 208.0, 406.0, 286.0, 166.0]}, 'kitchen189.jpg': {'LMe_1.asc': [149.0, 341.0, 80.0, 313.0, 141.0, 184.0, 242.0, 148.0, 151.0, 372.0, 229.0, 183.0, 186.0, 171.0, 88.0, 175.0, 210.0, 203.0, 173.0, 271.0, 592.0, 199.0, 463.0, 231.0, 262.0, 223.0, 149.0, 313.0, 176.0, 315.0, 172.0, 247.0, 316.0, 225.0, 134.0, 269.0, 273.0, 121.0], 'LMe_37.asc': [328.0, 203.0, 266.0, 538.0, 137.0, 185.0, 211.0, 155.0, 204.0, 318.0, 376.0, 67.0, 137.0, 150.0, 147.0, 145.0, 220.0, 193.0, 350.0, 227.0, 310.0, 137.0, 254.0, 230.0, 222.0, 181.0, 104.0, 256.0, 132.0, 161.0, 307.0, 351.0, 126.0, 328.0, 162.0, 114.0, 281.0, 152.0, 116.0], 'LMe_4.asc': [222.0, 173.0, 179.0, 243.0, 84.0, 230.0, 173.0, 151.0, 182.0, 347.0, 131.0, 277.0, 317.0, 151.0, 221.0, 253.0, 258.0, 133.0, 138.0, 229.0, 186.0, 281.0, 214.0, 154.0, 160.0, 171.0, 356.0, 140.0, 147.0, 167.0, 206.0, 268.0, 255.0, 201.0, 314.0, 665.0, 164.0, 138.0, 146.0], 'LMe_40.asc': [229.0, 169.0, 294.0, 276.0, 205.0, 153.0, 233.0, 170.0, 182.0, 321.0, 184.0, 256.0, 441.0, 149.0, 334.0, 380.0, 104.0, 193.0, 434.0, 315.0, 353.0, 278.0, 312.0, 221.0, 253.0, 196.0, 208.0, 596.0, 272.0, 292.0, 199.0, 52.0, 246.0], 'LMe_41.asc': [223.0, 311.0, 220.0, 225.0, 161.0, 149.0, 782.0, 227.0, 203.0, 352.0, 84.0, 231.0, 123.0, 419.0, 192.0, 124.0, 211.0, 161.0, 537.0, 153.0, 312.0, 229.0, 89.0, 781.0, 518.0, 317.0, 179.0, 286.0, 106.0, 191.0, 548.0], 'LMe_5.asc': [104.0, 91.0, 171.0, 185.0, 168.0, 160.0, 165.0, 165.0, 349.0, 334.0, 124.0, 113.0, 275.0, 246.0, 178.0, 73.0, 164.0, 249.0, 202.0, 249.0, 169.0, 156.0, 545.0, 548.0, 62.0, 250.0, 139.0, 197.0, 142.0, 279.0, 142.0, 89.0, 308.0, 171.0, 235.0, 94.0, 222.0, 294.0, 255.0, 138.0, 55.0]}, 'p1010833.jpg': {'LMe_1.asc': [185.0, 246.0, 170.0, 169.0, 140.0, 251.0, 120.0, 283.0, 200.0, 112.0, 171.0, 129.0, 195.0, 307.0, 100.0, 290.0, 160.0, 380.0, 190.0, 138.0, 332.0, 279.0, 243.0, 174.0, 321.0, 269.0, 145.0, 151.0, 130.0, 664.0, 263.0, 421.0, 265.0, 155.0, 272.0, 338.0, 250.0], 'LMe_37.asc': [329.0, 278.0, 317.0, 147.0, 320.0, 107.0, 187.0, 295.0, 387.0, 202.0, 311.0, 652.0, 121.0, 205.0, 128.0, 213.0, 147.0, 248.0, 165.0, 195.0, 195.0, 377.0, 245.0, 160.0, 310.0, 246.0, 255.0, 301.0, 193.0, 172.0, 361.0, 258.0, 522.0], 'LMe_4.asc': [125.0, 183.0, 166.0, 159.0, 367.0, 265.0, 149.0, 155.0, 138.0, 249.0, 154.0, 203.0, 159.0, 156.0, 253.0, 204.0, 239.0, 96.0, 147.0, 151.0, 255.0, 200.0, 143.0, 127.0, 245.0, 149.0, 223.0, 153.0, 217.0, 110.0, 225.0, 1401.0, 1498.0, 64.0], 'LMe_40.asc': [32.0, 209.0, 99.0, 259.0, 271.0, 177.0, 307.0, 167.0, 238.0, 207.0, 184.0, 145.0, 160.0, 244.0, 232.0, 155.0, 338.0, 230.0, 233.0, 700.0, 1148.0, 255.0, 354.0, 1064.0, 247.0, 781.0, 236.0], 'LMe_41.asc': [73.0, 132.0, 318.0, 110.0, 220.0, 209.0, 328.0, 325.0, 270.0, 444.0, 165.0, 253.0, 190.0, 183.0, 110.0, 251.0, 237.0, 229.0, 102.0, 208.0, 249.0, 156.0, 288.0, 209.0, 169.0, 265.0, 280.0, 201.0, 178.0, 306.0, 116.0, 152.0, 302.0, 305.0, 291.0, 111.0], 'LMe_5.asc': [153.0, 185.0, 112.0, 440.0, 253.0, 145.0, 218.0, 136.0, 373.0, 58.0, 251.0, 141.0, 188.0, 74.0, 171.0, 232.0, 287.0, 185.0, 236.0, 25.0, 182.0, 230.0, 349.0, 177.0, 327.0, 234.0, 182.0, 179.0, 168.0, 100.0, 216.0, 174.0, 245.0, 179.0, 371.0, 217.0, 142.0, 379.0, 279.0, 101.0]}, 'DSC_0497.jpg': {'LMe_1.asc': [94.0, 272.0, 190.0, 149.0, 412.0, 910.0, 154.0, 477.0, 206.0, 162.0, 140.0, 557.0, 288.0, 206.0, 158.0, 150.0, 172.0, 174.0, 315.0, 187.0, 250.0, 263.0, 336.0, 402.0, 277.0, 239.0, 279.0, 254.0, 214.0, 177.0, 301.0, 247.0, 143.0], 'LMe_37.asc': [188.0, 193.0, 169.0, 296.0, 151.0, 286.0, 257.0, 156.0, 423.0, 277.0, 204.0, 156.0, 162.0, 107.0, 528.0, 165.0, 417.0, 139.0, 329.0, 465.0, 259.0, 426.0, 220.0, 205.0, 236.0, 205.0, 315.0, 234.0, 107.0, 319.0, 328.0, 204.0, 246.0, 166.0], 'LMe_4.asc': [106.0, 185.0, 142.0, 242.0, 203.0, 218.0, 394.0, 272.0, 520.0, 376.0, 167.0, 204.0, 57.0, 145.0, 332.0, 265.0, 263.0, 246.0, 324.0, 25.0, 273.0, 339.0, 170.0, 272.0, 191.0, 302.0, 135.0, 170.0, 194.0, 217.0, 179.0, 248.0, 372.0, 330.0, 276.0, 208.0], 'LMe_40.asc': [153.0, 117.0, 190.0, 248.0, 234.0, 273.0, 249.0, 304.0, 447.0, 238.0, 315.0, 330.0, 197.0, 345.0, 275.0, 238.0, 194.0, 215.0, 179.0, 213.0, 205.0, 323.0, 229.0, 148.0, 309.0, 240.0, 472.0, 549.0, 707.0, 135.0, 259.0], 'LMe_41.asc': [188.0, 182.0, 210.0, 193.0, 268.0, 347.0, 290.0, 413.0, 142.0, 310.0, 475.0, 94.0, 189.0, 311.0, 93.0, 261.0, 272.0, 273.0, 80.0, 362.0, 138.0, 85.0, 206.0, 217.0, 254.0, 266.0, 106.0, 211.0, 86.0, 163.0, 84.0, 100.0, 109.0, 354.0, 194.0, 123.0, 204.0], 'LMe_5.asc': [150.0, 202.0, 155.0, 236.0, 64.0, 372.0, 200.0, 306.0, 627.0, 764.0, 175.0, 360.0, 228.0, 159.0, 123.0, 159.0, 154.0, 164.0, 115.0, 203.0, 184.0, 313.0, 275.0, 320.0, 196.0, 280.0, 180.0, 178.0, 150.0, 240.0, 130.0, 166.0, 167.0, 176.0, 377.0, 320.0, 58.0]}, 'smallsp001.jpg': {'LMe_1.asc': [111.0, 138.0, 183.0, 256.0, 226.0, 308.0, 305.0, 395.0, 228.0, 501.0, 185.0, 160.0, 231.0, 280.0, 306.0, 517.0, 297.0, 1158.0, 601.0, 255.0, 417.0, 476.0, 856.0, 300.0, 250.0, 91.0], 'LMe_37.asc': [131.0, 163.0, 279.0, 202.0, 213.0, 163.0, 201.0, 210.0, 163.0, 155.0, 462.0, 240.0, 182.0, 261.0, 171.0, 507.0, 252.0, 307.0, 222.0, 156.0, 325.0, 207.0, 227.0, 218.0, 266.0, 167.0, 236.0, 135.0, 186.0, 361.0, 215.0, 274.0, 116.0, 253.0, 444.0, 157.0], 'LMe_4.asc': [109.0, 133.0, 147.0, 88.0, 172.0, 288.0, 187.0, 134.0, 463.0, 228.0, 190.0, 160.0, 441.0, 366.0, 120.0, 319.0, 556.0, 1695.0, 451.0, 731.0, 1643.0, 493.0], 'LMe_40.asc': [191.0, 256.0, 170.0, 84.0, 169.0, 253.0, 238.0, 122.0, 212.0, 180.0, 163.0, 362.0, 198.0, 146.0, 177.0, 256.0, 336.0, 429.0, 279.0, 350.0, 285.0, 451.0, 334.0, 168.0, 214.0, 113.0, 916.0, 168.0, 1210.0], 'LMe_41.asc': [276.0, 201.0, 181.0, 254.0, 202.0, 143.0, 603.0, 803.0, 184.0, 124.0, 444.0, 178.0, 398.0, 444.0, 136.0, 217.0, 84.0, 178.0, 302.0, 236.0, 462.0, 314.0, 85.0, 359.0, 240.0, 360.0, 291.0, 96.0, 115.0], 'LMe_5.asc': [284.0, 145.0, 284.0, 226.0, 189.0, 163.0, 107.0, 155.0, 345.0, 376.0, 188.0, 177.0, 362.0, 271.0, 233.0, 57.0, 212.0, 215.0, 204.0, 808.0, 272.0, 416.0, 275.0, 223.0, 184.0, 1758.0, 327.0]}, 'IMG_2333.jpg': {'LMe_1.asc': [172.0, 184.0, 236.0, 127.0, 288.0, 356.0, 163.0, 319.0, 208.0, 216.0, 201.0, 258.0, 175.0, 72.0, 331.0, 124.0, 124.0, 138.0, 169.0, 214.0, 163.0, 239.0, 292.0, 169.0, 218.0, 249.0, 503.0, 528.0, 299.0, 240.0, 278.0, 89.0, 120.0, 509.0, 238.0, 251.0], 'LMe_37.asc': [90.0, 217.0, 118.0, 359.0, 282.0, 139.0, 468.0, 258.0, 335.0, 343.0, 172.0, 199.0, 42.0, 126.0, 334.0, 150.0, 337.0, 265.0, 35.0, 288.0, 153.0, 205.0, 183.0, 305.0, 218.0, 175.0, 129.0, 269.0, 258.0, 230.0, 43.0, 320.0, 234.0, 172.0, 191.0, 242.0, 251.0, 172.0, 78.0], 'LMe_4.asc': [183.0, 147.0, 142.0, 200.0, 266.0, 120.0, 247.0, 145.0, 362.0, 56.0, 224.0, 219.0, 237.0, 227.0, 167.0, 262.0, 316.0, 93.0, 377.0, 102.0, 156.0, 169.0, 246.0, 335.0, 447.0, 182.0, 230.0, 192.0, 310.0, 139.0, 189.0, 245.0, 147.0, 200.0, 255.0, 179.0, 286.0, 183.0, 161.0], 'LMe_40.asc': [137.0, 306.0, 327.0, 312.0, 420.0, 371.0, 182.0, 251.0, 166.0, 264.0, 316.0, 284.0, 309.0, 155.0, 147.0, 242.0, 242.0, 110.0, 338.0, 195.0, 412.0, 248.0, 488.0, 281.0, 236.0, 212.0, 235.0, 105.0, 172.0, 119.0, 170.0, 253.0, 365.0], 'LMe_41.asc': [187.0, 180.0, 129.0, 153.0, 252.0, 229.0, 262.0, 165.0, 213.0, 175.0, 229.0, 194.0, 150.0, 210.0, 156.0, 150.0, 176.0, 241.0, 182.0, 266.0, 354.0, 142.0, 213.0, 181.0, 223.0, 172.0, 261.0, 158.0, 200.0, 191.0, 196.0, 178.0, 118.0, 87.0, 283.0, 113.0, 158.0, 392.0], 'LMe_5.asc': [161.0, 138.0, 42.0, 214.0, 169.0, 265.0, 96.0, 260.0, 163.0, 167.0, 108.0, 143.0, 219.0, 134.0, 320.0, 333.0, 146.0, 287.0, 175.0, 232.0, 250.0, 268.0, 251.0, 400.0, 259.0, 165.0, 292.0, 108.0, 140.0, 176.0, 167.0, 179.0, 131.0, 473.0, 193.0, 759.0, 189.0, 156.0]}, 'img_0061.jpg': {'LMe_1.asc': [193.0, 161.0, 320.0, 269.0, 330.0, 311.0, 235.0, 377.0, 107.0, 327.0, 186.0, 297.0, 138.0, 142.0, 242.0, 150.0, 162.0, 229.0, 322.0, 294.0, 277.0, 85.0, 268.0, 276.0, 130.0, 428.0, 165.0, 769.0, 263.0, 1265.0, 130.0], 'LMe_37.asc': [164.0, 116.0, 301.0, 223.0, 194.0, 291.0, 191.0, 283.0, 20.0, 103.0, 176.0, 244.0, 319.0, 190.0, 375.0, 169.0, 272.0, 226.0, 38.0, 267.0, 163.0, 195.0, 171.0, 297.0, 187.0, 270.0, 191.0, 286.0, 271.0, 463.0, 225.0, 228.0, 174.0, 177.0, 328.0, 409.0, 290.0, 48.0], 'LMe_4.asc': [159.0, 174.0, 396.0, 206.0, 185.0, 144.0, 310.0, 156.0, 328.0, 120.0, 165.0, 201.0, 213.0, 297.0, 447.0, 365.0, 174.0, 368.0, 260.0, 318.0, 519.0, 585.0, 603.0, 331.0, 364.0, 119.0, 486.0, 296.0, 311.0, 221.0, 150.0], 'LMe_40.asc': [175.0, 196.0, 356.0, 136.0, 282.0, 238.0, 331.0, 196.0, 322.0, 384.0, 688.0, 228.0, 344.0, 179.0, 370.0, 255.0, 464.0, 767.0, 463.0, 366.0, 325.0, 395.0, 514.0, 362.0, 839.0], 'LMe_41.asc': [244.0, 344.0, 258.0, 277.0, 135.0, 182.0, 829.0, 393.0, 293.0, 178.0, 203.0, 157.0, 298.0, 139.0, 214.0, 309.0, 226.0, 150.0, 279.0, 225.0, 158.0, 145.0, 362.0, 361.0, 171.0, 243.0, 105.0, 168.0, 289.0, 266.0, 156.0, 241.0, 98.0, 230.0, 180.0, 39.0, 158.0], 'LMe_5.asc': [190.0, 131.0, 166.0, 178.0, 299.0, 333.0, 259.0, 160.0, 159.0, 883.0, 154.0, 575.0, 349.0, 317.0, 176.0, 75.0, 494.0, 192.0, 291.0, 142.0, 94.0, 138.0, 67.0, 216.0, 302.0, 198.0, 327.0, 173.0, 240.0, 204.0, 423.0, 309.0, 269.0, 220.0]}, 'kitchen177.jpg': {'LMe_1.asc': [170.0, 122.0, 187.0, 379.0, 217.0, 191.0, 654.0, 237.0, 259.0, 303.0, 430.0, 345.0, 149.0, 273.0, 264.0, 269.0, 107.0, 161.0, 127.0, 265.0, 229.0, 377.0, 280.0, 435.0, 196.0, 311.0, 118.0, 368.0, 188.0, 333.0, 261.0, 475.0, 161.0], 'LMe_37.asc': [150.0, 218.0, 309.0, 219.0, 221.0, 274.0, 147.0, 370.0, 207.0, 207.0, 244.0, 177.0, 246.0, 124.0, 167.0, 35.0, 447.0, 73.0, 278.0, 304.0, 167.0, 303.0, 197.0, 1128.0, 285.0, 262.0, 184.0, 419.0, 243.0, 334.0, 463.0, 147.0, 205.0], 'LMe_4.asc': [166.0, 246.0, 222.0, 142.0, 164.0, 202.0, 202.0, 200.0, 208.0, 251.0, 508.0, 130.0, 263.0, 155.0, 302.0, 188.0, 358.0, 101.0, 137.0, 272.0, 307.0, 342.0, 313.0, 437.0, 375.0, 237.0, 298.0, 419.0, 118.0, 165.0, 220.0, 242.0, 153.0, 376.0, 216.0, 238.0], 'LMe_40.asc': [234.0, 376.0, 271.0, 351.0, 355.0, 271.0, 152.0, 350.0, 302.0, 250.0, 466.0, 109.0, 420.0, 328.0, 312.0, 424.0, 214.0, 435.0, 370.0, 276.0, 350.0, 172.0, 287.0, 158.0, 276.0, 312.0, 248.0, 185.0, 166.0, 36.0], 'LMe_41.asc': [81.0, 176.0, 156.0, 191.0, 131.0, 301.0, 356.0, 160.0, 249.0, 313.0, 191.0, 396.0, 153.0, 163.0, 201.0, 175.0, 387.0, 200.0, 200.0, 355.0, 259.0, 215.0, 165.0, 120.0, 111.0, 255.0, 244.0, 142.0, 314.0, 203.0, 212.0, 250.0, 204.0, 176.0, 231.0, 147.0, 147.0, 36.0], 'LMe_5.asc': [152.0, 233.0, 138.0, 159.0, 269.0, 220.0, 225.0, 93.0, 180.0, 71.0, 248.0, 110.0, 22.0, 344.0, 246.0, 238.0, 82.0, 250.0, 258.0, 171.0, 140.0, 321.0, 183.0, 241.0, 185.0, 246.0, 202.0, 180.0, 194.0, 440.0, 142.0, 156.0, 246.0, 114.0, 191.0, 117.0, 108.0, 112.0, 453.0, 161.0, 454.0, 340.0]}, 'indoor_0604.jpg': {'LMe_1.asc': [144.0, 104.0, 228.0, 158.0, 410.0, 237.0, 185.0, 295.0, 169.0, 282.0, 343.0, 182.0, 271.0, 260.0, 136.0, 248.0, 241.0, 130.0, 213.0, 145.0, 268.0, 325.0, 318.0, 177.0, 101.0, 385.0, 120.0, 168.0, 663.0, 1879.0], 'LMe_37.asc': [131.0, 150.0, 122.0, 376.0, 212.0, 264.0, 396.0, 176.0, 170.0, 86.0, 173.0, 194.0, 207.0, 73.0, 79.0, 151.0, 298.0, 149.0, 354.0, 492.0, 272.0, 189.0, 244.0, 158.0, 316.0, 178.0, 135.0, 445.0, 182.0, 151.0, 321.0, 139.0, 272.0, 240.0, 153.0, 118.0, 122.0, 130.0], 'LMe_4.asc': [120.0, 240.0, 122.0, 177.0, 230.0, 212.0, 319.0, 351.0, 172.0, 254.0, 353.0, 361.0, 334.0, 295.0, 538.0, 442.0, 257.0, 390.0, 383.0, 629.0, 512.0, 288.0, 339.0, 298.0, 152.0, 179.0, 167.0, 185.0, 310.0, 353.0, 71.0], 'LMe_40.asc': [146.0, 265.0, 130.0, 190.0, 191.0, 435.0, 241.0, 385.0, 189.0, 272.0, 246.0, 440.0, 183.0, 150.0, 231.0, 348.0, 217.0, 162.0, 174.0, 339.0, 269.0, 151.0, 313.0, 266.0, 152.0, 205.0, 258.0, 221.0, 292.0, 337.0, 288.0, 190.0, 460.0, 149.0], 'LMe_41.asc': [63.0, 260.0, 211.0, 304.0, 208.0, 177.0, 169.0, 232.0, 271.0, 254.0, 511.0, 240.0, 237.0, 219.0, 219.0, 199.0, 332.0, 177.0, 175.0, 260.0, 265.0, 332.0, 251.0, 241.0, 119.0, 220.0, 211.0, 203.0, 128.0, 176.0, 231.0, 94.0, 153.0, 118.0, 201.0], 'LMe_5.asc': [100.0, 123.0, 141.0, 126.0, 257.0, 252.0, 166.0, 57.0, 239.0, 127.0, 247.0, 253.0, 170.0, 123.0, 175.0, 106.0, 376.0, 259.0, 254.0, 519.0, 367.0, 195.0, 334.0, 360.0, 135.0, 561.0, 251.0, 666.0, 77.0, 153.0, 203.0, 144.0, 116.0, 147.0, 172.0, 386.0, 91.0, 175.0]}, 'living_room_0058_rgbImage_001765.jpg': {'LMe_1.asc': [281.0, 311.0, 108.0, 315.0, 164.0, 202.0, 190.0, 268.0, 259.0, 125.0, 140.0, 162.0, 250.0, 259.0, 285.0, 464.0, 325.0, 223.0, 139.0, 240.0, 361.0, 235.0, 316.0, 303.0, 306.0, 265.0, 436.0, 210.0, 274.0, 458.0, 520.0, 218.0], 'LMe_37.asc': [251.0, 165.0, 167.0, 136.0, 143.0, 294.0, 205.0, 148.0, 296.0, 239.0, 308.0, 153.0, 138.0, 196.0, 297.0, 259.0, 113.0, 228.0, 205.0, 293.0, 280.0, 257.0, 204.0, 244.0, 235.0, 123.0, 88.0, 453.0, 305.0, 224.0, 108.0, 193.0, 236.0, 573.0, 367.0, 333.0, 149.0], 'LMe_4.asc': [158.0, 274.0, 110.0, 149.0, 271.0, 274.0, 125.0, 298.0, 473.0, 344.0, 225.0, 196.0, 260.0, 182.0, 154.0, 228.0, 343.0, 325.0, 227.0, 234.0, 251.0, 390.0, 187.0, 100.0, 256.0, 266.0, 234.0, 354.0, 136.0, 269.0, 237.0, 535.0, 235.0, 201.0, 86.0], 'LMe_40.asc': [262.0, 116.0, 164.0, 191.0, 289.0, 211.0, 241.0, 270.0, 137.0, 179.0, 223.0, 282.0, 142.0, 368.0, 192.0, 487.0, 184.0, 414.0, 54.0, 232.0, 249.0, 996.0, 3037.0], 'LMe_41.asc': [90.0, 260.0, 294.0, 160.0, 190.0, 193.0, 272.0, 119.0, 298.0, 139.0, 104.0, 247.0, 340.0, 151.0, 396.0, 163.0, 449.0, 230.0, 277.0, 234.0, 176.0, 266.0, 246.0, 153.0, 297.0, 203.0, 258.0, 202.0, 226.0, 240.0, 346.0, 129.0, 33.0, 342.0, 202.0, 194.0, 172.0], 'LMe_5.asc': [259.0, 132.0, 270.0, 242.0, 153.0, 206.0, 171.0, 290.0, 172.0, 323.0, 187.0, 161.0, 973.0, 202.0, 129.0, 217.0, 165.0, 348.0, 282.0, 167.0, 233.0, 419.0, 149.0, 184.0, 546.0, 242.0, 270.0, 158.0, 425.0, 262.0, 122.0, 202.0, 140.0, 209.0, 36.0]}, 'kitchen037.jpg': {'LMe_1.asc': [157.0, 161.0, 207.0, 176.0, 199.0, 109.0, 205.0, 150.0, 218.0, 602.0, 250.0, 106.0, 261.0, 132.0, 152.0, 173.0, 190.0, 175.0, 143.0, 199.0, 309.0, 267.0, 248.0, 339.0, 170.0, 318.0, 103.0, 182.0, 126.0, 190.0, 206.0, 146.0, 161.0, 169.0, 262.0, 186.0, 170.0, 229.0, 109.0, 291.0, 243.0, 269.0], 'LMe_37.asc': [127.0, 239.0, 254.0, 289.0, 206.0, 186.0, 153.0, 163.0, 191.0, 160.0, 260.0, 227.0, 250.0, 263.0, 114.0, 402.0, 400.0, 747.0, 207.0, 259.0, 28.0, 204.0, 208.0, 344.0, 282.0, 168.0, 166.0, 199.0, 221.0, 321.0, 213.0, 225.0, 86.0, 248.0, 276.0, 163.0, 111.0, 212.0], 'LMe_4.asc': [174.0, 175.0, 132.0, 216.0, 187.0, 242.0, 180.0, 165.0, 119.0, 484.0, 314.0, 266.0, 233.0, 150.0, 168.0, 125.0, 160.0, 166.0, 102.0, 217.0, 144.0, 275.0, 155.0, 469.0, 140.0, 164.0, 252.0, 181.0, 224.0, 267.0, 230.0, 134.0, 177.0, 162.0, 248.0, 138.0, 258.0, 192.0, 158.0, 243.0, 214.0], 'LMe_40.asc': [373.0, 221.0, 145.0, 198.0, 152.0, 342.0, 255.0, 367.0, 210.0, 365.0, 293.0, 89.0, 505.0, 215.0, 185.0, 343.0, 129.0, 164.0, 271.0, 162.0, 233.0, 184.0, 278.0, 625.0, 561.0, 358.0, 907.0, 459.0, 372.0, 130.0], 'LMe_41.asc': [185.0, 177.0, 237.0, 208.0, 201.0, 198.0, 223.0, 248.0, 127.0, 197.0, 307.0, 550.0, 223.0, 257.0, 191.0, 302.0, 538.0, 391.0, 270.0, 127.0, 205.0, 1087.0, 367.0, 133.0, 149.0, 158.0, 191.0, 300.0, 174.0, 506.0, 218.0, 79.0], 'LMe_5.asc': [137.0, 136.0, 406.0, 211.0, 188.0, 342.0, 132.0, 49.0, 298.0, 1056.0, 282.0, 200.0, 424.0, 234.0, 151.0, 348.0, 262.0, 167.0, 245.0, 85.0, 147.0, 162.0, 142.0, 300.0, 103.0, 168.0, 162.0, 128.0, 159.0, 214.0, 775.0, 497.0, 187.0, 111.0, 353.0]}, 'dining46.jpg': {'LMe_1.asc': [210.0, 123.0, 144.0, 307.0, 139.0, 150.0, 157.0, 240.0, 210.0, 281.0, 413.0, 212.0, 275.0, 162.0, 158.0, 195.0, 132.0, 153.0, 178.0, 264.0, 731.0, 376.0, 207.0, 218.0, 158.0, 176.0, 320.0, 154.0, 215.0, 142.0, 158.0, 209.0, 186.0, 253.0, 231.0, 182.0, 158.0, 182.0, 308.0], 'LMe_37.asc': [330.0, 289.0, 138.0, 356.0, 147.0, 372.0, 254.0, 245.0, 312.0, 342.0, 299.0, 292.0, 253.0, 181.0, 151.0, 166.0, 348.0, 212.0, 199.0, 205.0, 975.0, 401.0, 224.0, 147.0, 202.0, 256.0, 321.0, 213.0, 181.0, 331.0, 165.0, 726.0], 'LMe_4.asc': [180.0, 335.0, 353.0, 115.0, 226.0, 264.0, 226.0, 137.0, 174.0, 266.0, 493.0, 204.0, 135.0, 148.0, 363.0, 409.0, 286.0, 217.0, 190.0, 135.0, 324.0, 501.0, 233.0, 231.0, 165.0, 160.0, 357.0, 184.0, 383.0, 216.0, 228.0, 293.0, 225.0, 214.0, 273.0], 'LMe_40.asc': [163.0, 234.0, 276.0, 247.0, 158.0, 188.0, 295.0, 157.0, 293.0, 340.0, 162.0, 207.0, 236.0, 331.0, 312.0, 465.0, 271.0, 154.0, 156.0, 169.0, 232.0, 209.0, 194.0, 151.0, 255.0, 173.0, 153.0, 298.0, 224.0, 253.0, 191.0, 192.0, 248.0, 334.0, 214.0, 257.0, 274.0], 'LMe_41.asc': [162.0, 128.0, 202.0, 180.0, 244.0, 123.0, 238.0, 202.0, 377.0, 323.0, 121.0, 276.0, 206.0, 250.0, 243.0, 233.0, 239.0, 287.0, 215.0, 264.0, 461.0, 226.0, 360.0, 186.0, 63.0, 280.0, 571.0, 258.0, 262.0, 210.0, 209.0, 197.0, 491.0, 261.0, 77.0], 'LMe_5.asc': [136.0, 118.0, 344.0, 275.0, 224.0, 268.0, 191.0, 189.0, 95.0, 148.0, 223.0, 262.0, 179.0, 163.0, 125.0, 253.0, 158.0, 54.0, 241.0, 171.0, 267.0, 167.0, 180.0, 252.0, 208.0, 156.0, 197.0, 143.0, 158.0, 295.0, 329.0, 278.0, 258.0, 121.0, 550.0, 205.0, 318.0, 228.0, 189.0, 249.0, 189.0, 113.0]}, 'kitchen35.jpg': {'LMe_1.asc': [166.0, 263.0, 62.0, 293.0, 126.0, 270.0, 484.0, 565.0, 221.0, 156.0, 298.0, 41.0, 103.0, 204.0, 74.0, 133.0, 122.0, 155.0, 146.0, 228.0, 271.0, 204.0, 128.0, 144.0, 757.0, 138.0, 268.0, 154.0, 177.0, 302.0, 226.0, 265.0, 456.0, 140.0, 116.0, 187.0, 185.0, 309.0], 'LMe_37.asc': [183.0, 174.0, 181.0, 128.0, 244.0, 100.0, 228.0, 142.0, 144.0, 114.0, 187.0, 161.0, 300.0, 190.0, 311.0, 204.0, 197.0, 253.0, 197.0, 237.0, 128.0, 363.0, 203.0, 101.0, 165.0, 285.0, 191.0, 263.0, 196.0, 127.0, 104.0, 374.0, 156.0, 130.0, 124.0, 333.0, 389.0, 701.0, 390.0], 'LMe_4.asc': [103.0, 189.0, 153.0, 203.0, 134.0, 178.0, 188.0, 156.0, 153.0, 227.0, 276.0, 304.0, 27.0, 254.0, 239.0, 144.0, 163.0, 251.0, 287.0, 184.0, 210.0, 166.0, 129.0, 233.0, 162.0, 255.0, 134.0, 411.0, 299.0, 389.0, 254.0, 241.0, 420.0, 184.0, 811.0, 407.0], 'LMe_40.asc': [246.0, 148.0, 194.0, 170.0, 323.0, 167.0, 119.0, 266.0, 147.0, 179.0, 238.0, 126.0, 406.0, 421.0, 261.0, 166.0, 245.0, 333.0, 204.0, 189.0, 138.0, 240.0, 241.0, 137.0, 206.0, 275.0, 243.0, 303.0, 274.0, 133.0, 159.0, 212.0, 303.0, 237.0, 160.0, 138.0, 261.0], 'LMe_41.asc': [105.0, 177.0, 229.0, 193.0, 218.0, 346.0, 89.0, 165.0, 217.0, 485.0, 46.0, 337.0, 198.0, 248.0, 91.0, 224.0, 211.0, 190.0, 163.0, 171.0, 195.0, 181.0, 165.0, 228.0, 135.0, 264.0, 294.0, 163.0, 453.0, 192.0, 104.0, 216.0, 312.0, 290.0, 148.0, 189.0, 159.0], 'LMe_5.asc': [149.0, 67.0, 209.0, 221.0, 170.0, 250.0, 306.0, 369.0, 185.0, 494.0, 254.0, 160.0, 359.0, 277.0, 146.0, 139.0, 601.0, 238.0, 256.0, 547.0, 276.0, 91.0, 128.0, 173.0, 94.0, 211.0, 254.0, 947.0, 330.0, 233.0, 59.0, 246.0, 264.0, 47.0]}, 'kitchen169.jpg': {'LMe_1.asc': [185.0, 137.0, 274.0, 205.0, 236.0, 222.0, 174.0, 406.0, 288.0, 149.0, 201.0, 208.0, 237.0, 191.0, 349.0, 175.0, 127.0, 221.0, 185.0, 175.0, 146.0, 150.0, 142.0, 322.0, 87.0, 122.0, 153.0, 272.0, 206.0, 132.0, 278.0, 491.0, 647.0, 208.0, 273.0, 180.0, 156.0, 200.0], 'LMe_37.asc': [128.0, 229.0, 246.0, 384.0, 168.0, 134.0, 110.0, 369.0, 158.0, 138.0, 174.0, 262.0, 230.0, 40.0, 168.0, 114.0, 363.0, 229.0, 112.0, 295.0, 152.0, 140.0, 338.0, 182.0, 864.0, 358.0, 193.0, 549.0, 148.0, 138.0, 221.0, 299.0, 275.0, 41.0, 166.0, 272.0, 97.0], 'LMe_4.asc': [133.0, 221.0, 227.0, 198.0, 190.0, 267.0, 277.0, 216.0, 109.0, 292.0, 264.0, 275.0, 514.0, 249.0, 233.0, 144.0, 323.0, 110.0, 141.0, 149.0, 117.0, 251.0, 131.0, 236.0, 223.0, 215.0, 229.0, 155.0, 209.0, 171.0, 403.0, 251.0, 182.0, 224.0, 375.0, 222.0, 241.0], 'LMe_40.asc': [258.0, 171.0, 219.0, 265.0, 264.0, 262.0, 187.0, 381.0, 292.0, 287.0, 236.0, 281.0, 29.0, 144.0, 219.0, 136.0, 283.0, 403.0, 208.0, 389.0, 332.0, 226.0, 296.0, 338.0, 226.0, 144.0, 208.0, 306.0, 220.0, 474.0, 324.0, 671.0], 'LMe_41.asc': [32.0, 151.0, 291.0, 148.0, 259.0, 190.0, 366.0, 280.0, 185.0, 229.0, 273.0, 170.0, 264.0, 181.0, 79.0, 482.0, 287.0, 457.0, 285.0, 254.0, 210.0, 234.0, 214.0, 216.0, 223.0, 105.0, 50.0, 137.0, 164.0, 246.0, 223.0, 181.0, 157.0, 183.0, 150.0, 292.0], 'LMe_5.asc': [183.0, 197.0, 165.0, 251.0, 369.0, 100.0, 489.0, 227.0, 213.0, 310.0, 137.0, 27.0, 196.0, 184.0, 156.0, 121.0, 253.0, 140.0, 109.0, 391.0, 336.0, 400.0, 228.0, 710.0, 554.0, 327.0, 143.0]}, 'kitchen060.jpg': {'LMe_1.asc': [172.0, 254.0, 173.0, 149.0, 275.0, 191.0, 150.0, 294.0, 222.0, 175.0, 520.0, 152.0, 266.0, 165.0, 244.0, 86.0, 328.0, 699.0, 131.0, 252.0, 124.0, 274.0, 271.0, 449.0, 214.0, 255.0, 235.0, 176.0, 182.0, 113.0, 462.0, 347.0, 254.0, 276.0, 131.0], 'LMe_37.asc': [232.0, 183.0, 424.0, 300.0, 191.0, 128.0, 192.0, 162.0, 308.0, 214.0, 164.0, 357.0, 347.0, 340.0, 546.0, 496.0, 338.0, 432.0, 406.0, 216.0, 166.0, 430.0, 671.0, 147.0, 949.0, 447.0, 281.0], 'LMe_4.asc': [129.0, 137.0, 148.0, 198.0, 346.0, 124.0, 268.0, 382.0, 287.0, 209.0, 262.0, 110.0, 172.0, 386.0, 173.0, 189.0, 183.0, 121.0, 193.0, 215.0, 178.0, 284.0, 397.0, 109.0, 438.0, 664.0, 359.0, 302.0, 190.0, 1007.0, 303.0, 146.0], 'LMe_40.asc': [278.0, 301.0, 428.0, 155.0, 297.0, 114.0, 174.0, 150.0, 233.0, 238.0, 149.0, 312.0, 203.0, 237.0, 304.0, 172.0, 386.0, 275.0, 231.0, 431.0, 297.0, 270.0, 223.0, 443.0, 317.0, 263.0, 126.0, 725.0, 299.0, 125.0, 276.0, 163.0, 165.0], 'LMe_41.asc': [64.0, 162.0, 133.0, 334.0, 179.0, 303.0, 230.0, 161.0, 315.0, 140.0, 155.0, 231.0, 154.0, 247.0, 205.0, 188.0, 235.0, 190.0, 154.0, 118.0, 391.0, 273.0, 86.0, 245.0, 98.0, 301.0, 194.0, 136.0, 287.0, 174.0, 298.0, 251.0, 136.0, 203.0, 164.0, 173.0, 60.0, 199.0, 231.0, 222.0], 'LMe_5.asc': [172.0, 190.0, 150.0, 307.0, 283.0, 155.0, 188.0, 118.0, 293.0, 159.0, 195.0, 113.0, 318.0, 250.0, 221.0, 108.0, 785.0, 25.0, 319.0, 67.0, 255.0, 107.0, 193.0, 393.0, 115.0, 130.0, 90.0, 591.0, 165.0, 145.0, 307.0, 113.0, 214.0, 113.0, 54.0, 53.0, 158.0, 237.0, 141.0]}, 'dining35.jpg': {'LMe_1.asc': [68.0, 235.0, 290.0, 463.0, 229.0, 152.0, 172.0, 230.0, 119.0, 207.0, 119.0, 277.0, 399.0, 438.0, 236.0, 88.0, 188.0, 258.0, 211.0, 284.0, 205.0, 206.0, 149.0, 270.0, 186.0, 331.0, 374.0, 256.0, 232.0, 178.0, 352.0, 261.0, 765.0, 296.0], 'LMe_38.asc': [179.0, 129.0, 250.0, 207.0, 238.0, 280.0, 205.0, 346.0, 354.0, 337.0, 232.0, 199.0, 135.0, 118.0, 166.0, 278.0, 228.0, 216.0, 191.0, 224.0, 199.0, 231.0, 426.0, 234.0, 250.0, 238.0, 211.0, 174.0, 301.0, 177.0, 213.0, 198.0, 221.0, 190.0, 264.0, 248.0], 'LMe_39.asc': [318.0, 208.0, 113.0, 213.0, 518.0, 190.0, 261.0, 245.0, 186.0, 301.0, 236.0, 270.0, 71.0, 342.0, 204.0, 370.0, 191.0, 183.0, 212.0, 292.0, 244.0, 245.0, 257.0, 251.0, 243.0, 183.0, 168.0, 239.0, 443.0, 180.0, 303.0, 235.0, 213.0, 181.0], 'LMe_4.asc': [128.0, 179.0, 112.0, 266.0, 270.0, 228.0, 163.0, 201.0, 151.0, 189.0, 261.0, 80.0, 142.0, 189.0, 178.0, 170.0, 234.0, 171.0, 213.0, 182.0, 397.0, 236.0, 539.0, 239.0, 251.0, 225.0, 355.0, 231.0, 188.0, 581.0, 220.0, 304.0, 112.0, 225.0, 245.0, 303.0, 175.0, 36.0], 'LMe_42.asc': [], 'LMe_5.asc': [132.0, 217.0, 148.0, 197.0, 268.0, 327.0, 310.0, 152.0, 212.0, 288.0, 695.0, 207.0, 192.0, 196.0, 29.0, 264.0, 210.0, 232.0, 359.0, 133.0, 129.0, 240.0, 195.0, 296.0, 95.0, 254.0, 171.0, 129.0, 227.0, 34.0, 294.0, 125.0, 119.0, 170.0, 163.0, 281.0, 211.0, 156.0, 194.0, 302.0]}, 'img_6613.jpg': {'LMe_1.asc': [257.0, 332.0, 103.0, 264.0, 146.0, 280.0, 262.0, 168.0, 322.0, 117.0, 174.0, 168.0, 160.0, 238.0, 156.0, 296.0, 323.0, 537.0, 405.0, 207.0, 148.0, 22.0, 171.0, 173.0, 446.0, 225.0, 184.0, 184.0, 281.0, 53.0, 341.0, 177.0, 1403.0], 'LMe_37.asc': [158.0, 162.0, 566.0, 195.0, 188.0, 187.0, 272.0, 267.0, 278.0, 198.0, 201.0, 166.0, 347.0, 437.0, 175.0, 244.0, 224.0, 95.0, 273.0, 244.0, 243.0, 215.0, 184.0, 115.0, 99.0, 191.0, 155.0, 157.0, 273.0, 135.0, 176.0, 413.0, 258.0, 225.0, 131.0, 296.0, 198.0, 33.0], 'LMe_4.asc': [156.0, 110.0, 216.0, 239.0, 159.0, 258.0, 280.0, 341.0, 314.0, 230.0, 132.0, 157.0, 237.0, 205.0, 218.0, 112.0, 161.0, 115.0, 187.0, 290.0, 216.0, 339.0, 173.0, 297.0, 312.0, 211.0, 187.0, 243.0, 158.0, 750.0, 724.0, 330.0, 199.0, 253.0, 155.0], 'LMe_40.asc': [190.0, 265.0, 163.0, 243.0, 170.0, 248.0, 164.0, 260.0, 250.0, 278.0, 394.0, 407.0, 263.0, 199.0, 243.0, 163.0, 260.0, 211.0, 290.0, 196.0, 244.0, 108.0, 369.0, 174.0, 142.0, 490.0, 111.0, 389.0, 340.0, 314.0, 153.0, 163.0, 647.0], 'LMe_41.asc': [143.0, 149.0, 279.0, 221.0, 282.0, 329.0, 53.0, 210.0, 200.0, 76.0, 153.0, 376.0, 194.0, 203.0, 206.0, 323.0, 267.0, 258.0, 224.0, 159.0, 318.0, 90.0, 159.0, 270.0, 253.0, 132.0, 201.0, 193.0, 168.0, 151.0, 190.0, 263.0, 293.0, 291.0, 185.0, 332.0], 'LMe_5.asc': [167.0, 188.0, 172.0, 218.0, 223.0, 104.0, 615.0, 146.0, 437.0, 310.0, 91.0, 233.0, 108.0, 166.0, 300.0, 145.0, 125.0, 126.0, 186.0, 231.0, 157.0, 209.0, 83.0, 200.0, 129.0, 276.0, 143.0, 356.0, 217.0, 287.0, 280.0, 232.0, 119.0, 275.0, 143.0, 258.0, 425.0]}, 'office_kitchen_0003_rgbImage_000008.jpg': {'LMe_1.asc': [84.0, 126.0, 225.0, 208.0, 329.0, 205.0, 200.0, 505.0, 341.0, 579.0, 250.0, 185.0, 400.0, 498.0, 194.0, 224.0, 191.0, 280.0, 204.0, 271.0, 170.0, 203.0, 208.0, 128.0, 149.0, 863.0, 718.0, 201.0, 269.0, 140.0, 272.0], 'LMe_37.asc': [347.0, 282.0, 250.0, 574.0, 392.0, 211.0, 282.0, 207.0, 106.0, 155.0, 238.0, 149.0, 332.0, 227.0, 405.0, 336.0, 141.0, 159.0, 361.0, 136.0, 167.0, 336.0, 162.0, 304.0, 467.0, 580.0, 102.0, 305.0, 168.0, 168.0, 178.0, 88.0], 'LMe_4.asc': [148.0, 122.0, 146.0, 219.0, 260.0, 313.0, 142.0, 138.0, 110.0, 863.0, 437.0, 263.0, 100.0, 161.0, 361.0, 266.0, 369.0, 200.0, 159.0, 194.0, 127.0, 481.0, 375.0, 646.0, 439.0, 120.0, 250.0, 125.0, 163.0, 1111.0], 'LMe_40.asc': [143.0, 175.0, 385.0, 122.0, 162.0, 372.0, 105.0, 253.0, 151.0, 123.0, 250.0, 165.0, 306.0, 173.0, 197.0, 295.0, 481.0, 291.0, 425.0, 200.0, 174.0, 267.0, 135.0, 207.0, 276.0, 383.0, 338.0, 31.0], 'LMe_41.asc': [150.0, 334.0, 201.0, 134.0, 263.0, 185.0, 278.0, 185.0, 183.0, 156.0, 260.0, 238.0, 178.0, 85.0, 150.0, 125.0, 328.0, 306.0, 198.0, 356.0, 273.0, 138.0, 214.0, 135.0, 158.0, 93.0, 207.0, 117.0, 115.0, 195.0, 177.0, 213.0, 114.0, 133.0, 208.0, 116.0, 135.0, 185.0, 35.0], 'LMe_5.asc': [182.0, 243.0, 179.0, 270.0, 410.0, 163.0, 213.0, 84.0, 204.0, 493.0, 442.0, 231.0, 181.0, 280.0, 253.0, 34.0, 153.0, 484.0, 342.0, 248.0, 239.0, 312.0, 114.0, 65.0, 362.0, 340.0, 207.0, 276.0, 146.0, 154.0, 105.0, 253.0, 235.0, 40.0, 163.0, 62.0, 160.0, 201.0, 61.0]}, 'pittsburgh_IMG_4077.jpg': {'LMe_1.asc': [45.0, 264.0, 406.0, 650.0, 398.0, 113.0, 243.0, 333.0, 438.0, 396.0, 288.0, 365.0, 104.0, 392.0, 514.0, 296.0, 364.0, 204.0, 157.0, 243.0, 256.0, 141.0, 254.0, 144.0, 213.0, 330.0, 229.0, 160.0, 385.0, 285.0, 172.0], 'LMe_37.asc': [203.0, 484.0, 50.0, 258.0, 585.0, 396.0, 405.0, 165.0, 249.0, 212.0, 210.0, 328.0, 414.0, 248.0, 29.0, 171.0, 277.0, 283.0, 173.0, 269.0, 429.0, 256.0, 217.0, 188.0, 118.0, 148.0, 230.0, 269.0, 52.0, 121.0, 205.0, 281.0, 364.0, 264.0], 'LMe_4.asc': [104.0, 410.0, 517.0, 250.0, 360.0, 327.0, 325.0, 287.0, 165.0, 246.0, 248.0, 678.0, 374.0, 306.0, 94.0, 198.0, 414.0, 392.0, 284.0, 156.0, 132.0, 142.0, 253.0, 246.0, 307.0, 946.0, 357.0, 622.0], 'LMe_40.asc': [160.0, 278.0, 349.0, 428.0, 487.0, 754.0, 384.0, 500.0, 375.0, 187.0, 307.0, 380.0, 229.0, 236.0, 462.0, 300.0, 333.0, 272.0, 2103.0, 122.0, 110.0, 142.0, 105.0], 'LMe_41.asc': [183.0, 109.0, 306.0, 438.0, 642.0, 238.0, 251.0, 430.0, 385.0, 818.0, 81.0, 329.0, 636.0, 285.0, 191.0, 175.0, 256.0, 48.0, 270.0, 240.0, 377.0, 387.0, 266.0, 104.0, 244.0, 406.0, 205.0, 160.0, 79.0], 'LMe_5.asc': [207.0, 246.0, 464.0, 336.0, 68.0, 189.0, 152.0, 379.0, 388.0, 596.0, 394.0, 308.0, 314.0, 250.0, 529.0, 267.0, 376.0, 530.0, 408.0, 237.0, 193.0, 309.0, 116.0, 315.0, 341.0, 179.0, 136.0, 278.0, 126.0, 240.0, 116.0]}, 'homeoff002.jpg': {'LMe_1.asc': [171.0, 83.0, 200.0, 199.0, 183.0, 244.0, 133.0, 128.0, 164.0, 249.0, 122.0, 193.0, 208.0, 176.0, 216.0, 83.0, 311.0, 147.0, 128.0, 291.0, 232.0, 198.0, 207.0, 545.0, 256.0, 188.0, 80.0, 238.0, 219.0, 194.0, 370.0, 226.0, 245.0, 110.0, 391.0, 248.0, 164.0, 205.0, 334.0, 148.0], 'LMe_38.asc': [123.0, 576.0, 179.0, 356.0, 210.0, 160.0, 423.0, 165.0, 207.0, 147.0, 233.0, 124.0, 167.0, 476.0, 209.0, 208.0, 210.0, 318.0, 199.0, 215.0, 191.0, 276.0, 253.0, 121.0, 257.0, 154.0, 217.0, 172.0, 532.0, 329.0, 145.0, 479.0, 118.0], 'LMe_39.asc': [289.0, 185.0, 149.0, 193.0, 157.0, 251.0, 131.0, 258.0, 212.0, 216.0, 230.0, 134.0, 191.0, 532.0, 231.0, 287.0, 332.0, 302.0, 302.0, 204.0, 229.0, 111.0, 196.0, 176.0, 211.0, 120.0, 389.0, 198.0, 297.0, 115.0, 263.0, 361.0, 191.0, 456.0, 66.0], 'LMe_4.asc': [152.0, 109.0, 126.0, 147.0, 236.0, 232.0, 154.0, 147.0, 191.0, 207.0, 99.0, 127.0, 147.0, 160.0, 137.0, 238.0, 161.0, 325.0, 124.0, 231.0, 280.0, 201.0, 531.0, 101.0, 346.0, 449.0, 352.0, 464.0, 408.0, 215.0, 332.0, 1338.0, 210.0], 'LMe_42.asc': [128.0, 173.0, 110.0, 250.0, 241.0, 341.0, 234.0, 289.0, 188.0, 222.0, 429.0, 241.0, 252.0, 316.0, 187.0, 193.0, 207.0, 244.0, 133.0, 162.0, 132.0, 152.0, 193.0, 125.0, 151.0, 137.0, 177.0, 56.0, 173.0, 531.0, 310.0, 156.0, 216.0, 50.0, 78.0, 159.0, 100.0, 222.0, 243.0], 'LMe_5.asc': [133.0, 253.0, 254.0, 188.0, 124.0, 136.0, 128.0, 47.0, 245.0, 237.0, 323.0, 170.0, 252.0, 201.0, 191.0, 132.0, 184.0, 117.0, 176.0, 158.0, 265.0, 293.0, 177.0, 97.0, 164.0, 300.0, 197.0, 243.0, 225.0, 219.0, 151.0, 222.0, 96.0, 213.0, 238.0, 268.0, 241.0, 278.0, 242.0, 189.0, 201.0]}, 'kitchen138.jpg': {'LMe_1.asc': [200.0, 149.0, 208.0, 474.0, 41.0, 406.0, 82.0, 517.0, 187.0, 383.0, 259.0, 179.0, 110.0, 380.0, 194.0, 270.0, 203.0, 199.0, 236.0, 212.0, 225.0, 258.0, 344.0, 363.0, 216.0, 136.0, 259.0, 179.0, 192.0, 152.0, 171.0, 154.0, 166.0, 105.0, 283.0, 167.0, 163.0, 136.0], 'LMe_37.asc': [660.0, 348.0, 339.0, 212.0, 196.0, 646.0, 391.0, 602.0, 312.0, 234.0, 311.0, 180.0, 383.0, 207.0, 134.0, 127.0, 308.0, 1275.0, 266.0, 280.0, 175.0, 185.0, 268.0, 338.0, 333.0, 181.0, 127.0], 'LMe_4.asc': [261.0, 198.0, 219.0, 197.0, 209.0, 172.0, 545.0, 265.0, 214.0, 168.0, 315.0, 351.0, 312.0, 253.0, 229.0, 127.0, 351.0, 157.0, 314.0, 216.0, 739.0, 252.0, 228.0, 334.0, 349.0, 413.0, 189.0, 916.0, 163.0], 'LMe_40.asc': [133.0, 226.0, 231.0, 84.0, 254.0, 398.0, 273.0, 251.0, 152.0, 295.0, 188.0, 362.0, 431.0, 386.0, 226.0, 188.0, 131.0, 241.0, 148.0, 278.0, 153.0, 248.0, 201.0, 155.0, 243.0, 386.0, 276.0, 213.0, 233.0, 92.0, 131.0, 187.0, 322.0, 171.0, 210.0, 189.0, 178.0], 'LMe_41.asc': [100.0, 239.0, 289.0, 219.0, 164.0, 251.0, 282.0, 213.0, 100.0, 186.0, 292.0, 198.0, 297.0, 460.0, 190.0, 193.0, 657.0, 335.0, 378.0, 387.0, 328.0, 170.0, 349.0, 376.0, 390.0, 310.0, 309.0, 144.0, 207.0, 208.0, 252.0, 220.0, 105.0, 126.0], 'LMe_5.asc': [152.0, 152.0, 143.0, 191.0, 334.0, 79.0, 295.0, 298.0, 217.0, 237.0, 185.0, 302.0, 399.0, 553.0, 135.0, 157.0, 213.0, 250.0, 42.0, 236.0, 251.0, 584.0, 201.0, 1053.0, 114.0, 177.0, 274.0, 631.0, 157.0, 753.0, 160.0, 205.0, 24.0]}, 'dining9.jpg': {'LMe_1.asc': [195.0, 199.0, 190.0, 193.0, 289.0, 142.0, 112.0, 195.0, 167.0, 177.0, 278.0, 120.0, 164.0, 232.0, 247.0, 264.0, 422.0, 104.0, 232.0, 294.0, 193.0, 313.0, 240.0, 266.0, 277.0, 155.0, 324.0, 134.0, 219.0, 243.0, 330.0, 126.0, 189.0, 170.0, 149.0, 229.0, 307.0, 123.0, 202.0, 157.0, 39.0], 'LMe_37.asc': [269.0, 205.0, 178.0, 121.0, 257.0, 318.0, 510.0, 117.0, 156.0, 178.0, 478.0, 158.0, 159.0, 132.0, 264.0, 245.0, 74.0, 467.0, 199.0, 189.0, 205.0, 130.0, 290.0, 360.0, 189.0, 101.0, 156.0, 219.0, 140.0, 212.0, 675.0, 383.0, 163.0, 220.0, 382.0, 170.0], 'LMe_4.asc': [152.0, 113.0, 297.0, 289.0, 358.0, 154.0, 213.0, 204.0, 244.0, 353.0, 310.0, 183.0, 254.0, 127.0, 311.0, 279.0, 262.0, 466.0, 386.0, 198.0, 210.0, 194.0, 248.0, 387.0, 251.0, 622.0, 218.0, 173.0, 183.0, 313.0, 214.0, 312.0, 158.0, 187.0], 'LMe_40.asc': [148.0, 278.0, 205.0, 315.0, 292.0, 193.0, 207.0, 214.0, 224.0, 293.0, 334.0, 421.0, 452.0, 121.0, 216.0, 194.0, 257.0, 41.0, 541.0, 352.0, 251.0, 117.0, 271.0, 200.0, 206.0, 267.0, 261.0, 112.0, 190.0, 282.0, 209.0, 194.0, 134.0, 267.0, 346.0], 'LMe_41.asc': [222.0, 230.0, 482.0, 206.0, 602.0, 314.0, 238.0, 186.0, 132.0, 111.0, 227.0, 127.0, 579.0, 206.0, 266.0, 548.0, 344.0, 617.0, 273.0, 171.0, 213.0, 170.0, 374.0, 251.0, 340.0, 455.0, 298.0, 103.0, 247.0, 90.0, 62.0], 'LMe_5.asc': [216.0, 193.0, 233.0, 159.0, 280.0, 128.0, 124.0, 621.0, 239.0, 285.0, 750.0, 46.0, 208.0, 172.0, 290.0, 256.0, 105.0, 210.0, 130.0, 253.0, 299.0, 130.0, 268.0, 142.0, 352.0, 170.0, 356.0, 178.0, 130.0, 241.0, 38.0, 174.0, 121.0, 207.0, 210.0, 188.0, 429.0, 44.0]}, 'dining3.jpg': {'LMe_1.asc': [162.0, 128.0, 146.0, 325.0, 213.0, 150.0, 148.0, 303.0, 426.0, 199.0, 378.0, 173.0, 294.0, 148.0, 222.0, 134.0, 227.0, 252.0, 106.0, 227.0, 585.0, 180.0, 281.0, 114.0, 593.0, 141.0, 266.0, 170.0, 278.0, 193.0, 151.0, 256.0, 215.0, 602.0, 130.0, 66.0], 'LMe_37.asc': [177.0, 166.0, 226.0, 91.0, 352.0, 139.0, 173.0, 273.0, 310.0, 137.0, 158.0, 164.0, 255.0, 205.0, 767.0, 491.0, 321.0, 177.0, 606.0, 436.0, 160.0, 164.0, 242.0, 117.0, 170.0, 154.0, 541.0, 594.0, 134.0, 134.0, 525.0, 194.0], 'LMe_4.asc': [261.0, 225.0, 173.0, 216.0, 218.0, 242.0, 148.0, 304.0, 60.0, 184.0, 152.0, 197.0, 255.0, 323.0, 190.0, 217.0, 321.0, 164.0, 392.0, 278.0, 183.0, 482.0, 146.0, 483.0, 179.0, 446.0, 175.0, 567.0, 498.0, 201.0, 124.0, 207.0, 320.0, 229.0], 'LMe_40.asc': [162.0, 146.0, 304.0, 182.0, 156.0, 360.0, 239.0, 116.0, 303.0, 281.0, 154.0, 186.0, 279.0, 396.0, 150.0, 208.0, 279.0, 850.0, 368.0, 314.0, 318.0, 306.0, 172.0, 180.0, 382.0, 270.0, 407.0, 204.0, 345.0, 167.0, 462.0], 'LMe_41.asc': [195.0, 268.0, 163.0, 457.0, 224.0, 162.0, 124.0, 356.0, 289.0, 293.0, 279.0, 179.0, 262.0, 150.0, 147.0, 184.0, 174.0, 230.0, 70.0, 179.0, 276.0, 187.0, 183.0, 264.0, 243.0, 143.0, 191.0, 174.0, 95.0, 169.0, 277.0, 335.0, 223.0, 248.0, 354.0], 'LMe_5.asc': [203.0, 47.0, 162.0, 67.0, 132.0, 99.0, 230.0, 88.0, 212.0, 65.0, 88.0, 226.0, 114.0, 145.0, 293.0, 269.0, 515.0, 217.0, 596.0, 217.0, 159.0, 186.0, 143.0, 197.0, 266.0, 413.0, 383.0, 201.0, 135.0, 36.0, 270.0, 397.0, 144.0, 1106.0, 168.0, 185.0, 156.0, 24.0, 131.0, 257.0]}, 'office_0003_rgbImage_000391.jpg': {'LMe_1.asc': [235.0, 148.0, 279.0, 86.0, 387.0, 106.0, 770.0, 293.0, 179.0, 266.0, 360.0, 376.0, 183.0, 300.0, 287.0, 142.0, 195.0, 216.0, 364.0, 166.0, 169.0, 297.0, 239.0, 413.0, 178.0, 298.0, 277.0, 216.0, 108.0, 346.0, 152.0, 189.0, 440.0, 64.0], 'LMe_37.asc': [247.0, 149.0, 158.0, 137.0, 304.0, 133.0, 282.0, 101.0, 196.0, 218.0, 257.0, 110.0, 253.0, 271.0, 709.0, 207.0, 409.0, 62.0, 353.0, 187.0, 181.0, 105.0, 148.0, 201.0, 268.0, 200.0, 345.0, 237.0, 290.0, 133.0, 207.0, 233.0, 262.0, 216.0, 169.0, 155.0, 144.0], 'LMe_4.asc': [83.0, 227.0, 262.0, 128.0, 310.0, 218.0, 356.0, 234.0, 226.0, 95.0, 148.0, 248.0, 274.0, 266.0, 250.0, 152.0, 1013.0, 398.0, 320.0, 426.0, 145.0, 140.0, 231.0, 436.0, 115.0, 945.0, 336.0, 293.0, 553.0], 'LMe_40.asc': [175.0, 150.0, 154.0, 485.0, 161.0, 330.0, 224.0, 1279.0, 405.0, 266.0, 400.0, 189.0, 536.0, 285.0, 315.0, 178.0, 407.0, 269.0, 414.0, 173.0, 320.0, 184.0, 359.0, 171.0, 187.0, 762.0], 'LMe_41.asc': [78.0, 212.0, 179.0, 296.0, 115.0, 152.0, 306.0, 185.0, 50.0, 163.0, 164.0, 133.0, 209.0, 493.0, 214.0, 248.0, 72.0, 172.0, 209.0, 136.0, 139.0, 191.0, 376.0, 462.0, 419.0, 114.0, 249.0, 209.0, 203.0, 283.0, 215.0, 90.0, 138.0, 275.0, 77.0], 'LMe_5.asc': [143.0, 50.0, 195.0, 251.0, 118.0, 310.0, 93.0, 668.0, 577.0, 188.0, 322.0, 113.0, 193.0, 453.0, 137.0, 185.0, 133.0, 172.0, 208.0, 674.0, 235.0, 193.0, 302.0, 393.0, 347.0, 203.0, 327.0, 189.0, 151.0, 425.0, 157.0, 286.0]}, 'dining048.jpg': {'LMe_1.asc': [139.0, 149.0, 353.0, 205.0, 334.0, 258.0, 156.0, 278.0, 417.0, 300.0, 287.0, 380.0, 247.0, 138.0, 144.0, 239.0, 294.0, 200.0, 311.0, 243.0, 789.0, 161.0, 257.0, 242.0, 185.0, 117.0, 313.0, 222.0, 200.0, 155.0, 274.0, 195.0, 252.0, 130.0], 'LMe_37.asc': [127.0, 230.0, 164.0, 137.0, 161.0, 252.0, 183.0, 191.0, 213.0, 342.0, 40.0, 195.0, 218.0, 306.0, 161.0, 230.0, 66.0, 53.0, 135.0, 157.0, 273.0, 197.0, 242.0, 73.0, 177.0, 201.0, 209.0, 248.0, 343.0, 211.0, 157.0, 379.0, 322.0, 170.0, 178.0, 215.0, 246.0, 187.0, 497.0], 'LMe_4.asc': [143.0, 142.0, 191.0, 159.0, 223.0, 269.0, 304.0, 304.0, 184.0, 223.0, 126.0, 250.0, 147.0, 165.0, 348.0, 165.0, 253.0, 76.0, 292.0, 173.0, 274.0, 245.0, 228.0, 321.0, 214.0, 149.0, 326.0, 360.0, 162.0, 1403.0, 138.0, 454.0, 52.0], 'LMe_40.asc': [165.0, 281.0, 135.0, 231.0, 209.0, 150.0, 252.0, 280.0, 264.0, 304.0, 260.0, 165.0, 405.0, 161.0, 198.0, 411.0, 195.0, 182.0, 146.0, 234.0, 265.0, 137.0, 192.0, 295.0, 204.0, 190.0, 161.0, 181.0, 214.0, 176.0, 291.0, 274.0, 174.0, 355.0, 125.0, 228.0, 51.0], 'LMe_41.asc': [235.0, 224.0, 207.0, 219.0, 186.0, 187.0, 208.0, 163.0, 303.0, 187.0, 281.0, 184.0, 187.0, 78.0, 206.0, 344.0, 448.0, 219.0, 160.0, 154.0, 189.0, 225.0, 103.0, 230.0, 222.0, 130.0, 277.0, 277.0, 262.0, 232.0, 211.0, 166.0, 298.0, 137.0, 251.0, 150.0, 195.0, 118.0], 'LMe_5.asc': [105.0, 69.0, 225.0, 186.0, 209.0, 125.0, 209.0, 286.0, 280.0, 257.0, 185.0, 200.0, 113.0, 128.0, 262.0, 215.0, 198.0, 55.0, 638.0, 442.0, 650.0, 205.0, 174.0, 261.0, 181.0, 255.0, 155.0, 232.0, 183.0, 213.0, 173.0, 1024.0, 249.0, 94.0, 210.0]}, 'kitchen_0060_rgbImage_000646.jpg': {'LMe_1.asc': [243.0, 53.0, 112.0, 1029.0, 194.0, 359.0, 383.0, 183.0, 155.0, 515.0, 105.0, 278.0, 227.0, 839.0, 334.0, 244.0, 456.0, 368.0, 170.0, 214.0, 836.0, 273.0, 168.0, 196.0, 273.0, 191.0, 122.0, 345.0], 'LMe_37.asc': [211.0, 194.0, 194.0, 269.0, 198.0, 198.0, 183.0, 259.0, 254.0, 309.0, 175.0, 200.0, 233.0, 804.0, 494.0, 351.0, 323.0, 217.0, 385.0, 188.0, 207.0, 123.0, 188.0, 107.0, 216.0, 186.0, 222.0, 239.0, 229.0, 165.0, 430.0, 153.0, 178.0, 361.0], 'LMe_4.asc': [151.0, 239.0, 180.0, 138.0, 355.0, 281.0, 208.0, 141.0, 204.0, 239.0, 80.0, 178.0, 270.0, 122.0, 249.0, 131.0, 194.0, 442.0, 224.0, 386.0, 304.0, 298.0, 352.0, 224.0, 485.0, 166.0, 249.0, 386.0, 183.0, 740.0, 183.0, 326.0, 208.0, 293.0], 'LMe_40.asc': [191.0, 132.0, 249.0, 336.0, 201.0, 171.0, 149.0, 245.0, 119.0, 234.0, 181.0, 119.0, 270.0, 147.0, 212.0, 378.0, 339.0, 244.0, 292.0, 208.0, 155.0, 240.0, 337.0, 341.0, 795.0, 283.0, 184.0, 240.0, 241.0, 284.0, 61.0, 325.0, 107.0, 309.0, 380.0], 'LMe_41.asc': [123.0, 171.0, 189.0, 160.0, 262.0, 275.0, 223.0, 196.0, 198.0, 434.0, 192.0, 280.0, 132.0, 465.0, 142.0, 153.0, 154.0, 201.0, 921.0, 252.0, 325.0, 140.0, 329.0, 86.0, 249.0, 270.0, 301.0, 293.0, 221.0, 130.0, 253.0, 102.0, 292.0], 'LMe_5.asc': [115.0, 242.0, 136.0, 179.0, 241.0, 161.0, 311.0, 225.0, 192.0, 305.0, 82.0, 157.0, 154.0, 63.0, 182.0, 305.0, 223.0, 185.0, 281.0, 291.0, 215.0, 260.0, 231.0, 101.0, 487.0, 301.0, 204.0, 191.0, 305.0, 103.0, 153.0, 144.0, 220.0, 303.0, 180.0, 880.0, 180.0]}, 'estudio2.jpg': {'LMe_1.asc': [46.0, 139.0, 122.0, 116.0, 211.0, 102.0, 120.0, 333.0, 353.0, 183.0, 217.0, 194.0, 149.0, 201.0, 188.0, 284.0, 269.0, 133.0, 458.0, 310.0, 222.0, 153.0, 279.0, 236.0, 132.0, 158.0, 222.0, 130.0, 237.0, 111.0, 207.0, 413.0, 151.0, 186.0, 208.0, 231.0, 136.0, 169.0, 210.0, 264.0], 'LMe_37.asc': [198.0, 235.0, 383.0, 215.0, 94.0, 247.0, 329.0, 414.0, 185.0, 225.0, 233.0, 222.0, 151.0, 184.0, 159.0, 303.0, 103.0, 190.0, 230.0, 282.0, 103.0, 275.0, 272.0, 160.0, 243.0, 188.0, 236.0, 185.0, 373.0, 223.0, 348.0, 214.0, 199.0, 200.0, 150.0, 110.0, 187.0], 'LMe_4.asc': [97.0, 124.0, 173.0, 188.0, 195.0, 244.0, 197.0, 167.0, 225.0, 347.0, 291.0, 334.0, 207.0, 89.0, 145.0, 235.0, 291.0, 179.0, 287.0, 168.0, 151.0, 157.0, 48.0, 143.0, 175.0, 203.0, 369.0, 208.0, 178.0, 136.0, 258.0, 200.0, 177.0, 189.0, 177.0, 359.0, 194.0, 268.0, 153.0, 274.0, 201.0], 'LMe_40.asc': [107.0, 189.0, 140.0, 224.0, 193.0, 310.0, 154.0, 280.0, 286.0, 367.0, 98.0, 246.0, 244.0, 265.0, 210.0, 208.0, 191.0, 58.0, 315.0, 228.0, 308.0, 181.0, 338.0, 167.0, 123.0, 219.0, 95.0, 326.0, 282.0, 140.0, 321.0, 259.0, 207.0, 377.0, 397.0, 102.0, 92.0], 'LMe_41.asc': [66.0, 75.0, 150.0, 188.0, 221.0, 209.0, 391.0, 609.0, 204.0, 283.0, 203.0, 170.0, 287.0, 111.0, 171.0, 311.0, 142.0, 168.0, 102.0, 226.0, 91.0, 175.0, 275.0, 97.0, 364.0, 182.0, 227.0, 253.0, 542.0, 304.0, 287.0, 288.0, 258.0, 179.0, 230.0, 71.0], 'LMe_5.asc': [219.0, 150.0, 349.0, 90.0, 160.0, 187.0, 98.0, 196.0, 139.0, 27.0, 102.0, 134.0, 137.0, 138.0, 153.0, 258.0, 204.0, 26.0, 295.0, 21.0, 70.0, 216.0, 141.0, 225.0, 285.0, 204.0, 160.0, 220.0, 220.0, 173.0, 150.0, 235.0, 358.0, 200.0, 225.0, 228.0, 238.0, 356.0, 119.0, 203.0, 661.0, 254.0]}, 'dining38.jpg': {'LMe_1.asc': [113.0, 285.0, 247.0, 66.0, 120.0, 274.0, 509.0, 227.0, 303.0, 106.0, 253.0, 171.0, 200.0, 322.0, 120.0, 285.0, 287.0, 148.0, 113.0, 252.0, 137.0, 289.0, 270.0, 231.0, 220.0, 348.0, 189.0, 288.0, 193.0, 194.0, 390.0, 169.0, 184.0, 424.0, 657.0], 'LMe_37.asc': [199.0, 458.0, 162.0, 300.0, 186.0, 203.0, 210.0, 135.0, 506.0, 244.0, 376.0, 148.0, 226.0, 675.0, 589.0, 201.0, 242.0, 159.0, 205.0, 144.0, 188.0, 118.0, 189.0, 156.0, 197.0, 152.0, 194.0, 135.0, 144.0, 135.0, 188.0, 176.0, 171.0, 50.0, 219.0, 185.0, 121.0, 319.0], 'LMe_4.asc': [220.0, 150.0, 216.0, 247.0, 165.0, 376.0, 341.0, 254.0, 108.0, 241.0, 143.0, 164.0, 165.0, 174.0, 242.0, 214.0, 141.0, 226.0, 367.0, 664.0, 210.0, 317.0, 224.0, 353.0, 126.0, 227.0, 355.0, 136.0, 195.0, 258.0, 295.0, 381.0, 205.0, 455.0], 'LMe_40.asc': [164.0, 197.0, 171.0, 403.0, 415.0, 371.0, 381.0, 167.0, 204.0, 220.0, 197.0, 292.0, 98.0, 190.0, 257.0, 131.0, 222.0, 173.0, 205.0, 132.0, 193.0, 300.0, 211.0, 285.0, 256.0, 123.0, 440.0, 124.0, 188.0, 220.0, 205.0, 506.0, 207.0, 203.0, 71.0], 'LMe_41.asc': [179.0, 277.0, 219.0, 396.0, 307.0, 195.0, 160.0, 220.0, 258.0, 266.0, 103.0, 150.0, 152.0, 244.0, 157.0, 190.0, 69.0, 185.0, 268.0, 237.0, 125.0, 212.0, 172.0, 356.0, 222.0, 270.0, 234.0, 138.0, 385.0, 286.0, 717.0, 205.0, 205.0, 279.0], 'LMe_5.asc': [157.0, 87.0, 295.0, 176.0, 224.0, 131.0, 274.0, 174.0, 158.0, 165.0, 175.0, 187.0, 203.0, 172.0, 130.0, 181.0, 136.0, 263.0, 275.0, 153.0, 324.0, 155.0, 90.0, 468.0, 138.0, 192.0, 125.0, 488.0, 244.0, 389.0, 124.0, 53.0, 211.0, 606.0, 212.0, 121.0, 109.0, 181.0]}, 'bedroom18.jpg': {'LMe_1.asc': [143.0, 171.0, 230.0, 525.0, 280.0, 406.0, 196.0, 199.0, 229.0, 269.0, 280.0, 175.0, 240.0, 234.0, 334.0, 239.0, 252.0, 150.0, 374.0, 219.0, 374.0, 252.0, 264.0, 300.0, 296.0, 190.0, 320.0, 168.0, 242.0, 221.0, 168.0, 171.0], 'LMe_37.asc': [227.0, 203.0, 314.0, 220.0, 175.0, 169.0, 250.0, 285.0, 472.0, 302.0, 215.0, 278.0, 734.0, 224.0, 181.0, 435.0, 228.0, 147.0, 231.0, 293.0, 290.0, 323.0, 212.0, 178.0, 144.0, 231.0, 241.0, 159.0, 170.0, 136.0, 260.0, 143.0, 226.0, 139.0, 95.0], 'LMe_4.asc': [168.0, 176.0, 187.0, 183.0, 370.0, 140.0, 199.0, 428.0, 203.0, 652.0, 105.0, 185.0, 215.0, 143.0, 179.0, 201.0, 235.0, 132.0, 277.0, 168.0, 223.0, 184.0, 153.0, 218.0, 175.0, 145.0, 261.0, 201.0, 158.0, 171.0, 336.0, 177.0, 242.0, 215.0, 228.0, 161.0, 176.0, 216.0, 61.0], 'LMe_40.asc': [142.0, 227.0, 145.0, 189.0, 645.0, 387.0, 163.0, 118.0, 189.0, 177.0, 326.0, 271.0, 316.0, 157.0, 229.0, 262.0, 175.0, 184.0, 380.0, 277.0, 153.0, 413.0, 185.0, 192.0, 162.0, 325.0, 283.0, 153.0, 363.0, 109.0, 173.0, 267.0, 234.0, 245.0, 46.0], 'LMe_41.asc': [173.0, 276.0, 329.0, 89.0, 342.0, 328.0, 248.0, 397.0, 246.0, 353.0, 110.0, 239.0, 1034.0, 71.0, 244.0, 277.0, 355.0, 283.0, 319.0, 197.0, 313.0, 172.0, 260.0, 278.0, 266.0, 113.0, 259.0, 261.0, 225.0, 187.0, 184.0], 'LMe_5.asc': [109.0, 189.0, 134.0, 359.0, 107.0, 391.0, 167.0, 124.0, 202.0, 172.0, 269.0, 181.0, 164.0, 127.0, 234.0, 166.0, 259.0, 129.0, 49.0, 207.0, 174.0, 254.0, 202.0, 401.0, 210.0, 101.0, 122.0, 361.0, 317.0, 157.0, 229.0, 281.0, 297.0, 144.0, 268.0, 133.0, 150.0, 364.0, 276.0, 188.0]}, 'kitchen143.jpg': {'LMe_1.asc': [204.0, 142.0, 356.0, 135.0, 223.0, 63.0, 203.0, 287.0, 142.0, 154.0, 322.0, 77.0, 328.0, 324.0, 225.0, 245.0, 213.0, 237.0, 266.0, 244.0, 159.0, 226.0, 354.0, 290.0, 117.0, 265.0, 313.0, 359.0, 175.0, 143.0, 303.0, 222.0, 250.0, 271.0, 125.0, 175.0, 221.0], 'LMe_38.asc': [178.0, 238.0, 138.0, 250.0, 192.0, 403.0, 156.0, 579.0, 209.0, 391.0, 222.0, 392.0, 221.0, 225.0, 257.0, 270.0, 184.0, 204.0, 218.0, 181.0, 365.0, 384.0, 176.0, 223.0, 272.0, 178.0, 245.0, 177.0, 298.0, 162.0, 137.0, 220.0, 127.0, 265.0, 166.0, 83.0], 'LMe_39.asc': [214.0, 235.0, 211.0, 283.0, 350.0, 86.0, 167.0, 301.0, 226.0, 94.0, 408.0, 145.0, 254.0, 185.0, 57.0, 220.0, 226.0, 338.0, 222.0, 162.0, 390.0, 143.0, 344.0, 245.0, 199.0, 158.0, 186.0, 358.0, 119.0, 366.0, 229.0, 241.0, 218.0, 393.0, 250.0, 166.0, 30.0], 'LMe_4.asc': [121.0, 211.0, 75.0, 186.0, 257.0, 232.0, 138.0, 210.0, 190.0, 137.0, 310.0, 276.0, 219.0, 161.0, 246.0, 282.0, 173.0, 296.0, 151.0, 356.0, 195.0, 359.0, 356.0, 165.0, 222.0, 197.0, 213.0, 158.0, 193.0, 151.0, 147.0, 278.0, 365.0, 391.0, 141.0, 273.0, 200.0, 176.0, 113.0], 'LMe_42.asc': [], 'LMe_5.asc': [151.0, 187.0, 198.0, 254.0, 140.0, 137.0, 184.0, 242.0, 186.0, 197.0, 147.0, 168.0, 154.0, 157.0, 170.0, 350.0, 308.0, 222.0, 218.0, 274.0, 42.0, 320.0, 118.0, 144.0, 314.0, 172.0, 392.0, 119.0, 191.0, 265.0, 291.0, 61.0, 109.0, 159.0, 234.0, 455.0, 192.0, 293.0, 87.0, 306.0]}, 'hallway5.jpg': {'LMe_1.asc': [153.0, 227.0, 266.0, 224.0, 83.0, 286.0, 235.0, 224.0, 405.0, 275.0, 225.0, 632.0, 222.0, 233.0, 564.0, 194.0, 241.0, 189.0, 210.0, 353.0, 210.0, 310.0, 229.0, 179.0, 404.0, 293.0, 373.0, 278.0, 239.0, 259.0, 252.0, 161.0, 43.0], 'LMe_38.asc': [161.0, 155.0, 257.0, 282.0, 172.0, 113.0, 225.0, 258.0, 165.0, 152.0, 113.0, 133.0, 138.0, 222.0, 98.0, 287.0, 187.0, 220.0, 248.0, 469.0, 194.0, 239.0, 254.0, 165.0, 331.0, 409.0, 151.0, 281.0, 299.0, 691.0, 33.0, 261.0, 233.0, 213.0, 180.0, 178.0, 263.0], 'LMe_39.asc': [210.0, 308.0, 295.0, 152.0, 257.0, 121.0, 161.0, 176.0, 256.0, 144.0, 207.0, 224.0, 131.0, 270.0, 267.0, 369.0, 228.0, 329.0, 258.0, 169.0, 353.0, 203.0, 389.0, 111.0, 219.0, 203.0, 238.0, 214.0, 405.0, 128.0, 182.0, 291.0, 209.0, 127.0, 258.0, 224.0, 92.0], 'LMe_4.asc': [136.0, 194.0, 141.0, 178.0, 224.0, 152.0, 235.0, 149.0, 131.0, 155.0, 159.0, 267.0, 198.0, 295.0, 156.0, 213.0, 131.0, 406.0, 223.0, 201.0, 188.0, 227.0, 227.0, 175.0, 314.0, 282.0, 222.0, 156.0, 391.0, 209.0, 298.0, 151.0, 1274.0, 157.0, 137.0, 228.0], 'LMe_42.asc': [187.0, 196.0, 172.0, 266.0, 338.0, 120.0, 134.0, 229.0, 377.0, 548.0, 176.0, 249.0, 332.0, 267.0, 161.0, 127.0, 307.0, 165.0, 263.0, 169.0, 408.0, 260.0, 125.0, 200.0, 51.0, 186.0, 190.0, 78.0, 187.0, 146.0, 127.0, 36.0, 122.0, 159.0, 212.0, 297.0], 'LMe_5.asc': [23.0, 196.0, 167.0, 129.0, 123.0, 141.0, 154.0, 69.0, 60.0, 149.0, 231.0, 119.0, 111.0, 86.0, 151.0, 254.0, 1265.0, 263.0, 130.0, 130.0, 61.0, 94.0, 153.0, 165.0, 456.0, 193.0, 147.0, 243.0, 141.0, 575.0, 121.0, 149.0, 194.0, 205.0, 58.0, 161.0, 166.0, 212.0, 267.0, 288.0, 121.0, 193.0]}, 'kitchen057.jpg': {'LMe_2.asc': [206.0, 182.0, 152.0, 273.0, 259.0, 169.0, 304.0, 377.0, 312.0, 200.0, 481.0, 218.0, 213.0, 154.0, 142.0, 210.0, 165.0, 174.0, 553.0, 266.0, 211.0, 115.0, 160.0, 173.0, 148.0, 212.0, 294.0, 504.0, 201.0, 187.0, 400.0, 125.0, 224.0, 159.0, 305.0, 87.0], 'LMe_3.asc': [183.0, 119.0, 212.0, 178.0, 193.0, 260.0, 155.0, 205.0, 163.0, 232.0, 346.0, 128.0, 169.0, 141.0, 237.0, 370.0, 147.0, 271.0, 244.0, 197.0, 159.0, 247.0, 145.0, 183.0, 149.0, 250.0, 302.0, 250.0, 270.0, 160.0, 120.0, 172.0, 209.0, 152.0, 254.0, 229.0, 357.0, 246.0, 257.0], 'LMe_38.asc': [136.0, 187.0, 151.0, 235.0, 296.0, 262.0, 214.0, 219.0, 402.0, 462.0, 193.0, 296.0, 186.0, 312.0, 171.0, 48.0, 133.0, 122.0, 206.0, 176.0, 487.0, 246.0, 384.0, 233.0, 184.0, 100.0, 176.0, 193.0, 139.0, 365.0, 150.0, 135.0, 353.0, 259.0, 132.0, 327.0, 157.0], 'LMe_39.asc': [223.0, 165.0, 112.0, 143.0, 192.0, 195.0, 365.0, 326.0, 386.0, 376.0, 271.0, 124.0, 228.0, 264.0, 239.0, 352.0, 154.0, 226.0, 397.0, 368.0, 132.0, 280.0, 368.0, 277.0, 218.0, 284.0, 249.0, 289.0, 265.0, 214.0, 279.0, 161.0, 252.0, 147.0], 'LMe_42.asc': [145.0, 207.0, 238.0, 153.0, 243.0, 292.0, 326.0, 231.0, 248.0, 101.0, 136.0, 256.0, 183.0, 172.0, 265.0, 496.0, 415.0, 150.0, 121.0, 439.0, 551.0, 281.0, 127.0, 252.0, 220.0, 654.0, 205.0, 137.0, 299.0, 124.0, 315.0, 246.0, 379.0], 'LMe_6.asc': [166.0, 292.0, 170.0, 157.0, 615.0, 165.0, 339.0, 328.0, 144.0, 195.0, 75.0, 267.0, 337.0, 98.0, 226.0, 433.0, 133.0, 220.0, 185.0, 131.0, 104.0, 293.0, 123.0, 236.0, 167.0, 198.0, 457.0, 324.0, 151.0, 240.0, 133.0, 238.0, 297.0, 189.0, 161.0, 129.0, 194.0, 141.0]}, 'conference_room_1_lr_sm.jpg': {'LMe_2.asc': [189.0, 145.0, 171.0, 79.0, 269.0, 217.0, 186.0, 170.0, 281.0, 292.0, 148.0, 227.0, 150.0, 244.0, 28.0, 93.0, 169.0, 149.0, 221.0, 356.0, 358.0, 290.0, 210.0, 129.0, 142.0, 140.0, 137.0, 75.0, 492.0, 153.0, 243.0, 102.0, 182.0, 741.0, 315.0, 291.0, 293.0, 258.0, 94.0], 'LMe_3.asc': [205.0, 299.0, 150.0, 132.0, 186.0, 126.0, 197.0, 304.0, 94.0, 210.0, 205.0, 156.0, 369.0, 415.0, 233.0, 144.0, 216.0, 125.0, 209.0, 303.0, 353.0, 143.0, 407.0, 281.0, 174.0, 197.0, 202.0, 267.0, 301.0, 313.0, 253.0, 372.0, 204.0, 243.0, 377.0, 225.0], 'LMe_38.asc': [272.0, 246.0, 443.0, 352.0, 488.0, 174.0, 104.0, 212.0, 121.0, 257.0, 463.0, 241.0, 501.0, 88.0, 186.0, 277.0, 192.0, 374.0, 187.0, 487.0, 157.0, 161.0, 178.0, 83.0, 311.0, 237.0, 271.0, 133.0, 166.0, 451.0, 393.0, 162.0], 'LMe_39.asc': [122.0, 197.0, 220.0, 234.0, 159.0, 470.0, 170.0, 198.0, 150.0, 215.0, 142.0, 388.0, 437.0, 218.0, 466.0, 428.0, 412.0, 228.0, 184.0, 414.0, 162.0, 262.0, 396.0, 172.0, 301.0, 204.0, 315.0, 165.0, 475.0, 225.0, 151.0, 233.0], 'LMe_42.asc': [], 'LMe_6.asc': [200.0, 164.0, 121.0, 147.0, 269.0, 139.0, 182.0, 166.0, 197.0, 335.0, 228.0, 214.0, 150.0, 262.0, 236.0, 164.0, 213.0, 256.0, 273.0, 124.0, 220.0, 318.0, 282.0, 217.0, 97.0, 130.0, 121.0, 282.0, 304.0, 115.0, 224.0, 132.0, 310.0, 191.0, 250.0, 237.0, 165.0, 276.0, 158.0, 240.0, 133.0]}, 'Restaurant10.jpg': {'LMe_2.asc': [114.0, 238.0, 274.0, 311.0, 192.0, 181.0, 192.0, 104.0, 169.0, 300.0, 382.0, 520.0, 377.0, 444.0, 151.0, 217.0, 109.0, 292.0, 195.0, 195.0, 159.0, 206.0, 257.0, 273.0, 304.0, 233.0, 289.0, 196.0, 154.0, 199.0, 183.0, 369.0, 989.0], 'LMe_3.asc': [190.0, 214.0, 148.0, 92.0, 135.0, 402.0, 235.0, 159.0, 115.0, 149.0, 79.0, 168.0, 200.0, 242.0, 285.0, 207.0, 320.0, 734.0, 646.0, 294.0, 452.0, 409.0, 201.0, 283.0, 163.0, 239.0, 176.0, 470.0, 208.0, 144.0, 175.0, 318.0, 298.0, 117.0, 250.0], 'LMe_38.asc': [226.0, 307.0, 233.0, 174.0, 771.0, 256.0, 295.0, 65.0, 124.0, 170.0, 147.0, 259.0, 184.0, 160.0, 215.0, 158.0, 295.0, 159.0, 225.0, 342.0, 213.0, 167.0, 185.0, 237.0, 213.0, 402.0, 199.0, 387.0, 221.0, 716.0, 399.0, 157.0, 73.0], 'LMe_39.asc': [283.0, 264.0, 244.0, 261.0, 969.0, 1308.0, 643.0, 554.0, 684.0, 1303.0, 277.0, 186.0, 236.0, 168.0, 109.0, 246.0, 253.0, 209.0, 103.0, 234.0, 581.0], 'LMe_42.asc': [], 'LMe_6.asc': [58.0, 62.0, 242.0, 290.0, 180.0, 188.0, 136.0, 189.0, 153.0, 156.0, 295.0, 50.0, 152.0, 165.0, 178.0, 336.0, 865.0, 312.0, 199.0, 289.0, 192.0, 136.0, 277.0, 203.0, 1080.0, 240.0, 234.0, 139.0, 289.0, 334.0, 150.0, 253.0, 150.0, 116.0]}, 'sitting26.jpg': {'LMe_2.asc': [173.0, 97.0, 125.0, 226.0, 324.0, 314.0, 281.0, 242.0, 240.0, 246.0, 409.0, 89.0, 491.0, 287.0, 108.0, 278.0, 206.0, 202.0, 169.0, 250.0, 318.0, 220.0, 252.0, 205.0, 191.0, 267.0, 168.0, 242.0, 79.0, 250.0, 337.0, 464.0, 648.0, 305.0, 59.0], 'LMe_3.asc': [127.0, 153.0, 455.0, 177.0, 299.0, 336.0, 227.0, 295.0, 150.0, 225.0, 166.0, 235.0, 245.0, 252.0, 258.0, 147.0, 219.0, 225.0, 293.0, 161.0, 113.0, 356.0, 95.0, 168.0, 244.0, 352.0, 727.0, 212.0, 282.0, 393.0, 489.0, 366.0, 302.0, 93.0], 'LMe_37.asc': [273.0, 80.0, 195.0, 222.0, 185.0, 234.0, 239.0, 200.0, 133.0, 424.0, 399.0, 293.0, 273.0, 181.0, 688.0, 382.0, 525.0, 286.0, 1362.0, 471.0, 117.0, 240.0, 160.0, 246.0, 121.0, 226.0, 223.0, 376.0, 259.0], 'LMe_40.asc': [162.0, 279.0, 166.0, 357.0, 169.0, 182.0, 322.0, 238.0, 210.0, 404.0, 194.0, 231.0, 178.0, 252.0, 150.0, 509.0, 143.0, 283.0, 141.0, 404.0, 286.0, 293.0, 208.0, 184.0, 225.0, 237.0, 290.0, 404.0, 269.0, 230.0, 141.0, 208.0, 182.0, 94.0, 67.0, 271.0], 'LMe_41.asc': [230.0, 182.0, 204.0, 274.0, 133.0, 224.0, 199.0, 272.0, 220.0, 70.0, 222.0, 335.0, 287.0, 364.0, 348.0, 87.0, 272.0, 473.0, 616.0, 340.0, 316.0, 357.0, 490.0, 190.0, 236.0, 263.0, 167.0, 202.0, 138.0, 414.0, 331.0, 386.0], 'LMe_6.asc': [155.0, 160.0, 59.0, 227.0, 196.0, 332.0, 137.0, 135.0, 231.0, 316.0, 172.0, 116.0, 353.0, 218.0, 388.0, 203.0, 235.0, 142.0, 195.0, 162.0, 172.0, 203.0, 28.0, 101.0, 272.0, 278.0, 180.0, 403.0, 116.0, 217.0, 607.0, 298.0, 113.0, 88.0, 133.0, 146.0, 286.0, 132.0, 137.0, 166.0, 214.0]}, 'dining032.jpg': {'LMe_2.asc': [141.0, 125.0, 442.0, 183.0, 283.0, 121.0, 141.0, 199.0, 171.0, 125.0, 281.0, 254.0, 299.0, 167.0, 255.0, 377.0, 394.0, 291.0, 330.0, 422.0, 310.0, 449.0, 422.0, 1827.0, 368.0, 294.0, 201.0], 'LMe_3.asc': [191.0, 178.0, 175.0, 319.0, 571.0, 184.0, 164.0, 206.0, 239.0, 235.0, 217.0, 184.0, 218.0, 223.0, 322.0, 209.0, 253.0, 289.0, 977.0, 1750.0, 303.0, 1142.0, 189.0, 162.0, 45.0], 'LMe_38.asc': [116.0, 196.0, 177.0, 98.0, 156.0, 297.0, 212.0, 232.0, 230.0, 167.0, 249.0, 323.0, 136.0, 223.0, 226.0, 174.0, 184.0, 143.0, 399.0, 305.0, 284.0, 193.0, 122.0, 246.0, 271.0, 229.0, 416.0, 258.0, 289.0, 356.0, 164.0, 316.0, 319.0, 155.0, 234.0, 372.0], 'LMe_39.asc': [145.0, 215.0, 152.0, 239.0, 282.0, 245.0, 217.0, 106.0, 298.0, 121.0, 299.0, 226.0, 199.0, 274.0, 133.0, 296.0, 212.0, 240.0, 285.0, 230.0, 356.0, 199.0, 120.0, 256.0, 443.0, 143.0, 474.0, 206.0, 247.0, 967.0, 172.0, 144.0, 97.0], 'LMe_42.asc': [], 'LMe_6.asc': [154.0, 195.0, 162.0, 282.0, 114.0, 152.0, 278.0, 157.0, 282.0, 24.0, 112.0, 214.0, 175.0, 48.0, 113.0, 73.0, 27.0, 301.0, 201.0, 297.0, 159.0, 211.0, 135.0, 205.0, 272.0, 111.0, 213.0, 281.0, 240.0, 314.0, 90.0, 214.0, 311.0, 175.0, 208.0, 204.0, 279.0, 163.0, 281.0, 184.0, 230.0, 138.0]}, 'image1.jpg': {'LMe_2.asc': [121.0, 61.0, 146.0, 157.0, 245.0, 114.0, 130.0, 243.0, 195.0, 253.0, 148.0, 278.0, 202.0, 167.0, 214.0, 203.0, 159.0, 91.0, 320.0, 245.0, 161.0, 262.0, 98.0, 371.0, 343.0, 186.0, 125.0, 240.0, 697.0, 349.0, 265.0, 494.0, 333.0, 192.0, 227.0, 456.0], 'LMe_3.asc': [231.0, 115.0, 178.0, 232.0, 258.0, 163.0, 204.0, 347.0, 116.0, 258.0, 190.0, 204.0, 310.0, 292.0, 255.0, 181.0, 397.0, 296.0, 309.0, 254.0, 278.0, 505.0, 140.0, 201.0, 157.0, 214.0, 253.0, 200.0, 165.0, 349.0, 214.0, 166.0, 208.0, 198.0, 342.0, 78.0], 'LMe_38.asc': [137.0, 161.0, 249.0, 202.0, 60.0, 270.0, 180.0, 168.0, 274.0, 107.0, 167.0, 121.0, 307.0, 243.0, 188.0, 108.0, 154.0, 263.0, 264.0, 121.0, 176.0, 181.0, 287.0, 381.0, 170.0, 384.0, 206.0, 208.0, 141.0, 280.0, 102.0, 319.0, 287.0, 387.0, 479.0, 255.0], 'LMe_39.asc': [331.0, 272.0, 207.0, 185.0, 283.0, 290.0, 180.0, 232.0, 176.0, 181.0, 262.0, 219.0, 237.0, 278.0, 142.0, 338.0, 470.0, 204.0, 206.0, 194.0, 184.0, 217.0, 121.0, 287.0, 267.0, 226.0, 251.0, 155.0, 181.0, 146.0, 282.0, 219.0, 243.0, 291.0, 283.0], 'LMe_42.asc': [], 'LMe_6.asc': [88.0, 151.0, 199.0, 176.0, 249.0, 197.0, 150.0, 202.0, 45.0, 70.0, 220.0, 79.0, 354.0, 173.0, 258.0, 188.0, 238.0, 276.0, 179.0, 131.0, 245.0, 213.0, 197.0, 256.0, 285.0, 214.0, 267.0, 178.0, 274.0, 211.0, 145.0, 215.0, 172.0, 291.0, 290.0, 304.0, 248.0, 234.0, 322.0]}, 'hall18.jpg': {'LMe_2.asc': [23.0, 617.0, 144.0, 144.0, 652.0, 472.0, 228.0, 126.0, 207.0, 161.0, 131.0, 230.0, 159.0, 367.0, 193.0, 175.0, 196.0, 130.0, 123.0, 215.0, 198.0, 175.0, 274.0, 213.0, 280.0, 943.0, 221.0, 487.0, 1288.0], 'LMe_3.asc': [299.0, 211.0, 96.0, 123.0, 198.0, 155.0, 105.0, 139.0, 424.0, 158.0, 185.0, 187.0, 265.0, 299.0, 286.0, 196.0, 151.0, 188.0, 143.0, 116.0, 157.0, 476.0, 184.0, 190.0, 151.0, 171.0, 185.0, 580.0, 452.0, 190.0, 272.0, 244.0, 126.0, 220.0, 942.0], 'LMe_38.asc': [163.0, 212.0, 170.0, 140.0, 247.0, 266.0, 246.0, 474.0, 428.0, 272.0, 168.0, 192.0, 213.0, 212.0, 391.0, 388.0, 257.0, 217.0, 272.0, 171.0, 254.0, 223.0, 239.0, 99.0, 210.0, 171.0, 217.0, 320.0, 260.0, 197.0, 467.0, 177.0, 164.0, 219.0, 193.0], 'LMe_39.asc': [184.0, 214.0, 171.0, 169.0, 233.0, 233.0, 185.0, 170.0, 141.0, 186.0, 207.0, 219.0, 101.0, 271.0, 306.0, 413.0, 120.0, 476.0, 351.0, 315.0, 304.0, 217.0, 185.0, 245.0, 237.0, 150.0, 177.0, 194.0, 320.0, 138.0, 205.0, 207.0, 78.0, 176.0, 245.0, 91.0, 243.0, 51.0], 'LMe_42.asc': [233.0, 285.0, 243.0, 149.0, 197.0, 256.0, 255.0, 157.0, 249.0, 341.0, 410.0, 464.0, 267.0, 388.0, 146.0, 325.0, 234.0, 201.0, 132.0, 222.0, 140.0, 200.0, 173.0, 143.0, 107.0, 197.0, 160.0, 262.0, 229.0, 99.0, 125.0, 353.0, 121.0, 209.0, 138.0, 131.0], 'LMe_6.asc': [128.0, 297.0, 261.0, 187.0, 132.0, 184.0, 401.0, 232.0, 79.0, 245.0, 271.0, 138.0, 297.0, 145.0, 59.0, 286.0, 207.0, 203.0, 359.0, 241.0, 174.0, 167.0, 209.0, 171.0, 233.0, 144.0, 183.0, 268.0, 185.0, 251.0, 164.0, 242.0, 366.0, 156.0, 253.0, 479.0]}, 'kitchen17.jpg': {'LMe_2.asc': [218.0, 125.0, 154.0, 151.0, 183.0, 278.0, 114.0, 183.0, 152.0, 372.0, 194.0, 152.0, 187.0, 118.0, 260.0, 286.0, 200.0, 208.0, 72.0, 336.0, 147.0, 173.0, 285.0, 361.0, 244.0, 180.0, 383.0, 290.0, 260.0, 197.0, 544.0, 106.0, 304.0, 163.0, 341.0, 255.0, 236.0, 103.0], 'LMe_3.asc': [152.0, 162.0, 161.0, 447.0, 374.0, 225.0, 113.0, 235.0, 278.0, 201.0, 380.0, 232.0, 228.0, 241.0, 247.0, 120.0, 248.0, 117.0, 276.0, 161.0, 104.0, 280.0, 423.0, 484.0, 293.0, 90.0, 253.0, 219.0, 222.0, 243.0, 241.0, 91.0, 290.0, 125.0, 302.0, 383.0], 'LMe_38.asc': [268.0, 208.0, 483.0, 191.0, 185.0, 170.0, 189.0, 302.0, 253.0, 196.0, 351.0, 84.0, 170.0, 190.0, 261.0, 252.0, 275.0, 405.0, 150.0, 167.0, 328.0, 719.0, 220.0, 275.0, 130.0, 237.0, 190.0, 110.0, 326.0, 63.0, 522.0, 123.0, 147.0, 152.0, 183.0, 130.0], 'LMe_39.asc': [298.0, 129.0, 416.0, 153.0, 203.0, 368.0, 197.0, 212.0, 240.0, 330.0, 100.0, 317.0, 256.0, 251.0, 118.0, 198.0, 150.0, 224.0, 283.0, 317.0, 379.0, 376.0, 169.0, 294.0, 135.0, 481.0, 276.0, 131.0, 205.0, 214.0, 270.0, 256.0, 460.0, 64.0], 'LMe_42.asc': [143.0, 241.0, 181.0, 173.0, 290.0, 140.0, 208.0, 198.0, 456.0, 255.0, 133.0, 246.0, 259.0, 283.0, 191.0, 171.0, 385.0, 109.0, 31.0, 323.0, 269.0, 143.0, 226.0, 295.0, 258.0, 153.0, 172.0, 397.0, 281.0, 203.0, 308.0, 347.0, 155.0, 159.0, 190.0, 261.0, 141.0, 102.0], 'LMe_6.asc': [56.0, 184.0, 175.0, 354.0, 235.0, 164.0, 311.0, 218.0, 193.0, 136.0, 258.0, 204.0, 215.0, 211.0, 142.0, 184.0, 337.0, 71.0, 42.0, 73.0, 179.0, 228.0, 289.0, 136.0, 309.0, 241.0, 255.0, 193.0, 126.0, 207.0, 178.0, 151.0, 169.0, 309.0, 47.0, 184.0, 107.0, 238.0, 479.0, 355.0, 156.0, 43.0]}, 'living88.jpg': {'LMe_2.asc': [156.0, 220.0, 228.0, 306.0, 290.0, 170.0, 178.0, 259.0, 97.0, 630.0, 318.0, 233.0, 213.0, 361.0, 273.0, 184.0, 290.0, 335.0, 213.0, 217.0, 221.0, 324.0, 219.0, 310.0, 172.0, 514.0, 217.0, 236.0, 233.0, 198.0, 285.0, 230.0, 270.0], 'LMe_3.asc': [187.0, 153.0, 168.0, 300.0, 277.0, 384.0, 206.0, 146.0, 154.0, 95.0, 140.0, 96.0, 172.0, 286.0, 157.0, 110.0, 180.0, 231.0, 261.0, 204.0, 364.0, 186.0, 453.0, 198.0, 268.0, 297.0, 283.0, 744.0, 282.0, 202.0, 124.0, 123.0, 232.0, 192.0, 321.0, 164.0, 183.0], 'LMe_38.asc': [148.0, 285.0, 245.0, 285.0, 164.0, 236.0, 193.0, 359.0, 176.0, 270.0, 270.0, 275.0, 212.0, 230.0, 167.0, 163.0, 247.0, 509.0, 330.0, 542.0, 286.0, 290.0, 294.0, 37.0, 88.0, 301.0, 148.0, 177.0, 140.0, 318.0, 172.0, 200.0, 261.0, 148.0, 115.0, 238.0], 'LMe_39.asc': [291.0, 276.0, 91.0, 248.0, 241.0, 178.0, 135.0, 210.0, 191.0, 515.0, 129.0, 136.0, 132.0, 174.0, 381.0, 208.0, 363.0, 227.0, 172.0, 271.0, 386.0, 286.0, 90.0, 244.0, 258.0, 149.0, 130.0, 338.0, 148.0, 171.0, 264.0, 47.0, 91.0, 114.0, 346.0, 309.0, 434.0, 125.0, 58.0], 'LMe_42.asc': [155.0, 212.0, 137.0, 207.0, 117.0, 252.0, 125.0, 83.0, 180.0, 233.0, 364.0, 327.0, 112.0, 222.0, 131.0, 290.0, 81.0, 373.0, 275.0, 198.0, 314.0, 176.0, 243.0, 253.0, 324.0, 262.0, 582.0, 130.0, 244.0, 171.0, 259.0, 252.0, 202.0, 406.0, 190.0, 249.0, 37.0], 'LMe_6.asc': [44.0, 243.0, 644.0, 164.0, 138.0, 366.0, 225.0, 729.0, 237.0, 286.0, 280.0, 207.0, 159.0, 107.0, 236.0, 117.0, 77.0, 336.0, 493.0, 190.0, 124.0, 293.0, 128.0, 471.0, 285.0, 400.0, 126.0, 107.0, 46.0, 106.0, 132.0, 177.0, 106.0, 281.0, 116.0, 221.0, 123.0]}, 'kitchen137.jpg': {'LMe_2.asc': [157.0, 162.0, 375.0, 199.0, 216.0, 240.0, 228.0, 283.0, 557.0, 373.0, 204.0, 221.0, 406.0, 225.0, 185.0, 293.0, 217.0, 286.0, 201.0, 186.0, 213.0, 143.0, 78.0, 169.0, 294.0, 204.0, 241.0, 225.0, 230.0, 140.0, 313.0, 146.0, 323.0, 459.0, 198.0, 53.0], 'LMe_3.asc': [125.0, 288.0, 106.0, 214.0, 309.0, 204.0, 293.0, 157.0, 182.0, 139.0, 233.0, 198.0, 195.0, 140.0, 208.0, 121.0, 156.0, 141.0, 149.0, 208.0, 191.0, 242.0, 271.0, 160.0, 153.0, 201.0, 80.0, 333.0, 303.0, 369.0, 252.0, 293.0, 273.0, 229.0, 288.0, 312.0, 474.0, 281.0, 53.0], 'LMe_38.asc': [157.0, 210.0, 153.0, 279.0, 178.0, 253.0, 167.0, 133.0, 206.0, 269.0, 226.0, 112.0, 226.0, 151.0, 165.0, 365.0, 142.0, 248.0, 147.0, 274.0, 211.0, 103.0, 289.0, 148.0, 266.0, 166.0, 148.0, 319.0, 146.0, 207.0, 435.0, 388.0, 197.0, 269.0, 289.0, 221.0, 404.0, 48.0], 'LMe_39.asc': [148.0, 156.0, 216.0, 211.0, 498.0, 241.0, 209.0, 143.0, 162.0, 219.0, 263.0, 100.0, 408.0, 294.0, 104.0, 65.0, 247.0, 235.0, 312.0, 227.0, 287.0, 174.0, 282.0, 126.0, 302.0, 223.0, 205.0, 319.0, 135.0, 219.0, 431.0, 244.0, 262.0, 306.0, 316.0, 87.0], 'LMe_42.asc': [], 'LMe_6.asc': [222.0, 185.0, 126.0, 265.0, 76.0, 224.0, 196.0, 146.0, 169.0, 277.0, 284.0, 249.0, 114.0, 136.0, 225.0, 266.0, 330.0, 237.0, 187.0, 281.0, 248.0, 171.0, 166.0, 89.0, 224.0, 208.0, 296.0, 192.0, 208.0, 280.0, 211.0, 217.0, 292.0, 127.0, 319.0, 135.0, 211.0, 302.0, 177.0, 152.0, 36.0]}, 'living71.jpg': {'LMe_2.asc': [187.0, 77.0, 259.0, 343.0, 378.0, 425.0, 301.0, 108.0, 265.0, 431.0, 154.0, 384.0, 143.0, 419.0, 202.0, 236.0, 158.0, 175.0, 193.0, 110.0, 274.0, 354.0, 313.0, 439.0, 197.0, 122.0, 250.0, 303.0, 250.0, 142.0, 367.0, 398.0, 76.0], 'LMe_3.asc': [121.0, 160.0, 96.0, 161.0, 293.0, 181.0, 237.0, 239.0, 82.0, 98.0, 209.0, 215.0, 383.0, 166.0, 234.0, 194.0, 131.0, 332.0, 151.0, 153.0, 126.0, 225.0, 229.0, 242.0, 201.0, 234.0, 247.0, 180.0, 251.0, 382.0, 219.0, 202.0, 194.0, 356.0, 308.0, 294.0, 720.0], 'LMe_38.asc': [216.0, 139.0, 177.0, 108.0, 171.0, 151.0, 282.0, 327.0, 254.0, 143.0, 120.0, 192.0, 151.0, 159.0, 303.0, 415.0, 409.0, 374.0, 254.0, 121.0, 286.0, 50.0, 184.0, 354.0, 129.0, 102.0, 103.0, 145.0, 205.0, 160.0, 331.0, 288.0, 256.0, 145.0, 241.0, 306.0, 384.0, 78.0], 'LMe_39.asc': [125.0, 246.0, 64.0, 273.0, 234.0, 269.0, 315.0, 175.0, 362.0, 209.0, 97.0, 308.0, 285.0, 110.0, 383.0, 292.0, 426.0, 177.0, 299.0, 898.0, 176.0, 317.0, 405.0, 286.0, 518.0, 1393.0], 'LMe_42.asc': [45.0, 75.0, 107.0, 262.0, 153.0, 235.0, 290.0, 258.0, 351.0, 265.0, 118.0, 318.0, 169.0, 302.0, 217.0, 199.0, 335.0, 255.0, 251.0, 156.0, 452.0, 146.0, 528.0, 143.0, 138.0, 364.0, 110.0, 104.0, 185.0, 490.0, 246.0, 120.0, 102.0, 221.0, 144.0, 304.0, 32.0, 19.0], 'LMe_6.asc': [70.0, 150.0, 189.0, 119.0, 171.0, 191.0, 197.0, 333.0, 29.0, 263.0, 253.0, 144.0, 305.0, 199.0, 322.0, 149.0, 169.0, 169.0, 225.0, 145.0, 282.0, 683.0, 161.0, 322.0, 279.0, 194.0, 202.0, 184.0, 202.0, 284.0, 345.0, 279.0, 320.0, 175.0, 212.0, 272.0, 195.0, 71.0]}, 'pittsburgh_IMG_4078.jpg': {'LMe_2.asc': [118.0, 182.0, 75.0, 285.0, 375.0, 469.0, 185.0, 413.0, 45.0, 151.0, 203.0, 325.0, 185.0, 178.0, 269.0, 154.0, 252.0, 241.0, 103.0, 163.0, 225.0, 140.0, 239.0, 1475.0, 1035.0, 769.0, 694.0], 'LMe_3.asc': [124.0, 143.0, 320.0, 245.0, 186.0, 243.0, 123.0, 308.0, 190.0, 110.0, 222.0, 389.0, 509.0, 174.0, 153.0, 243.0, 341.0, 389.0, 567.0, 163.0, 146.0, 486.0, 424.0, 142.0, 310.0, 88.0, 244.0, 194.0, 322.0, 393.0, 345.0], 'LMe_38.asc': [175.0, 184.0, 185.0, 181.0, 585.0, 167.0, 198.0, 104.0, 485.0, 243.0, 163.0, 184.0, 318.0, 146.0, 324.0, 280.0, 195.0, 179.0, 147.0, 192.0, 267.0, 160.0, 237.0, 136.0, 784.0, 2277.0], 'LMe_39.asc': [144.0, 115.0, 210.0, 130.0, 178.0, 298.0, 237.0, 165.0, 177.0, 224.0, 117.0, 226.0, 158.0, 324.0, 252.0, 286.0, 367.0, 304.0, 163.0, 32.0, 558.0, 4314.0], 'LMe_42.asc': [205.0, 72.0, 149.0, 230.0, 668.0, 205.0, 485.0, 150.0, 215.0, 155.0, 220.0, 172.0, 282.0, 150.0, 172.0, 289.0, 122.0, 526.0, 245.0, 964.0, 146.0, 285.0, 268.0, 350.0, 181.0, 89.0, 126.0, 106.0, 243.0, 132.0], 'LMe_6.asc': [157.0, 120.0, 308.0, 243.0, 437.0, 332.0, 223.0, 326.0, 171.0, 63.0, 103.0, 214.0, 547.0, 499.0, 559.0, 473.0, 272.0, 126.0, 184.0, 165.0, 282.0, 148.0, 219.0, 193.0, 439.0, 211.0, 159.0, 221.0, 280.0, 392.0, 310.0]}, 'kitchen78.jpg': {'LMe_2.asc': [151.0, 77.0, 523.0, 98.0, 202.0, 97.0, 172.0, 188.0, 182.0, 236.0, 160.0, 213.0, 168.0, 196.0, 267.0, 146.0, 239.0, 270.0, 184.0, 142.0, 213.0, 259.0, 118.0, 231.0, 137.0, 267.0, 179.0, 332.0, 524.0, 287.0, 251.0, 515.0, 340.0, 344.0, 179.0, 349.0], 'LMe_3.asc': [133.0, 126.0, 201.0, 154.0, 376.0, 298.0, 164.0, 104.0, 184.0, 184.0, 210.0, 73.0, 130.0, 138.0, 483.0, 360.0, 250.0, 208.0, 194.0, 207.0, 303.0, 153.0, 301.0, 34.0, 258.0, 516.0, 523.0, 811.0, 196.0, 173.0, 175.0, 518.0, 149.0, 270.0, 107.0], 'LMe_38.asc': [178.0, 204.0, 428.0, 421.0, 197.0, 289.0, 202.0, 413.0, 195.0, 227.0, 268.0, 205.0, 259.0, 521.0, 197.0, 181.0, 166.0, 184.0, 169.0, 322.0, 282.0, 203.0, 227.0, 154.0, 859.0, 456.0, 275.0, 159.0, 237.0, 211.0, 126.0, 137.0], 'LMe_39.asc': [189.0, 314.0, 186.0, 163.0, 148.0, 115.0, 343.0, 229.0, 447.0, 296.0, 233.0, 209.0, 215.0, 134.0, 273.0, 334.0, 372.0, 236.0, 167.0, 304.0, 295.0, 221.0, 89.0, 249.0, 221.0, 291.0, 344.0, 267.0, 151.0, 218.0, 244.0, 132.0, 391.0, 255.0, 203.0, 51.0], 'LMe_42.asc': [230.0, 193.0, 205.0, 250.0, 216.0, 130.0, 382.0, 253.0, 199.0, 276.0, 285.0, 247.0, 229.0, 169.0, 308.0, 236.0, 308.0, 208.0, 192.0, 190.0, 161.0, 263.0, 158.0, 287.0, 252.0, 166.0, 198.0, 351.0, 131.0, 211.0, 278.0, 229.0, 394.0, 147.0], 'LMe_6.asc': [154.0, 228.0, 208.0, 130.0, 233.0, 136.0, 162.0, 239.0, 53.0, 187.0, 198.0, 147.0, 157.0, 188.0, 142.0, 116.0, 221.0, 248.0, 267.0, 112.0, 156.0, 153.0, 341.0, 184.0, 89.0, 160.0, 156.0, 175.0, 163.0, 120.0, 263.0, 189.0, 968.0, 272.0, 146.0, 143.0, 181.0, 173.0, 569.0, 224.0, 68.0]}, 'living29.jpg': {'LMe_2.asc': [126.0, 151.0, 343.0, 390.0, 214.0, 347.0, 448.0, 231.0, 198.0, 135.0, 195.0, 286.0, 95.0, 104.0, 183.0, 282.0, 87.0, 105.0, 295.0, 225.0, 316.0, 296.0, 533.0, 163.0, 241.0, 145.0, 240.0, 1846.0, 159.0, 252.0], 'LMe_3.asc': [25.0, 159.0, 114.0, 321.0, 167.0, 286.0, 211.0, 190.0, 160.0, 191.0, 154.0, 312.0, 177.0, 306.0, 189.0, 203.0, 265.0, 247.0, 173.0, 257.0, 102.0, 132.0, 329.0, 171.0, 143.0, 215.0, 435.0, 162.0, 132.0, 281.0, 150.0, 205.0, 320.0, 196.0, 244.0, 274.0, 241.0, 775.0], 'LMe_38.asc': [129.0, 269.0, 233.0, 133.0, 190.0, 219.0, 409.0, 258.0, 266.0, 150.0, 151.0, 138.0, 86.0, 427.0, 183.0, 325.0, 199.0, 336.0, 186.0, 322.0, 390.0, 212.0, 231.0, 121.0, 552.0, 194.0, 173.0, 146.0, 187.0, 158.0, 375.0, 185.0, 151.0, 298.0, 88.0], 'LMe_39.asc': [138.0, 131.0, 187.0, 346.0, 271.0, 96.0, 140.0, 255.0, 501.0, 235.0, 477.0, 272.0, 170.0, 321.0, 89.0, 219.0, 253.0, 310.0, 206.0, 179.0, 256.0, 134.0, 90.0, 163.0, 165.0, 203.0, 139.0, 275.0, 172.0, 250.0, 262.0, 442.0, 363.0, 598.0], 'LMe_42.asc': [], 'LMe_6.asc': [226.0, 28.0, 187.0, 212.0, 103.0, 153.0, 261.0, 154.0, 414.0, 414.0, 479.0, 244.0, 161.0, 476.0, 25.0, 235.0, 545.0, 161.0, 164.0, 601.0, 244.0, 124.0, 275.0, 166.0, 235.0, 94.0, 147.0, 145.0, 70.0, 241.0, 264.0, 225.0, 151.0, 129.0, 158.0, 164.0, 225.0, 100.0]}, 'restaurant36.jpg': {'LMe_2.asc': [153.0, 147.0, 101.0, 154.0, 413.0, 196.0, 266.0, 212.0, 244.0, 219.0, 234.0, 141.0, 365.0, 269.0, 93.0, 127.0, 232.0, 597.0, 333.0, 465.0, 512.0, 326.0, 142.0, 186.0, 513.0, 256.0, 249.0, 266.0, 317.0, 234.0, 192.0, 302.0, 297.0], 'LMe_3.asc': [175.0, 156.0, 163.0, 697.0, 220.0, 165.0, 118.0, 118.0, 419.0, 216.0, 265.0, 189.0, 120.0, 329.0, 154.0, 267.0, 176.0, 156.0, 148.0, 243.0, 303.0, 246.0, 255.0, 190.0, 245.0, 323.0, 281.0, 219.0, 177.0, 561.0, 152.0, 212.0, 184.0, 194.0, 237.0, 175.0, 247.0], 'LMe_38.asc': [241.0, 316.0, 191.0, 207.0, 131.0, 206.0, 121.0, 170.0, 214.0, 512.0, 189.0, 214.0, 164.0, 393.0, 409.0, 285.0, 192.0, 127.0, 287.0, 205.0, 182.0, 272.0, 208.0, 219.0, 183.0, 174.0, 141.0, 515.0, 598.0, 1029.0], 'LMe_39.asc': [132.0, 250.0, 40.0, 547.0, 213.0, 206.0, 460.0, 277.0, 332.0, 333.0, 403.0, 716.0, 256.0, 191.0, 258.0, 261.0, 253.0, 2134.0, 189.0, 293.0, 97.0, 249.0, 270.0, 414.0], 'LMe_42.asc': [], 'LMe_6.asc': [200.0, 271.0, 207.0, 125.0, 236.0, 228.0, 121.0, 198.0, 214.0, 275.0, 329.0, 147.0, 230.0, 215.0, 141.0, 187.0, 162.0, 307.0, 120.0, 188.0, 184.0, 170.0, 200.0, 183.0, 409.0, 260.0, 169.0, 179.0, 242.0, 312.0, 188.0, 21.0, 279.0, 252.0, 153.0, 227.0, 165.0, 384.0, 195.0, 46.0]}, 'living14.jpg': {'LMe_2.asc': [129.0, 87.0, 188.0, 155.0, 279.0, 361.0, 236.0, 291.0, 250.0, 239.0, 197.0, 252.0, 195.0, 248.0, 169.0, 112.0, 153.0, 140.0, 233.0, 331.0, 186.0, 374.0, 385.0, 252.0, 156.0, 297.0, 201.0, 157.0, 251.0, 160.0, 405.0, 326.0, 156.0, 311.0, 178.0, 213.0, 322.0], 'LMe_3.asc': [117.0, 109.0, 148.0, 193.0, 140.0, 225.0, 154.0, 106.0, 302.0, 233.0, 162.0, 347.0, 337.0, 259.0, 277.0, 141.0, 160.0, 316.0, 330.0, 280.0, 311.0, 253.0, 493.0, 126.0, 176.0, 149.0, 340.0, 238.0, 345.0, 336.0, 549.0, 161.0, 109.0, 382.0, 283.0], 'LMe_38.asc': [172.0, 188.0, 93.0, 508.0, 262.0, 212.0, 239.0, 287.0, 180.0, 449.0, 273.0, 241.0, 221.0, 174.0, 226.0, 212.0, 207.0, 293.0, 371.0, 266.0, 251.0, 142.0, 230.0, 144.0, 171.0, 206.0, 169.0, 182.0, 149.0, 321.0, 204.0, 241.0, 264.0, 558.0, 73.0], 'LMe_39.asc': [186.0, 172.0, 159.0, 228.0, 296.0, 283.0, 206.0, 195.0, 285.0, 251.0, 205.0, 214.0, 303.0, 196.0, 239.0, 174.0, 209.0, 297.0, 249.0, 374.0, 236.0, 348.0, 105.0, 80.0, 141.0, 352.0, 215.0, 258.0, 345.0, 362.0, 232.0, 835.0], 'LMe_42.asc': [195.0, 190.0, 461.0, 186.0, 221.0, 128.0, 198.0, 255.0, 336.0, 282.0, 210.0, 267.0, 157.0, 156.0, 175.0, 119.0, 145.0, 139.0, 109.0, 268.0, 186.0, 296.0, 529.0, 237.0, 48.0, 174.0, 182.0, 309.0, 267.0, 141.0, 251.0, 276.0, 191.0, 190.0, 176.0], 'LMe_6.asc': [189.0, 151.0, 258.0, 162.0, 110.0, 201.0, 276.0, 144.0, 281.0, 339.0, 909.0, 140.0, 240.0, 373.0, 297.0, 241.0, 159.0, 203.0, 159.0, 202.0, 278.0, 232.0, 145.0, 220.0, 322.0, 238.0, 198.0, 130.0, 263.0, 88.0, 270.0, 171.0, 103.0, 83.0, 72.0, 479.0, 298.0, 97.0]}, 'living53.jpg': {'LMe_2.asc': [483.0, 156.0, 193.0, 133.0, 265.0, 120.0, 299.0, 154.0, 141.0, 183.0, 265.0, 236.0, 284.0, 323.0, 353.0, 195.0, 936.0, 413.0, 3899.0], 'LMe_3.asc': [240.0, 248.0, 112.0, 212.0, 121.0, 179.0, 103.0, 150.0, 533.0, 422.0, 569.0, 308.0, 611.0, 314.0, 482.0, 386.0, 269.0, 146.0, 248.0, 268.0, 179.0, 179.0, 139.0, 149.0, 269.0, 577.0, 339.0, 323.0, 687.0, 128.0], 'LMe_38.asc': [160.0, 299.0, 213.0, 259.0, 195.0, 229.0, 139.0, 374.0, 320.0, 168.0, 161.0, 370.0, 659.0, 271.0, 247.0, 246.0, 190.0, 267.0, 457.0, 274.0, 120.0, 319.0, 202.0, 343.0, 353.0, 343.0, 234.0, 148.0, 174.0, 402.0, 69.0], 'LMe_39.asc': [154.0, 146.0, 318.0, 248.0, 222.0, 219.0, 99.0, 169.0, 246.0, 166.0, 201.0, 226.0, 127.0, 453.0, 378.0, 290.0, 734.0, 241.0, 196.0, 277.0, 479.0, 67.0, 53.0, 266.0, 410.0, 363.0, 243.0, 250.0, 137.0, 333.0, 569.0, 108.0, 77.0], 'LMe_42.asc': [322.0, 162.0, 212.0, 228.0, 376.0, 222.0, 267.0, 240.0, 114.0, 149.0, 151.0, 84.0, 243.0, 308.0, 322.0, 458.0, 323.0, 964.0, 363.0, 306.0, 290.0, 185.0, 679.0, 83.0, 114.0, 251.0, 415.0, 282.0, 402.0, 145.0], 'LMe_6.asc': [24.0, 118.0, 192.0, 263.0, 196.0, 265.0, 66.0, 223.0, 337.0, 161.0, 201.0, 214.0, 142.0, 329.0, 201.0, 173.0, 128.0, 225.0, 196.0, 271.0, 99.0, 157.0, 265.0, 191.0, 176.0, 121.0, 134.0, 234.0, 415.0, 210.0, 274.0, 86.0, 357.0, 272.0, 267.0, 276.0, 429.0, 279.0]}, 'dining008.jpg': {'LMe_2.asc': [104.0, 175.0, 355.0, 252.0, 158.0, 471.0, 185.0, 197.0, 169.0, 208.0, 151.0, 227.0, 199.0, 189.0, 169.0, 235.0, 604.0, 130.0, 124.0, 371.0, 168.0, 273.0, 236.0, 265.0, 223.0, 262.0, 150.0, 182.0, 207.0, 129.0, 272.0, 932.0, 184.0, 180.0], 'LMe_3.asc': [132.0, 209.0, 145.0, 250.0, 132.0, 156.0, 50.0, 158.0, 214.0, 185.0, 189.0, 132.0, 256.0, 276.0, 281.0, 241.0, 251.0, 139.0, 148.0, 1854.0, 176.0, 933.0, 503.0, 163.0, 121.0, 190.0, 417.0, 262.0, 153.0, 255.0, 130.0], 'LMe_38.asc': [108.0, 253.0, 261.0, 191.0, 452.0, 213.0, 159.0, 188.0, 179.0, 287.0, 229.0, 248.0, 147.0, 129.0, 475.0, 103.0, 471.0, 414.0, 205.0, 151.0, 156.0, 346.0, 181.0, 474.0, 213.0, 198.0, 223.0, 476.0, 99.0, 164.0, 536.0, 420.0], 'LMe_39.asc': [99.0, 235.0, 149.0, 131.0, 206.0, 242.0, 247.0, 21.0, 286.0, 376.0, 268.0, 306.0, 190.0, 496.0, 183.0, 325.0, 177.0, 343.0, 117.0, 206.0, 368.0, 475.0, 487.0, 539.0, 2088.0], 'LMe_42.asc': [31.0, 33.0, 89.0, 306.0, 234.0, 190.0, 193.0, 144.0, 297.0, 315.0, 186.0, 134.0, 185.0, 189.0, 235.0, 150.0, 482.0, 230.0, 167.0, 139.0, 314.0, 101.0, 226.0, 331.0, 199.0, 159.0, 334.0, 178.0, 225.0, 232.0, 365.0, 191.0, 298.0, 154.0, 248.0, 33.0, 97.0, 68.0], 'LMe_6.asc': [144.0, 53.0, 111.0, 142.0, 206.0, 213.0, 192.0, 283.0, 157.0, 51.0, 182.0, 107.0, 294.0, 322.0, 229.0, 256.0, 128.0, 325.0, 126.0, 508.0, 176.0, 322.0, 250.0, 166.0, 204.0, 390.0, 224.0, 395.0, 333.0, 759.0, 214.0, 137.0, 240.0, 172.0, 188.0, 333.0, 93.0]}, 'dining013.jpg': {'LMe_2.asc': [126.0, 182.0, 218.0, 343.0, 226.0, 285.0, 247.0, 220.0, 262.0, 232.0, 153.0, 286.0, 344.0, 291.0, 237.0, 330.0, 174.0, 447.0, 47.0, 217.0, 215.0, 195.0, 173.0, 233.0, 191.0, 65.0, 282.0, 195.0, 265.0, 218.0, 106.0, 576.0, 262.0, 196.0, 72.0, 259.0, 163.0, 224.0], 'LMe_3.asc': [160.0, 117.0, 121.0, 169.0, 227.0, 312.0, 692.0, 189.0, 216.0, 314.0, 130.0, 192.0, 302.0, 552.0, 106.0, 166.0, 153.0, 245.0, 183.0, 147.0, 139.0, 212.0, 213.0, 104.0, 200.0, 282.0, 354.0, 268.0, 382.0, 224.0, 310.0, 216.0, 186.0, 290.0, 274.0, 338.0], 'LMe_38.asc': [163.0, 408.0, 542.0, 308.0, 618.0, 185.0, 305.0, 399.0, 157.0, 158.0, 278.0, 295.0, 389.0, 144.0, 200.0, 149.0, 401.0, 303.0, 328.0, 158.0, 193.0, 203.0, 144.0, 319.0, 258.0, 233.0, 257.0, 149.0, 165.0, 126.0, 115.0, 326.0, 399.0], 'LMe_39.asc': [201.0, 146.0, 185.0, 405.0, 291.0, 152.0, 78.0, 335.0, 157.0, 152.0, 211.0, 156.0, 172.0, 390.0, 263.0, 196.0, 182.0, 188.0, 239.0, 295.0, 164.0, 198.0, 241.0, 351.0, 192.0, 161.0, 177.0, 252.0, 127.0, 483.0, 189.0, 262.0, 224.0, 299.0, 308.0, 267.0, 244.0, 139.0], 'LMe_42.asc': [], 'LMe_6.asc': [81.0, 118.0, 300.0, 125.0, 110.0, 271.0, 330.0, 86.0, 353.0, 197.0, 198.0, 194.0, 157.0, 114.0, 539.0, 263.0, 271.0, 299.0, 164.0, 234.0, 141.0, 158.0, 235.0, 335.0, 236.0, 265.0, 189.0, 127.0, 188.0, 138.0, 290.0, 187.0, 263.0, 168.0, 202.0, 239.0, 408.0, 188.0, 263.0, 123.0]}, 'Restaurant14.jpg': {'LMe_2.asc': [341.0, 181.0, 133.0, 162.0, 173.0, 178.0, 161.0, 112.0, 251.0, 824.0, 172.0, 318.0, 122.0, 221.0, 386.0, 40.0, 200.0, 270.0, 223.0, 300.0, 349.0, 185.0, 289.0, 193.0, 174.0, 267.0, 260.0, 275.0, 366.0, 313.0, 226.0, 708.0, 31.0], 'LMe_3.asc': [124.0, 171.0, 446.0, 300.0, 137.0, 144.0, 190.0, 210.0, 195.0, 139.0, 189.0, 422.0, 372.0, 335.0, 884.0, 366.0, 647.0, 602.0, 388.0, 513.0, 206.0, 157.0, 271.0, 297.0, 230.0, 380.0, 294.0, 141.0, 143.0], 'LMe_38.asc': [248.0, 182.0, 131.0, 261.0, 335.0, 1436.0, 136.0, 229.0, 169.0, 243.0, 145.0, 216.0, 251.0, 165.0, 265.0, 346.0, 250.0, 275.0, 215.0, 306.0, 307.0, 222.0, 429.0, 231.0, 93.0, 620.0, 241.0, 357.0, 232.0], 'LMe_39.asc': [202.0, 200.0, 77.0, 177.0, 135.0, 95.0, 145.0, 287.0, 297.0, 283.0, 244.0, 398.0, 217.0, 261.0, 234.0, 324.0, 280.0, 308.0, 257.0, 148.0, 421.0, 461.0, 211.0, 214.0, 224.0, 142.0, 203.0, 196.0, 435.0, 220.0, 243.0, 314.0, 322.0, 190.0], 'LMe_42.asc': [], 'LMe_6.asc': [240.0, 256.0, 209.0, 108.0, 153.0, 233.0, 130.0, 319.0, 130.0, 225.0, 48.0, 372.0, 175.0, 246.0, 95.0, 134.0, 104.0, 259.0, 37.0, 221.0, 103.0, 261.0, 158.0, 299.0, 303.0, 160.0, 111.0, 181.0, 201.0, 298.0, 132.0, 285.0, 335.0, 367.0, 112.0, 270.0, 228.0, 303.0, 275.0, 220.0]}, 'IMG_1081.jpg': {'LMe_2.asc': [177.0, 172.0, 260.0, 129.0, 142.0, 128.0, 507.0, 160.0, 217.0, 207.0, 231.0, 205.0, 202.0, 168.0, 152.0, 195.0, 760.0, 555.0, 268.0, 235.0, 307.0, 320.0, 230.0, 226.0, 282.0, 246.0, 234.0, 316.0, 238.0, 350.0, 260.0, 373.0], 'LMe_3.asc': [150.0, 113.0, 155.0, 160.0, 311.0, 956.0, 159.0, 230.0, 263.0, 113.0, 324.0, 303.0, 628.0, 198.0, 471.0, 224.0, 171.0, 158.0, 166.0, 175.0, 384.0, 201.0, 585.0, 626.0, 1676.0], 'LMe_38.asc': [171.0, 274.0, 168.0, 300.0, 190.0, 190.0, 537.0, 234.0, 271.0, 374.0, 308.0, 344.0, 200.0, 88.0, 312.0, 142.0, 249.0, 263.0, 376.0, 303.0, 700.0, 450.0, 371.0, 311.0, 303.0, 498.0, 124.0, 201.0, 67.0], 'LMe_39.asc': [233.0, 115.0, 215.0, 158.0, 62.0, 205.0, 136.0, 316.0, 359.0, 280.0, 228.0, 130.0, 207.0, 190.0, 222.0, 301.0, 284.0, 303.0, 146.0, 243.0, 180.0, 137.0, 295.0, 165.0, 116.0, 244.0, 336.0, 231.0, 288.0, 154.0, 178.0, 176.0, 100.0, 188.0, 362.0, 400.0], 'LMe_42.asc': [128.0, 193.0, 199.0, 190.0, 251.0, 260.0, 191.0, 73.0, 161.0, 148.0, 173.0, 481.0, 141.0, 226.0, 239.0, 232.0, 196.0, 368.0, 295.0, 83.0, 289.0, 191.0, 710.0, 148.0, 135.0, 139.0, 105.0, 308.0, 336.0, 185.0, 197.0, 287.0, 186.0, 63.0], 'LMe_6.asc': [178.0, 106.0, 197.0, 290.0, 169.0, 212.0, 201.0, 113.0, 130.0, 223.0, 90.0, 479.0, 605.0, 382.0, 269.0, 679.0, 191.0, 403.0, 276.0, 147.0, 145.0, 179.0, 53.0, 305.0, 988.0, 454.0, 130.0, 238.0, 241.0, 156.0, 222.0]}, 'office_13.jpg': {'LMe_2.asc': [146.0, 66.0, 196.0, 210.0, 217.0, 129.0, 174.0, 239.0, 112.0, 141.0, 273.0, 184.0, 255.0, 239.0, 79.0, 67.0, 198.0, 217.0, 118.0, 164.0, 177.0, 276.0, 286.0, 215.0, 251.0, 184.0, 157.0, 220.0, 313.0, 307.0, 106.0, 201.0, 140.0, 309.0, 296.0, 380.0, 297.0, 244.0, 286.0, 300.0, 90.0], 'LMe_3.asc': [392.0, 181.0, 184.0, 358.0, 145.0, 135.0, 124.0, 233.0, 248.0, 138.0, 199.0, 182.0, 468.0, 148.0, 194.0, 182.0, 215.0, 190.0, 255.0, 229.0, 154.0, 244.0, 177.0, 386.0, 214.0, 179.0, 213.0, 177.0, 196.0, 189.0, 162.0, 189.0, 163.0, 227.0, 174.0, 204.0, 246.0, 239.0, 156.0, 80.0], 'LMe_38.asc': [283.0, 271.0, 157.0, 152.0, 301.0, 197.0, 208.0, 58.0, 228.0, 69.0, 327.0, 114.0, 283.0, 199.0, 236.0, 143.0, 229.0, 287.0, 172.0, 208.0, 298.0, 349.0, 257.0, 219.0, 229.0, 305.0, 385.0, 345.0, 176.0, 232.0, 131.0, 138.0, 168.0, 264.0, 204.0, 273.0, 223.0, 62.0], 'LMe_39.asc': [260.0, 174.0, 208.0, 237.0, 249.0, 258.0, 277.0, 203.0, 295.0, 150.0, 275.0, 334.0, 172.0, 168.0, 221.0, 284.0, 236.0, 189.0, 267.0, 115.0, 389.0, 321.0, 195.0, 185.0, 135.0, 194.0, 280.0, 183.0, 382.0, 216.0, 148.0, 90.0, 286.0, 154.0, 350.0, 209.0, 167.0], 'LMe_42.asc': [160.0, 178.0, 273.0, 168.0, 305.0, 121.0, 122.0, 230.0, 423.0, 193.0, 266.0, 136.0, 19.0, 138.0, 119.0, 331.0, 256.0, 290.0, 482.0, 146.0, 99.0, 179.0, 193.0, 196.0, 248.0, 295.0, 181.0, 209.0, 250.0, 124.0, 270.0, 118.0, 118.0, 239.0, 169.0, 305.0, 274.0, 141.0, 91.0], 'LMe_6.asc': [172.0, 208.0, 18.0, 331.0, 118.0, 290.0, 122.0, 261.0, 259.0, 193.0, 191.0, 189.0, 270.0, 305.0, 260.0, 22.0, 366.0, 87.0, 263.0, 130.0, 399.0, 140.0, 287.0, 618.0, 138.0, 195.0, 338.0, 440.0, 699.0, 150.0, 177.0, 954.0, 149.0]}, 'kitchen99.jpg': {'LMe_2.asc': [170.0, 188.0, 221.0, 166.0, 327.0, 187.0, 180.0, 224.0, 264.0, 84.0, 282.0, 522.0, 195.0, 272.0, 307.0, 211.0, 389.0, 109.0, 193.0, 299.0, 327.0, 441.0, 309.0, 148.0, 432.0, 165.0, 164.0, 564.0, 273.0, 157.0, 316.0, 234.0, 163.0, 255.0], 'LMe_3.asc': [145.0, 153.0, 209.0, 276.0, 114.0, 141.0, 221.0, 188.0, 251.0, 286.0, 178.0, 205.0, 161.0, 149.0, 268.0, 583.0, 496.0, 269.0, 265.0, 441.0, 360.0, 259.0, 259.0, 353.0, 337.0, 210.0, 283.0, 335.0, 869.0, 265.0, 359.0, 106.0], 'LMe_38.asc': [198.0, 304.0, 239.0, 206.0, 169.0, 190.0, 269.0, 350.0, 298.0, 172.0, 202.0, 149.0, 245.0, 78.0, 135.0, 232.0, 357.0, 91.0, 306.0, 196.0, 193.0, 142.0, 178.0, 229.0, 221.0, 195.0, 249.0, 192.0, 249.0, 104.0, 314.0, 199.0, 190.0, 158.0, 255.0, 334.0, 31.0], 'LMe_39.asc': [169.0, 204.0, 203.0, 199.0, 285.0, 193.0, 215.0, 108.0, 187.0, 146.0, 173.0, 266.0, 202.0, 196.0, 291.0, 180.0, 224.0, 153.0, 209.0, 222.0, 142.0, 143.0, 287.0, 765.0, 195.0, 176.0, 162.0, 167.0, 552.0, 1366.0, 195.0, 288.0], 'LMe_42.asc': [], 'LMe_6.asc': [49.0, 194.0, 280.0, 207.0, 280.0, 306.0, 196.0, 245.0, 278.0, 119.0, 178.0, 225.0, 177.0, 129.0, 243.0, 225.0, 381.0, 153.0, 74.0, 138.0, 171.0, 124.0, 221.0, 300.0, 165.0, 612.0, 334.0, 155.0, 210.0, 281.0, 283.0, 358.0, 253.0, 215.0, 308.0, 205.0, 41.0]}, 'living24.jpg': {'LMe_2.asc': [213.0, 169.0, 357.0, 230.0, 235.0, 303.0, 184.0, 238.0, 158.0, 683.0, 129.0, 151.0, 284.0, 173.0, 198.0, 1163.0, 177.0, 1407.0, 156.0, 175.0, 476.0, 286.0, 1519.0], 'LMe_3.asc': [74.0, 245.0, 322.0, 138.0, 227.0, 91.0, 231.0, 145.0, 198.0, 234.0, 208.0, 330.0, 445.0, 257.0, 318.0, 145.0, 202.0, 212.0, 262.0, 167.0, 179.0, 555.0, 263.0, 218.0, 184.0, 461.0, 276.0, 213.0, 211.0, 160.0, 129.0, 190.0, 303.0, 378.0, 152.0, 253.0, 86.0], 'LMe_38.asc': [216.0, 210.0, 317.0, 422.0, 354.0, 643.0, 217.0, 221.0, 148.0, 185.0, 188.0, 230.0, 225.0, 266.0, 224.0, 309.0, 253.0, 139.0, 222.0, 563.0, 150.0, 234.0, 135.0, 182.0, 140.0, 253.0, 241.0, 213.0, 291.0, 425.0, 772.0], 'LMe_39.asc': [185.0, 364.0, 128.0, 462.0, 151.0, 201.0, 356.0, 388.0, 214.0, 207.0, 344.0, 382.0, 136.0, 151.0, 133.0, 115.0, 273.0, 442.0, 231.0, 215.0, 199.0, 218.0, 311.0, 316.0, 346.0, 348.0, 237.0, 144.0, 236.0, 112.0, 129.0, 160.0, 177.0, 218.0, 227.0], 'LMe_42.asc': [], 'LMe_6.asc': [121.0, 177.0, 161.0, 220.0, 144.0, 233.0, 116.0, 140.0, 214.0, 111.0, 397.0, 397.0, 401.0, 144.0, 261.0, 137.0, 302.0, 218.0, 551.0, 191.0, 251.0, 27.0, 101.0, 254.0, 190.0, 127.0, 1254.0, 59.0, 71.0, 294.0]}, 'easyst034.jpg': {'LMe_2.asc': [89.0, 207.0, 171.0, 142.0, 185.0, 158.0, 172.0, 243.0, 439.0, 172.0, 216.0, 46.0, 211.0, 193.0, 178.0, 174.0, 205.0, 110.0, 168.0, 340.0, 293.0, 165.0, 441.0, 362.0, 186.0, 231.0, 184.0, 145.0, 146.0, 347.0, 189.0, 202.0, 299.0, 479.0, 142.0, 171.0, 137.0, 168.0, 128.0, 72.0], 'LMe_3.asc': [73.0, 201.0, 269.0, 189.0, 115.0, 270.0, 134.0, 180.0, 369.0, 310.0, 180.0, 260.0, 139.0, 164.0, 133.0, 200.0, 231.0, 211.0, 353.0, 227.0, 292.0, 186.0, 274.0, 223.0, 187.0, 244.0, 226.0, 139.0, 160.0, 153.0, 195.0, 242.0, 210.0, 125.0, 302.0, 312.0, 198.0, 513.0, 125.0], 'LMe_38.asc': [140.0, 201.0, 349.0, 329.0, 174.0, 143.0, 164.0, 188.0, 293.0, 397.0, 326.0, 307.0, 543.0, 332.0, 232.0, 170.0, 317.0, 205.0, 200.0, 208.0, 287.0, 160.0, 233.0, 255.0, 286.0, 238.0, 167.0, 441.0, 183.0, 259.0, 167.0, 157.0, 144.0, 207.0, 387.0], 'LMe_39.asc': [149.0, 175.0, 174.0, 180.0, 220.0, 132.0, 501.0, 443.0, 559.0, 143.0, 161.0, 143.0, 202.0, 313.0, 290.0, 143.0, 315.0, 274.0, 224.0, 412.0, 214.0, 178.0, 226.0, 540.0, 498.0, 398.0, 461.0, 152.0, 271.0, 331.0, 110.0], 'LMe_42.asc': [283.0, 248.0, 261.0, 307.0, 259.0, 299.0, 111.0, 205.0, 330.0, 247.0, 217.0, 289.0, 231.0, 158.0, 216.0, 174.0, 155.0, 115.0, 175.0, 283.0, 144.0, 108.0, 181.0, 205.0, 206.0, 157.0, 290.0, 466.0, 288.0, 383.0, 113.0, 123.0, 189.0, 102.0, 218.0, 146.0, 92.0], 'LMe_6.asc': [125.0, 212.0, 723.0, 282.0, 261.0, 178.0, 221.0, 226.0, 167.0, 148.0, 158.0, 208.0, 119.0, 225.0, 158.0, 228.0, 148.0, 209.0, 214.0, 358.0, 335.0, 141.0, 114.0, 187.0, 174.0, 164.0, 203.0, 309.0, 56.0, 86.0, 640.0, 193.0, 102.0, 202.0, 343.0, 163.0, 41.0, 251.0, 143.0]}, 'office.jpg': {'LMe_2.asc': [85.0, 161.0, 130.0, 247.0, 106.0, 272.0, 217.0, 86.0, 242.0, 454.0, 190.0, 205.0, 168.0, 834.0, 267.0, 205.0, 212.0, 341.0, 236.0, 490.0, 124.0, 315.0, 149.0, 223.0, 248.0, 91.0, 165.0, 427.0, 340.0, 353.0, 168.0, 158.0, 472.0, 169.0, 158.0], 'LMe_3.asc': [131.0, 188.0, 212.0, 239.0, 291.0, 103.0, 152.0, 145.0, 110.0, 435.0, 527.0, 136.0, 275.0, 217.0, 199.0, 232.0, 238.0, 289.0, 158.0, 231.0, 178.0, 255.0, 308.0, 596.0, 202.0, 394.0, 2003.0, 123.0, 355.0], 'LMe_37.asc': [268.0, 272.0, 279.0, 165.0, 242.0, 267.0, 168.0, 278.0, 215.0, 277.0, 185.0, 130.0, 135.0, 143.0, 169.0, 207.0, 242.0, 296.0, 251.0, 165.0, 171.0, 610.0, 46.0, 425.0, 152.0, 191.0, 270.0, 243.0, 262.0, 162.0, 190.0, 173.0, 237.0, 344.0, 150.0, 322.0, 189.0], 'LMe_40.asc': [144.0, 194.0, 291.0, 209.0, 326.0, 228.0, 279.0, 167.0, 200.0, 223.0, 250.0, 71.0, 156.0, 169.0, 227.0, 318.0, 344.0, 440.0, 229.0, 218.0, 153.0, 328.0, 361.0, 149.0, 323.0, 177.0, 349.0, 400.0, 211.0, 250.0, 528.0, 196.0, 331.0, 138.0], 'LMe_41.asc': [226.0, 171.0, 152.0, 274.0, 171.0, 223.0, 231.0, 229.0, 147.0, 428.0, 402.0, 209.0, 343.0, 168.0, 251.0, 140.0, 188.0, 169.0, 249.0, 217.0, 129.0, 323.0, 196.0, 283.0, 242.0, 320.0, 108.0, 198.0, 272.0, 163.0, 508.0, 476.0, 84.0, 272.0, 388.0], 'LMe_6.asc': [160.0, 150.0, 274.0, 215.0, 472.0, 223.0, 414.0, 347.0, 31.0, 171.0, 489.0, 240.0, 258.0, 128.0, 126.0, 246.0, 728.0, 138.0, 358.0, 225.0, 170.0, 551.0, 157.0, 270.0, 208.0, 316.0, 172.0, 240.0, 165.0, 400.0, 390.0, 170.0, 106.0]}, 'living20.jpg': {'LMe_2.asc': [160.0, 168.0, 433.0, 221.0, 554.0, 149.0, 574.0, 259.0, 217.0, 259.0, 180.0, 462.0, 270.0, 354.0, 388.0, 484.0, 254.0, 193.0, 587.0, 201.0, 143.0, 82.0, 172.0, 377.0, 197.0, 251.0, 221.0, 276.0, 328.0, 170.0, 126.0], 'LMe_3.asc': [84.0, 243.0, 159.0, 229.0, 250.0, 197.0, 155.0, 175.0, 142.0, 125.0, 160.0, 118.0, 564.0, 249.0, 205.0, 216.0, 186.0, 543.0, 216.0, 212.0, 174.0, 119.0, 197.0, 113.0, 252.0, 271.0, 291.0, 220.0, 193.0, 176.0, 248.0, 310.0, 309.0, 257.0, 237.0, 186.0, 513.0], 'LMe_38.asc': [181.0, 412.0, 177.0, 125.0, 265.0, 412.0, 199.0, 228.0, 193.0, 156.0, 200.0, 219.0, 194.0, 343.0, 77.0, 236.0, 188.0, 218.0, 241.0, 393.0, 161.0, 474.0, 216.0, 305.0, 191.0, 129.0, 371.0, 228.0, 137.0, 190.0, 277.0, 263.0, 103.0, 221.0, 218.0, 153.0, 56.0], 'LMe_39.asc': [358.0, 140.0, 136.0, 350.0, 191.0, 404.0, 354.0, 127.0, 154.0, 317.0, 252.0, 334.0, 143.0, 421.0, 110.0, 243.0, 220.0, 274.0, 432.0, 219.0, 235.0, 197.0, 290.0, 283.0, 374.0, 256.0, 314.0, 419.0, 203.0, 189.0, 496.0, 355.0, 36.0], 'LMe_42.asc': [216.0, 243.0, 132.0, 131.0, 251.0, 160.0, 161.0, 294.0, 223.0, 174.0, 216.0, 186.0, 105.0, 141.0, 207.0, 83.0, 195.0, 180.0, 193.0, 133.0, 93.0, 229.0, 408.0, 116.0, 169.0, 297.0, 290.0, 237.0, 284.0, 210.0, 435.0, 277.0, 349.0, 288.0, 79.0], 'LMe_6.asc': [175.0, 132.0, 167.0, 147.0, 141.0, 204.0, 284.0, 286.0, 274.0, 168.0, 238.0, 203.0, 128.0, 326.0, 136.0, 301.0, 176.0, 79.0, 230.0, 181.0, 285.0, 241.0, 104.0, 211.0, 260.0, 262.0, 164.0, 314.0, 198.0, 303.0, 317.0, 308.0, 250.0, 143.0, 234.0, 362.0, 331.0, 164.0]}, 'living38.jpg': {'LMe_2.asc': [116.0, 134.0, 93.0, 173.0, 288.0, 465.0, 343.0, 174.0, 180.0, 98.0, 228.0, 144.0, 166.0, 487.0, 738.0, 260.0, 222.0, 244.0, 235.0, 149.0, 334.0, 144.0, 435.0, 274.0, 150.0, 170.0, 188.0, 255.0, 161.0, 1720.0], 'LMe_3.asc': [186.0, 123.0, 118.0, 203.0, 157.0, 170.0, 267.0, 145.0, 186.0, 143.0, 245.0, 300.0, 259.0, 284.0, 383.0, 363.0, 245.0, 210.0, 199.0, 228.0, 144.0, 136.0, 177.0, 208.0, 295.0, 246.0, 388.0, 223.0, 287.0, 302.0, 349.0, 640.0, 333.0, 427.0, 163.0], 'LMe_38.asc': [202.0, 131.0, 211.0, 185.0, 168.0, 160.0, 173.0, 458.0, 156.0, 116.0, 129.0, 180.0, 111.0, 244.0, 177.0, 165.0, 216.0, 390.0, 166.0, 237.0, 239.0, 203.0, 150.0, 88.0, 275.0, 175.0, 326.0, 488.0, 184.0, 239.0, 174.0, 184.0, 177.0, 365.0, 82.0, 106.0, 231.0, 231.0, 124.0], 'LMe_39.asc': [289.0, 47.0, 266.0, 206.0, 213.0, 126.0, 239.0, 141.0, 170.0, 237.0, 152.0, 204.0, 423.0, 567.0, 471.0, 242.0, 262.0, 148.0, 276.0, 184.0, 277.0, 376.0, 383.0, 176.0, 263.0, 453.0, 362.0, 74.0, 289.0, 257.0, 249.0, 135.0, 325.0, 132.0], 'LMe_42.asc': [33.0, 160.0, 154.0, 147.0, 305.0, 121.0, 178.0, 287.0, 236.0, 149.0, 111.0, 373.0, 305.0, 154.0, 185.0, 200.0, 254.0, 177.0, 413.0, 823.0, 75.0, 281.0, 176.0, 259.0, 290.0, 176.0, 101.0, 323.0, 187.0, 204.0, 171.0, 368.0, 274.0, 73.0], 'LMe_6.asc': [170.0, 159.0, 202.0, 141.0, 283.0, 176.0, 202.0, 106.0, 312.0, 205.0, 174.0, 253.0, 103.0, 302.0, 282.0, 161.0, 200.0, 197.0, 208.0, 511.0, 195.0, 234.0, 124.0, 735.0, 219.0, 151.0, 175.0, 187.0, 120.0, 258.0, 271.0, 251.0, 115.0, 457.0, 221.0, 164.0, 253.0]}, 'living23.jpg': {'LMe_2.asc': [135.0, 178.0, 226.0, 195.0, 227.0, 126.0, 194.0, 113.0, 274.0, 216.0, 190.0, 62.0, 361.0, 214.0, 182.0, 213.0, 218.0, 175.0, 292.0, 392.0, 305.0, 253.0, 261.0, 81.0, 284.0, 307.0, 244.0, 380.0, 251.0, 363.0, 275.0, 873.0, 567.0], 'LMe_3.asc': [133.0, 186.0, 174.0, 147.0, 227.0, 215.0, 348.0, 267.0, 387.0, 376.0, 442.0, 139.0, 281.0, 195.0, 427.0, 248.0, 330.0, 302.0, 183.0, 402.0, 96.0, 234.0, 268.0, 182.0, 453.0, 305.0, 259.0, 462.0, 213.0, 225.0, 117.0], 'LMe_38.asc': [152.0, 227.0, 195.0, 250.0, 333.0, 258.0, 188.0, 430.0, 199.0, 224.0, 65.0, 321.0, 210.0, 676.0, 158.0, 154.0, 365.0, 326.0, 233.0, 304.0, 381.0, 220.0, 115.0, 139.0, 156.0, 154.0, 163.0, 196.0, 269.0, 130.0, 214.0, 140.0, 112.0, 189.0, 38.0], 'LMe_39.asc': [225.0, 267.0, 222.0, 136.0, 247.0, 207.0, 205.0, 208.0, 176.0, 273.0, 382.0, 243.0, 354.0, 149.0, 271.0, 475.0, 290.0, 170.0, 351.0, 172.0, 149.0, 220.0, 149.0, 229.0, 343.0, 287.0, 247.0, 172.0, 152.0, 139.0, 248.0, 244.0, 215.0, 450.0, 127.0], 'LMe_42.asc': [], 'LMe_6.asc': [171.0, 237.0, 47.0, 257.0, 212.0, 172.0, 176.0, 253.0, 213.0, 201.0, 163.0, 219.0, 124.0, 264.0, 385.0, 145.0, 236.0, 1127.0, 189.0, 312.0, 342.0, 709.0, 1132.0, 203.0, 150.0, 192.0, 79.0, 518.0, 230.0, 156.0, 29.0]}, 'img_256.jpg': {'LMe_2.asc': [85.0, 647.0, 151.0, 235.0, 213.0, 598.0, 303.0, 140.0, 131.0, 236.0, 240.0, 142.0, 233.0, 164.0, 213.0, 268.0, 121.0, 148.0, 264.0, 187.0, 205.0, 302.0, 207.0, 348.0, 125.0, 890.0, 202.0, 300.0, 268.0, 124.0, 1018.0], 'LMe_3.asc': [111.0, 127.0, 143.0, 80.0, 186.0, 114.0, 492.0, 145.0, 153.0, 154.0, 224.0, 321.0, 141.0, 130.0, 342.0, 348.0, 186.0, 151.0, 156.0, 457.0, 120.0, 508.0, 140.0, 362.0, 665.0, 476.0, 310.0, 623.0, 343.0, 310.0, 743.0], 'LMe_38.asc': [160.0, 252.0, 183.0, 342.0, 109.0, 82.0, 187.0, 166.0, 143.0, 260.0, 255.0, 147.0, 155.0, 217.0, 146.0, 139.0, 194.0, 250.0, 188.0, 177.0, 307.0, 173.0, 147.0, 291.0, 445.0, 140.0, 211.0, 122.0, 176.0, 154.0, 317.0, 272.0, 223.0, 218.0, 130.0, 142.0, 487.0, 166.0], 'LMe_39.asc': [67.0, 154.0, 135.0, 198.0, 258.0, 147.0, 254.0, 140.0, 308.0, 259.0, 301.0, 206.0, 248.0, 189.0, 383.0, 376.0, 406.0, 164.0, 156.0, 321.0, 227.0, 221.0, 137.0, 311.0, 234.0, 97.0, 231.0, 253.0, 532.0, 402.0, 1134.0], 'LMe_42.asc': [199.0, 104.0, 193.0, 368.0, 197.0, 222.0, 181.0, 60.0, 216.0, 131.0, 674.0, 154.0, 287.0, 403.0, 251.0, 191.0, 242.0, 188.0, 112.0, 183.0, 219.0, 128.0, 165.0, 205.0, 137.0, 180.0, 139.0, 30.0, 187.0, 150.0, 176.0, 109.0, 77.0, 145.0, 313.0, 179.0, 44.0, 169.0, 139.0], 'LMe_6.asc': [119.0, 183.0, 152.0, 122.0, 162.0, 315.0, 242.0, 443.0, 214.0, 237.0, 150.0, 297.0, 114.0, 332.0, 290.0, 187.0, 486.0, 158.0, 185.0, 268.0, 172.0, 53.0, 397.0, 175.0, 116.0, 285.0, 193.0, 131.0, 219.0, 294.0, 169.0, 309.0, 152.0, 99.0, 137.0]}, 'IMG_9641.jpg': {'LMe_2.asc': [78.0, 224.0, 415.0, 250.0, 244.0, 202.0, 226.0, 143.0, 142.0, 270.0, 629.0, 276.0, 549.0, 263.0, 547.0, 270.0, 2798.0, 545.0, 419.0, 417.0, 225.0], 'LMe_3.asc': [114.0, 429.0, 275.0, 259.0, 113.0, 246.0, 185.0, 152.0, 218.0, 133.0, 118.0, 235.0, 196.0, 223.0, 231.0, 522.0, 292.0, 665.0, 496.0, 562.0, 751.0, 312.0, 602.0, 654.0, 935.0], 'LMe_38.asc': [126.0, 245.0, 941.0, 320.0, 89.0, 315.0, 144.0, 165.0, 172.0, 145.0, 157.0, 249.0, 233.0, 156.0, 213.0, 245.0, 123.0, 186.0, 279.0, 349.0, 428.0, 237.0, 774.0, 478.0, 632.0, 166.0, 156.0, 330.0], 'LMe_39.asc': [117.0, 312.0, 312.0, 195.0, 327.0, 131.0, 171.0, 214.0, 196.0, 133.0, 169.0, 199.0, 222.0, 281.0, 231.0, 354.0, 492.0, 238.0, 400.0, 250.0, 298.0, 168.0, 122.0, 136.0, 114.0, 201.0, 234.0, 132.0, 206.0, 100.0, 242.0, 180.0, 104.0, 239.0, 230.0, 133.0, 213.0], 'LMe_42.asc': [], 'LMe_6.asc': [165.0, 150.0, 214.0, 158.0, 263.0, 186.0, 192.0, 160.0, 216.0, 192.0, 240.0, 157.0, 171.0, 280.0, 218.0, 301.0, 358.0, 370.0, 104.0, 158.0, 251.0, 344.0, 367.0, 467.0, 199.0, 307.0, 172.0, 210.0, 170.0, 189.0, 243.0, 416.0, 215.0, 224.0]}, 'kitchen061.jpg': {'LMe_2.asc': [77.0, 387.0, 321.0, 253.0, 403.0, 196.0, 154.0, 211.0, 203.0, 199.0, 330.0, 500.0, 129.0, 203.0, 295.0, 120.0, 165.0, 1157.0, 419.0, 2498.0, 805.0], 'LMe_3.asc': [200.0, 353.0, 179.0, 134.0, 174.0, 376.0, 196.0, 236.0, 119.0, 217.0, 167.0, 103.0, 166.0, 119.0, 164.0, 276.0, 224.0, 250.0, 149.0, 159.0, 175.0, 381.0, 213.0, 325.0, 276.0, 235.0, 155.0, 240.0, 270.0, 184.0, 184.0, 200.0, 711.0, 337.0, 362.0, 245.0, 46.0], 'LMe_38.asc': [346.0, 88.0, 187.0, 241.0, 160.0, 327.0, 245.0, 177.0, 146.0, 201.0, 289.0, 291.0, 240.0, 117.0, 145.0, 239.0, 180.0, 240.0, 269.0, 64.0, 194.0, 166.0, 1554.0, 350.0, 900.0, 467.0, 149.0, 214.0, 185.0, 338.0], 'LMe_39.asc': [227.0, 184.0, 208.0, 196.0, 221.0, 205.0, 188.0, 193.0, 255.0, 219.0, 147.0, 257.0, 232.0, 148.0, 258.0, 174.0, 349.0, 139.0, 164.0, 282.0, 354.0, 64.0, 268.0, 75.0, 233.0, 175.0, 258.0, 136.0, 275.0, 255.0, 226.0, 196.0, 240.0, 148.0, 391.0, 183.0, 248.0, 124.0], 'LMe_42.asc': [], 'LMe_6.asc': [153.0, 266.0, 155.0, 113.0, 206.0, 432.0, 187.0, 256.0, 104.0, 182.0, 248.0, 260.0, 236.0, 317.0, 351.0, 125.0, 283.0, 163.0, 53.0, 160.0, 143.0, 301.0, 272.0, 636.0, 510.0, 528.0, 292.0, 253.0, 516.0, 118.0, 180.0, 178.0, 168.0, 224.0]}, 'easyst012.jpg': {'LMe_2.asc': [55.0, 337.0, 28.0, 305.0, 242.0, 222.0, 190.0, 526.0, 22.0, 314.0, 417.0, 144.0, 351.0, 282.0, 142.0, 314.0, 194.0, 313.0, 249.0, 247.0, 202.0, 277.0, 444.0, 459.0, 174.0, 304.0, 234.0, 324.0, 480.0, 450.0, 147.0, 170.0, 230.0], 'LMe_3.asc': [111.0, 351.0, 178.0, 172.0, 555.0, 137.0, 85.0, 233.0, 250.0, 277.0, 156.0, 300.0, 247.0, 436.0, 160.0, 370.0, 368.0, 198.0, 126.0, 174.0, 85.0, 241.0, 129.0, 170.0, 175.0, 220.0, 184.0, 359.0, 150.0, 301.0, 266.0, 293.0, 366.0, 276.0, 209.0, 264.0, 130.0], 'LMe_38.asc': [310.0, 175.0, 165.0, 199.0, 449.0, 521.0, 274.0, 254.0, 422.0, 290.0, 167.0, 248.0, 161.0, 149.0, 131.0, 696.0, 191.0, 212.0, 68.0, 213.0, 188.0, 319.0, 221.0, 173.0, 222.0, 226.0, 200.0, 155.0, 131.0, 209.0, 252.0, 443.0, 430.0, 114.0], 'LMe_39.asc': [128.0, 156.0, 159.0, 298.0, 308.0, 345.0, 221.0, 171.0, 155.0, 126.0, 134.0, 180.0, 280.0, 226.0, 363.0, 475.0, 301.0, 339.0, 220.0, 211.0, 139.0, 197.0, 165.0, 295.0, 173.0, 325.0, 194.0, 555.0, 304.0, 324.0, 527.0, 575.0], 'LMe_42.asc': [], 'LMe_6.asc': [135.0, 151.0, 217.0, 227.0, 202.0, 285.0, 350.0, 301.0, 167.0, 139.0, 269.0, 283.0, 95.0, 280.0, 272.0, 177.0, 78.0, 231.0, 265.0, 357.0, 183.0, 184.0, 321.0, 332.0, 286.0, 231.0, 373.0, 319.0, 291.0, 422.0, 117.0, 155.0, 248.0, 66.0, 159.0, 208.0, 119.0, 49.0]}, 'living58.jpg': {'LMe_2.asc': [191.0, 138.0, 187.0, 242.0, 258.0, 111.0, 255.0, 310.0, 99.0, 259.0, 446.0, 503.0, 279.0, 203.0, 216.0, 209.0, 251.0, 210.0, 206.0, 219.0, 225.0, 172.0, 274.0, 232.0, 1469.0, 321.0, 296.0, 232.0, 206.0, 329.0, 228.0], 'LMe_3.asc': [159.0, 115.0, 169.0, 151.0, 199.0, 142.0, 277.0, 337.0, 136.0, 153.0, 31.0, 166.0, 168.0, 233.0, 193.0, 193.0, 199.0, 152.0, 450.0, 166.0, 147.0, 108.0, 176.0, 128.0, 213.0, 377.0, 242.0, 222.0, 394.0, 153.0, 657.0, 889.0, 654.0, 229.0], 'LMe_38.asc': [315.0, 219.0, 229.0, 175.0, 161.0, 192.0, 142.0, 149.0, 167.0, 623.0, 202.0, 174.0, 200.0, 124.0, 317.0, 295.0, 106.0, 189.0, 267.0, 169.0, 169.0, 409.0, 355.0, 228.0, 302.0, 272.0, 199.0, 224.0, 195.0, 214.0, 386.0, 341.0, 369.0, 152.0], 'LMe_39.asc': [249.0, 135.0, 246.0, 255.0, 213.0, 321.0, 213.0, 202.0, 380.0, 125.0, 200.0, 364.0, 224.0, 143.0, 302.0, 307.0, 323.0, 322.0, 71.0, 233.0, 290.0, 235.0, 222.0, 280.0, 163.0, 281.0, 293.0, 339.0, 338.0, 246.0, 379.0, 145.0, 286.0, 47.0], 'LMe_42.asc': [101.0, 261.0, 205.0, 321.0, 354.0, 258.0, 145.0, 401.0, 378.0, 39.0, 198.0, 181.0, 240.0, 221.0, 77.0, 325.0, 133.0, 287.0, 212.0, 59.0, 116.0, 200.0, 183.0, 164.0, 192.0, 166.0, 171.0, 293.0, 283.0, 384.0, 273.0, 258.0, 211.0, 245.0, 133.0, 347.0, 93.0], 'LMe_6.asc': [234.0, 357.0, 83.0, 238.0, 142.0, 216.0, 191.0, 157.0, 1146.0, 197.0, 224.0, 200.0, 152.0, 211.0, 69.0, 331.0, 194.0, 220.0, 202.0, 314.0, 303.0, 304.0, 260.0, 178.0, 432.0, 262.0, 307.0, 337.0, 304.0, 21.0, 153.0, 319.0]}, 'restau39.jpg': {'LMe_2.asc': [146.0, 152.0, 229.0, 693.0, 111.0, 116.0, 128.0, 322.0, 211.0, 225.0, 313.0, 277.0, 160.0, 142.0, 281.0, 182.0, 234.0, 192.0, 150.0, 236.0, 76.0, 197.0, 255.0, 306.0, 226.0, 124.0, 189.0, 312.0, 149.0, 198.0, 305.0, 317.0, 356.0, 132.0, 135.0, 170.0, 240.0, 262.0], 'LMe_3.asc': [168.0, 199.0, 107.0, 142.0, 149.0, 172.0, 131.0, 139.0, 376.0, 174.0, 234.0, 205.0, 328.0, 99.0, 119.0, 240.0, 224.0, 149.0, 217.0, 155.0, 229.0, 381.0, 362.0, 200.0, 202.0, 260.0, 348.0, 152.0, 280.0, 198.0, 233.0, 205.0, 632.0, 143.0, 171.0, 144.0, 220.0, 226.0, 158.0], 'LMe_38.asc': [265.0, 279.0, 197.0, 699.0, 212.0, 207.0, 223.0, 159.0, 344.0, 125.0, 145.0, 220.0, 159.0, 118.0, 396.0, 329.0, 166.0, 164.0, 177.0, 104.0, 178.0, 296.0, 221.0, 249.0, 126.0, 183.0, 135.0, 210.0, 162.0, 217.0, 244.0, 227.0, 173.0, 177.0, 101.0, 85.0, 407.0, 66.0], 'LMe_39.asc': [191.0, 365.0, 144.0, 439.0, 375.0, 180.0, 243.0, 192.0, 333.0, 215.0, 265.0, 267.0, 426.0, 278.0, 389.0, 207.0, 279.0, 176.0, 181.0, 124.0, 366.0, 257.0, 187.0, 180.0, 218.0, 172.0, 262.0, 240.0, 281.0, 176.0, 227.0, 447.0, 149.0, 55.0], 'LMe_42.asc': [], 'LMe_6.asc': [234.0, 44.0, 269.0, 256.0, 198.0, 923.0, 115.0, 249.0, 178.0, 269.0, 243.0, 190.0, 265.0, 41.0, 266.0, 257.0, 311.0, 118.0, 178.0, 149.0, 251.0, 176.0, 187.0, 222.0, 417.0, 161.0, 211.0, 274.0, 465.0, 242.0, 270.0, 294.0, 139.0, 175.0, 109.0, 176.0]}, 'living49.jpg': {'LMe_2.asc': [205.0, 128.0, 194.0, 556.0, 134.0, 443.0, 196.0, 341.0, 132.0, 221.0, 251.0, 229.0, 219.0, 152.0, 289.0, 228.0, 262.0, 187.0, 238.0, 202.0, 99.0, 192.0, 133.0, 460.0, 209.0, 349.0, 220.0, 203.0, 218.0, 532.0, 367.0, 233.0, 268.0, 64.0], 'LMe_3.asc': [106.0, 313.0, 114.0, 124.0, 207.0, 194.0, 172.0, 110.0, 197.0, 160.0, 232.0, 288.0, 176.0, 182.0, 267.0, 230.0, 178.0, 202.0, 184.0, 205.0, 236.0, 185.0, 272.0, 293.0, 182.0, 227.0, 261.0, 200.0, 230.0, 550.0, 770.0, 623.0, 791.0], 'LMe_38.asc': [161.0, 152.0, 145.0, 186.0, 271.0, 103.0, 119.0, 171.0, 223.0, 326.0, 172.0, 361.0, 241.0, 170.0, 275.0, 168.0, 231.0, 345.0, 233.0, 226.0, 311.0, 116.0, 224.0, 117.0, 157.0, 300.0, 421.0, 139.0, 233.0, 277.0, 384.0, 240.0, 475.0, 204.0, 157.0, 73.0], 'LMe_39.asc': [160.0, 298.0, 274.0, 216.0, 311.0, 160.0, 249.0, 198.0, 146.0, 314.0, 260.0, 140.0, 223.0, 327.0, 372.0, 312.0, 269.0, 544.0, 172.0, 237.0, 540.0, 422.0, 170.0, 363.0, 412.0, 459.0, 34.0, 426.0, 268.0, 308.0], 'LMe_42.asc': [], 'LMe_6.asc': [177.0, 153.0, 143.0, 307.0, 314.0, 175.0, 183.0, 199.0, 271.0, 226.0, 561.0, 381.0, 233.0, 177.0, 200.0, 212.0, 148.0, 172.0, 178.0, 196.0, 205.0, 158.0, 192.0, 284.0, 310.0, 320.0, 288.0, 327.0, 127.0, 175.0, 147.0, 207.0, 21.0, 148.0, 48.0, 34.0]}, 'eagle_office.jpg': {'LMe_2.asc': [103.0, 325.0, 115.0, 170.0, 168.0, 346.0, 497.0, 256.0, 212.0, 114.0, 117.0, 278.0, 219.0, 168.0, 209.0, 165.0, 199.0, 312.0, 159.0, 503.0, 235.0, 339.0, 177.0, 196.0, 123.0, 155.0, 334.0, 197.0, 191.0, 219.0, 249.0, 279.0, 1347.0, 42.0], 'LMe_3.asc': [136.0, 108.0, 120.0, 278.0, 200.0, 158.0, 213.0, 236.0, 114.0, 232.0, 97.0, 277.0, 150.0, 366.0, 138.0, 170.0, 280.0, 223.0, 440.0, 154.0, 305.0, 420.0, 358.0, 363.0, 271.0, 326.0, 238.0, 332.0, 366.0, 210.0, 441.0, 988.0], 'LMe_38.asc': [228.0, 248.0, 201.0, 135.0, 112.0, 722.0, 231.0, 211.0, 60.0, 202.0, 376.0, 412.0, 112.0, 301.0, 432.0, 139.0, 160.0, 261.0, 145.0, 193.0, 90.0, 114.0, 164.0, 46.0, 233.0, 201.0, 350.0, 254.0, 205.0, 147.0, 443.0, 493.0, 342.0, 104.0, 179.0, 168.0], 'LMe_39.asc': [191.0, 215.0, 225.0, 125.0, 210.0, 240.0, 171.0, 275.0, 116.0, 225.0, 356.0, 322.0, 156.0, 246.0, 215.0, 294.0, 105.0, 193.0, 247.0, 26.0, 353.0, 187.0, 199.0, 219.0, 312.0, 300.0, 1067.0, 256.0, 314.0, 391.0, 213.0, 209.0, 388.0], 'LMe_42.asc': [154.0, 158.0, 153.0, 307.0, 164.0, 182.0, 233.0, 193.0, 221.0, 146.0, 40.0, 287.0, 275.0, 309.0, 189.0, 137.0, 153.0, 187.0, 371.0, 435.0, 317.0, 247.0, 239.0, 233.0, 144.0, 294.0, 126.0, 88.0, 172.0, 274.0, 260.0, 473.0, 115.0, 164.0, 145.0, 80.0, 282.0, 42.0], 'LMe_6.asc': [129.0, 133.0, 155.0, 168.0, 190.0, 173.0, 162.0, 127.0, 214.0, 123.0, 261.0, 149.0, 167.0, 307.0, 137.0, 147.0, 119.0, 134.0, 188.0, 156.0, 165.0, 80.0, 45.0, 163.0, 219.0, 341.0, 369.0, 180.0, 157.0, 211.0, 139.0, 268.0, 215.0, 239.0, 139.0, 231.0, 136.0, 312.0, 102.0, 297.0, 143.0, 469.0, 377.0, 246.0]}, 'kitchen045.jpg': {'LMe_2.asc': [174.0, 208.0, 274.0, 302.0, 316.0, 388.0, 286.0, 669.0, 145.0, 321.0, 213.0, 170.0, 129.0, 238.0, 211.0, 428.0, 190.0, 140.0, 275.0, 195.0, 137.0, 91.0, 152.0, 148.0, 262.0, 236.0, 178.0, 151.0, 322.0, 340.0, 184.0, 162.0, 170.0, 151.0, 216.0, 177.0, 201.0], 'LMe_3.asc': [131.0, 342.0, 176.0, 135.0, 152.0, 252.0, 281.0, 299.0, 370.0, 123.0, 499.0, 295.0, 232.0, 206.0, 182.0, 181.0, 144.0, 186.0, 243.0, 321.0, 187.0, 291.0, 204.0, 283.0, 276.0, 169.0, 196.0, 216.0, 270.0, 376.0, 166.0, 262.0, 171.0, 984.0], 'LMe_38.asc': [350.0, 694.0, 159.0, 300.0, 477.0, 632.0, 485.0, 536.0, 285.0, 269.0, 207.0, 223.0, 194.0, 111.0, 221.0, 161.0, 144.0, 147.0, 238.0, 155.0, 313.0, 317.0, 307.0, 296.0, 401.0, 261.0, 144.0, 285.0, 220.0, 280.0, 47.0], 'LMe_39.asc': [111.0, 255.0, 353.0, 98.0, 364.0, 387.0, 91.0, 302.0, 281.0, 314.0, 472.0, 161.0, 194.0, 143.0, 188.0, 232.0, 160.0, 171.0, 420.0, 358.0, 254.0, 539.0, 327.0, 293.0, 265.0, 221.0, 566.0, 91.0, 317.0, 309.0, 242.0, 110.0], 'LMe_42.asc': [], 'LMe_6.asc': [218.0, 131.0, 258.0, 245.0, 53.0, 190.0, 155.0, 418.0, 296.0, 184.0, 330.0, 198.0, 273.0, 176.0, 215.0, 255.0, 285.0, 194.0, 191.0, 216.0, 217.0, 208.0, 183.0, 185.0, 206.0, 210.0, 163.0, 91.0, 114.0, 201.0, 225.0, 317.0, 344.0, 142.0, 311.0, 237.0, 53.0, 219.0, 150.0, 120.0, 140.0, 48.0]}, 'Living31.jpg': {'LMe_2.asc': [152.0, 125.0, 171.0, 145.0, 333.0, 225.0, 253.0, 231.0, 260.0, 90.0, 148.0, 229.0, 118.0, 225.0, 299.0, 172.0, 195.0, 202.0, 207.0, 324.0, 197.0, 261.0, 226.0, 232.0, 129.0, 206.0, 192.0, 124.0, 322.0, 487.0, 370.0, 997.0, 245.0, 367.0, 203.0], 'LMe_3.asc': [110.0, 132.0, 217.0, 184.0, 151.0, 166.0, 101.0, 163.0, 199.0, 273.0, 125.0, 252.0, 532.0, 200.0, 304.0, 215.0, 184.0, 324.0, 205.0, 147.0, 101.0, 248.0, 295.0, 290.0, 314.0, 220.0, 167.0, 267.0, 136.0, 258.0, 160.0, 490.0, 132.0, 155.0, 316.0, 321.0, 296.0, 43.0], 'LMe_37.asc': [234.0, 150.0, 270.0, 134.0, 142.0, 141.0, 177.0, 78.0, 177.0, 204.0, 151.0, 228.0, 260.0, 109.0, 254.0, 197.0, 227.0, 152.0, 145.0, 141.0, 350.0, 207.0, 200.0, 40.0, 321.0, 203.0, 308.0, 144.0, 197.0, 206.0, 173.0, 151.0, 145.0, 144.0, 166.0, 263.0, 173.0, 156.0, 257.0, 581.0, 271.0, 96.0, 81.0], 'LMe_40.asc': [239.0, 247.0, 324.0, 134.0, 426.0, 436.0, 310.0, 245.0, 169.0, 324.0, 183.0, 147.0, 227.0, 156.0, 330.0, 138.0, 250.0, 146.0, 279.0, 228.0, 462.0, 241.0, 185.0, 201.0, 178.0, 314.0, 287.0, 273.0, 194.0, 146.0, 196.0, 206.0, 174.0, 157.0, 262.0, 122.0], 'LMe_41.asc': [128.0, 167.0, 268.0, 200.0, 307.0, 205.0, 205.0, 192.0, 137.0, 242.0, 288.0, 159.0, 912.0, 273.0, 312.0, 193.0, 195.0, 200.0, 209.0, 115.0, 142.0, 55.0, 165.0, 456.0, 280.0, 310.0, 318.0, 463.0, 287.0, 180.0, 170.0, 154.0, 97.0, 338.0, 183.0], 'LMe_6.asc': [90.0, 128.0, 198.0, 321.0, 269.0, 287.0, 370.0, 318.0, 53.0, 215.0, 96.0, 234.0, 293.0, 145.0, 187.0, 376.0, 174.0, 132.0, 376.0, 254.0, 257.0, 271.0, 378.0, 766.0, 125.0, 190.0, 127.0, 312.0, 200.0, 107.0, 118.0, 318.0, 273.0, 262.0, 88.0, 318.0]}, 'living69.jpg': {'LMe_2.asc': [118.0, 22.0, 30.0, 226.0, 147.0, 240.0, 293.0, 247.0, 309.0, 504.0, 216.0, 362.0, 238.0, 133.0, 271.0, 87.0, 254.0, 221.0, 157.0, 159.0, 247.0, 287.0, 186.0, 226.0, 187.0, 243.0, 318.0, 434.0, 682.0, 233.0, 380.0, 169.0, 46.0, 307.0, 119.0, 131.0, 124.0], 'LMe_3.asc': [152.0, 220.0, 93.0, 128.0, 235.0, 149.0, 205.0, 329.0, 153.0, 388.0, 574.0, 213.0, 242.0, 335.0, 294.0, 437.0, 379.0, 150.0, 203.0, 170.0, 141.0, 188.0, 136.0, 183.0, 191.0, 184.0, 281.0, 408.0, 1105.0, 606.0, 387.0], 'LMe_38.asc': [143.0, 186.0, 153.0, 137.0, 355.0, 105.0, 100.0, 555.0, 252.0, 230.0, 233.0, 267.0, 143.0, 230.0, 193.0, 265.0, 203.0, 74.0, 230.0, 199.0, 60.0, 259.0, 241.0, 425.0, 381.0, 301.0, 194.0, 797.0, 174.0, 239.0, 59.0], 'LMe_39.asc': [181.0, 279.0, 94.0, 187.0, 129.0, 371.0, 219.0, 259.0, 159.0, 257.0, 262.0, 281.0, 206.0, 378.0, 349.0, 370.0, 250.0, 143.0, 325.0, 212.0, 259.0, 149.0, 303.0, 188.0, 130.0, 222.0, 296.0, 145.0, 446.0, 252.0, 250.0, 271.0, 307.0, 133.0], 'LMe_42.asc': [], 'LMe_6.asc': [92.0, 126.0, 268.0, 159.0, 214.0, 200.0, 140.0, 146.0, 244.0, 539.0, 303.0, 120.0, 73.0, 393.0, 153.0, 324.0, 215.0, 113.0, 136.0, 333.0, 1515.0, 315.0, 823.0, 223.0, 233.0, 372.0, 446.0, 626.0]}, 'child2.jpg': {'LMe_2.asc': [367.0, 129.0, 219.0, 617.0, 412.0, 265.0, 220.0, 186.0, 116.0, 261.0, 339.0, 628.0, 106.0, 312.0, 292.0, 181.0, 178.0, 127.0, 338.0, 161.0, 352.0, 187.0, 282.0, 324.0, 254.0, 137.0, 193.0, 258.0, 138.0, 166.0, 150.0, 123.0, 240.0, 216.0], 'LMe_3.asc': [184.0, 164.0, 241.0, 103.0, 106.0, 302.0, 175.0, 199.0, 185.0, 238.0, 133.0, 456.0, 204.0, 120.0, 157.0, 410.0, 154.0, 128.0, 183.0, 238.0, 296.0, 184.0, 188.0, 557.0, 230.0, 358.0, 375.0, 519.0, 2089.0], 'LMe_38.asc': [149.0, 225.0, 506.0, 237.0, 263.0, 107.0, 358.0, 487.0, 270.0, 331.0, 87.0, 184.0, 431.0, 252.0, 284.0, 182.0, 341.0, 124.0, 190.0, 419.0, 231.0, 181.0, 298.0, 375.0, 129.0, 229.0, 149.0, 114.0, 223.0, 233.0, 143.0, 183.0, 421.0, 216.0], 'LMe_39.asc': [203.0, 31.0, 222.0, 143.0, 207.0, 128.0, 385.0, 220.0, 139.0, 229.0, 196.0, 112.0, 187.0, 129.0, 225.0, 384.0, 223.0, 219.0, 328.0, 239.0, 143.0, 115.0, 232.0, 198.0, 133.0, 290.0, 214.0, 474.0, 268.0, 250.0, 408.0, 211.0, 225.0, 238.0, 146.0, 179.0, 189.0, 312.0], 'LMe_42.asc': [288.0, 214.0, 239.0, 135.0, 193.0, 310.0, 165.0, 183.0, 162.0, 25.0, 282.0, 265.0, 234.0, 193.0, 220.0, 185.0, 326.0, 157.0, 241.0, 370.0, 448.0, 232.0, 215.0, 130.0, 174.0, 309.0, 294.0, 175.0, 184.0, 166.0, 201.0, 129.0, 107.0, 274.0, 200.0, 54.0], 'LMe_6.asc': [33.0, 152.0, 109.0, 121.0, 272.0, 321.0, 166.0, 207.0, 136.0, 178.0, 155.0, 389.0, 156.0, 443.0, 232.0, 90.0, 70.0, 138.0, 160.0, 301.0, 269.0, 689.0, 382.0, 498.0, 542.0, 456.0, 232.0, 240.0, 63.0, 218.0, 204.0, 161.0, 185.0, 199.0, 149.0, 226.0]}, 'kitchenblack.jpg': {'LMe_2.asc': [242.0, 147.0, 166.0, 86.0, 442.0, 528.0, 169.0, 112.0, 253.0, 118.0, 297.0, 251.0, 175.0, 290.0, 141.0, 300.0, 179.0, 253.0, 151.0, 181.0, 267.0, 123.0, 298.0, 325.0, 190.0, 299.0, 246.0, 102.0, 284.0, 294.0, 190.0, 207.0, 194.0, 325.0, 167.0, 584.0], 'LMe_3.asc': [161.0, 232.0, 182.0, 236.0, 195.0, 146.0, 151.0, 177.0, 146.0, 366.0, 169.0, 209.0, 408.0, 270.0, 514.0, 206.0, 578.0, 313.0, 686.0, 307.0, 1086.0, 1152.0, 395.0, 288.0], 'LMe_38.asc': [139.0, 223.0, 342.0, 179.0, 261.0, 306.0, 374.0, 121.0, 153.0, 85.0, 140.0, 183.0, 632.0, 668.0, 448.0, 163.0, 163.0, 107.0, 565.0, 241.0, 203.0, 306.0, 338.0, 521.0, 111.0, 403.0, 481.0, 273.0, 267.0], 'LMe_39.asc': [218.0, 303.0, 207.0, 248.0, 180.0, 270.0, 85.0, 160.0, 271.0, 278.0, 197.0, 260.0, 180.0, 312.0, 232.0, 145.0, 287.0, 215.0, 298.0, 212.0, 180.0, 287.0, 196.0, 326.0, 418.0, 530.0, 342.0, 703.0, 293.0, 127.0, 342.0, 243.0], 'LMe_42.asc': [134.0, 219.0, 108.0, 64.0, 197.0, 126.0, 260.0, 129.0, 329.0, 58.0, 89.0, 250.0, 191.0, 190.0, 131.0, 267.0, 174.0, 250.0, 123.0, 131.0, 250.0, 305.0, 113.0, 151.0, 239.0, 149.0, 183.0, 269.0, 233.0, 166.0, 173.0, 371.0, 246.0, 117.0, 234.0, 211.0, 139.0, 226.0, 128.0, 278.0], 'LMe_6.asc': [164.0, 114.0, 295.0, 189.0, 167.0, 150.0, 198.0, 223.0, 133.0, 358.0, 254.0, 350.0, 39.0, 137.0, 331.0, 205.0, 335.0, 94.0, 314.0, 173.0, 341.0, 100.0, 247.0, 102.0, 209.0, 211.0, 102.0, 312.0, 175.0, 318.0, 322.0, 214.0, 407.0, 229.0, 44.0, 762.0]}, 'kitchen248.jpg': {'LMe_2.asc': [162.0, 147.0, 166.0, 239.0, 193.0, 190.0, 278.0, 267.0, 289.0, 376.0, 102.0, 167.0, 149.0, 232.0, 183.0, 198.0, 166.0, 180.0, 167.0, 164.0, 229.0, 468.0, 316.0, 277.0, 50.0, 245.0, 257.0, 270.0, 203.0, 173.0, 177.0, 251.0, 154.0, 89.0, 265.0, 160.0, 208.0, 316.0, 248.0], 'LMe_3.asc': [131.0, 136.0, 195.0, 139.0, 153.0, 176.0, 162.0, 194.0, 146.0, 170.0, 233.0, 137.0, 318.0, 208.0, 67.0, 307.0, 343.0, 234.0, 200.0, 257.0, 149.0, 202.0, 172.0, 281.0, 207.0, 391.0, 229.0, 1097.0, 803.0, 338.0, 962.0], 'LMe_37.asc': [179.0, 193.0, 214.0, 160.0, 278.0, 155.0, 108.0, 162.0, 202.0, 146.0, 153.0, 173.0, 66.0, 189.0, 126.0, 220.0, 193.0, 297.0, 311.0, 297.0, 153.0, 194.0, 150.0, 187.0, 169.0, 166.0, 241.0, 198.0, 138.0, 187.0, 197.0, 179.0, 248.0, 112.0, 95.0, 272.0, 162.0, 284.0, 158.0, 253.0, 66.0, 165.0, 370.0, 151.0], 'LMe_40.asc': [210.0, 205.0, 189.0, 106.0, 205.0, 196.0, 265.0, 294.0, 185.0, 292.0, 251.0, 193.0, 325.0, 292.0, 140.0, 234.0, 222.0, 270.0, 227.0, 138.0, 147.0, 230.0, 283.0, 330.0, 278.0, 251.0, 216.0, 175.0, 368.0, 142.0, 179.0, 261.0, 232.0, 165.0, 597.0], 'LMe_41.asc': [133.0, 162.0, 169.0, 117.0, 351.0, 229.0, 257.0, 291.0, 212.0, 272.0, 450.0, 216.0, 310.0, 160.0, 144.0, 157.0, 66.0, 266.0, 271.0, 234.0, 147.0, 193.0, 102.0, 217.0, 459.0, 193.0, 280.0, 211.0, 170.0, 232.0, 291.0, 184.0, 105.0, 141.0, 278.0, 332.0, 144.0, 317.0, 39.0], 'LMe_6.asc': [29.0, 145.0, 257.0, 277.0, 717.0, 419.0, 234.0, 134.0, 358.0, 243.0, 105.0, 226.0, 160.0, 174.0, 279.0, 220.0, 298.0, 188.0, 121.0, 452.0, 20.0, 141.0, 402.0, 368.0, 262.0, 157.0, 150.0, 294.0, 424.0, 43.0, 147.0, 607.0, 214.0, 224.0, 206.0]}, 'Restaurant8.jpg': {'LMe_2.asc': [116.0, 186.0, 218.0, 118.0, 174.0, 180.0, 212.0, 135.0, 156.0, 181.0, 648.0, 138.0, 605.0, 574.0, 197.0, 212.0, 295.0, 195.0, 140.0, 329.0, 366.0, 237.0, 221.0, 168.0, 511.0, 196.0, 182.0, 218.0, 174.0, 334.0, 411.0, 130.0, 172.0, 161.0], 'LMe_3.asc': [114.0, 107.0, 183.0, 135.0, 130.0, 131.0, 199.0, 151.0, 151.0, 219.0, 214.0, 140.0, 155.0, 163.0, 295.0, 143.0, 234.0, 198.0, 260.0, 167.0, 169.0, 456.0, 308.0, 263.0, 304.0, 552.0, 854.0, 1146.0, 1391.0], 'LMe_37.asc': [364.0, 464.0, 373.0, 214.0, 647.0, 153.0, 340.0, 146.0, 149.0, 191.0, 267.0, 249.0, 286.0, 353.0, 57.0, 147.0, 160.0, 177.0, 238.0, 708.0, 301.0, 440.0, 577.0, 261.0, 148.0, 153.0, 352.0, 390.0, 91.0, 157.0, 133.0, 41.0], 'LMe_40.asc': [308.0, 127.0, 271.0, 199.0, 231.0, 204.0, 188.0, 335.0, 135.0, 305.0, 542.0, 229.0, 224.0, 526.0, 335.0, 273.0, 652.0, 491.0, 228.0, 155.0, 454.0, 143.0, 292.0, 342.0, 193.0, 303.0, 180.0, 335.0, 711.0, 60.0], 'LMe_41.asc': [229.0, 326.0, 209.0, 170.0, 340.0, 309.0, 186.0, 704.0, 420.0, 150.0, 169.0, 253.0, 283.0, 431.0, 986.0, 337.0, 282.0, 242.0, 139.0, 288.0, 191.0, 228.0, 365.0, 119.0, 194.0, 134.0, 424.0, 225.0, 252.0, 173.0], 'LMe_6.asc': [96.0, 25.0, 246.0, 326.0, 119.0, 188.0, 121.0, 350.0, 346.0, 139.0, 259.0, 88.0, 288.0, 225.0, 204.0, 205.0, 168.0, 102.0, 112.0, 182.0, 150.0, 102.0, 266.0, 201.0, 289.0, 118.0, 184.0, 173.0, 182.0, 169.0, 295.0, 142.0, 211.0, 361.0, 523.0, 122.0, 191.0, 171.0, 165.0, 189.0, 202.0]}, 'hallway05.jpg': {'LMe_2.asc': [95.0, 297.0, 274.0, 286.0, 115.0, 392.0, 167.0, 211.0, 193.0, 191.0, 425.0, 601.0, 845.0, 265.0, 419.0, 333.0, 157.0, 413.0, 143.0, 1456.0, 294.0, 283.0, 339.0, 548.0, 76.0], 'LMe_3.asc': [161.0, 153.0, 245.0, 174.0, 142.0, 104.0, 278.0, 212.0, 177.0, 158.0, 234.0, 418.0, 306.0, 202.0, 216.0, 328.0, 239.0, 346.0, 139.0, 227.0, 163.0, 268.0, 304.0, 360.0, 226.0, 800.0, 127.0, 696.0, 234.0, 311.0, 262.0, 390.0, 122.0], 'LMe_38.asc': [194.0, 388.0, 198.0, 392.0, 466.0, 208.0, 210.0, 235.0, 222.0, 175.0, 303.0, 253.0, 191.0, 201.0, 332.0, 187.0, 313.0, 132.0, 252.0, 188.0, 282.0, 379.0, 157.0, 223.0, 175.0, 193.0, 489.0, 886.0, 281.0], 'LMe_39.asc': [184.0, 222.0, 249.0, 211.0, 189.0, 212.0, 275.0, 202.0, 188.0, 160.0, 156.0, 274.0, 663.0, 656.0, 309.0, 297.0, 202.0, 186.0, 237.0, 392.0, 343.0, 189.0, 111.0, 269.0, 244.0, 345.0, 291.0, 141.0, 368.0, 267.0, 374.0, 188.0], 'LMe_42.asc': [123.0, 304.0, 166.0, 181.0, 182.0, 100.0, 206.0, 223.0, 346.0, 232.0, 198.0, 173.0, 288.0, 214.0, 174.0, 145.0, 176.0, 251.0, 296.0, 146.0, 104.0, 127.0, 181.0, 248.0, 276.0, 211.0, 293.0, 138.0, 114.0, 30.0, 137.0, 304.0, 239.0, 210.0, 327.0, 297.0], 'LMe_6.asc': [160.0, 191.0, 160.0, 322.0, 312.0, 171.0, 192.0, 195.0, 224.0, 197.0, 162.0, 178.0, 150.0, 139.0, 291.0, 276.0, 312.0, 228.0, 136.0, 85.0, 214.0, 276.0, 264.0, 336.0, 214.0, 147.0, 378.0, 149.0, 178.0, 163.0, 203.0, 434.0, 44.0, 267.0, 192.0, 169.0, 195.0, 294.0, 177.0]}}\n",
            "Skipping kitchen265.jpg due to insufficient points.\n",
            "Skipping kitchen174.jpg due to insufficient points.\n",
            "Skipping kitchen014.jpg due to insufficient points.\n",
            "Skipping kitchen65.jpg due to insufficient points.\n",
            "Skipping childroom01.jpg due to insufficient points.\n",
            "Skipping IMG_9651.jpg due to insufficient points.\n",
            "Skipping homeoff014.jpg due to insufficient points.\n",
            "Skipping kitchen125.jpg due to insufficient points.\n",
            "Skipping kitchen15.jpg due to insufficient points.\n",
            "Skipping office12.jpg due to insufficient points.\n",
            "Skipping kitchen_0002_rgbImage_002151.jpg due to insufficient points.\n",
            "Skipping kitchen_0044_rgbImage_000608.jpg due to insufficient points.\n",
            "Skipping office_10.jpg due to insufficient points.\n",
            "Skipping dining29.jpg due to insufficient points.\n",
            "Skipping dining41.jpg due to insufficient points.\n",
            "Skipping img_0015.jpg due to insufficient points.\n",
            "Skipping kitchen189.jpg due to insufficient points.\n",
            "Skipping p1010833.jpg due to insufficient points.\n",
            "Skipping DSC_0497.jpg due to insufficient points.\n",
            "Skipping smallsp001.jpg due to insufficient points.\n",
            "Skipping IMG_2333.jpg due to insufficient points.\n",
            "Skipping img_0061.jpg due to insufficient points.\n",
            "Skipping kitchen177.jpg due to insufficient points.\n",
            "Skipping indoor_0604.jpg due to insufficient points.\n",
            "Skipping living_room_0058_rgbImage_001765.jpg due to insufficient points.\n",
            "Skipping kitchen037.jpg due to insufficient points.\n",
            "Skipping dining46.jpg due to insufficient points.\n",
            "Skipping kitchen35.jpg due to insufficient points.\n",
            "Skipping kitchen169.jpg due to insufficient points.\n",
            "Skipping kitchen060.jpg due to insufficient points.\n",
            "Skipping dining35.jpg due to insufficient points.\n",
            "Skipping img_6613.jpg due to insufficient points.\n",
            "Skipping office_kitchen_0003_rgbImage_000008.jpg due to insufficient points.\n",
            "Skipping pittsburgh_IMG_4077.jpg due to insufficient points.\n",
            "Skipping homeoff002.jpg due to insufficient points.\n",
            "Skipping kitchen138.jpg due to insufficient points.\n",
            "Skipping dining9.jpg due to insufficient points.\n",
            "Skipping dining3.jpg due to insufficient points.\n",
            "Skipping office_0003_rgbImage_000391.jpg due to insufficient points.\n",
            "Skipping dining048.jpg due to insufficient points.\n",
            "Skipping kitchen_0060_rgbImage_000646.jpg due to insufficient points.\n",
            "Skipping estudio2.jpg due to insufficient points.\n",
            "Skipping dining38.jpg due to insufficient points.\n",
            "Skipping bedroom18.jpg due to insufficient points.\n",
            "Skipping kitchen143.jpg due to insufficient points.\n",
            "Skipping hallway5.jpg due to insufficient points.\n",
            "Skipping kitchen057.jpg due to insufficient points.\n",
            "Skipping conference_room_1_lr_sm.jpg due to insufficient points.\n",
            "Skipping Restaurant10.jpg due to insufficient points.\n",
            "Skipping sitting26.jpg due to insufficient points.\n",
            "Skipping dining032.jpg due to insufficient points.\n",
            "Skipping image1.jpg due to insufficient points.\n",
            "Skipping hall18.jpg due to insufficient points.\n",
            "Skipping kitchen17.jpg due to insufficient points.\n",
            "Skipping living88.jpg due to insufficient points.\n",
            "Skipping kitchen137.jpg due to insufficient points.\n",
            "Skipping living71.jpg due to insufficient points.\n",
            "Skipping pittsburgh_IMG_4078.jpg due to insufficient points.\n",
            "Skipping kitchen78.jpg due to insufficient points.\n",
            "Skipping living29.jpg due to insufficient points.\n",
            "Skipping restaurant36.jpg due to insufficient points.\n",
            "Skipping living14.jpg due to insufficient points.\n",
            "Skipping living53.jpg due to insufficient points.\n",
            "Skipping dining008.jpg due to insufficient points.\n",
            "Skipping dining013.jpg due to insufficient points.\n",
            "Skipping Restaurant14.jpg due to insufficient points.\n",
            "Skipping IMG_1081.jpg due to insufficient points.\n",
            "Skipping office_13.jpg due to insufficient points.\n",
            "Skipping kitchen99.jpg due to insufficient points.\n",
            "Skipping living24.jpg due to insufficient points.\n",
            "Skipping easyst034.jpg due to insufficient points.\n",
            "Skipping office.jpg due to insufficient points.\n",
            "Skipping living20.jpg due to insufficient points.\n",
            "Skipping living38.jpg due to insufficient points.\n",
            "Skipping living23.jpg due to insufficient points.\n",
            "Skipping img_256.jpg due to insufficient points.\n",
            "Skipping IMG_9641.jpg due to insufficient points.\n",
            "Skipping kitchen061.jpg due to insufficient points.\n",
            "Skipping easyst012.jpg due to insufficient points.\n",
            "Skipping living58.jpg due to insufficient points.\n",
            "Skipping restau39.jpg due to insufficient points.\n",
            "Skipping living49.jpg due to insufficient points.\n",
            "Skipping eagle_office.jpg due to insufficient points.\n",
            "Skipping kitchen045.jpg due to insufficient points.\n",
            "Skipping Living31.jpg due to insufficient points.\n",
            "Skipping living69.jpg due to insufficient points.\n",
            "Skipping child2.jpg due to insufficient points.\n",
            "Skipping kitchenblack.jpg due to insufficient points.\n",
            "Skipping kitchen248.jpg due to insufficient points.\n",
            "Skipping Restaurant8.jpg due to insufficient points.\n",
            "Skipping hallway05.jpg due to insufficient points.\n"
          ]
        }
      ]
    },
    {
      "cell_type": "code",
      "source": [
        "import numpy as np\n",
        "from measure import Measure, KolmogorovSmirnov, AucJudd\n",
        "\n",
        "\n",
        "simulated_reaction_times = human_rt_path\n",
        "human_reaction_times = coordinates\n",
        "\n",
        "simulated_saliency_map = np.array( [[910.9, 538.8], [512.2, 659.8], [499.8, 926.4], [546.3, 794.0], [542.3, 938.6], [527.7, 838.1], [548.4, 773.0], [580.4, 687.4],\n",
        "                                    [514.3, 629.0], [490.1, 579.6], [245.1, 458.8], [182.4, 452.9], [467.0, 427.2], [752.6, 440.7], [735.6, 463.3], [841.6, 456.3],\n",
        "                                    [705.1, 438.8], [756.3, 525.5], [899.5, 556.0], [1165.3, 558.1], [869.0, 462.8], [910.7, 432.8], [1247.5, 464.0],\n",
        "                                    [1352.9, 460.5], [1545.8, 438.7], [1575.5, 427.7], [1745.7, 479.3], [1715.2, 473.2], [1603.6, 967.7], [1558.1, 954.1], [1177.7, 579.2]])\n",
        "ground_truth_coords = np.array([[890.3, 525.6], [478.2, 430.6], [181.4, 451.0], [264.4, 467.8], [180.8, 440.3], [1002.6, 472.2], [853.1, 572.1], [519.0, 838.9], [451.1, 916.2], [998.7, 539.7],\n",
        "                                [1330.7, 471.9], [1593.2, 438.9], [1713.1, 474.8], [1701.0, 487.2], [886.1, 477.9], [767.8, 483.7], [932.1, 493.9], [914.2, 571.9], [1162.0, 581.0], [1193.9, 589.1],\n",
        "                                [1008.1, 475.8], [842.7, 472.7], [873.1, 476.0], [1069.8, 474.3], [1235.9, 478.9], [1335.9, 465.7], [848.3, 185.7], [428.4, 491.9],\n",
        "                                [513.1, 575.0], [565.2, 640.9], [509.0, 763.2], [580.8, 662.3], [555.5, 745.8], [1493.4, 603.0], [1553.0, 830.4], [1317.3, 901.2]],)\n",
        "\n",
        "# Instantiate measurement classes with your data\n",
        "ks_measure = KolmogorovSmirnov(sim_rt=simulated_reaction_times, human_rt=human_reaction_times)\n",
        "auc_judd_measure = AucJudd(sim_smap=simulated_saliency_map, human_coords=ground_truth_coords)\n",
        "\n",
        "# Run the measurements\n",
        "ks_result = ks_measure.run()\n",
        "auc_judd_result = auc_judd_measure.run()\n",
        "\n",
        "# Print or use the results as needed\n",
        "print(\"Kolmogorov-Smirnov Result:\", ks_result)\n",
        "print(\"AUC Judd Result:\", auc_judd_result)\n"
      ],
      "metadata": {
        "colab": {
          "base_uri": "https://localhost:8080/"
        },
        "id": "2Oymbn3RRJeh",
        "outputId": "ebfbbce5-6482-40ce-d249-5ff1b150f197"
      },
      "execution_count": 25,
      "outputs": [
        {
          "output_type": "stream",
          "name": "stdout",
          "text": [
            "Kolmogorov-Smirnov Result: None\n",
            "AUC Judd Result: None\n"
          ]
        }
      ]
    },
    {
      "cell_type": "code",
      "source": [
        "run_command = f\"genetic.py\"\n",
        "%run {run_command}"
      ],
      "metadata": {
        "id": "r_34NyrFahF7"
      },
      "execution_count": 46,
      "outputs": []
    },
    {
      "cell_type": "code",
      "source": [
        "import numpy as np\n",
        "\n",
        "fits = np.array([[1.         ,0.83332667],\n",
        " [1.      ,0.99999   ],\n",
        " [1.      ,0.83332667],\n",
        " [1.      ,0.6596603 ],\n",
        " [1.      ,0.66310778],\n",
        " [1.      ,0.49275853],\n",
        " [1.      ,0.49063837],\n",
        " [1.      ,0.49086869],\n",
        " [1.      ,0.50069545]])\n",
        "\n",
        "\n",
        "\n",
        "def find_pareto_efficient(costs):\n",
        "   p = costs[:].argsort(0)\n",
        "   best_inds = np.ones(len(p), dtype=np.int64)\n",
        "   for i in range(len(p)):\n",
        "       best_inds[i] = sum([list(p[:, j]).index(i) for j in range(len(costs[0]))])\n",
        "   best_inds = best_inds.argsort()\n",
        "   return best_inds\n",
        "\n",
        "find_pareto_efficient(fits)"
      ],
      "metadata": {
        "colab": {
          "base_uri": "https://localhost:8080/"
        },
        "id": "iFH3JTO7kC9h",
        "outputId": "26d3479b-fd47-4b86-bf7f-6c88eef5cd1b"
      },
      "execution_count": null,
      "outputs": [
        {
          "output_type": "execute_result",
          "data": {
            "text/plain": [
              "array([0, 6, 3, 5, 7, 1, 2, 4, 8])"
            ]
          },
          "metadata": {},
          "execution_count": 12
        }
      ]
    },
    {
      "cell_type": "code",
      "source": [
        "import numpy as np\n",
        "\n",
        "fits = np.array([[1.        , 0.83332667],\n",
        " [1.        , 0.83332667],\n",
        " [1.        , 0.83332667],\n",
        " [1.        , 0.66363707],\n",
        " [1.        , 0.49086869],\n",
        " [1.        , 0.50352471],\n",
        " [1.        , 0.49292828],\n",
        " [1.        , 0.50780851],\n",
        " [1.        , 0.48974423],\n",
        " [1.        , 0.43692392],\n",
        " [0.99074074, 0.42283899],\n",
        " [0.96296296, 0.46105233]])\n",
        "\n",
        "def find_pareto_efficient(costs):\n",
        "  p = costs[:].argsort(0)\n",
        "  best_inds = np.ones(len(p), dtype=np.int64)\n",
        "  for i in range(len(p)):\n",
        "      best_inds[i] = sum([list(p[:, j]).index(i) for j in range(len(costs[0]))])\n",
        "  best_inds = best_inds.argsort()\n",
        "  return best_inds\n",
        "\n",
        "find_pareto_efficient(fits)"
      ],
      "metadata": {
        "colab": {
          "base_uri": "https://localhost:8080/"
        },
        "id": "x4uqhTNWUIdk",
        "outputId": "4712a85c-0e17-4795-f302-f1fe6d88c06a"
      },
      "execution_count": 57,
      "outputs": [
        {
          "output_type": "execute_result",
          "data": {
            "text/plain": [
              "array([10, 11,  4,  0,  9,  1,  3,  5,  6,  8,  2,  7])"
            ]
          },
          "metadata": {},
          "execution_count": 57
        }
      ]
    },
    {
      "cell_type": "code",
      "source": [
        "gens_best"
      ],
      "metadata": {
        "colab": {
          "base_uri": "https://localhost:8080/"
        },
        "id": "8WoAhgPjPzmz",
        "outputId": "9fd322f0-3e22-460d-e945-1256de258bd0"
      },
      "execution_count": null,
      "outputs": [
        {
          "output_type": "execute_result",
          "data": {
            "text/plain": [
              "array([[0.83332667, 0.83332667, 0.83332667, 0.66363707, 0.49086869,\n",
              "        0.50352471, 0.49292828, 0.50780851, 0.48974423, 0.43692392,\n",
              "        0.42283899, 0.46105233]])"
            ]
          },
          "metadata": {},
          "execution_count": 21
        }
      ]
    },
    {
      "cell_type": "code",
      "source": [],
      "metadata": {
        "id": "j6vJAmPOPzcl"
      },
      "execution_count": null,
      "outputs": []
    },
    {
      "cell_type": "code",
      "execution_count": null,
      "metadata": {
        "colab": {
          "base_uri": "https://localhost:8080/",
          "height": 1000
        },
        "id": "NFCBKbTex1EW",
        "outputId": "a90703b7-1cde-4d9d-ae2d-39581f36a0ae"
      },
      "outputs": [
        {
          "metadata": {
            "tags": null
          },
          "name": "stdout",
          "output_type": "stream",
          "text": [
            "GENERATION 0/2\n",
            "GENERATION 0\n",
            "REMOVING DUPLICATES\n",
            "SELECTION\n",
            "Process-13 started\n",
            "Process-14 started\n",
            "Process-13 STARTED params_set 0Process-15 started\n",
            "\n",
            "Process-14 STARTED params_set 1new thresh 5.0Process-16 started\n",
            "Process-17 started\n",
            "\n",
            "Process-15 STARTED params_set 2\n",
            "new thresh 7.45\n",
            "Process-18 started\n",
            "\n",
            "new thresh 7.45Process-16 STARTED params_set 3Process-19 started\n",
            "\n",
            "\n",
            "new thresh 7.45Process-17 STARTED params_set 4\n",
            "Process-20 started\n",
            "\n",
            "new thresh 5.0\n",
            "Process-18 STARTED params_set 5\n",
            "new thresh 7.45Process-21 started\n",
            "Process-19 STARTED params_set 6\n",
            "\n",
            "new thresh 5.0Process-22 started\n",
            "\n",
            "Process-20 STARTED params_set 7\n",
            "new thresh 7.45\n",
            "Process-21 STARTED params_set 8\n",
            "new thresh 5.0Process-23 started\n",
            "\n",
            "Process-22 STARTED params_set 9\n",
            "Process-24 started\n",
            "new thresh 7.45\n",
            "Process-23 STARTED params_set 10\n",
            "new thresh 5.0\n",
            "Process-24 STARTED params_set 11\n",
            "new thresh 7.45\n",
            "Process-13 LCA started childroom01.jpg 0.0, 0.0, 0.0, 0.0, 0.0, 0.0, 0.0, 0.0 5.0\n"
          ]
        },
        {
          "metadata": {
            "tags": null
          },
          "name": "stderr",
          "output_type": "stream",
          "text": [
            "\r  0%|          | 0/40 [00:00<?, ?it/s]"
          ]
        },
        {
          "metadata": {
            "tags": null
          },
          "name": "stdout",
          "output_type": "stream",
          "text": [
            "Process-14 LCA started childroom01.jpg 0.0, 0.0, 0.0, 0.0, 0.0, 0.0, 0.0, 0.05 7.45\n",
            "Process-15 LCA started childroom01.jpg 0.0, 0.0, 0.0, 0.0, 0.0, 0.0, 0.0, 0.05 7.45\n"
          ]
        },
        {
          "metadata": {
            "tags": null
          },
          "name": "stderr",
          "output_type": "stream",
          "text": [
            "  0%|          | 0/40 [00:00<?, ?it/s]"
          ]
        },
        {
          "metadata": {
            "tags": null
          },
          "name": "stdout",
          "output_type": "stream",
          "text": [
            "Process-20 LCA started childroom01.jpg 0.0, 0.0, 0.0, 0.0, 0.0, 0.0, 0.0, 0.05 7.45\n",
            "Process-18 LCA started childroom01.jpg 0.0, 0.0, 0.0, 0.0, 0.0, 0.0, 0.0, 0.05 7.45\n"
          ]
        },
        {
          "metadata": {
            "tags": null
          },
          "name": "stderr",
          "output_type": "stream",
          "text": [
            "\r  0%|          | 0/40 [00:00<?, ?it/s]"
          ]
        },
        {
          "metadata": {
            "tags": null
          },
          "name": "stdout",
          "output_type": "stream",
          "text": [
            "Process-16 LCA started childroom01.jpg 0.0, 0.0, 0.0, 0.0, 0.0, 0.0, 0.0, 0.05 7.45Process-21 LCA started childroom01.jpg 0.0, 0.0005, 0.0, 0.0, 0.0, 0.0, 0.0, 0.0 5.0\n",
            "\n",
            "Process-19 LCA started childroom01.jpg 0.0, 0.0005, 0.0, 0.0, 0.0, 0.0, 0.0, 0.0 5.0\n",
            "Process-17 LCA started childroom01.jpg 0.0, 0.0005, 0.0, 0.0, 0.0, 0.0, 0.0, 0.0 5.0"
          ]
        },
        {
          "metadata": {
            "tags": null
          },
          "name": "stderr",
          "output_type": "stream",
          "text": [
            "\r  0%|          | 0/40 [00:00<?, ?it/s]"
          ]
        },
        {
          "metadata": {
            "tags": null
          },
          "name": "stdout",
          "output_type": "stream",
          "text": [
            "\n"
          ]
        },
        {
          "metadata": {
            "tags": null
          },
          "name": "stderr",
          "output_type": "stream",
          "text": [
            "  0%|          | 0/40 [00:00<?, ?it/s]"
          ]
        },
        {
          "metadata": {
            "tags": null
          },
          "name": "stdout",
          "output_type": "stream",
          "text": [
            "Process-23 LCA started childroom01.jpg 0.0, 0.0005, 0.0, 0.0, 0.0, 0.0, 0.0, 0.0 5.0\n"
          ]
        },
        {
          "metadata": {
            "tags": null
          },
          "name": "stderr",
          "output_type": "stream",
          "text": [
            "\r  0%|          | 0/40 [00:00<?, ?it/s]"
          ]
        },
        {
          "metadata": {
            "tags": null
          },
          "name": "stdout",
          "output_type": "stream",
          "text": [
            "Process-22 LCA started childroom01.jpg 0.0, 0.0, 0.0, 0.0, 0.0, 0.0, 0.0, 0.05 7.45Process-24 LCA started childroom01.jpg 0.0, 0.0, 0.0, 0.0, 0.0, 0.0, 0.0, 0.05 7.45\n",
            "\n"
          ]
        },
        {
          "metadata": {
            "tags": null
          },
          "name": "stderr",
          "output_type": "stream",
          "text": [
            "  0%|          | 0/40 [00:00<?, ?it/s]"
          ]
        },
        {
          "output_type": "stream",
          "name": "stdout",
          "text": [
            "STARTED trial/Total: 0/40\n",
            "STARTED trial/Total: 0/40\n",
            "STARTED trial/Total: 0/40\n",
            "STARTED trial/Total: 0/40\n",
            "STARTED trial/Total: 0/40\n",
            "STARTED trial/Total: 0/40\n",
            "STARTED trial/Total: 0/40STARTED trial/Total: 0/40\n",
            "\n",
            "STARTED trial/Total: 0/40\n",
            "STARTED trial/Total: 0/40\n",
            "STARTED trial/Total: 0/40\n",
            "STARTED trial/Total: 0/40\n",
            "DONE trial/Total: 0/40\n"
          ]
        },
        {
          "output_type": "stream",
          "name": "stderr",
          "text": [
            "\r  2%|▎         | 1/40 [03:51<2:30:44, 231.92s/it]"
          ]
        },
        {
          "output_type": "stream",
          "name": "stdout",
          "text": [
            "DONE trial/Total: 0/40\n"
          ]
        },
        {
          "output_type": "stream",
          "name": "stderr",
          "text": [
            "\r  2%|▎         | 1/40 [03:53<2:31:35, 233.21s/it]"
          ]
        },
        {
          "output_type": "stream",
          "name": "stdout",
          "text": [
            "DONE trial/Total: 0/40\n"
          ]
        },
        {
          "output_type": "stream",
          "name": "stderr",
          "text": [
            "\r  2%|▎         | 1/40 [03:52<2:31:01, 232.35s/it]"
          ]
        },
        {
          "output_type": "stream",
          "name": "stdout",
          "text": [
            "DONE trial/Total: 0/40\n"
          ]
        },
        {
          "output_type": "stream",
          "name": "stderr",
          "text": [
            "\r  2%|▎         | 1/40 [03:52<2:31:18, 232.78s/it]"
          ]
        },
        {
          "output_type": "stream",
          "name": "stdout",
          "text": [
            "DONE trial/Total: 0/40\n"
          ]
        },
        {
          "output_type": "stream",
          "name": "stderr",
          "text": [
            "\r  2%|▎         | 1/40 [03:52<2:31:11, 232.59s/it]"
          ]
        },
        {
          "output_type": "stream",
          "name": "stdout",
          "text": [
            "DONE trial/Total: 0/40\n"
          ]
        },
        {
          "output_type": "stream",
          "name": "stderr",
          "text": [
            "\r  2%|▎         | 1/40 [03:54<2:32:14, 234.22s/it]"
          ]
        },
        {
          "output_type": "stream",
          "name": "stdout",
          "text": [
            "DONE trial/Total: 0/40\n"
          ]
        },
        {
          "output_type": "stream",
          "name": "stderr",
          "text": [
            "\r  2%|▎         | 1/40 [03:52<2:31:19, 232.80s/it]"
          ]
        },
        {
          "output_type": "stream",
          "name": "stdout",
          "text": [
            "DONE trial/Total: 0/40\n"
          ]
        },
        {
          "output_type": "stream",
          "name": "stderr",
          "text": [
            "\r  2%|▎         | 1/40 [03:53<2:31:36, 233.25s/it]"
          ]
        },
        {
          "output_type": "stream",
          "name": "stdout",
          "text": [
            "DONE trial/Total: 0/40STARTED trial/Total: 1/40\n"
          ]
        },
        {
          "output_type": "stream",
          "name": "stderr",
          "text": [
            "\r  2%|▎         | 1/40 [03:52<2:31:11, 232.61s/it]"
          ]
        },
        {
          "output_type": "stream",
          "name": "stdout",
          "text": [
            "\n",
            "STARTED trial/Total: 1/40DONE trial/Total: 0/40\n",
            "\n",
            "DONE trial/Total: 0/40"
          ]
        },
        {
          "output_type": "stream",
          "name": "stderr",
          "text": [
            "\r  2%|▎         | 1/40 [03:53<2:31:28, 233.04s/it]"
          ]
        },
        {
          "output_type": "stream",
          "name": "stdout",
          "text": [
            "\n"
          ]
        },
        {
          "output_type": "stream",
          "name": "stderr",
          "text": [
            "\r  2%|▎         | 1/40 [03:52<2:31:22, 232.87s/it]"
          ]
        },
        {
          "output_type": "stream",
          "name": "stdout",
          "text": [
            "DONE trial/Total: 0/40\n"
          ]
        },
        {
          "output_type": "stream",
          "name": "stderr",
          "text": [
            "\r  2%|▎         | 1/40 [03:53<2:31:48, 233.56s/it]"
          ]
        },
        {
          "output_type": "stream",
          "name": "stdout",
          "text": [
            "STARTED trial/Total: 1/40STARTED trial/Total: 1/40\n",
            "\n",
            "STARTED trial/Total: 1/40\n",
            "STARTED trial/Total: 1/40\n",
            "STARTED trial/Total: 1/40\n",
            "STARTED trial/Total: 1/40\n",
            "STARTED trial/Total: 1/40\n",
            "STARTED trial/Total: 1/40\n",
            "STARTED trial/Total: 1/40\n",
            "STARTED trial/Total: 1/40\n"
          ]
        },
        {
          "output_type": "stream",
          "name": "stderr",
          "text": [
            "  2%|▎         | 1/40 [05:10<3:21:46, 310.42s/it]\n",
            "\n",
            "\n",
            "  2%|▎         | 1/40 [05:08<3:20:44, 308.84s/it]\n",
            "Process Process-24:\n",
            "Process Process-23:\n",
            "ERROR:root:Internal Python error in the inspect module.\n",
            "Below is the traceback from this internal error.\n",
            "\n",
            "  2%|▎         | 1/40 [05:08<3:20:30, 308.48s/it]\n",
            "\n",
            "Process Process-13:\n",
            "Process Process-16:\n",
            "Process Process-18:\n",
            "ERROR:root:Internal Python error in the inspect module.\n",
            "Below is the traceback from this internal error.\n",
            "\n",
            "  2%|▎         | 1/40 [05:08<3:20:14, 308.05s/it]Process Process-17:\n",
            "\n",
            "  2%|▎         | 1/40 [05:09<3:21:00, 309.25s/it]<generator object tqdm.__iter__ at 0x7bd421768040>Exception ignored in: \n",
            "<generator object tqdm.__iter__ at 0x7bd421633e60>\n",
            "<generator object tqdm.__iter__ at 0x7bd421633e60>Process Process-20:\n",
            "\n",
            "Traceback (most recent call last):\n",
            "Traceback (most recent call last):\n",
            "\n",
            "  File \"/usr/local/lib/python3.10/dist-packages/tqdm/std.py\", line 1197, in __iter__\n",
            "Traceback (most recent call last):\n",
            "  File \"/usr/local/lib/python3.10/dist-packages/tqdm/std.py\", line 1197, in __iter__\n",
            "    self.close()\n",
            "      File \"/usr/local/lib/python3.10/dist-packages/tqdm/std.py\", line 1303, in close\n",
            "  File \"/usr/local/lib/python3.10/dist-packages/tqdm/std.py\", line 1197, in __iter__\n",
            "self.close()    \n",
            "  File \"/usr/local/lib/python3.10/dist-packages/tqdm/std.py\", line 1303, in close\n",
            "self.display(pos=0)\n",
            "    self.display(pos=0)  File \"/usr/local/lib/python3.10/dist-packages/tqdm/std.py\", line 1496, in display\n",
            "\n",
            "          File \"/usr/local/lib/python3.10/dist-packages/tqdm/std.py\", line 1496, in display\n",
            "self.close()self.sp(self.__str__() if msg is None else msg)      File \"/usr/local/lib/python3.10/dist-packages/tqdm/std.py\", line 1304, in close\n"
          ]
        },
        {
          "output_type": "stream",
          "name": "stdout",
          "text": [
            "Traceback (most recent call last):\n",
            "  File \"/usr/local/lib/python3.10/dist-packages/IPython/core/interactiveshell.py\", line 2831, in safe_execfile\n",
            "    py3compat.execfile(\n",
            "  File \"/usr/local/lib/python3.10/dist-packages/IPython/utils/py3compat.py\", line 168, in execfile\n",
            "    exec(compiler(f.read(), fname, 'exec'), glob, loc)\n",
            "  File \"/content/drive/MyDrive/slca-main-pavan/src/train.py\", line 45, in <module>\n",
            "    params[g] = ga.next_gen(g, params[g - 1])\n",
            "  File \"/content/drive/MyDrive/slca-main-pavan/src/genetic.py\", line 229, in next_gen\n",
            "    return new_params\n",
            "  File \"/content/drive/MyDrive/slca-main-pavan/src/genetic.py\", line 172, in select_best\n",
            "    return res\n",
            "  File \"/usr/lib/python3.10/multiprocessing/process.py\", line 149, in join\n",
            "    res = self._popen.wait(timeout)\n",
            "  File \"/usr/lib/python3.10/multiprocessing/popen_fork.py\", line 43, in wait\n",
            "    return self.poll(os.WNOHANG if timeout == 0.0 else 0)\n",
            "  File \"/usr/lib/python3.10/multiprocessing/popen_fork.py\", line 27, in poll\n",
            "    pid, sts = os.waitpid(self.pid, flag)\n",
            "KeyboardInterrupt\n",
            "\n",
            "During handling of the above exception, another exception occurred:\n",
            "\n",
            "Traceback (most recent call last):\n",
            "  File \"/usr/local/lib/python3.10/dist-packages/IPython/core/interactiveshell.py\", line 2099, in showtraceback\n",
            "    stb = value._render_traceback_()\n",
            "AttributeError: 'KeyboardInterrupt' object has no attribute '_render_traceback_'\n",
            "\n",
            "During handling of the above exception, another exception occurred:\n",
            "\n",
            "Traceback (most recent call last):\n",
            "  File \"/usr/local/lib/python3.10/dist-packages/IPython/core/ultratb.py\", line 1101, in get_records\n",
            "    return _fixed_getinnerframes(etb, number_of_lines_of_context, tb_offset)\n",
            "  File \"/usr/local/lib/python3.10/dist-packages/IPython/core/ultratb.py\", line 248, in wrapped\n",
            "    return f(*args, **kwargs)\n",
            "  File \"/usr/local/lib/python3.10/dist-packages/IPython/core/ultratb.py\", line 293, in _fixed_getinnerframes\n",
            "    aux = traceback.extract_tb(etb)\n",
            "  File \"/usr/lib/python3.10/traceback.py\", line 72, in extract_tb\n",
            "    return StackSummary.extract(walk_tb(tb), limit=limit)\n",
            "  File \"/usr/lib/python3.10/traceback.py\", line 379, in extract\n",
            "    linecache.checkcache(filename)\n",
            "  File \"/usr/local/lib/python3.10/dist-packages/IPython/core/compilerop.py\", line 185, in check_linecache_ipython\n",
            "    linecache._checkcache_ori(*args)\n",
            "  File \"/usr/lib/python3.10/linecache.py\", line 72, in checkcache\n",
            "    stat = os.stat(fullname)\n",
            "KeyboardInterrupt\n",
            "Traceback (most recent call last):\n",
            "  File \"/usr/local/lib/python3.10/dist-packages/IPython/core/interactiveshell.py\", line 2831, in safe_execfile\n",
            "    py3compat.execfile(\n",
            "  File \"/usr/local/lib/python3.10/dist-packages/IPython/utils/py3compat.py\", line 168, in execfile\n",
            "    exec(compiler(f.read(), fname, 'exec'), glob, loc)\n",
            "  File \"/content/drive/MyDrive/slca-main-pavan/src/train.py\", line 45, in <module>\n",
            "    params[g] = ga.next_gen(g, params[g - 1])\n",
            "  File \"/content/drive/MyDrive/slca-main-pavan/src/genetic.py\", line 229, in next_gen\n",
            "    return new_params\n",
            "  File \"/content/drive/MyDrive/slca-main-pavan/src/genetic.py\", line 172, in select_best\n",
            "    return res\n",
            "  File \"/usr/lib/python3.10/multiprocessing/process.py\", line 149, in join\n",
            "    res = self._popen.wait(timeout)\n",
            "  File \"/usr/lib/python3.10/multiprocessing/popen_fork.py\", line 43, in wait\n",
            "    return self.poll(os.WNOHANG if timeout == 0.0 else 0)\n",
            "  File \"/usr/lib/python3.10/multiprocessing/popen_fork.py\", line 27, in poll\n",
            "    pid, sts = os.waitpid(self.pid, flag)\n",
            "KeyboardInterrupt\n",
            "\n",
            "During handling of the above exception, another exception occurred:\n",
            "\n",
            "Traceback (most recent call last):\n",
            "  File \"/usr/local/lib/python3.10/dist-packages/IPython/core/interactiveshell.py\", line 2099, in showtraceback\n",
            "    stb = value._render_traceback_()\n",
            "AttributeError: 'KeyboardInterrupt' object has no attribute '_render_traceback_'\n",
            "\n",
            "During handling of the above exception, another exception occurred:\n",
            "\n",
            "Traceback (most recent call last):\n",
            "  File \"/usr/local/lib/python3.10/dist-packages/IPython/core/interactiveshell.py\", line 3553, in run_code\n",
            "    exec(code_obj, self.user_global_ns, self.user_ns)\n",
            "  File \"<ipython-input-7-c46b6cd0eae4>\", line 2, in <cell line: 2>\n",
            "    get_ipython().run_line_magic('run', '{run_command}')\n",
            "  File \"/usr/local/lib/python3.10/dist-packages/IPython/core/interactiveshell.py\", line 2418, in run_line_magic\n",
            "    result = fn(*args, **kwargs)\n",
            "  File \"<decorator-gen-52>\", line 2, in run\n",
            "  File \"/usr/local/lib/python3.10/dist-packages/IPython/core/magic.py\", line 187, in <lambda>\n",
            "    call = lambda f, *a, **k: f(*a, **k)\n",
            "  File \"/usr/local/lib/python3.10/dist-packages/IPython/core/magics/execution.py\", line 847, in run\n",
            "    run()\n",
            "  File \"/usr/local/lib/python3.10/dist-packages/IPython/core/magics/execution.py\", line 832, in run\n",
            "    runner(filename, prog_ns, prog_ns,\n",
            "  File \"/usr/local/lib/python3.10/dist-packages/IPython/core/pylabtools.py\", line 212, in mpl_execfile\n",
            "    safe_execfile(fname,*where,**kw)\n",
            "  File \"/usr/local/lib/python3.10/dist-packages/IPython/core/interactiveshell.py\", line 2853, in safe_execfile\n",
            "    self.showtraceback(tb_offset=2)\n",
            "  File \"/usr/local/lib/python3.10/dist-packages/IPython/core/interactiveshell.py\", line 2101, in showtraceback\n",
            "    stb = self.InteractiveTB.structured_traceback(etype,\n",
            "  File \"/usr/local/lib/python3.10/dist-packages/IPython/core/ultratb.py\", line 1367, in structured_traceback\n",
            "    return FormattedTB.structured_traceback(\n",
            "  File \"/usr/local/lib/python3.10/dist-packages/IPython/core/ultratb.py\", line 1267, in structured_traceback\n",
            "    return VerboseTB.structured_traceback(\n",
            "  File \"/usr/local/lib/python3.10/dist-packages/IPython/core/ultratb.py\", line 1124, in structured_traceback\n",
            "    formatted_exception = self.format_exception_as_a_whole(etype, evalue, etb, number_of_lines_of_context,\n",
            "  File \"/usr/local/lib/python3.10/dist-packages/IPython/core/ultratb.py\", line 1082, in format_exception_as_a_whole\n",
            "    last_unique, recursion_repeat = find_recursion(orig_etype, evalue, records)\n",
            "  File \"/usr/local/lib/python3.10/dist-packages/IPython/core/ultratb.py\", line 382, in find_recursion\n",
            "    return len(records), 0\n",
            "TypeError: object of type 'NoneType' has no len()\n",
            "\n",
            "During handling of the above exception, another exception occurred:\n",
            "\n",
            "Traceback (most recent call last):\n",
            "  File \"/usr/local/lib/python3.10/dist-packages/IPython/core/interactiveshell.py\", line 2099, in showtraceback\n",
            "    stb = value._render_traceback_()\n",
            "AttributeError: 'TypeError' object has no attribute '_render_traceback_'\n",
            "\n",
            "During handling of the above exception, another exception occurred:\n",
            "\n",
            "Traceback (most recent call last):\n",
            "  File \"/usr/local/lib/python3.10/dist-packages/IPython/core/ultratb.py\", line 1101, in get_records\n",
            "    return _fixed_getinnerframes(etb, number_of_lines_of_context, tb_offset)\n",
            "  File \"/usr/local/lib/python3.10/dist-packages/IPython/core/ultratb.py\", line 248, in wrapped\n",
            "    return f(*args, **kwargs)\n",
            "  File \"/usr/local/lib/python3.10/dist-packages/IPython/core/ultratb.py\", line 281, in _fixed_getinnerframes\n",
            "    records = fix_frame_records_filenames(inspect.getinnerframes(etb, context))\n",
            "  File \"/usr/lib/python3.10/inspect.py\", line 1662, in getinnerframes\n",
            "    frameinfo = (tb.tb_frame,) + getframeinfo(tb, context)\n",
            "  File \"/usr/lib/python3.10/inspect.py\", line 1620, in getframeinfo\n",
            "    filename = getsourcefile(frame) or getfile(frame)\n",
            "  File \"/usr/lib/python3.10/inspect.py\", line 829, in getsourcefile\n",
            "    module = getmodule(object, filename)\n",
            "  File \"/usr/lib/python3.10/inspect.py\", line 875, in getmodule\n",
            "    f = getabsfile(module)\n",
            "  File \"/usr/lib/python3.10/inspect.py\", line 844, in getabsfile\n",
            "    _filename = getsourcefile(object) or getfile(object)\n",
            "  File \"/usr/lib/python3.10/inspect.py\", line 826, in getsourcefile\n",
            "    if os.path.exists(filename):\n",
            "  File \"/usr/lib/python3.10/genericpath.py\", line 19, in exists\n",
            "    os.stat(path)\n",
            "KeyboardInterrupt\n"
          ]
        },
        {
          "output_type": "stream",
          "name": "stderr",
          "text": [
            "  File \"/usr/local/lib/python3.10/dist-packages/tqdm/std.py\", line 462, in print_status\n",
            "  2%|▎         | 1/40 [05:10<3:21:40, 310.26s/it]        Exception ignored in: : \n",
            "<generator object tqdm.__iter__ at 0x7bd421768040>fp_write('\\n')fp_write('\\r' + s + (' ' * max(last_len[0] - len_s, 0)))\n",
            "Process Process-14:\n",
            "\n",
            "\n",
            "\n",
            "Process Process-19:\n",
            "  File \"/usr/local/lib/python3.10/dist-packages/tqdm/std.py\", line 1288, in fp_write\n",
            "Traceback (most recent call last):\n",
            "  File \"/usr/local/lib/python3.10/dist-packages/tqdm/std.py\", line 455, in fp_write\n",
            "      File \"/usr/local/lib/python3.10/dist-packages/tqdm/std.py\", line 1197, in __iter__\n",
            "        fp.write(str(s))self.fp.write(str(s))\n",
            "self.close()\n",
            "  File \"/usr/local/lib/python3.10/dist-packages/tqdm/utils.py\", line 195, in inner\n",
            "  File \"/usr/local/lib/python3.10/dist-packages/tqdm/utils.py\", line 195, in inner\n",
            "\n",
            "  File \"/usr/local/lib/python3.10/dist-packages/tqdm/std.py\", line 1303, in close\n",
            "            return func(*args, **kwargs)self.display(pos=0)\n",
            "  File \"/usr/local/lib/python3.10/dist-packages/ipykernel/iostream.py\", line 410, in write\n",
            "\n",
            "return func(*args, **kwargs)      File \"/usr/local/lib/python3.10/dist-packages/tqdm/std.py\", line 1496, in display\n",
            "    \n",
            "Traceback (most recent call last):\n",
            "Traceback (most recent call last):\n",
            "  File \"/usr/lib/python3.10/multiprocessing/process.py\", line 314, in _bootstrap\n",
            "    self.run()\n",
            "  File \"/usr/lib/python3.10/multiprocessing/process.py\", line 314, in _bootstrap\n",
            "    self.run()\n",
            "self.pub_thread.schedule(self._flush)self.sp(self.__str__() if msg is None else msg)  File \"/usr/local/lib/python3.10/dist-packages/ipykernel/iostream.py\", line 410, in write\n",
            "  File \"/usr/lib/python3.10/multiprocessing/process.py\", line 108, in run\n",
            "    self._target(*self._args, **self._kwargs)\n",
            "  File \"/usr/lib/python3.10/multiprocessing/process.py\", line 108, in run\n",
            "    self._target(*self._args, **self._kwargs)\n",
            "\n",
            "      File \"/content/drive/MyDrive/slca-main-pavan/src/genetic.py\", line 157, in process_fit\n",
            "  File \"/content/drive/MyDrive/slca-main-pavan/src/genetic.py\", line 157, in process_fit\n",
            "  File \"/usr/local/lib/python3.10/dist-packages/tqdm/std.py\", line 462, in print_status\n",
            "self.pub_thread.schedule(self._flush)  File \"/content/drive/MyDrive/slca-main-pavan/src/genetic.py\", line 98, in calculate_fitness\n",
            "    coords, rt = lca.run_2dim(stimuli=input_seq)\n",
            "\n",
            "  File \"/content/drive/MyDrive/slca-main-pavan/src/genetic.py\", line 98, in calculate_fitness\n",
            "    coords, rt = lca.run_2dim(stimuli=input_seq)\n",
            "      File \"/content/drive/MyDrive/slca-main-pavan/src/slca.py\", line 240, in run_2dim\n",
            "    if np.any(V[trial, time_moment, :] > self.threshold):\n",
            "  File \"/usr/local/lib/python3.10/dist-packages/ipykernel/iostream.py\", line 205, in schedule\n",
            "\n",
            "  File \"/content/drive/MyDrive/slca-main-pavan/src/slca.py\", line 240, in run_2dim\n",
            "    if np.any(V[trial, time_moment, :] > self.threshold):\n",
            "      File \"<__array_function__ internals>\", line 177, in any\n",
            "  File \"/usr/local/lib/python3.10/dist-packages/ipykernel/iostream.py\", line 205, in schedule\n",
            "f()KeyboardInterrupt\n",
            "fp_write('\\r' + s + (' ' * max(last_len[0] - len_s, 0)))\n",
            "  File \"<__array_function__ internals>\", line 177, in any\n",
            "f()  File \"/usr/local/lib/python3.10/dist-packages/ipykernel/iostream.py\", line 381, in _flush\n",
            "KeyboardInterrupt\n",
            "\n",
            "\n",
            "      File \"/usr/local/lib/python3.10/dist-packages/ipykernel/iostream.py\", line 381, in _flush\n",
            "  File \"/usr/local/lib/python3.10/dist-packages/tqdm/std.py\", line 455, in fp_write\n",
            "    self.session.send(self.pub_thread, 'stream', content=content,    self.session.send(self.pub_thread, 'stream', content=content,\n",
            "  File \"/usr/local/lib/python3.10/dist-packages/jupyter_client/session.py\", line 753, in send\n",
            "\n",
            "fp.write(str(s))\n",
            "  File \"/usr/local/lib/python3.10/dist-packages/jupyter_client/session.py\", line 753, in send\n",
            "  File \"/usr/local/lib/python3.10/dist-packages/tqdm/utils.py\", line 195, in inner\n",
            "            stream.send_multipart(to_send, copy=copy)stream.send_multipart(to_send, copy=copy)return func(*args, **kwargs)\n",
            "\n",
            "\n",
            "  File \"/usr/local/lib/python3.10/dist-packages/ipykernel/iostream.py\", line 410, in write\n",
            "  File \"/usr/local/lib/python3.10/dist-packages/ipykernel/iostream.py\", line 212, in send_multipart\n",
            "  File \"/usr/local/lib/python3.10/dist-packages/ipykernel/iostream.py\", line 212, in send_multipart\n",
            "            self.pub_thread.schedule(self._flush)self.schedule(lambda : self._really_send(*args, **kwargs))self.schedule(lambda : self._really_send(*args, **kwargs))\n",
            "\n",
            "\n",
            "  File \"/usr/local/lib/python3.10/dist-packages/ipykernel/iostream.py\", line 205, in schedule\n",
            "  File \"/usr/local/lib/python3.10/dist-packages/ipykernel/iostream.py\", line 205, in schedule\n",
            "  File \"/usr/local/lib/python3.10/dist-packages/ipykernel/iostream.py\", line 205, in schedule\n",
            "            f()f()f()\n",
            "\n",
            "  File \"/usr/local/lib/python3.10/dist-packages/ipykernel/iostream.py\", line 381, in _flush\n",
            "\n",
            "  File \"/usr/local/lib/python3.10/dist-packages/ipykernel/iostream.py\", line 212, in <lambda>\n",
            "      File \"/usr/local/lib/python3.10/dist-packages/ipykernel/iostream.py\", line 212, in <lambda>\n",
            "    self.session.send(self.pub_thread, 'stream', content=content,    self.schedule(lambda : self._really_send(*args, **kwargs))\n",
            "self.schedule(lambda : self._really_send(*args, **kwargs))\n",
            "  File \"/usr/local/lib/python3.10/dist-packages/jupyter_client/session.py\", line 753, in send\n",
            "    stream.send_multipart(to_send, copy=copy)\n",
            "  File \"/usr/local/lib/python3.10/dist-packages/ipykernel/iostream.py\", line 228, in _really_send\n",
            "\n",
            "      File \"/usr/local/lib/python3.10/dist-packages/ipykernel/iostream.py\", line 228, in _really_send\n",
            "      File \"/usr/local/lib/python3.10/dist-packages/ipykernel/iostream.py\", line 212, in send_multipart\n",
            "ctx.term()\n",
            "ctx.term()    \n",
            "self.schedule(lambda : self._really_send(*args, **kwargs))  File \"/usr/local/lib/python3.10/dist-packages/zmq/sugar/context.py\", line 192, in term\n",
            "  File \"/usr/local/lib/python3.10/dist-packages/zmq/sugar/context.py\", line 192, in term\n",
            "    \n",
            "      File \"/usr/local/lib/python3.10/dist-packages/ipykernel/iostream.py\", line 205, in schedule\n",
            "super().term()super().term()    \n",
            "  File \"zmq/backend/cython/context.pyx\", line 83, in zmq.backend.cython.context.Context.term\n",
            "\n",
            "f()  File \"zmq/backend/cython/checkrc.pxd\", line 13, in zmq.backend.cython.checkrc._check_rc\n",
            "\n",
            "  File \"zmq/backend/cython/context.pyx\", line 83, in zmq.backend.cython.context.Context.term\n",
            "  File \"/usr/local/lib/python3.10/dist-packages/ipykernel/iostream.py\", line 212, in <lambda>\n",
            "KeyboardInterrupt    self.schedule(lambda : self._really_send(*args, **kwargs)):   File \"zmq/backend/cython/checkrc.pxd\", line 13, in zmq.backend.cython.checkrc._check_rc\n",
            "\n",
            "  File \"/usr/local/lib/python3.10/dist-packages/ipykernel/iostream.py\", line 225, in _really_send\n",
            "\n",
            "KeyboardInterrupt    ctx, pipe_out = self._setup_pipe_out()\n",
            ": Process Process-15:\n",
            "  File \"/usr/local/lib/python3.10/dist-packages/ipykernel/iostream.py\", line 156, in _setup_pipe_out\n",
            "\n",
            "    Traceback (most recent call last):\n",
            "Process Process-22:\n",
            "  File \"/usr/lib/python3.10/multiprocessing/process.py\", line 314, in _bootstrap\n",
            "    self.run()\n",
            "Traceback (most recent call last):\n",
            "pipe_out.connect(\"tcp://127.0.0.1:%i\" % self._pipe_port)  File \"/usr/lib/python3.10/multiprocessing/process.py\", line 108, in run\n",
            "    self._target(*self._args, **self._kwargs)\n",
            "\n",
            "  File \"/usr/lib/python3.10/multiprocessing/process.py\", line 314, in _bootstrap\n",
            "    self.run()\n",
            "  File \"/content/drive/MyDrive/slca-main-pavan/src/genetic.py\", line 157, in process_fit\n",
            "  File \"/usr/lib/python3.10/multiprocessing/process.py\", line 108, in run\n",
            "    self._target(*self._args, **self._kwargs)\n",
            "  File \"/usr/local/lib/python3.10/dist-packages/zmq/sugar/socket.py\", line 252, in connect\n",
            "  File \"/content/drive/MyDrive/slca-main-pavan/src/genetic.py\", line 98, in calculate_fitness\n",
            "    coords, rt = lca.run_2dim(stimuli=input_seq)\n",
            "  File \"/content/drive/MyDrive/slca-main-pavan/src/genetic.py\", line 157, in process_fit\n",
            "      File \"/content/drive/MyDrive/slca-main-pavan/src/slca.py\", line 240, in run_2dim\n",
            "    if np.any(V[trial, time_moment, :] > self.threshold):\n",
            "  File \"/content/drive/MyDrive/slca-main-pavan/src/genetic.py\", line 98, in calculate_fitness\n",
            "    coords, rt = lca.run_2dim(stimuli=input_seq)\n",
            "super().connect(addr)  File \"<__array_function__ internals>\", line 177, in any\n",
            "\n",
            "  File \"/content/drive/MyDrive/slca-main-pavan/src/slca.py\", line 240, in run_2dim\n",
            "    if np.any(V[trial, time_moment, :] > self.threshold):\n",
            "KeyboardInterrupt\n",
            "  File \"<__array_function__ internals>\", line 177, in any\n",
            "  File \"zmq/backend/cython/socket.pyx\", line 595, in zmq.backend.cython.socket.Socket.connect\n",
            "KeyboardInterrupt\n",
            "  File \"zmq/backend/cython/checkrc.pxd\", line 13, in zmq.backend.cython.checkrc._check_rc\n",
            "KeyboardInterrupt: \n",
            "  File \"/usr/lib/python3.10/multiprocessing/process.py\", line 314, in _bootstrap\n",
            "    self.run()\n",
            "Process Process-21:\n",
            "Traceback (most recent call last):\n",
            "  File \"/usr/lib/python3.10/multiprocessing/process.py\", line 108, in run\n",
            "    self._target(*self._args, **self._kwargs)\n",
            "  File \"/content/drive/MyDrive/slca-main-pavan/src/genetic.py\", line 157, in process_fit\n",
            "  File \"/content/drive/MyDrive/slca-main-pavan/src/genetic.py\", line 98, in calculate_fitness\n",
            "    coords, rt = lca.run_2dim(stimuli=input_seq)\n",
            "  File \"/content/drive/MyDrive/slca-main-pavan/src/slca.py\", line 240, in run_2dim\n",
            "    if np.any(V[trial, time_moment, :] > self.threshold):\n",
            "  File \"<__array_function__ internals>\", line 177, in any\n",
            "KeyboardInterrupt\n"
          ]
        },
        {
          "output_type": "error",
          "ename": "TypeError",
          "evalue": "ignored",
          "traceback": [
            "\u001b[0;31m---------------------------------------------------------------------------\u001b[0m",
            "\u001b[0;31mKeyboardInterrupt\u001b[0m                         Traceback (most recent call last)",
            "\u001b[0;32m/usr/local/lib/python3.10/dist-packages/IPython/core/interactiveshell.py\u001b[0m in \u001b[0;36msafe_execfile\u001b[0;34m(self, fname, exit_ignore, raise_exceptions, shell_futures, *where)\u001b[0m\n\u001b[1;32m   2830\u001b[0m                 \u001b[0mglob\u001b[0m\u001b[0;34m,\u001b[0m \u001b[0mloc\u001b[0m \u001b[0;34m=\u001b[0m \u001b[0;34m(\u001b[0m\u001b[0mwhere\u001b[0m \u001b[0;34m+\u001b[0m \u001b[0;34m(\u001b[0m\u001b[0;32mNone\u001b[0m\u001b[0;34m,\u001b[0m \u001b[0;34m)\u001b[0m\u001b[0;34m)\u001b[0m\u001b[0;34m[\u001b[0m\u001b[0;34m:\u001b[0m\u001b[0;36m2\u001b[0m\u001b[0;34m]\u001b[0m\u001b[0;34m\u001b[0m\u001b[0;34m\u001b[0m\u001b[0m\n\u001b[0;32m-> 2831\u001b[0;31m                 py3compat.execfile(\n\u001b[0m\u001b[1;32m   2832\u001b[0m                     \u001b[0mfname\u001b[0m\u001b[0;34m,\u001b[0m \u001b[0mglob\u001b[0m\u001b[0;34m,\u001b[0m \u001b[0mloc\u001b[0m\u001b[0;34m,\u001b[0m\u001b[0;34m\u001b[0m\u001b[0;34m\u001b[0m\u001b[0m\n",
            "\u001b[0;32m/usr/local/lib/python3.10/dist-packages/IPython/utils/py3compat.py\u001b[0m in \u001b[0;36mexecfile\u001b[0;34m(fname, glob, loc, compiler)\u001b[0m\n\u001b[1;32m    167\u001b[0m         \u001b[0mcompiler\u001b[0m \u001b[0;34m=\u001b[0m \u001b[0mcompiler\u001b[0m \u001b[0;32mor\u001b[0m \u001b[0mcompile\u001b[0m\u001b[0;34m\u001b[0m\u001b[0;34m\u001b[0m\u001b[0m\n\u001b[0;32m--> 168\u001b[0;31m         \u001b[0mexec\u001b[0m\u001b[0;34m(\u001b[0m\u001b[0mcompiler\u001b[0m\u001b[0;34m(\u001b[0m\u001b[0mf\u001b[0m\u001b[0;34m.\u001b[0m\u001b[0mread\u001b[0m\u001b[0;34m(\u001b[0m\u001b[0;34m)\u001b[0m\u001b[0;34m,\u001b[0m \u001b[0mfname\u001b[0m\u001b[0;34m,\u001b[0m \u001b[0;34m'exec'\u001b[0m\u001b[0;34m)\u001b[0m\u001b[0;34m,\u001b[0m \u001b[0mglob\u001b[0m\u001b[0;34m,\u001b[0m \u001b[0mloc\u001b[0m\u001b[0;34m)\u001b[0m\u001b[0;34m\u001b[0m\u001b[0;34m\u001b[0m\u001b[0m\n\u001b[0m\u001b[1;32m    169\u001b[0m \u001b[0;34m\u001b[0m\u001b[0m\n",
            "\u001b[0;32m/content/drive/MyDrive/slca-main-pavan/src/train.py\u001b[0m in \u001b[0;36m<module>\u001b[0;34m\u001b[0m\n\u001b[1;32m     44\u001b[0m         \u001b[0;31m# Call next_gen with the stored parameters\u001b[0m\u001b[0;34m\u001b[0m\u001b[0;34m\u001b[0m\u001b[0m\n\u001b[0;32m---> 45\u001b[0;31m             \u001b[0mparams\u001b[0m\u001b[0;34m[\u001b[0m\u001b[0mg\u001b[0m\u001b[0;34m]\u001b[0m \u001b[0;34m=\u001b[0m \u001b[0mga\u001b[0m\u001b[0;34m.\u001b[0m\u001b[0mnext_gen\u001b[0m\u001b[0;34m(\u001b[0m\u001b[0mg\u001b[0m\u001b[0;34m,\u001b[0m \u001b[0mparams\u001b[0m\u001b[0;34m[\u001b[0m\u001b[0mg\u001b[0m \u001b[0;34m-\u001b[0m \u001b[0;36m1\u001b[0m\u001b[0;34m]\u001b[0m\u001b[0;34m)\u001b[0m\u001b[0;34m\u001b[0m\u001b[0;34m\u001b[0m\u001b[0m\n\u001b[0m\u001b[1;32m     46\u001b[0m             \u001b[0mprint\u001b[0m\u001b[0;34m(\u001b[0m\u001b[0;34mf'GENERATION {g} RES {list(params[g])}'\u001b[0m\u001b[0;34m)\u001b[0m\u001b[0;34m\u001b[0m\u001b[0;34m\u001b[0m\u001b[0m\n",
            "\u001b[0;32m/content/drive/MyDrive/slca-main-pavan/src/genetic.py\u001b[0m in \u001b[0;36mnext_gen\u001b[0;34m(self, g, all_sets)\u001b[0m\n\u001b[1;32m    228\u001b[0m             \u001b[0mnew_params\u001b[0m\u001b[0;34m[\u001b[0m\u001b[0mparam_num\u001b[0m\u001b[0;34m]\u001b[0m \u001b[0;34m=\u001b[0m \u001b[0mself\u001b[0m\u001b[0;34m.\u001b[0m\u001b[0mparams_diap\u001b[0m\u001b[0;34m[\u001b[0m\u001b[0mparam_num\u001b[0m\u001b[0;34m]\u001b[0m\u001b[0;34m[\u001b[0m\u001b[0;36m1\u001b[0m\u001b[0;34m]\u001b[0m\u001b[0;34m\u001b[0m\u001b[0;34m\u001b[0m\u001b[0m\n\u001b[0;32m--> 229\u001b[0;31m         \u001b[0;32mreturn\u001b[0m \u001b[0mnew_params\u001b[0m\u001b[0;34m\u001b[0m\u001b[0;34m\u001b[0m\u001b[0m\n\u001b[0m\u001b[1;32m    230\u001b[0m \u001b[0;34m\u001b[0m\u001b[0m\n",
            "\u001b[0;32m/content/drive/MyDrive/slca-main-pavan/src/genetic.py\u001b[0m in \u001b[0;36mselect_best\u001b[0;34m(self, sets)\u001b[0m\n\u001b[1;32m    171\u001b[0m         \u001b[0mres\u001b[0m \u001b[0;34m=\u001b[0m \u001b[0;34m{\u001b[0m\u001b[0;34m'params'\u001b[0m\u001b[0;34m:\u001b[0m \u001b[0mparameters\u001b[0m\u001b[0;34m,\u001b[0m \u001b[0;34m'fitness'\u001b[0m\u001b[0;34m:\u001b[0m \u001b[0;34m(\u001b[0m\u001b[0mnp\u001b[0m\u001b[0;34m.\u001b[0m\u001b[0mmean\u001b[0m\u001b[0;34m(\u001b[0m\u001b[0mall_ks\u001b[0m\u001b[0;34m)\u001b[0m\u001b[0;34m,\u001b[0m \u001b[0mnp\u001b[0m\u001b[0;34m.\u001b[0m\u001b[0mmean\u001b[0m\u001b[0;34m(\u001b[0m\u001b[0mall_aj\u001b[0m\u001b[0;34m)\u001b[0m\u001b[0;34m)\u001b[0m\u001b[0;34m}\u001b[0m\u001b[0;34m\u001b[0m\u001b[0;34m\u001b[0m\u001b[0m\n\u001b[0;32m--> 172\u001b[0;31m         \u001b[0;32mreturn\u001b[0m \u001b[0mres\u001b[0m\u001b[0;34m\u001b[0m\u001b[0;34m\u001b[0m\u001b[0m\n\u001b[0m\u001b[1;32m    173\u001b[0m \u001b[0;34m\u001b[0m\u001b[0m\n",
            "\u001b[0;32m/usr/lib/python3.10/multiprocessing/process.py\u001b[0m in \u001b[0;36mjoin\u001b[0;34m(self, timeout)\u001b[0m\n\u001b[1;32m    148\u001b[0m         \u001b[0;32massert\u001b[0m \u001b[0mself\u001b[0m\u001b[0;34m.\u001b[0m\u001b[0m_popen\u001b[0m \u001b[0;32mis\u001b[0m \u001b[0;32mnot\u001b[0m \u001b[0;32mNone\u001b[0m\u001b[0;34m,\u001b[0m \u001b[0;34m'can only join a started process'\u001b[0m\u001b[0;34m\u001b[0m\u001b[0;34m\u001b[0m\u001b[0m\n\u001b[0;32m--> 149\u001b[0;31m         \u001b[0mres\u001b[0m \u001b[0;34m=\u001b[0m \u001b[0mself\u001b[0m\u001b[0;34m.\u001b[0m\u001b[0m_popen\u001b[0m\u001b[0;34m.\u001b[0m\u001b[0mwait\u001b[0m\u001b[0;34m(\u001b[0m\u001b[0mtimeout\u001b[0m\u001b[0;34m)\u001b[0m\u001b[0;34m\u001b[0m\u001b[0;34m\u001b[0m\u001b[0m\n\u001b[0m\u001b[1;32m    150\u001b[0m         \u001b[0;32mif\u001b[0m \u001b[0mres\u001b[0m \u001b[0;32mis\u001b[0m \u001b[0;32mnot\u001b[0m \u001b[0;32mNone\u001b[0m\u001b[0;34m:\u001b[0m\u001b[0;34m\u001b[0m\u001b[0;34m\u001b[0m\u001b[0m\n",
            "\u001b[0;32m/usr/lib/python3.10/multiprocessing/popen_fork.py\u001b[0m in \u001b[0;36mwait\u001b[0;34m(self, timeout)\u001b[0m\n\u001b[1;32m     42\u001b[0m             \u001b[0;31m# This shouldn't block if wait() returned successfully.\u001b[0m\u001b[0;34m\u001b[0m\u001b[0;34m\u001b[0m\u001b[0m\n\u001b[0;32m---> 43\u001b[0;31m             \u001b[0;32mreturn\u001b[0m \u001b[0mself\u001b[0m\u001b[0;34m.\u001b[0m\u001b[0mpoll\u001b[0m\u001b[0;34m(\u001b[0m\u001b[0mos\u001b[0m\u001b[0;34m.\u001b[0m\u001b[0mWNOHANG\u001b[0m \u001b[0;32mif\u001b[0m \u001b[0mtimeout\u001b[0m \u001b[0;34m==\u001b[0m \u001b[0;36m0.0\u001b[0m \u001b[0;32melse\u001b[0m \u001b[0;36m0\u001b[0m\u001b[0;34m)\u001b[0m\u001b[0;34m\u001b[0m\u001b[0;34m\u001b[0m\u001b[0m\n\u001b[0m\u001b[1;32m     44\u001b[0m         \u001b[0;32mreturn\u001b[0m \u001b[0mself\u001b[0m\u001b[0;34m.\u001b[0m\u001b[0mreturncode\u001b[0m\u001b[0;34m\u001b[0m\u001b[0;34m\u001b[0m\u001b[0m\n",
            "\u001b[0;32m/usr/lib/python3.10/multiprocessing/popen_fork.py\u001b[0m in \u001b[0;36mpoll\u001b[0;34m(self, flag)\u001b[0m\n\u001b[1;32m     26\u001b[0m             \u001b[0;32mtry\u001b[0m\u001b[0;34m:\u001b[0m\u001b[0;34m\u001b[0m\u001b[0;34m\u001b[0m\u001b[0m\n\u001b[0;32m---> 27\u001b[0;31m                 \u001b[0mpid\u001b[0m\u001b[0;34m,\u001b[0m \u001b[0msts\u001b[0m \u001b[0;34m=\u001b[0m \u001b[0mos\u001b[0m\u001b[0;34m.\u001b[0m\u001b[0mwaitpid\u001b[0m\u001b[0;34m(\u001b[0m\u001b[0mself\u001b[0m\u001b[0;34m.\u001b[0m\u001b[0mpid\u001b[0m\u001b[0;34m,\u001b[0m \u001b[0mflag\u001b[0m\u001b[0;34m)\u001b[0m\u001b[0;34m\u001b[0m\u001b[0;34m\u001b[0m\u001b[0m\n\u001b[0m\u001b[1;32m     28\u001b[0m             \u001b[0;32mexcept\u001b[0m \u001b[0mOSError\u001b[0m\u001b[0;34m:\u001b[0m\u001b[0;34m\u001b[0m\u001b[0;34m\u001b[0m\u001b[0m\n",
            "\u001b[0;31mKeyboardInterrupt\u001b[0m: ",
            "\nDuring handling of the above exception, another exception occurred:\n",
            "\u001b[0;31mAttributeError\u001b[0m                            Traceback (most recent call last)",
            "\u001b[0;32m/usr/local/lib/python3.10/dist-packages/IPython/core/interactiveshell.py\u001b[0m in \u001b[0;36mshowtraceback\u001b[0;34m(self, exc_tuple, filename, tb_offset, exception_only, running_compiled_code)\u001b[0m\n\u001b[1;32m   2098\u001b[0m                         \u001b[0;31m# in the engines. This should return a list of strings.\u001b[0m\u001b[0;34m\u001b[0m\u001b[0;34m\u001b[0m\u001b[0m\n\u001b[0;32m-> 2099\u001b[0;31m                         \u001b[0mstb\u001b[0m \u001b[0;34m=\u001b[0m \u001b[0mvalue\u001b[0m\u001b[0;34m.\u001b[0m\u001b[0m_render_traceback_\u001b[0m\u001b[0;34m(\u001b[0m\u001b[0;34m)\u001b[0m\u001b[0;34m\u001b[0m\u001b[0;34m\u001b[0m\u001b[0m\n\u001b[0m\u001b[1;32m   2100\u001b[0m                     \u001b[0;32mexcept\u001b[0m \u001b[0mException\u001b[0m\u001b[0;34m:\u001b[0m\u001b[0;34m\u001b[0m\u001b[0;34m\u001b[0m\u001b[0m\n",
            "\u001b[0;31mAttributeError\u001b[0m: 'KeyboardInterrupt' object has no attribute '_render_traceback_'",
            "\nDuring handling of the above exception, another exception occurred:\n",
            "\u001b[0;31mTypeError\u001b[0m                                 Traceback (most recent call last)",
            "    \u001b[0;31m[... skipping hidden 1 frame]\u001b[0m\n",
            "\u001b[0;32m<ipython-input-7-c46b6cd0eae4>\u001b[0m in \u001b[0;36m<cell line: 2>\u001b[0;34m()\u001b[0m\n\u001b[1;32m      1\u001b[0m \u001b[0mrun_command\u001b[0m \u001b[0;34m=\u001b[0m \u001b[0;34mf\"{project_path}/src/train.py\"\u001b[0m\u001b[0;34m\u001b[0m\u001b[0;34m\u001b[0m\u001b[0m\n\u001b[0;32m----> 2\u001b[0;31m \u001b[0mget_ipython\u001b[0m\u001b[0;34m(\u001b[0m\u001b[0;34m)\u001b[0m\u001b[0;34m.\u001b[0m\u001b[0mrun_line_magic\u001b[0m\u001b[0;34m(\u001b[0m\u001b[0;34m'run'\u001b[0m\u001b[0;34m,\u001b[0m \u001b[0;34m'{run_command}'\u001b[0m\u001b[0;34m)\u001b[0m\u001b[0;34m\u001b[0m\u001b[0;34m\u001b[0m\u001b[0m\n\u001b[0m",
            "\u001b[0;32m/usr/local/lib/python3.10/dist-packages/IPython/core/interactiveshell.py\u001b[0m in \u001b[0;36mrun_line_magic\u001b[0;34m(self, magic_name, line, _stack_depth)\u001b[0m\n\u001b[1;32m   2417\u001b[0m             \u001b[0;32mwith\u001b[0m \u001b[0mself\u001b[0m\u001b[0;34m.\u001b[0m\u001b[0mbuiltin_trap\u001b[0m\u001b[0;34m:\u001b[0m\u001b[0;34m\u001b[0m\u001b[0;34m\u001b[0m\u001b[0m\n\u001b[0;32m-> 2418\u001b[0;31m                 \u001b[0mresult\u001b[0m \u001b[0;34m=\u001b[0m \u001b[0mfn\u001b[0m\u001b[0;34m(\u001b[0m\u001b[0;34m*\u001b[0m\u001b[0margs\u001b[0m\u001b[0;34m,\u001b[0m \u001b[0;34m**\u001b[0m\u001b[0mkwargs\u001b[0m\u001b[0;34m)\u001b[0m\u001b[0;34m\u001b[0m\u001b[0;34m\u001b[0m\u001b[0m\n\u001b[0m\u001b[1;32m   2419\u001b[0m             \u001b[0;32mreturn\u001b[0m \u001b[0mresult\u001b[0m\u001b[0;34m\u001b[0m\u001b[0;34m\u001b[0m\u001b[0m\n",
            "\u001b[0;32m<decorator-gen-52>\u001b[0m in \u001b[0;36mrun\u001b[0;34m(self, parameter_s, runner, file_finder)\u001b[0m\n",
            "\u001b[0;32m/usr/local/lib/python3.10/dist-packages/IPython/core/magic.py\u001b[0m in \u001b[0;36m<lambda>\u001b[0;34m(f, *a, **k)\u001b[0m\n\u001b[1;32m    186\u001b[0m     \u001b[0;32mdef\u001b[0m \u001b[0mmagic_deco\u001b[0m\u001b[0;34m(\u001b[0m\u001b[0marg\u001b[0m\u001b[0;34m)\u001b[0m\u001b[0;34m:\u001b[0m\u001b[0;34m\u001b[0m\u001b[0;34m\u001b[0m\u001b[0m\n\u001b[0;32m--> 187\u001b[0;31m         \u001b[0mcall\u001b[0m \u001b[0;34m=\u001b[0m \u001b[0;32mlambda\u001b[0m \u001b[0mf\u001b[0m\u001b[0;34m,\u001b[0m \u001b[0;34m*\u001b[0m\u001b[0ma\u001b[0m\u001b[0;34m,\u001b[0m \u001b[0;34m**\u001b[0m\u001b[0mk\u001b[0m\u001b[0;34m:\u001b[0m \u001b[0mf\u001b[0m\u001b[0;34m(\u001b[0m\u001b[0;34m*\u001b[0m\u001b[0ma\u001b[0m\u001b[0;34m,\u001b[0m \u001b[0;34m**\u001b[0m\u001b[0mk\u001b[0m\u001b[0;34m)\u001b[0m\u001b[0;34m\u001b[0m\u001b[0;34m\u001b[0m\u001b[0m\n\u001b[0m\u001b[1;32m    188\u001b[0m \u001b[0;34m\u001b[0m\u001b[0m\n",
            "\u001b[0;32m/usr/local/lib/python3.10/dist-packages/IPython/core/magics/execution.py\u001b[0m in \u001b[0;36mrun\u001b[0;34m(self, parameter_s, runner, file_finder)\u001b[0m\n\u001b[1;32m    846\u001b[0m                         \u001b[0;31m# regular execution\u001b[0m\u001b[0;34m\u001b[0m\u001b[0;34m\u001b[0m\u001b[0m\n\u001b[0;32m--> 847\u001b[0;31m                         \u001b[0mrun\u001b[0m\u001b[0;34m(\u001b[0m\u001b[0;34m)\u001b[0m\u001b[0;34m\u001b[0m\u001b[0;34m\u001b[0m\u001b[0m\n\u001b[0m\u001b[1;32m    848\u001b[0m \u001b[0;34m\u001b[0m\u001b[0m\n",
            "\u001b[0;32m/usr/local/lib/python3.10/dist-packages/IPython/core/magics/execution.py\u001b[0m in \u001b[0;36mrun\u001b[0;34m()\u001b[0m\n\u001b[1;32m    831\u001b[0m                         \u001b[0;32mdef\u001b[0m \u001b[0mrun\u001b[0m\u001b[0;34m(\u001b[0m\u001b[0;34m)\u001b[0m\u001b[0;34m:\u001b[0m\u001b[0;34m\u001b[0m\u001b[0;34m\u001b[0m\u001b[0m\n\u001b[0;32m--> 832\u001b[0;31m                             runner(filename, prog_ns, prog_ns,\n\u001b[0m\u001b[1;32m    833\u001b[0m                                     exit_ignore=exit_ignore)\n",
            "\u001b[0;32m/usr/local/lib/python3.10/dist-packages/IPython/core/pylabtools.py\u001b[0m in \u001b[0;36mmpl_execfile\u001b[0;34m(fname, *where, **kw)\u001b[0m\n\u001b[1;32m    211\u001b[0m         \u001b[0mmatplotlib\u001b[0m\u001b[0;34m.\u001b[0m\u001b[0minteractive\u001b[0m\u001b[0;34m(\u001b[0m\u001b[0;32mFalse\u001b[0m\u001b[0;34m)\u001b[0m\u001b[0;34m\u001b[0m\u001b[0;34m\u001b[0m\u001b[0m\n\u001b[0;32m--> 212\u001b[0;31m         \u001b[0msafe_execfile\u001b[0m\u001b[0;34m(\u001b[0m\u001b[0mfname\u001b[0m\u001b[0;34m,\u001b[0m\u001b[0;34m*\u001b[0m\u001b[0mwhere\u001b[0m\u001b[0;34m,\u001b[0m\u001b[0;34m**\u001b[0m\u001b[0mkw\u001b[0m\u001b[0;34m)\u001b[0m\u001b[0;34m\u001b[0m\u001b[0;34m\u001b[0m\u001b[0m\n\u001b[0m\u001b[1;32m    213\u001b[0m         \u001b[0mmatplotlib\u001b[0m\u001b[0;34m.\u001b[0m\u001b[0minteractive\u001b[0m\u001b[0;34m(\u001b[0m\u001b[0mis_interactive\u001b[0m\u001b[0;34m)\u001b[0m\u001b[0;34m\u001b[0m\u001b[0;34m\u001b[0m\u001b[0m\n",
            "\u001b[0;32m/usr/local/lib/python3.10/dist-packages/IPython/core/interactiveshell.py\u001b[0m in \u001b[0;36msafe_execfile\u001b[0;34m(self, fname, exit_ignore, raise_exceptions, shell_futures, *where)\u001b[0m\n\u001b[1;32m   2852\u001b[0m                 \u001b[0;31m# tb offset is 2 because we wrap execfile\u001b[0m\u001b[0;34m\u001b[0m\u001b[0;34m\u001b[0m\u001b[0m\n\u001b[0;32m-> 2853\u001b[0;31m                 \u001b[0mself\u001b[0m\u001b[0;34m.\u001b[0m\u001b[0mshowtraceback\u001b[0m\u001b[0;34m(\u001b[0m\u001b[0mtb_offset\u001b[0m\u001b[0;34m=\u001b[0m\u001b[0;36m2\u001b[0m\u001b[0;34m)\u001b[0m\u001b[0;34m\u001b[0m\u001b[0;34m\u001b[0m\u001b[0m\n\u001b[0m\u001b[1;32m   2854\u001b[0m \u001b[0;34m\u001b[0m\u001b[0m\n",
            "\u001b[0;32m/usr/local/lib/python3.10/dist-packages/IPython/core/interactiveshell.py\u001b[0m in \u001b[0;36mshowtraceback\u001b[0;34m(self, exc_tuple, filename, tb_offset, exception_only, running_compiled_code)\u001b[0m\n\u001b[1;32m   2100\u001b[0m                     \u001b[0;32mexcept\u001b[0m \u001b[0mException\u001b[0m\u001b[0;34m:\u001b[0m\u001b[0;34m\u001b[0m\u001b[0;34m\u001b[0m\u001b[0m\n\u001b[0;32m-> 2101\u001b[0;31m                         stb = self.InteractiveTB.structured_traceback(etype,\n\u001b[0m\u001b[1;32m   2102\u001b[0m                                             value, tb, tb_offset=tb_offset)\n",
            "\u001b[0;32m/usr/local/lib/python3.10/dist-packages/IPython/core/ultratb.py\u001b[0m in \u001b[0;36mstructured_traceback\u001b[0;34m(self, etype, value, tb, tb_offset, number_of_lines_of_context)\u001b[0m\n\u001b[1;32m   1366\u001b[0m             \u001b[0mself\u001b[0m\u001b[0;34m.\u001b[0m\u001b[0mtb\u001b[0m \u001b[0;34m=\u001b[0m \u001b[0mtb\u001b[0m\u001b[0;34m\u001b[0m\u001b[0;34m\u001b[0m\u001b[0m\n\u001b[0;32m-> 1367\u001b[0;31m         return FormattedTB.structured_traceback(\n\u001b[0m\u001b[1;32m   1368\u001b[0m             self, etype, value, tb, tb_offset, number_of_lines_of_context)\n",
            "\u001b[0;32m/usr/local/lib/python3.10/dist-packages/IPython/core/ultratb.py\u001b[0m in \u001b[0;36mstructured_traceback\u001b[0;34m(self, etype, value, tb, tb_offset, number_of_lines_of_context)\u001b[0m\n\u001b[1;32m   1266\u001b[0m             \u001b[0;31m# Verbose modes need a full traceback\u001b[0m\u001b[0;34m\u001b[0m\u001b[0;34m\u001b[0m\u001b[0m\n\u001b[0;32m-> 1267\u001b[0;31m             return VerboseTB.structured_traceback(\n\u001b[0m\u001b[1;32m   1268\u001b[0m                 \u001b[0mself\u001b[0m\u001b[0;34m,\u001b[0m \u001b[0metype\u001b[0m\u001b[0;34m,\u001b[0m \u001b[0mvalue\u001b[0m\u001b[0;34m,\u001b[0m \u001b[0mtb\u001b[0m\u001b[0;34m,\u001b[0m \u001b[0mtb_offset\u001b[0m\u001b[0;34m,\u001b[0m \u001b[0mnumber_of_lines_of_context\u001b[0m\u001b[0;34m\u001b[0m\u001b[0;34m\u001b[0m\u001b[0m\n",
            "\u001b[0;32m/usr/local/lib/python3.10/dist-packages/IPython/core/ultratb.py\u001b[0m in \u001b[0;36mstructured_traceback\u001b[0;34m(self, etype, evalue, etb, tb_offset, number_of_lines_of_context)\u001b[0m\n\u001b[1;32m   1123\u001b[0m \u001b[0;34m\u001b[0m\u001b[0m\n\u001b[0;32m-> 1124\u001b[0;31m         formatted_exception = self.format_exception_as_a_whole(etype, evalue, etb, number_of_lines_of_context,\n\u001b[0m\u001b[1;32m   1125\u001b[0m                                                                tb_offset)\n",
            "\u001b[0;32m/usr/local/lib/python3.10/dist-packages/IPython/core/ultratb.py\u001b[0m in \u001b[0;36mformat_exception_as_a_whole\u001b[0;34m(self, etype, evalue, etb, number_of_lines_of_context, tb_offset)\u001b[0m\n\u001b[1;32m   1081\u001b[0m \u001b[0;34m\u001b[0m\u001b[0m\n\u001b[0;32m-> 1082\u001b[0;31m         \u001b[0mlast_unique\u001b[0m\u001b[0;34m,\u001b[0m \u001b[0mrecursion_repeat\u001b[0m \u001b[0;34m=\u001b[0m \u001b[0mfind_recursion\u001b[0m\u001b[0;34m(\u001b[0m\u001b[0morig_etype\u001b[0m\u001b[0;34m,\u001b[0m \u001b[0mevalue\u001b[0m\u001b[0;34m,\u001b[0m \u001b[0mrecords\u001b[0m\u001b[0;34m)\u001b[0m\u001b[0;34m\u001b[0m\u001b[0;34m\u001b[0m\u001b[0m\n\u001b[0m\u001b[1;32m   1083\u001b[0m \u001b[0;34m\u001b[0m\u001b[0m\n",
            "\u001b[0;32m/usr/local/lib/python3.10/dist-packages/IPython/core/ultratb.py\u001b[0m in \u001b[0;36mfind_recursion\u001b[0;34m(etype, value, records)\u001b[0m\n\u001b[1;32m    381\u001b[0m     \u001b[0;32mif\u001b[0m \u001b[0;32mnot\u001b[0m \u001b[0mis_recursion_error\u001b[0m\u001b[0;34m(\u001b[0m\u001b[0metype\u001b[0m\u001b[0;34m,\u001b[0m \u001b[0mvalue\u001b[0m\u001b[0;34m,\u001b[0m \u001b[0mrecords\u001b[0m\u001b[0;34m)\u001b[0m\u001b[0;34m:\u001b[0m\u001b[0;34m\u001b[0m\u001b[0;34m\u001b[0m\u001b[0m\n\u001b[0;32m--> 382\u001b[0;31m         \u001b[0;32mreturn\u001b[0m \u001b[0mlen\u001b[0m\u001b[0;34m(\u001b[0m\u001b[0mrecords\u001b[0m\u001b[0;34m)\u001b[0m\u001b[0;34m,\u001b[0m \u001b[0;36m0\u001b[0m\u001b[0;34m\u001b[0m\u001b[0;34m\u001b[0m\u001b[0m\n\u001b[0m\u001b[1;32m    383\u001b[0m \u001b[0;34m\u001b[0m\u001b[0m\n",
            "\u001b[0;31mTypeError\u001b[0m: object of type 'NoneType' has no len()",
            "\nDuring handling of the above exception, another exception occurred:\n",
            "\u001b[0;31mAttributeError\u001b[0m                            Traceback (most recent call last)",
            "\u001b[0;32m/usr/local/lib/python3.10/dist-packages/IPython/core/interactiveshell.py\u001b[0m in \u001b[0;36mshowtraceback\u001b[0;34m(self, exc_tuple, filename, tb_offset, exception_only, running_compiled_code)\u001b[0m\n\u001b[1;32m   2098\u001b[0m                         \u001b[0;31m# in the engines. This should return a list of strings.\u001b[0m\u001b[0;34m\u001b[0m\u001b[0;34m\u001b[0m\u001b[0m\n\u001b[0;32m-> 2099\u001b[0;31m                         \u001b[0mstb\u001b[0m \u001b[0;34m=\u001b[0m \u001b[0mvalue\u001b[0m\u001b[0;34m.\u001b[0m\u001b[0m_render_traceback_\u001b[0m\u001b[0;34m(\u001b[0m\u001b[0;34m)\u001b[0m\u001b[0;34m\u001b[0m\u001b[0;34m\u001b[0m\u001b[0m\n\u001b[0m\u001b[1;32m   2100\u001b[0m                     \u001b[0;32mexcept\u001b[0m \u001b[0mException\u001b[0m\u001b[0;34m:\u001b[0m\u001b[0;34m\u001b[0m\u001b[0;34m\u001b[0m\u001b[0m\n",
            "\u001b[0;31mAttributeError\u001b[0m: 'TypeError' object has no attribute '_render_traceback_'",
            "\nDuring handling of the above exception, another exception occurred:\n",
            "\u001b[0;31mTypeError\u001b[0m                                 Traceback (most recent call last)",
            "    \u001b[0;31m[... skipping hidden 1 frame]\u001b[0m\n",
            "\u001b[0;32m/usr/local/lib/python3.10/dist-packages/IPython/core/interactiveshell.py\u001b[0m in \u001b[0;36mshowtraceback\u001b[0;34m(self, exc_tuple, filename, tb_offset, exception_only, running_compiled_code)\u001b[0m\n\u001b[1;32m   2099\u001b[0m                         \u001b[0mstb\u001b[0m \u001b[0;34m=\u001b[0m \u001b[0mvalue\u001b[0m\u001b[0;34m.\u001b[0m\u001b[0m_render_traceback_\u001b[0m\u001b[0;34m(\u001b[0m\u001b[0;34m)\u001b[0m\u001b[0;34m\u001b[0m\u001b[0;34m\u001b[0m\u001b[0m\n\u001b[1;32m   2100\u001b[0m                     \u001b[0;32mexcept\u001b[0m \u001b[0mException\u001b[0m\u001b[0;34m:\u001b[0m\u001b[0;34m\u001b[0m\u001b[0;34m\u001b[0m\u001b[0m\n\u001b[0;32m-> 2101\u001b[0;31m                         stb = self.InteractiveTB.structured_traceback(etype,\n\u001b[0m\u001b[1;32m   2102\u001b[0m                                             value, tb, tb_offset=tb_offset)\n\u001b[1;32m   2103\u001b[0m \u001b[0;34m\u001b[0m\u001b[0m\n",
            "\u001b[0;32m/usr/local/lib/python3.10/dist-packages/IPython/core/ultratb.py\u001b[0m in \u001b[0;36mstructured_traceback\u001b[0;34m(self, etype, value, tb, tb_offset, number_of_lines_of_context)\u001b[0m\n\u001b[1;32m   1365\u001b[0m         \u001b[0;32melse\u001b[0m\u001b[0;34m:\u001b[0m\u001b[0;34m\u001b[0m\u001b[0;34m\u001b[0m\u001b[0m\n\u001b[1;32m   1366\u001b[0m             \u001b[0mself\u001b[0m\u001b[0;34m.\u001b[0m\u001b[0mtb\u001b[0m \u001b[0;34m=\u001b[0m \u001b[0mtb\u001b[0m\u001b[0;34m\u001b[0m\u001b[0;34m\u001b[0m\u001b[0m\n\u001b[0;32m-> 1367\u001b[0;31m         return FormattedTB.structured_traceback(\n\u001b[0m\u001b[1;32m   1368\u001b[0m             self, etype, value, tb, tb_offset, number_of_lines_of_context)\n\u001b[1;32m   1369\u001b[0m \u001b[0;34m\u001b[0m\u001b[0m\n",
            "\u001b[0;32m/usr/local/lib/python3.10/dist-packages/IPython/core/ultratb.py\u001b[0m in \u001b[0;36mstructured_traceback\u001b[0;34m(self, etype, value, tb, tb_offset, number_of_lines_of_context)\u001b[0m\n\u001b[1;32m   1265\u001b[0m         \u001b[0;32mif\u001b[0m \u001b[0mmode\u001b[0m \u001b[0;32min\u001b[0m \u001b[0mself\u001b[0m\u001b[0;34m.\u001b[0m\u001b[0mverbose_modes\u001b[0m\u001b[0;34m:\u001b[0m\u001b[0;34m\u001b[0m\u001b[0;34m\u001b[0m\u001b[0m\n\u001b[1;32m   1266\u001b[0m             \u001b[0;31m# Verbose modes need a full traceback\u001b[0m\u001b[0;34m\u001b[0m\u001b[0;34m\u001b[0m\u001b[0m\n\u001b[0;32m-> 1267\u001b[0;31m             return VerboseTB.structured_traceback(\n\u001b[0m\u001b[1;32m   1268\u001b[0m                 \u001b[0mself\u001b[0m\u001b[0;34m,\u001b[0m \u001b[0metype\u001b[0m\u001b[0;34m,\u001b[0m \u001b[0mvalue\u001b[0m\u001b[0;34m,\u001b[0m \u001b[0mtb\u001b[0m\u001b[0;34m,\u001b[0m \u001b[0mtb_offset\u001b[0m\u001b[0;34m,\u001b[0m \u001b[0mnumber_of_lines_of_context\u001b[0m\u001b[0;34m\u001b[0m\u001b[0;34m\u001b[0m\u001b[0m\n\u001b[1;32m   1269\u001b[0m             )\n",
            "\u001b[0;32m/usr/local/lib/python3.10/dist-packages/IPython/core/ultratb.py\u001b[0m in \u001b[0;36mstructured_traceback\u001b[0;34m(self, etype, evalue, etb, tb_offset, number_of_lines_of_context)\u001b[0m\n\u001b[1;32m   1122\u001b[0m         \u001b[0;34m\"\"\"Return a nice text document describing the traceback.\"\"\"\u001b[0m\u001b[0;34m\u001b[0m\u001b[0;34m\u001b[0m\u001b[0m\n\u001b[1;32m   1123\u001b[0m \u001b[0;34m\u001b[0m\u001b[0m\n\u001b[0;32m-> 1124\u001b[0;31m         formatted_exception = self.format_exception_as_a_whole(etype, evalue, etb, number_of_lines_of_context,\n\u001b[0m\u001b[1;32m   1125\u001b[0m                                                                tb_offset)\n\u001b[1;32m   1126\u001b[0m \u001b[0;34m\u001b[0m\u001b[0m\n",
            "\u001b[0;32m/usr/local/lib/python3.10/dist-packages/IPython/core/ultratb.py\u001b[0m in \u001b[0;36mformat_exception_as_a_whole\u001b[0;34m(self, etype, evalue, etb, number_of_lines_of_context, tb_offset)\u001b[0m\n\u001b[1;32m   1080\u001b[0m \u001b[0;34m\u001b[0m\u001b[0m\n\u001b[1;32m   1081\u001b[0m \u001b[0;34m\u001b[0m\u001b[0m\n\u001b[0;32m-> 1082\u001b[0;31m         \u001b[0mlast_unique\u001b[0m\u001b[0;34m,\u001b[0m \u001b[0mrecursion_repeat\u001b[0m \u001b[0;34m=\u001b[0m \u001b[0mfind_recursion\u001b[0m\u001b[0;34m(\u001b[0m\u001b[0morig_etype\u001b[0m\u001b[0;34m,\u001b[0m \u001b[0mevalue\u001b[0m\u001b[0;34m,\u001b[0m \u001b[0mrecords\u001b[0m\u001b[0;34m)\u001b[0m\u001b[0;34m\u001b[0m\u001b[0;34m\u001b[0m\u001b[0m\n\u001b[0m\u001b[1;32m   1083\u001b[0m \u001b[0;34m\u001b[0m\u001b[0m\n\u001b[1;32m   1084\u001b[0m         \u001b[0mframes\u001b[0m \u001b[0;34m=\u001b[0m \u001b[0mself\u001b[0m\u001b[0;34m.\u001b[0m\u001b[0mformat_records\u001b[0m\u001b[0;34m(\u001b[0m\u001b[0mrecords\u001b[0m\u001b[0;34m,\u001b[0m \u001b[0mlast_unique\u001b[0m\u001b[0;34m,\u001b[0m \u001b[0mrecursion_repeat\u001b[0m\u001b[0;34m)\u001b[0m\u001b[0;34m\u001b[0m\u001b[0;34m\u001b[0m\u001b[0m\n",
            "\u001b[0;32m/usr/local/lib/python3.10/dist-packages/IPython/core/ultratb.py\u001b[0m in \u001b[0;36mfind_recursion\u001b[0;34m(etype, value, records)\u001b[0m\n\u001b[1;32m    380\u001b[0m     \u001b[0;31m# first frame (from in to out) that looks different.\u001b[0m\u001b[0;34m\u001b[0m\u001b[0;34m\u001b[0m\u001b[0m\n\u001b[1;32m    381\u001b[0m     \u001b[0;32mif\u001b[0m \u001b[0;32mnot\u001b[0m \u001b[0mis_recursion_error\u001b[0m\u001b[0;34m(\u001b[0m\u001b[0metype\u001b[0m\u001b[0;34m,\u001b[0m \u001b[0mvalue\u001b[0m\u001b[0;34m,\u001b[0m \u001b[0mrecords\u001b[0m\u001b[0;34m)\u001b[0m\u001b[0;34m:\u001b[0m\u001b[0;34m\u001b[0m\u001b[0;34m\u001b[0m\u001b[0m\n\u001b[0;32m--> 382\u001b[0;31m         \u001b[0;32mreturn\u001b[0m \u001b[0mlen\u001b[0m\u001b[0;34m(\u001b[0m\u001b[0mrecords\u001b[0m\u001b[0;34m)\u001b[0m\u001b[0;34m,\u001b[0m \u001b[0;36m0\u001b[0m\u001b[0;34m\u001b[0m\u001b[0;34m\u001b[0m\u001b[0m\n\u001b[0m\u001b[1;32m    383\u001b[0m \u001b[0;34m\u001b[0m\u001b[0m\n\u001b[1;32m    384\u001b[0m     \u001b[0;31m# Select filename, lineno, func_name to track frames with\u001b[0m\u001b[0;34m\u001b[0m\u001b[0;34m\u001b[0m\u001b[0m\n",
            "\u001b[0;31mTypeError\u001b[0m: object of type 'NoneType' has no len()"
          ]
        }
      ],
      "source": [
        "run_command = f\"{project_path}/src/train.py\"\n",
        "%run {run_command}"
      ]
    },
    {
      "cell_type": "code",
      "execution_count": null,
      "metadata": {
        "id": "MKoD5901b_ah"
      },
      "outputs": [],
      "source": [
        "!cat /content/drive/MyDrive/slca-main/src/train.py"
      ]
    }
  ],
  "metadata": {
    "colab": {
      "provenance": []
    },
    "kernelspec": {
      "display_name": "Python 3",
      "name": "python3"
    },
    "language_info": {
      "name": "python"
    }
  },
  "nbformat": 4,
  "nbformat_minor": 0
}